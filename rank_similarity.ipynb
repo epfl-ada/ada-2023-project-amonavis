{
 "cells": [
  {
   "cell_type": "code",
   "execution_count": 24,
   "metadata": {},
   "outputs": [],
   "source": [
    "import sys\n",
    "import os\n",
    "sys.path.append('../')\n",
    "import data_readers\n",
    "\n",
    "import pandas as pd\n",
    "import numpy as np\n",
    "from datetime import datetime\n",
    "import matplotlib.pyplot as plt\n",
    "import seaborn as sns\n",
    "import statistics\n",
    "import math\n",
    "\n",
    "# networkx\n",
    "import networkx as nx\n",
    "from networkx.drawing.nx_pydot import graphviz_layout\n",
    "\n",
    "# For semantic similarity\n",
    "from urllib.parse import unquote\n",
    "from sentence_transformers import SentenceTransformer\n",
    "import torch\n",
    "\n",
    "# Python functions in .py file to read data\n",
    "import machine_searchers\n",
    "import time\n",
    "\n",
    "import warnings\n",
    "from tqdm import TqdmWarning\n",
    "warnings.filterwarnings('ignore', category=TqdmWarning)"
   ]
  },
  {
   "cell_type": "code",
   "execution_count": 25,
   "metadata": {},
   "outputs": [],
   "source": [
    "G = nx.read_edgelist('../datasets/wikispeedia_paths-and-graph/links.tsv',\n",
    "                                         create_using=nx.DiGraph)\n",
    "pagerank = nx.pagerank(G)"
   ]
  },
  {
   "cell_type": "markdown",
   "metadata": {},
   "source": [
    "## need to define a correct f function"
   ]
  },
  {
   "cell_type": "code",
   "execution_count": 26,
   "metadata": {},
   "outputs": [],
   "source": [
    "model = SentenceTransformer('all-MiniLM-L6-v2')\n",
    "\n",
    "# Function to get embeddings using sentence transformer\n",
    "def get_embedding(text):\n",
    "    return model.encode(text, convert_to_tensor=True)\n",
    "\n",
    "# Function to perform L2 normalization on the embeddings\n",
    "def l2_normalize(tensor):\n",
    "    return tensor / tensor.norm(p=2, dim=0, keepdim=True)\n",
    "\n",
    "# Function to calculate semantic similarity between two pieces of text\n",
    "def semantic_similarity(word1, word2):\n",
    "    embedding1 = get_embedding(word1)\n",
    "    embedding2 = get_embedding(word2)\n",
    "\n",
    "    # L2 normalization of the embeddings (to make sure, although embedding should already be normalized)\n",
    "    embedding1_normalized = l2_normalize(embedding1)\n",
    "    embedding2_normalized = l2_normalize(embedding2)\n",
    "\n",
    "    # Compute and return the similarity of normalized tensors\n",
    "    return torch.dot(embedding1_normalized, embedding2_normalized).item()\n",
    "\n",
    "def get_value(G, node_value, target_value):\n",
    "    similarity = semantic_similarity(node_value, target_value)\n",
    "    # get pagerank of node_value in G\n",
    "    node_pagerank = pagerank.get(node_value, None)\n",
    "    f = similarity * node_pagerank\n",
    "    return f"
   ]
  },
  {
   "cell_type": "code",
   "execution_count": 27,
   "metadata": {},
   "outputs": [],
   "source": [
    "def traverse_graph(graph, start_node, target_node):\n",
    "    current_node = start_node\n",
    "    visited = set()  # Set to keep track of visited nodes\n",
    "\n",
    "    for len in range(20):  # Limit to 20 moves\n",
    "        if current_node == target_node:\n",
    "            print(f\"Target node reached in {len} moves.\")\n",
    "            return len\n",
    "\n",
    "        visited.add(current_node)  # Mark the current node as visited\n",
    "\n",
    "        # Check if the current node has neighbors\n",
    "        neighbors = list(graph.neighbors(current_node))\n",
    "        unvisited_neighbors = [n for n in neighbors if n not in visited]\n",
    "\n",
    "        if unvisited_neighbors:\n",
    "            # Find the neighbor with the highest value by applying get_value\n",
    "            # Only consider unvisited neighbors\n",
    "            next_node = max(unvisited_neighbors, key=lambda n: get_value(G, n, target_node))\n",
    "            current_node = next_node\n",
    "            print(f\"Moving to node: {current_node}\")\n",
    "        else:\n",
    "            print(\"No more unvisited neighbors to move to.\")\n",
    "            return len\n",
    "\n",
    "    print(\"Limit of 20 nodes reached.\")\n",
    "    return len"
   ]
  },
  {
   "cell_type": "code",
   "execution_count": 28,
   "metadata": {},
   "outputs": [
    {
     "data": {
      "text/plain": [
       "0.0010913111552156185"
      ]
     },
     "execution_count": 28,
     "metadata": {},
     "output_type": "execute_result"
    }
   ],
   "source": [
    "get_value(G, 'Egypt', 'Japan')"
   ]
  },
  {
   "cell_type": "code",
   "execution_count": 29,
   "metadata": {},
   "outputs": [
    {
     "name": "stdout",
     "output_type": "stream",
     "text": [
      "Moving to node: Calculus\n",
      "Moving to node: Europe\n",
      "Moving to node: Christianity\n",
      "Moving to node: Islam\n",
      "Moving to node: France\n",
      "Moving to node: United_States\n",
      "Moving to node: Germany\n",
      "Moving to node: Japan\n",
      "Moving to node: United_Kingdom\n",
      "Moving to node: Judaism\n",
      "Target node reached in 10 moves.\n"
     ]
    },
    {
     "data": {
      "text/plain": [
       "10"
      ]
     },
     "execution_count": 29,
     "metadata": {},
     "output_type": "execute_result"
    }
   ],
   "source": [
    "traverse_graph(G, 'Functional_programming', 'Judaism')"
   ]
  },
  {
   "cell_type": "markdown",
   "metadata": {},
   "source": [
    "# Same code in networkit\n",
    "\n",
    "I was not able to make it work"
   ]
  },
  {
   "cell_type": "code",
   "execution_count": 30,
   "metadata": {},
   "outputs": [
    {
     "ename": "RuntimeError",
     "evalue": "Scanning node failed. The file may be corrupt.",
     "output_type": "error",
     "traceback": [
      "\u001b[0;31m---------------------------------------------------------------------------\u001b[0m",
      "\u001b[0;31mRuntimeError\u001b[0m                              Traceback (most recent call last)",
      "\u001b[1;32m/Users/carloscc/Library/CloudStorage/OneDrive-epfl.ch/Fall 2023/CS-401 Applied Data Analysis (ADA)/GitHub/project/notebooks_final/rank_similarity.ipynb Cell 9\u001b[0m line \u001b[0;36m1\n\u001b[1;32m      <a href='vscode-notebook-cell:/Users/carloscc/Library/CloudStorage/OneDrive-epfl.ch/Fall%202023/CS-401%20Applied%20Data%20Analysis%20%28ADA%29/GitHub/project/notebooks_final/rank_similarity.ipynb#X16sZmlsZQ%3D%3D?line=6'>7</a>\u001b[0m reader \u001b[39m=\u001b[39m nk\u001b[39m.\u001b[39mgraphio\u001b[39m.\u001b[39mEdgeListReader(separator\u001b[39m=\u001b[39m\u001b[39m'\u001b[39m\u001b[39m\\t\u001b[39;00m\u001b[39m'\u001b[39m, commentPrefix\u001b[39m=\u001b[39m\u001b[39m'\u001b[39m\u001b[39m#\u001b[39m\u001b[39m'\u001b[39m, firstNode\u001b[39m=\u001b[39m\u001b[39m0\u001b[39m)\n\u001b[1;32m      <a href='vscode-notebook-cell:/Users/carloscc/Library/CloudStorage/OneDrive-epfl.ch/Fall%202023/CS-401%20Applied%20Data%20Analysis%20%28ADA%29/GitHub/project/notebooks_final/rank_similarity.ipynb#X16sZmlsZQ%3D%3D?line=8'>9</a>\u001b[0m \u001b[39m# Read the graph as undirected\u001b[39;00m\n\u001b[0;32m---> <a href='vscode-notebook-cell:/Users/carloscc/Library/CloudStorage/OneDrive-epfl.ch/Fall%202023/CS-401%20Applied%20Data%20Analysis%20%28ADA%29/GitHub/project/notebooks_final/rank_similarity.ipynb#X16sZmlsZQ%3D%3D?line=9'>10</a>\u001b[0m undirected_graph \u001b[39m=\u001b[39m reader\u001b[39m.\u001b[39;49mread(file_path)\n\u001b[1;32m     <a href='vscode-notebook-cell:/Users/carloscc/Library/CloudStorage/OneDrive-epfl.ch/Fall%202023/CS-401%20Applied%20Data%20Analysis%20%28ADA%29/GitHub/project/notebooks_final/rank_similarity.ipynb#X16sZmlsZQ%3D%3D?line=11'>12</a>\u001b[0m \u001b[39m# Convert the graph to a directed graph\u001b[39;00m\n\u001b[1;32m     <a href='vscode-notebook-cell:/Users/carloscc/Library/CloudStorage/OneDrive-epfl.ch/Fall%202023/CS-401%20Applied%20Data%20Analysis%20%28ADA%29/GitHub/project/notebooks_final/rank_similarity.ipynb#X16sZmlsZQ%3D%3D?line=12'>13</a>\u001b[0m directed_graph \u001b[39m=\u001b[39m undirected_graph\u001b[39m.\u001b[39mtoDirected()\n",
      "File \u001b[0;32mnetworkit/graphio.pyx:79\u001b[0m, in \u001b[0;36mnetworkit.graphio.GraphReader.read\u001b[0;34m()\u001b[0m\n",
      "\u001b[0;31mRuntimeError\u001b[0m: Scanning node failed. The file may be corrupt."
     ]
    }
   ],
   "source": [
    "import networkit as nk\n",
    "\n",
    "# Specify the path to your file\n",
    "file_path = '../datasets/wikispeedia_paths-and-graph/links.tsv'\n",
    "\n",
    "# Create an EdgeListReader instance for a TSV file\n",
    "reader = nk.graphio.EdgeListReader(separator='\\t', commentPrefix='#', firstNode=0)\n",
    "\n",
    "# Read the graph as undirected\n",
    "undirected_graph = reader.read(file_path)\n",
    "\n",
    "# Convert the graph to a directed graph\n",
    "directed_graph = undirected_graph.toDirected()\n"
   ]
  },
  {
   "cell_type": "code",
   "execution_count": null,
   "metadata": {},
   "outputs": [
    {
     "ename": "OSError",
     "evalue": "../datasets/wikispeedia_paths-and-graph/links.tsv is not a valid Format.EdgeListTabZero file: Scanning node failed. The file may be corrupt.",
     "output_type": "error",
     "traceback": [
      "\u001b[0;31m---------------------------------------------------------------------------\u001b[0m",
      "\u001b[0;31mRuntimeError\u001b[0m                              Traceback (most recent call last)",
      "File \u001b[0;32mnetworkit/graphio.pyx:1131\u001b[0m, in \u001b[0;36mnetworkit.graphio.readGraph\u001b[0;34m()\u001b[0m\n",
      "File \u001b[0;32mnetworkit/graphio.pyx:79\u001b[0m, in \u001b[0;36mnetworkit.graphio.GraphReader.read\u001b[0;34m()\u001b[0m\n",
      "\u001b[0;31mRuntimeError\u001b[0m: Scanning node failed. The file may be corrupt.",
      "\nDuring handling of the above exception, another exception occurred:\n",
      "\u001b[0;31mOSError\u001b[0m                                   Traceback (most recent call last)",
      "\u001b[1;32m/Users/carloscc/Library/CloudStorage/OneDrive-epfl.ch/Fall 2023/CS-401 Applied Data Analysis (ADA)/GitHub/project/notebooks_final/rank_similarity.ipynb Cell 8\u001b[0m line \u001b[0;36m4\n\u001b[1;32m      <a href='vscode-notebook-cell:/Users/carloscc/Library/CloudStorage/OneDrive-epfl.ch/Fall%202023/CS-401%20Applied%20Data%20Analysis%20%28ADA%29/GitHub/project/notebooks_final/rank_similarity.ipynb#X13sZmlsZQ%3D%3D?line=0'>1</a>\u001b[0m \u001b[39mimport\u001b[39;00m \u001b[39mnetworkit\u001b[39;00m \u001b[39mas\u001b[39;00m \u001b[39mnk\u001b[39;00m\n\u001b[1;32m      <a href='vscode-notebook-cell:/Users/carloscc/Library/CloudStorage/OneDrive-epfl.ch/Fall%202023/CS-401%20Applied%20Data%20Analysis%20%28ADA%29/GitHub/project/notebooks_final/rank_similarity.ipynb#X13sZmlsZQ%3D%3D?line=2'>3</a>\u001b[0m \u001b[39m# Read the graph using Networkit\u001b[39;00m\n\u001b[0;32m----> <a href='vscode-notebook-cell:/Users/carloscc/Library/CloudStorage/OneDrive-epfl.ch/Fall%202023/CS-401%20Applied%20Data%20Analysis%20%28ADA%29/GitHub/project/notebooks_final/rank_similarity.ipynb#X13sZmlsZQ%3D%3D?line=3'>4</a>\u001b[0m G \u001b[39m=\u001b[39m nk\u001b[39m.\u001b[39;49mreadGraph(\u001b[39m'\u001b[39;49m\u001b[39m../datasets/wikispeedia_paths-and-graph/links.tsv\u001b[39;49m\u001b[39m'\u001b[39;49m, nk\u001b[39m.\u001b[39;49mFormat\u001b[39m.\u001b[39;49mEdgeListTabZero)\n\u001b[1;32m      <a href='vscode-notebook-cell:/Users/carloscc/Library/CloudStorage/OneDrive-epfl.ch/Fall%202023/CS-401%20Applied%20Data%20Analysis%20%28ADA%29/GitHub/project/notebooks_final/rank_similarity.ipynb#X13sZmlsZQ%3D%3D?line=5'>6</a>\u001b[0m \u001b[39m# Calculate PageRank using Networkit\u001b[39;00m\n\u001b[1;32m      <a href='vscode-notebook-cell:/Users/carloscc/Library/CloudStorage/OneDrive-epfl.ch/Fall%202023/CS-401%20Applied%20Data%20Analysis%20%28ADA%29/GitHub/project/notebooks_final/rank_similarity.ipynb#X13sZmlsZQ%3D%3D?line=6'>7</a>\u001b[0m pagerank \u001b[39m=\u001b[39m nk\u001b[39m.\u001b[39mcentrality\u001b[39m.\u001b[39mPageRank(G, \u001b[39m0.85\u001b[39m)\u001b[39m.\u001b[39mrun()\u001b[39m.\u001b[39mscores()\n",
      "File \u001b[0;32mnetworkit/graphio.pyx:1129\u001b[0m, in \u001b[0;36mnetworkit.graphio.readGraph\u001b[0;34m()\u001b[0m\n",
      "File \u001b[0;32mnetworkit/graphio.pyx:1134\u001b[0m, in \u001b[0;36mnetworkit.graphio.readGraph\u001b[0;34m()\u001b[0m\n",
      "\u001b[0;31mOSError\u001b[0m: ../datasets/wikispeedia_paths-and-graph/links.tsv is not a valid Format.EdgeListTabZero file: Scanning node failed. The file may be corrupt."
     ]
    }
   ],
   "source": [
    "\n",
    "# Read the graph using Networkit\n",
    "G = nk.readGraph('../datasets/wikispeedia_paths-and-graph/links.tsv', nk.Format.EdgeListTabZero)\n",
    "\n",
    "# Calculate PageRank using Networkit\n",
    "pagerank = nk.centrality.PageRank(G, 0.85).run().scores()\n",
    "\n",
    "def get_value(G, node_id, target_id):\n",
    "    similarity = semantic_similarity(G.nodeName(node_id), G.nodeName(target_id))\n",
    "    node_pagerank = pagerank[node_id]\n",
    "    f = similarity * node_pagerank\n",
    "    return f\n",
    "\n",
    "def traverse_graph(graph, start_node_id, target_node_id):\n",
    "    current_node_id = start_node_id\n",
    "    visited = set()  # Set to keep track of visited nodes\n",
    "\n",
    "    for steps in range(20):  # Limit to 20 moves\n",
    "        if current_node_id == target_node_id:\n",
    "            print(f\"Target node reached in {steps} moves.\")\n",
    "            return steps\n",
    "\n",
    "        visited.add(current_node_id)  # Mark the current node as visited\n",
    "\n",
    "        # Check if the current node has neighbors\n",
    "        neighbors = graph.iterNeighbors(current_node_id)\n",
    "        unvisited_neighbors = [n for n in neighbors if n not in visited]\n",
    "\n",
    "        if unvisited_neighbors:\n",
    "            # Find the neighbor with the highest value by applying get_value\n",
    "            next_node_id = max(unvisited_neighbors, key=lambda n: get_value(G, n, target_node_id))\n",
    "            current_node_id = next_node_id\n",
    "            print(f\"Moving to node: {graph.nodeName(current_node_id)}\")\n",
    "        else:\n",
    "            print(\"No more unvisited neighbors to move to.\")\n",
    "            return steps\n",
    "\n",
    "    print(\"Limit of 20 nodes reached.\")\n",
    "    return steps\n"
   ]
  },
  {
   "cell_type": "code",
   "execution_count": null,
   "metadata": {},
   "outputs": [],
   "source": []
  }
 ],
 "metadata": {
  "kernelspec": {
   "display_name": "ada",
   "language": "python",
   "name": "python3"
  },
  "language_info": {
   "codemirror_mode": {
    "name": "ipython",
    "version": 3
   },
   "file_extension": ".py",
   "mimetype": "text/x-python",
   "name": "python",
   "nbconvert_exporter": "python",
   "pygments_lexer": "ipython3",
   "version": "3.9.18"
  },
  "orig_nbformat": 4
 },
 "nbformat": 4,
 "nbformat_minor": 2
}

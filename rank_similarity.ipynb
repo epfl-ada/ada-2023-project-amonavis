{
 "cells": [
  {
   "cell_type": "code",
   "execution_count": 1,
   "metadata": {},
   "outputs": [],
   "source": [
    "import sys\n",
    "import os\n",
    "sys.path.append('../')\n",
    "import data_readers\n",
    "\n",
    "import pandas as pd\n",
    "import numpy as np\n",
    "from datetime import datetime\n",
    "import matplotlib.pyplot as plt\n",
    "import seaborn as sns\n",
    "import statistics\n",
    "import math\n",
    "\n",
    "# networkx\n",
    "import networkx as nx\n",
    "from networkx.drawing.nx_pydot import graphviz_layout\n",
    "\n",
    "# For semantic similarity\n",
    "from urllib.parse import unquote\n",
    "from sentence_transformers import SentenceTransformer\n",
    "import torch\n",
    "\n",
    "# Python functions in .py file to read data\n",
    "import machine_searchers\n",
    "import time\n",
    "\n",
    "import warnings\n",
    "from tqdm import TqdmWarning\n",
    "warnings.filterwarnings('ignore', category=TqdmWarning)\n",
    "from data_readers import *"
   ]
  },
  {
   "cell_type": "code",
   "execution_count": 2,
   "metadata": {},
   "outputs": [],
   "source": [
    "G = read_wikispeedia_graph()\n",
    "pagerank = nx.pagerank(G)"
   ]
  },
  {
   "cell_type": "code",
   "execution_count": 10,
   "metadata": {},
   "outputs": [],
   "source": [
    "finished_paths = read_finished_paths()\n",
    "unique_paths = finished_paths[['first_article', 'last_article']].drop_duplicates()\n",
    "sources = unique_paths['first_article']\n",
    "targets = unique_paths['last_article']"
   ]
  },
  {
   "cell_type": "code",
   "execution_count": 13,
   "metadata": {},
   "outputs": [
    {
     "data": {
      "text/html": [
       "<div>\n",
       "<style scoped>\n",
       "    .dataframe tbody tr th:only-of-type {\n",
       "        vertical-align: middle;\n",
       "    }\n",
       "\n",
       "    .dataframe tbody tr th {\n",
       "        vertical-align: top;\n",
       "    }\n",
       "\n",
       "    .dataframe thead th {\n",
       "        text-align: right;\n",
       "    }\n",
       "</style>\n",
       "<table border=\"1\" class=\"dataframe\">\n",
       "  <thead>\n",
       "    <tr style=\"text-align: right;\">\n",
       "      <th></th>\n",
       "      <th>first_article</th>\n",
       "      <th>last_article</th>\n",
       "    </tr>\n",
       "  </thead>\n",
       "  <tbody>\n",
       "    <tr>\n",
       "      <th>0</th>\n",
       "      <td>14th_century</td>\n",
       "      <td>African_slave_trade</td>\n",
       "    </tr>\n",
       "    <tr>\n",
       "      <th>3</th>\n",
       "      <td>14th_century</td>\n",
       "      <td>Greece</td>\n",
       "    </tr>\n",
       "    <tr>\n",
       "      <th>4</th>\n",
       "      <td>14th_century</td>\n",
       "      <td>John_F._Kennedy</td>\n",
       "    </tr>\n",
       "    <tr>\n",
       "      <th>6</th>\n",
       "      <td>14th_century</td>\n",
       "      <td>Fire</td>\n",
       "    </tr>\n",
       "    <tr>\n",
       "      <th>7</th>\n",
       "      <td>14th_century</td>\n",
       "      <td>Rainbow</td>\n",
       "    </tr>\n",
       "    <tr>\n",
       "      <th>...</th>\n",
       "      <td>...</td>\n",
       "      <td>...</td>\n",
       "    </tr>\n",
       "    <tr>\n",
       "      <th>51313</th>\n",
       "      <td>Yagan</td>\n",
       "      <td>Civilization</td>\n",
       "    </tr>\n",
       "    <tr>\n",
       "      <th>51314</th>\n",
       "      <td>Yagan</td>\n",
       "      <td>Fiction</td>\n",
       "    </tr>\n",
       "    <tr>\n",
       "      <th>51315</th>\n",
       "      <td>Yagan</td>\n",
       "      <td>U.S._Open_%28tennis%29</td>\n",
       "    </tr>\n",
       "    <tr>\n",
       "      <th>51316</th>\n",
       "      <td>Yarralumla%2C_Australian_Capital_Territory</td>\n",
       "      <td>Abraham_Lincoln</td>\n",
       "    </tr>\n",
       "    <tr>\n",
       "      <th>51317</th>\n",
       "      <td>Ziad_Jarrah</td>\n",
       "      <td>Jew</td>\n",
       "    </tr>\n",
       "  </tbody>\n",
       "</table>\n",
       "<p>28718 rows × 2 columns</p>\n",
       "</div>"
      ],
      "text/plain": [
       "                                    first_article            last_article\n",
       "0                                    14th_century     African_slave_trade\n",
       "3                                    14th_century                  Greece\n",
       "4                                    14th_century         John_F._Kennedy\n",
       "6                                    14th_century                    Fire\n",
       "7                                    14th_century                 Rainbow\n",
       "...                                           ...                     ...\n",
       "51313                                       Yagan            Civilization\n",
       "51314                                       Yagan                 Fiction\n",
       "51315                                       Yagan  U.S._Open_%28tennis%29\n",
       "51316  Yarralumla%2C_Australian_Capital_Territory         Abraham_Lincoln\n",
       "51317                                 Ziad_Jarrah                     Jew\n",
       "\n",
       "[28718 rows x 2 columns]"
      ]
     },
     "execution_count": 13,
     "metadata": {},
     "output_type": "execute_result"
    }
   ],
   "source": [
    "unique_paths"
   ]
  },
  {
   "cell_type": "markdown",
   "metadata": {},
   "source": [
    "## need to define a correct f function"
   ]
  },
  {
   "cell_type": "code",
   "execution_count": 15,
   "metadata": {},
   "outputs": [],
   "source": [
    "model = SentenceTransformer('all-MiniLM-L6-v2')\n",
    "\n",
    "# Function to get embeddings using sentence transformer\n",
    "def get_embedding(text):\n",
    "    return model.encode(text, convert_to_tensor=True)\n",
    "\n",
    "# Function to perform L2 normalization on the embeddings\n",
    "def l2_normalize(tensor):\n",
    "    return tensor / tensor.norm(p=2, dim=0, keepdim=True)\n",
    "\n",
    "# Function to calculate semantic similarity between two pieces of text\n",
    "def semantic_similarity(word1, word2):\n",
    "    embedding1 = get_embedding(word1)\n",
    "    embedding2 = get_embedding(word2)\n",
    "\n",
    "    # L2 normalization of the embeddings (to make sure, although embedding should already be normalized)\n",
    "    embedding1_normalized = l2_normalize(embedding1)\n",
    "    embedding2_normalized = l2_normalize(embedding2)\n",
    "\n",
    "    # Compute and return the similarity of normalized tensors\n",
    "    return torch.dot(embedding1_normalized, embedding2_normalized).item()\n",
    "\n",
    "def get_value(G, node_value, target_value):\n",
    "    similarity = semantic_similarity(node_value, target_value)\n",
    "    \n",
    "    # get pagerank of node_value in G\n",
    "    node_pagerank = pagerank.get(node_value, None)\n",
    "    if similarity < 0.1:\n",
    "        f = node_pagerank\n",
    "    elif 0.1 <= similarity <= 0.5:\n",
    "        f = similarity * node_pagerank\n",
    "    else:\n",
    "        f = similarity\n",
    "    #print(node_value, target_value, f)\n",
    "    return f"
   ]
  },
  {
   "cell_type": "markdown",
   "metadata": {},
   "source": [
    "## For a single iteration, print all nodes visited"
   ]
  },
  {
   "cell_type": "code",
   "execution_count": 58,
   "metadata": {},
   "outputs": [],
   "source": [
    "def traverse_graph(graph, start_node, target_node):\n",
    "    current_node = start_node\n",
    "    visited = []  # List to keep track of visited nodes\n",
    "    # previous_node = start_node\n",
    "    reached_target = False\n",
    "    print(f\"Starting at node: {current_node}\")\n",
    "    \n",
    "    for len in range(20):  # Limit to 20 moves\n",
    "        if current_node == target_node:\n",
    "            print(f\"Target node reached in {len} moves.\")\n",
    "            visited.append(previous_node)\n",
    "            visited.append(current_node)\n",
    "            reached_target = True\n",
    "            return len+1, visited, reached_target\n",
    "\n",
    "        if len!=0: visited.append(previous_node)  # Mark the previous node as visited\n",
    "        previous_node = current_node  # We do it like this so we can return to the previous node\n",
    "\n",
    "        # Check if the current node has neighbors\n",
    "        neighbors = list(graph.neighbors(current_node))\n",
    "        unvisited_neighbors = [n for n in neighbors if n not in visited and n != current_node]\n",
    "\n",
    "        if unvisited_neighbors:\n",
    "            # Find the neighbor with the highest value by applying get_value\n",
    "            next_node = max(unvisited_neighbors, key=lambda n: get_value(G, n, target_node))\n",
    "            current_node = next_node\n",
    "            print(f\"Moving to node: {current_node}\")\n",
    "        else:\n",
    "            print(\"No more unvisited neighbors to move to.\")\n",
    "            return len+1, visited, reached_target\n",
    "\n",
    "    print(\"Limit of 20 nodes reached.\")\n",
    "    return len+1, visited, reached_target"
   ]
  },
  {
   "cell_type": "code",
   "execution_count": 59,
   "metadata": {},
   "outputs": [
    {
     "name": "stdout",
     "output_type": "stream",
     "text": [
      "Starting at node: 14th_century\n",
      "Moving to node: Europe\n",
      "Moving to node: Arabic_language\n",
      "Moving to node: Portuguese_language\n",
      "Moving to node: United_States\n",
      "Moving to node: War\n",
      "Moving to node: Weapon\n",
      "Moving to node: Gunpowder\n",
      "Moving to node: Fire\n",
      "Target node reached in 8 moves.\n"
     ]
    }
   ],
   "source": [
    "len, visited, reached =traverse_graph(G, '14th_century', 'Fire')"
   ]
  },
  {
   "cell_type": "markdown",
   "metadata": {},
   "source": [
    "## For more iterations, don't print anything"
   ]
  },
  {
   "cell_type": "code",
   "execution_count": 64,
   "metadata": {},
   "outputs": [],
   "source": [
    "def traverse_graph_no_print(graph, start_node, target_node):\n",
    "    current_node = start_node\n",
    "    visited = []  # List to keep track of visited nodes\n",
    "    # previous_node = start_node\n",
    "    reached_target = False\n",
    "    #print(f\"Starting at node: {current_node}\")\n",
    "    \n",
    "    for len in range(20):  # Limit to 20 moves\n",
    "        if current_node == target_node:\n",
    "            #print(f\"Target node reached in {len} moves.\")\n",
    "            visited.append(previous_node)\n",
    "            visited.append(current_node)\n",
    "            reached_target = True\n",
    "            return len+1, visited, reached_target\n",
    "\n",
    "        if len!=0: visited.append(previous_node)  # Mark the previous node as visited\n",
    "        previous_node = current_node  # We do it like this so we can return to the previous node\n",
    "\n",
    "        # Check if the current node has neighbors\n",
    "        neighbors = list(graph.neighbors(current_node))\n",
    "        unvisited_neighbors = [n for n in neighbors if n not in visited and n != current_node]\n",
    "\n",
    "        if unvisited_neighbors:\n",
    "            # Find the neighbor with the highest value by applying get_value\n",
    "            next_node = max(unvisited_neighbors, key=lambda n: get_value(G, n, target_node))\n",
    "            current_node = next_node\n",
    "            #print(f\"Moving to node: {current_node}\")\n",
    "        else:\n",
    "            #print(\"No more unvisited neighbors to move to.\")\n",
    "            return len+1, visited, reached_target\n",
    "\n",
    "    #print(\"Limit of 20 nodes reached.\")\n",
    "    return len+1, visited, reached_target"
   ]
  },
  {
   "cell_type": "code",
   "execution_count": 65,
   "metadata": {},
   "outputs": [
    {
     "name": "stdout",
     "output_type": "stream",
     "text": [
      "0\n",
      "1\n",
      "2\n",
      "3\n"
     ]
    }
   ],
   "source": [
    "# Initialize empty lists to store results\n",
    "results = []\n",
    "i = 0\n",
    "\n",
    "# Record the start time\n",
    "start_time = time.time()\n",
    "\n",
    "for index, row in unique_paths.iterrows():\n",
    "    source = row['first_article']\n",
    "    target = row['last_article']\n",
    "    \n",
    "    # Assuming you have the traverse_graph function as described earlier\n",
    "    length, visited, reached = traverse_graph_no_print(G, source, target)\n",
    "    \n",
    "    # Create a dictionary for the current result\n",
    "    result_dict = {\n",
    "        'source': source,\n",
    "        'target': target,\n",
    "        'reached': reached,\n",
    "        'length': length,\n",
    "        'visited': visited\n",
    "    }\n",
    "    \n",
    "    results.append(result_dict)\n",
    "    \n",
    "    print(i)\n",
    "    i += 1\n",
    "    if i > 3:\n",
    "        break\n",
    "\n",
    "\n",
    "# Calculate the end time and the duration\n",
    "end_time = time.time()\n",
    "duration = end_time - start_time\n",
    "\n",
    "# Create a DataFrame from the list of dictionaries\n",
    "result_df = pd.DataFrame(results)"
   ]
  },
  {
   "cell_type": "code",
   "execution_count": 63,
   "metadata": {},
   "outputs": [
    {
     "data": {
      "text/plain": [
       "['14th_century',\n",
       " 'Europe',\n",
       " 'Arabic_language',\n",
       " 'Portuguese_language',\n",
       " 'United_States',\n",
       " 'War',\n",
       " 'War',\n",
       " 'Weapon',\n",
       " 'Gunpowder',\n",
       " 'Fire']"
      ]
     },
     "execution_count": 63,
     "metadata": {},
     "output_type": "execute_result"
    }
   ],
   "source": [
    "result_df.loc[3, 'visited'] "
   ]
  },
  {
   "cell_type": "markdown",
   "metadata": {},
   "source": [
    "## Export the dataframe"
   ]
  },
  {
   "cell_type": "code",
   "execution_count": 44,
   "metadata": {},
   "outputs": [],
   "source": [
    "result_df.to_csv('machine_paths.csv', index=False)"
   ]
  }
 ],
 "metadata": {
  "kernelspec": {
   "display_name": "ada",
   "language": "python",
   "name": "python3"
  },
  "language_info": {
   "codemirror_mode": {
    "name": "ipython",
    "version": 3
   },
   "file_extension": ".py",
   "mimetype": "text/x-python",
   "name": "python",
   "nbconvert_exporter": "python",
   "pygments_lexer": "ipython3",
   "version": "3.9.18"
  },
  "orig_nbformat": 4
 },
 "nbformat": 4,
 "nbformat_minor": 2
}

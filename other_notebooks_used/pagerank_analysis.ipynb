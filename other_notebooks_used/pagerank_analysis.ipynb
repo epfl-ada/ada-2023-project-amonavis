{
 "cells": [
  {
   "cell_type": "markdown",
   "metadata": {},
   "source": [
    "## PageRank"
   ]
  },
  {
   "cell_type": "code",
   "execution_count": null,
   "metadata": {},
   "outputs": [],
   "source": [
    "import data_readers \n",
    "import networkx as nx\n",
    "import seaborn as sns\n",
    "import numpy as np\n",
    "import matplotlib.pyplot as plt\n",
    "import statistics\n",
    "import math\n",
    "from networkx.drawing.nx_pydot import graphviz_layout"
   ]
  },
  {
   "cell_type": "code",
   "execution_count": null,
   "metadata": {},
   "outputs": [],
   "source": [
    "# Wikispeedia Graph\n",
    "w = data_readers.read_wikispeedia_graph()\n",
    "print(w.nodes())"
   ]
  },
  {
   "cell_type": "markdown",
   "metadata": {},
   "source": [
    "PageRank Dictionary: {key: value} -> {'article_title': pagerank}"
   ]
  },
  {
   "cell_type": "code",
   "execution_count": null,
   "metadata": {},
   "outputs": [],
   "source": [
    "dic = nx.pagerank(w)\n",
    "print(dic)"
   ]
  },
  {
   "cell_type": "markdown",
   "metadata": {},
   "source": [
    "Assign pagerank as a node attribute of Wikispeedia graph"
   ]
  },
  {
   "cell_type": "code",
   "execution_count": null,
   "metadata": {},
   "outputs": [],
   "source": [
    "for node in [nodo for nodo in w.nodes()]:\n",
    "    w.nodes[node]['pagerank'] = dic[node]\n",
    "print(w.nodes(data=True))"
   ]
  },
  {
   "cell_type": "markdown",
   "metadata": {},
   "source": [
    "Average PageRank"
   ]
  },
  {
   "cell_type": "code",
   "execution_count": null,
   "metadata": {},
   "outputs": [],
   "source": [
    "average = sum(dic.values()) / len(dic)\n",
    "print(average)"
   ]
  },
  {
   "cell_type": "code",
   "execution_count": null,
   "metadata": {},
   "outputs": [],
   "source": [
    "above_average = {key: value for key, value in dic.items() if value >= average} # igual es mejor poner el de por encima de la mediana, porque los otros grafos ya estan encima de media\n",
    "above_average_ordered = {k: v for k, v in sorted(above_average.items(), key=lambda item: item[1], reverse=True)}\n",
    "above_average_graph = nx.Graph()"
   ]
  },
  {
   "cell_type": "code",
   "execution_count": null,
   "metadata": {},
   "outputs": [],
   "source": [
    "for key, value in above_average.items():\n",
    "    above_average_graph.add_node(key, pagerank=value)\n",
    "print(above_average_graph.nodes)"
   ]
  },
  {
   "cell_type": "code",
   "execution_count": null,
   "metadata": {},
   "outputs": [],
   "source": [
    "num_elements_above_avg = len(above_average)\n",
    "print(\"Number of elements above average\")\n",
    "print(num_elements_above_avg)"
   ]
  },
  {
   "cell_type": "markdown",
   "metadata": {},
   "source": [
    "Let's create a graph visualization with node size according to the pagerank. "
   ]
  },
  {
   "cell_type": "code",
   "execution_count": null,
   "metadata": {},
   "outputs": [],
   "source": [
    "nodos_greater_than_average = [n for n, data in w.nodes(data=True) if 'pagerank' in data and data['pagerank'] > average]\n",
    "# let's sort the nodes so that we can visualize the N elements greater than average\n",
    "N = 60 # to avoid extra computing time try not to establish N higher than 80\n",
    "nodes_ordered_per_pagerank = sorted(nodos_greater_than_average, key=lambda n: w.nodes[n]['pagerank'], reverse=True)[:N]\n",
    "# select this nodes from the original Wikispeedia graph \n",
    "wavg = w.subgraph(nodes_ordered_per_pagerank).copy()\n",
    "print(wavg)"
   ]
  },
  {
   "cell_type": "code",
   "execution_count": null,
   "metadata": {},
   "outputs": [],
   "source": [
    "def hierarchical_layout(net):\n",
    "\treturn graphviz_layout(net, prog=\"dot\")\n",
    "\n",
    "node_labels = {node: node for node in wavg.nodes()}\n",
    "\n",
    "pos = hierarchical_layout(wavg)\n",
    "plt.figure(figsize=(50,50))\n",
    "nx.draw(wavg,pos, node_size=[(wavg.nodes[n]['pagerank'] * 10500000) for n in wavg], node_color='skyblue', font_weight='bold', with_labels=True, labels=node_labels, font_color='purple', font_size=35, linewidths=8)\n",
    "plt.title('Above average Pagerank Nodes', fontsize=100)\n",
    "plt.show()"
   ]
  },
  {
   "cell_type": "markdown",
   "metadata": {},
   "source": [
    "When comparing this graph with the other one, we should look for differences in distribution of nodes between both graphs, and differences in size between nodes of the same graph, not differences in size of the same node between graphs."
   ]
  },
  {
   "cell_type": "markdown",
   "metadata": {},
   "source": [
    "### PageRank in descending order of the articles above the average"
   ]
  },
  {
   "cell_type": "code",
   "execution_count": null,
   "metadata": {},
   "outputs": [],
   "source": [
    "names = list(above_average_ordered.keys())\n",
    "values = list(above_average_ordered.values())\n",
    "\n",
    "plt.figure(figsize=(30, 200))\n",
    "sns.barplot(x=values, y=names, palette='viridis')\n",
    "plt.xlabel('PageRank')\n",
    "plt.ylabel('Articles')\n",
    "plt.title('PageRank Classification of Wikispeedia Articles above the Wikispeedia average PageRank')\n",
    "plt.show()"
   ]
  },
  {
   "cell_type": "markdown",
   "metadata": {},
   "source": [
    "Median PageRank"
   ]
  },
  {
   "cell_type": "code",
   "execution_count": null,
   "metadata": {},
   "outputs": [],
   "source": [
    "values = list(dic.values())\n",
    "median = statistics.median(values)\n",
    "print(median)"
   ]
  },
  {
   "cell_type": "code",
   "execution_count": null,
   "metadata": {},
   "outputs": [],
   "source": [
    "above_median = {key: value for key, value in dic.items() if value >= median}\n",
    "above_median_ordered = {k: v for k, v in sorted(above_median.items(), key=lambda item: item[1], reverse=True)}"
   ]
  },
  {
   "cell_type": "code",
   "execution_count": null,
   "metadata": {},
   "outputs": [],
   "source": [
    "num_elements_above_median = len(above_median)\n",
    "print('Number of elements above average median')\n",
    "print(num_elements_above_median)"
   ]
  },
  {
   "cell_type": "code",
   "execution_count": null,
   "metadata": {},
   "outputs": [],
   "source": [
    "names = list(above_median_ordered.keys())\n",
    "values = list(above_median_ordered.values())\n",
    "\n",
    "plt.figure(figsize=(30, 300))\n",
    "sns.barplot(x=values, y=names, palette='viridis')\n",
    "plt.xlabel('PageRank')\n",
    "plt.ylabel('Articles')\n",
    "plt.title('PageRank Classification of Wikispeedia Articles above the Wikispeedia median PageRank')\n",
    "plt.show()"
   ]
  },
  {
   "cell_type": "markdown",
   "metadata": {},
   "source": [
    "### All Articles"
   ]
  },
  {
   "cell_type": "code",
   "execution_count": null,
   "metadata": {},
   "outputs": [],
   "source": [
    "dic_ordered = {k: v for k, v in sorted(dic.items(), key=lambda item: item[1], reverse=True)}\n",
    "half_elements = len(dic_ordered) // 2\n",
    "second_half_data = dict(list(dic_ordered.items())[half_elements:])\n",
    "print(second_half_data)\n",
    "names = list(second_half_data.keys())\n",
    "values = np.log(list(second_half_data.values()))\n",
    "\n",
    "plt.figure(figsize=(30, 500))\n",
    "sns.barplot(x=values, y=names, palette='viridis')\n",
    "plt.xlabel('PageRank')\n",
    "plt.ylabel('Articles')\n",
    "plt.title('Wikispeedia PageRank Classification (all the articles)')\n",
    "plt.show()\n"
   ]
  },
  {
   "cell_type": "markdown",
   "metadata": {},
   "source": [
    "Helpers:"
   ]
  },
  {
   "cell_type": "code",
   "execution_count": null,
   "metadata": {},
   "outputs": [],
   "source": [
    "# helpers\n",
    "print(\"Directed nodes from Bede\")\n",
    "print(w['Bede'])\n",
    "print(\"First 10 edges of the list of edges\")\n",
    "print(list(w.edges)[0:10:None])\n",
    "print(\"Number of nodes and edges\")\n",
    "print(w)"
   ]
  },
  {
   "cell_type": "code",
   "execution_count": null,
   "metadata": {},
   "outputs": [],
   "source": []
  }
 ],
 "metadata": {
  "kernelspec": {
   "display_name": "ada",
   "language": "python",
   "name": "python3"
  },
  "language_info": {
   "codemirror_mode": {
    "name": "ipython",
    "version": 3
   },
   "file_extension": ".py",
   "mimetype": "text/x-python",
   "name": "python",
   "nbconvert_exporter": "python",
   "pygments_lexer": "ipython3",
   "version": "3.9.7"
  }
 },
 "nbformat": 4,
 "nbformat_minor": 2
}

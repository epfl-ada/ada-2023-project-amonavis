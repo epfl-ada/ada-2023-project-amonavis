{
 "cells": [
  {
   "cell_type": "markdown",
   "source": [
    "# Initial machine\n",
    "Objective of this is to build a simple method that runs A* and can find some shortest path between two nodes."
   ],
   "metadata": {
    "collapsed": false
   }
  },
  {
   "cell_type": "code",
   "execution_count": 2,
   "outputs": [],
   "source": [
    "import sys\n",
    "import os\n",
    "sys.path.append('../')\n",
    "import data_readers\n",
    "\n",
    "import numpy as np\n",
    "import pandas as pd\n",
    "from gensim.models import KeyedVectors\n",
    "from scipy.spatial import distance\n",
    "import gensim.downloader\n",
    "import networkx as nx\n",
    "from transformers import BertTokenizer, BertModel\n",
    "\n",
    "from urllib.parse import unquote\n",
    "from sklearn.metrics.pairwise import cosine_similarity\n",
    "import math"
   ],
   "metadata": {
    "collapsed": false,
    "ExecuteTime": {
     "end_time": "2023-11-16T14:22:22.926637300Z",
     "start_time": "2023-11-16T14:22:11.152646100Z"
    }
   }
  },
  {
   "cell_type": "code",
   "execution_count": 3,
   "outputs": [
    {
     "data": {
      "text/plain": "Downloading (…)lve/main/config.json:   0%|          | 0.00/570 [00:00<?, ?B/s]",
      "application/vnd.jupyter.widget-view+json": {
       "version_major": 2,
       "version_minor": 0,
       "model_id": "63a19983f6a74f0a9e40b4c4e4a4c1b6"
      }
     },
     "metadata": {},
     "output_type": "display_data"
    },
    {
     "name": "stderr",
     "output_type": "stream",
     "text": [
      "C:\\Users\\nicol\\anaconda3\\Lib\\site-packages\\huggingface_hub\\file_download.py:133: UserWarning: `huggingface_hub` cache-system uses symlinks by default to efficiently store duplicated files but your machine does not support them in C:\\Users\\nicol\\.cache\\huggingface\\hub. Caching files will still work but in a degraded version that might require more space on your disk. This warning can be disabled by setting the `HF_HUB_DISABLE_SYMLINKS_WARNING` environment variable. For more details, see https://huggingface.co/docs/huggingface_hub/how-to-cache#limitations.\n",
      "To support symlinks on Windows, you either need to activate Developer Mode or to run Python as an administrator. In order to see activate developer mode, see this article: https://docs.microsoft.com/en-us/windows/apps/get-started/enable-your-device-for-development\n",
      "  warnings.warn(message)\n"
     ]
    },
    {
     "data": {
      "text/plain": "Downloading model.safetensors:   0%|          | 0.00/440M [00:00<?, ?B/s]",
      "application/vnd.jupyter.widget-view+json": {
       "version_major": 2,
       "version_minor": 0,
       "model_id": "66440e22334446edb47ac4efab578c8b"
      }
     },
     "metadata": {},
     "output_type": "display_data"
    },
    {
     "data": {
      "text/plain": "Downloading (…)solve/main/vocab.txt:   0%|          | 0.00/232k [00:00<?, ?B/s]",
      "application/vnd.jupyter.widget-view+json": {
       "version_major": 2,
       "version_minor": 0,
       "model_id": "8e6a34b9dde04ea28cee08f9e12ca6df"
      }
     },
     "metadata": {},
     "output_type": "display_data"
    },
    {
     "data": {
      "text/plain": "Downloading (…)okenizer_config.json:   0%|          | 0.00/28.0 [00:00<?, ?B/s]",
      "application/vnd.jupyter.widget-view+json": {
       "version_major": 2,
       "version_minor": 0,
       "model_id": "786267f733654140aca68a5386938217"
      }
     },
     "metadata": {},
     "output_type": "display_data"
    }
   ],
   "source": [
    "wikispeedia= nx.read_edgelist('../datasets/wikispeedia_paths-and-graph/links.tsv',\n",
    "                              create_using=nx.DiGraph)\n",
    "\n",
    "model = BertModel.from_pretrained('bert-base-uncased')\n",
    "tokenizer = BertTokenizer.from_pretrained('bert-base-uncased')\n",
    "\n",
    "# Function to get embeddings\n",
    "def modded_get_embedding(text: str):\n",
    "    temp_str = text.replace('_', ' ')\n",
    "    temp_str = unquote(temp_str)\n",
    "    inputs = tokenizer(temp_str, return_tensors=\"pt\")\n",
    "    outputs = model(**inputs)\n",
    "    return outputs.last_hidden_state.mean(dim=1)"
   ],
   "metadata": {
    "collapsed": false,
    "ExecuteTime": {
     "end_time": "2023-11-16T14:23:03.770372400Z",
     "start_time": "2023-11-16T14:22:29.159408400Z"
    }
   }
  },
  {
   "cell_type": "code",
   "execution_count": 4,
   "outputs": [],
   "source": [
    "# For the heuristic, I need to create a function for two reasons:\n",
    "# A) I need to parse the node and make sure I'm getting the title as the value\n",
    "# B) I need to take care of cases where the word doesn't exist.\n",
    "# Carlos already kinda took care of that!\n",
    "\n",
    "def distance_two_words(w1: str, w2: str):\n",
    "    \"\"\"Receives a string that was in the wikispeedia dataset, and transforms it as needed to work\n",
    "    with the berd embeddings.\"\"\"\n",
    "\n",
    "    embedding1 = modded_get_embedding(w1)\n",
    "    embedding2 = modded_get_embedding(w2)\n",
    "    similarity = cosine_similarity(embedding1.detach().numpy(), embedding2.detach().numpy())[0][0]\n",
    "    # Adding absolute, just in case it is needed\n",
    "    # Similarity is actually 1 - abs(similarity) + 1,\n",
    "    # As we want closer words to have a smaller distance\n",
    "    # The last plus one is to indicate that there would be an extra cost to exploring...\n",
    "    #   not sure if it's needed though...\n",
    "    similarity = 1 - abs(similarity) + 1\n",
    "    # print(\"First word:\", w1, \". Second word:\", w2, \". GoodDistance:\", similarity)\n",
    "    return similarity"
   ],
   "metadata": {
    "collapsed": false,
    "ExecuteTime": {
     "end_time": "2023-11-16T14:23:03.794348300Z",
     "start_time": "2023-11-16T14:23:03.738005100Z"
    }
   }
  },
  {
   "cell_type": "code",
   "execution_count": 5,
   "outputs": [
    {
     "data": {
      "text/plain": "['Actor', 'Japan']"
     },
     "execution_count": 5,
     "metadata": {},
     "output_type": "execute_result"
    }
   ],
   "source": [
    "nx.astar_path(wikispeedia, 'Actor', 'Japan', heuristic=distance_two_words)"
   ],
   "metadata": {
    "collapsed": false,
    "ExecuteTime": {
     "end_time": "2023-11-16T14:23:05.592043Z",
     "start_time": "2023-11-16T14:23:03.746326Z"
    }
   }
  },
  {
   "cell_type": "markdown",
   "source": [
    "Method works, but holy shit it's slow af...\n",
    "\n",
    "The shortest path found tends to be good enough, but it's actually not!\n",
    "\n",
    "This method is finding a path that is shortest than the one described in the shortest path dictionary... how?\n",
    "\n",
    "In the printed example, Actor and Japan are neighbors, but in the dataset it says their distance is of 3!\n",
    "\n",
    "I'll double check the data to see if it's all correct or not"
   ],
   "metadata": {
    "collapsed": false
   }
  },
  {
   "cell_type": "code",
   "execution_count": 13,
   "outputs": [
    {
     "data": {
      "text/plain": "AtlasView({'Charles_II_of_England': {}, 'Drama': {}, 'Film': {}, 'Greece': {}, 'H%C3%A4nsel_und_Gretel': {}, 'Japan': {}, 'Latin': {}, 'Middle_Ages': {}, 'Opera': {}, 'Television': {}, 'The_Marriage_of_Figaro': {}, 'The_Simpsons': {}, 'William_Shakespeare': {}})"
     },
     "execution_count": 13,
     "metadata": {},
     "output_type": "execute_result"
    }
   ],
   "source": [
    "wikispeedia.adj['Actor']"
   ],
   "metadata": {
    "collapsed": false
   }
  },
  {
   "cell_type": "markdown",
   "source": [
    "And japan is a neighbor... great!\n",
    "\n",
    "Proof that this shit is wrong follows, reading in the shortest path df and parsing it as indicated\n",
    "\n",
    "And it's read as well as possible... fuckkkk"
   ],
   "metadata": {
    "collapsed": false
   }
  },
  {
   "cell_type": "code",
   "execution_count": 122,
   "outputs": [],
   "source": [
    "shortest_path = np.genfromtxt(\"../datasets/wikispeedia_paths-and-graph/shortest-path-distance-matrix.txt\",\n",
    "                                  delimiter=1, missing_values=-1, dtype=int)\n",
    "articles = pd.read_csv('../datasets/wikispeedia_paths-and-graph/articles.tsv', sep='\\t', skiprows=12,\n",
    "                       names=[\"article_name\"])\n",
    "\n",
    "shortest_path_df = pd.DataFrame(shortest_path, index=articles.values, columns=articles.values)"
   ],
   "metadata": {
    "collapsed": false
   }
  },
  {
   "cell_type": "code",
   "execution_count": 132,
   "outputs": [
    {
     "data": {
      "text/plain": "3"
     },
     "execution_count": 132,
     "metadata": {},
     "output_type": "execute_result"
    }
   ],
   "source": [
    "shortest_path_df[('Actor',)][('Japan',)]"
   ],
   "metadata": {
    "collapsed": false
   }
  },
  {
   "cell_type": "markdown",
   "source": [
    "We can redo shortest path easily enough with networkX, so if we need it we'll redo it later.\n",
    "\n",
    "It's a bit of a deviation, but here's the code for that:"
   ],
   "metadata": {
    "collapsed": false
   }
  },
  {
   "cell_type": "code",
   "execution_count": 17,
   "outputs": [],
   "source": [
    "shortest_path_dict = dict(nx.all_pairs_shortest_path(wikispeedia))"
   ],
   "metadata": {
    "collapsed": false
   }
  },
  {
   "cell_type": "code",
   "execution_count": 23,
   "outputs": [
    {
     "data": {
      "text/plain": "{'Actor': ['Actor'],\n 'Charles_II_of_England': ['Actor', 'Charles_II_of_England'],\n 'Drama': ['Actor', 'Drama'],\n 'Film': ['Actor', 'Film'],\n 'Greece': ['Actor', 'Greece'],\n 'H%C3%A4nsel_und_Gretel': ['Actor', 'H%C3%A4nsel_und_Gretel'],\n 'Japan': ['Actor', 'Japan'],\n 'Latin': ['Actor', 'Latin'],\n 'Middle_Ages': ['Actor', 'Middle_Ages'],\n 'Opera': ['Actor', 'Opera'],\n 'Television': ['Actor', 'Television'],\n 'The_Marriage_of_Figaro': ['Actor', 'The_Marriage_of_Figaro'],\n 'The_Simpsons': ['Actor', 'The_Simpsons'],\n 'William_Shakespeare': ['Actor', 'William_Shakespeare'],\n 'Africa': ['Actor', 'Charles_II_of_England', 'Africa'],\n 'Amsterdam': ['Actor', 'Charles_II_of_England', 'Amsterdam'],\n 'Anglicanism': ['Actor', 'Charles_II_of_England', 'Anglicanism'],\n 'Anne_of_Great_Britain': ['Actor',\n  'Charles_II_of_England',\n  'Anne_of_Great_Britain'],\n 'BBC': ['Actor', 'Charles_II_of_England', 'BBC'],\n 'British_East_India_Company': ['Actor',\n  'Charles_II_of_England',\n  'British_East_India_Company'],\n 'British_monarchy': ['Actor', 'Charles_II_of_England', 'British_monarchy'],\n 'Charles_I_of_England': ['Actor',\n  'Charles_II_of_England',\n  'Charles_I_of_England'],\n 'Christopher_Wren': ['Actor', 'Charles_II_of_England', 'Christopher_Wren'],\n 'Church_of_England': ['Actor', 'Charles_II_of_England', 'Church_of_England'],\n 'Church_of_Ireland': ['Actor', 'Charles_II_of_England', 'Church_of_Ireland'],\n 'Comet': ['Actor', 'Charles_II_of_England', 'Comet'],\n 'Cotton': ['Actor', 'Charles_II_of_England', 'Cotton'],\n 'Dover': ['Actor', 'Charles_II_of_England', 'Dover'],\n 'Edinburgh': ['Actor', 'Charles_II_of_England', 'Edinburgh'],\n 'Edward_III_of_England': ['Actor',\n  'Charles_II_of_England',\n  'Edward_III_of_England'],\n 'England': ['Actor', 'Charles_II_of_England', 'England'],\n 'France': ['Actor', 'Charles_II_of_England', 'France'],\n 'Glorious_Revolution': ['Actor',\n  'Charles_II_of_England',\n  'Glorious_Revolution'],\n 'God': ['Actor', 'Charles_II_of_England', 'God'],\n 'Gold': ['Actor', 'Charles_II_of_England', 'Gold'],\n 'Heraldry': ['Actor', 'Charles_II_of_England', 'Heraldry'],\n 'Idolatry': ['Actor', 'Charles_II_of_England', 'Idolatry'],\n 'India': ['Actor', 'Charles_II_of_England', 'India'],\n 'Ireland': ['Actor', 'Charles_II_of_England', 'Ireland'],\n 'Isaac_Newton': ['Actor', 'Charles_II_of_England', 'Isaac_Newton'],\n 'Isles_of_Scilly': ['Actor', 'Charles_II_of_England', 'Isles_of_Scilly'],\n 'James_II_of_England': ['Actor',\n  'Charles_II_of_England',\n  'James_II_of_England'],\n 'James_I_of_England': ['Actor',\n  'Charles_II_of_England',\n  'James_I_of_England'],\n 'Jersey': ['Actor', 'Charles_II_of_England', 'Jersey'],\n 'London': ['Actor', 'Charles_II_of_England', 'London'],\n 'Louis_XIV_of_France': ['Actor',\n  'Charles_II_of_England',\n  'Louis_XIV_of_France'],\n 'Mary_I_of_Scotland': ['Actor',\n  'Charles_II_of_England',\n  'Mary_I_of_Scotland'],\n 'Netherlands': ['Actor', 'Charles_II_of_England', 'Netherlands'],\n 'Newmarket': ['Actor', 'Charles_II_of_England', 'Newmarket'],\n 'North_America': ['Actor', 'Charles_II_of_England', 'North_America'],\n 'Oliver_Cromwell': ['Actor', 'Charles_II_of_England', 'Oliver_Cromwell'],\n 'Oxford': ['Actor', 'Charles_II_of_England', 'Oxford'],\n 'Portugal': ['Actor', 'Charles_II_of_England', 'Portugal'],\n 'Pound_sterling': ['Actor', 'Charles_II_of_England', 'Pound_sterling'],\n 'River_Thames': ['Actor', 'Charles_II_of_England', 'River_Thames'],\n 'Robert_Boyle': ['Actor', 'Charles_II_of_England', 'Robert_Boyle'],\n 'Roman_Catholic_Church': ['Actor',\n  'Charles_II_of_England',\n  'Roman_Catholic_Church'],\n 'Scotland': ['Actor', 'Charles_II_of_England', 'Scotland'],\n 'Spain': ['Actor', 'Charles_II_of_England', 'Spain'],\n 'Sweden': ['Actor', 'Charles_II_of_England', 'Sweden'],\n 'The_Hague': ['Actor', 'Charles_II_of_England', 'The_Hague'],\n 'Tower_of_London': ['Actor', 'Charles_II_of_England', 'Tower_of_London'],\n 'Westminster_Abbey': ['Actor', 'Charles_II_of_England', 'Westminster_Abbey'],\n '19th_century': ['Actor', 'Drama', '19th_century'],\n '20th_century': ['Actor', 'Drama', '20th_century'],\n 'Athens': ['Actor', 'Drama', 'Athens'],\n 'Beijing': ['Actor', 'Drama', 'Beijing'],\n 'Ben_Jonson': ['Actor', 'Drama', 'Ben_Jonson'],\n 'China': ['Actor', 'Drama', 'China'],\n 'Ming_Dynasty': ['Actor', 'Drama', 'Ming_Dynasty'],\n 'Qing_Dynasty': ['Actor', 'Drama', 'Qing_Dynasty'],\n 'Radio': ['Actor', 'Drama', 'Radio'],\n '21st_century': ['Actor', 'Film', '21st_century'],\n 'Animation': ['Actor', 'Film', 'Animation'],\n 'Art': ['Actor', 'Film', 'Art'],\n 'Charlie_Chaplin': ['Actor', 'Film', 'Charlie_Chaplin'],\n 'Color': ['Actor', 'Film', 'Color'],\n 'DVD': ['Actor', 'Film', 'DVD'],\n 'Internet': ['Actor', 'Film', 'Internet'],\n 'Newspaper': ['Actor', 'Film', 'Newspaper'],\n 'Photography': ['Actor', 'Film', 'Photography'],\n 'Piano': ['Actor', 'Film', 'Piano'],\n 'Silent_film': ['Actor', 'Film', 'Silent_film'],\n 'Sound': ['Actor', 'Film', 'Sound'],\n 'United_States': ['Actor', 'Film', 'United_States'],\n 'Video': ['Actor', 'Film', 'Video'],\n 'Visual_arts': ['Actor', 'Film', 'Visual_arts'],\n 'Adolf_Hitler': ['Actor', 'Greece', 'Adolf_Hitler'],\n 'Albania': ['Actor', 'Greece', 'Albania'],\n 'Algeria': ['Actor', 'Greece', 'Algeria'],\n 'Ancient_Greece': ['Actor', 'Greece', 'Ancient_Greece'],\n 'Andorra': ['Actor', 'Greece', 'Andorra'],\n 'Argentina': ['Actor', 'Greece', 'Argentina'],\n 'Aristotle': ['Actor', 'Greece', 'Aristotle'],\n 'Armenia': ['Actor', 'Greece', 'Armenia'],\n 'Asia': ['Actor', 'Greece', 'Asia'],\n 'Athena': ['Actor', 'Greece', 'Athena'],\n 'Austria': ['Actor', 'Greece', 'Austria'],\n 'Azerbaijan': ['Actor', 'Greece', 'Azerbaijan'],\n 'Belarus': ['Actor', 'Greece', 'Belarus'],\n 'Belgium': ['Actor', 'Greece', 'Belgium'],\n 'Bosnia_and_Herzegovina': ['Actor', 'Greece', 'Bosnia_and_Herzegovina'],\n 'Bulgaria': ['Actor', 'Greece', 'Bulgaria'],\n 'Byzantine_Empire': ['Actor', 'Greece', 'Byzantine_Empire'],\n 'Climate': ['Actor', 'Greece', 'Climate'],\n 'Croatia': ['Actor', 'Greece', 'Croatia'],\n 'Currency': ['Actor', 'Greece', 'Currency'],\n 'Cyprus': ['Actor', 'Greece', 'Cyprus'],\n 'Czech_Republic': ['Actor', 'Greece', 'Czech_Republic'],\n 'Democracy': ['Actor', 'Greece', 'Democracy'],\n 'Denmark': ['Actor', 'Greece', 'Denmark'],\n 'Egypt': ['Actor', 'Greece', 'Egypt'],\n 'Estonia': ['Actor', 'Greece', 'Estonia'],\n 'Euro': ['Actor', 'Greece', 'Euro'],\n 'Europe': ['Actor', 'Greece', 'Europe'],\n 'European_Space_Agency': ['Actor', 'Greece', 'European_Space_Agency'],\n 'European_Union': ['Actor', 'Greece', 'European_Union'],\n 'Fascism': ['Actor', 'Greece', 'Fascism'],\n 'Finland': ['Actor', 'Greece', 'Finland'],\n 'Georgia_%28country%29': ['Actor', 'Greece', 'Georgia_%28country%29'],\n 'Germany': ['Actor', 'Greece', 'Germany'],\n 'Ghana': ['Actor', 'Greece', 'Ghana'],\n 'Hellenistic_Greece': ['Actor', 'Greece', 'Hellenistic_Greece'],\n 'Herodotus': ['Actor', 'Greece', 'Herodotus'],\n 'Homer': ['Actor', 'Greece', 'Homer'],\n 'Hungary': ['Actor', 'Greece', 'Hungary'],\n 'Iceland': ['Actor', 'Greece', 'Iceland'],\n 'Israel': ['Actor', 'Greece', 'Israel'],\n 'Italy': ['Actor', 'Greece', 'Italy'],\n 'Jew': ['Actor', 'Greece', 'Jew'],\n 'Kazakhstan': ['Actor', 'Greece', 'Kazakhstan'],\n 'Latvia': ['Actor', 'Greece', 'Latvia'],\n 'Lebanon': ['Actor', 'Greece', 'Lebanon'],\n 'Libya': ['Actor', 'Greece', 'Libya'],\n 'Liechtenstein': ['Actor', 'Greece', 'Liechtenstein'],\n 'List_of_countries': ['Actor', 'Greece', 'List_of_countries'],\n 'List_of_countries_by_system_of_government': ['Actor',\n  'Greece',\n  'List_of_countries_by_system_of_government'],\n 'Lithuania': ['Actor', 'Greece', 'Lithuania'],\n 'Luxembourg': ['Actor', 'Greece', 'Luxembourg'],\n 'Macedon': ['Actor', 'Greece', 'Macedon'],\n 'Malta': ['Actor', 'Greece', 'Malta'],\n 'Marshall_Plan': ['Actor', 'Greece', 'Marshall_Plan'],\n 'Mediterranean_Sea': ['Actor', 'Greece', 'Mediterranean_Sea'],\n 'Middle_East': ['Actor', 'Greece', 'Middle_East'],\n 'Moldova': ['Actor', 'Greece', 'Moldova'],\n 'Monaco': ['Actor', 'Greece', 'Monaco'],\n 'Monarchy': ['Actor', 'Greece', 'Monarchy'],\n 'Montenegro': ['Actor', 'Greece', 'Montenegro'],\n 'Morocco': ['Actor', 'Greece', 'Morocco'],\n 'NATO': ['Actor', 'Greece', 'NATO'],\n 'Norway': ['Actor', 'Greece', 'Norway'],\n 'Olympic_Games': ['Actor', 'Greece', 'Olympic_Games'],\n 'Ottoman_Empire': ['Actor', 'Greece', 'Ottoman_Empire'],\n 'Owl': ['Actor', 'Greece', 'Owl'],\n 'Parthenon': ['Actor', 'Greece', 'Parthenon'],\n 'People%27s_Republic_of_China': ['Actor',\n  'Greece',\n  'People%27s_Republic_of_China'],\n 'Peru': ['Actor', 'Greece', 'Peru'],\n 'Philosophy': ['Actor', 'Greece', 'Philosophy'],\n 'Plato': ['Actor', 'Greece', 'Plato'],\n 'Poland': ['Actor', 'Greece', 'Poland'],\n 'Political_science': ['Actor', 'Greece', 'Political_science'],\n 'Pythagoras': ['Actor', 'Greece', 'Pythagoras'],\n 'Qatar': ['Actor', 'Greece', 'Qatar'],\n 'Republic_of_Ireland': ['Actor', 'Greece', 'Republic_of_Ireland'],\n 'Republic_of_Macedonia': ['Actor', 'Greece', 'Republic_of_Macedonia'],\n 'Republic_of_the_Congo': ['Actor', 'Greece', 'Republic_of_the_Congo'],\n 'Roman_Greece': ['Actor', 'Greece', 'Roman_Greece'],\n 'Romania': ['Actor', 'Greece', 'Romania'],\n 'Russia': ['Actor', 'Greece', 'Russia'],\n 'San_Marino': ['Actor', 'Greece', 'San_Marino'],\n 'Santorini': ['Actor', 'Greece', 'Santorini'],\n 'Serbia': ['Actor', 'Greece', 'Serbia'],\n 'Slovakia': ['Actor', 'Greece', 'Slovakia'],\n 'Slovenia': ['Actor', 'Greece', 'Slovenia'],\n 'Socrates': ['Actor', 'Greece', 'Socrates'],\n 'Switzerland': ['Actor', 'Greece', 'Switzerland'],\n 'Syria': ['Actor', 'Greece', 'Syria'],\n 'Tanzania': ['Actor', 'Greece', 'Tanzania'],\n 'Temple_of_Artemis': ['Actor', 'Greece', 'Temple_of_Artemis'],\n 'Thucydides': ['Actor', 'Greece', 'Thucydides'],\n 'Time_zone': ['Actor', 'Greece', 'Time_zone'],\n 'Tourism': ['Actor', 'Greece', 'Tourism'],\n 'Tunisia': ['Actor', 'Greece', 'Tunisia'],\n 'Turkey': ['Actor', 'Greece', 'Turkey'],\n 'Ukraine': ['Actor', 'Greece', 'Ukraine'],\n 'United_Kingdom': ['Actor', 'Greece', 'United_Kingdom'],\n 'United_Nations': ['Actor', 'Greece', 'United_Nations'],\n 'Vatican_City': ['Actor', 'Greece', 'Vatican_City'],\n 'World_War_I': ['Actor', 'Greece', 'World_War_I'],\n 'World_War_II': ['Actor', 'Greece', 'World_War_II'],\n 'Brothers_Grimm': ['Actor', 'H%C3%A4nsel_und_Gretel', 'Brothers_Grimm'],\n 'English_language': ['Actor', 'H%C3%A4nsel_und_Gretel', 'English_language'],\n 'Folk_music': ['Actor', 'H%C3%A4nsel_und_Gretel', 'Folk_music'],\n 'German_language': ['Actor', 'H%C3%A4nsel_und_Gretel', 'German_language'],\n 'Irish_people': ['Actor', 'H%C3%A4nsel_und_Gretel', 'Irish_people'],\n 'Agriculture': ['Actor', 'Japan', 'Agriculture'],\n 'Anno_Domini': ['Actor', 'Japan', 'Anno_Domini'],\n 'Archaeology': ['Actor', 'Japan', 'Archaeology'],\n 'Attack_on_Pearl_Harbor': ['Actor', 'Japan', 'Attack_on_Pearl_Harbor'],\n 'Australia': ['Actor', 'Japan', 'Australia'],\n 'Auto_racing': ['Actor', 'Japan', 'Auto_racing'],\n 'Automobile': ['Actor', 'Japan', 'Automobile'],\n 'Buddha': ['Actor', 'Japan', 'Buddha'],\n 'Buddhism': ['Actor', 'Japan', 'Buddhism'],\n 'Capital': ['Actor', 'Japan', 'Capital'],\n 'Cereal': ['Actor', 'Japan', 'Cereal'],\n 'Chinese_language': ['Actor', 'Japan', 'Chinese_language'],\n 'Christianity': ['Actor', 'Japan', 'Christianity'],\n 'Confucianism': ['Actor', 'Japan', 'Confucianism'],\n 'Constitutional_monarchy': ['Actor', 'Japan', 'Constitutional_monarchy'],\n 'Crime': ['Actor', 'Japan', 'Crime'],\n 'Culture': ['Actor', 'Japan', 'Culture'],\n 'Earthquake': ['Actor', 'Japan', 'Earthquake'],\n 'Electronics': ['Actor', 'Japan', 'Electronics'],\n 'Felice_Beato': ['Actor', 'Japan', 'Felice_Beato'],\n 'Fishing': ['Actor', 'Japan', 'Fishing'],\n 'George_W._Bush': ['Actor', 'Japan', 'George_W._Bush'],\n 'Government': ['Actor', 'Japan', 'Government'],\n 'Hasekura_Tsunenaga': ['Actor', 'Japan', 'Hasekura_Tsunenaga'],\n 'Hirohito': ['Actor', 'Japan', 'Hirohito'],\n 'Hong_Kong': ['Actor', 'Japan', 'Hong_Kong'],\n 'Indonesia': ['Actor', 'Japan', 'Indonesia'],\n 'Industry': ['Actor', 'Japan', 'Industry'],\n 'International_Space_Station': ['Actor',\n  'Japan',\n  'International_Space_Station'],\n 'Iraq_War': ['Actor', 'Japan', 'Iraq_War'],\n 'Iron': ['Actor', 'Japan', 'Iron'],\n 'Islam': ['Actor', 'Japan', 'Islam'],\n 'Japanese_war_crimes': ['Actor', 'Japan', 'Japanese_war_crimes'],\n 'Japanese_yen': ['Actor', 'Japan', 'Japanese_yen'],\n 'Katana': ['Actor', 'Japan', 'Katana'],\n 'Korea': ['Actor', 'Japan', 'Korea'],\n 'League_of_Nations': ['Actor', 'Japan', 'League_of_Nations'],\n 'Linguistics': ['Actor', 'Japan', 'Linguistics'],\n 'Mario': ['Actor', 'Japan', 'Mario'],\n 'Meat': ['Actor', 'Japan', 'Meat'],\n 'Medicine': ['Actor', 'Japan', 'Medicine'],\n 'Metal': ['Actor', 'Japan', 'Metal'],\n 'Moon': ['Actor', 'Japan', 'Moon'],\n 'Natural_gas': ['Actor', 'Japan', 'Natural_gas'],\n 'Nazi_Germany': ['Actor', 'Japan', 'Nazi_Germany'],\n 'Nintendo': ['Actor', 'Japan', 'Nintendo'],\n 'North_Korea': ['Actor', 'Japan', 'North_Korea'],\n 'Osaka': ['Actor', 'Japan', 'Osaka'],\n 'Pacific_Ocean': ['Actor', 'Japan', 'Pacific_Ocean'],\n 'Pakistan': ['Actor', 'Japan', 'Pakistan'],\n 'Parliament_of_the_United_Kingdom': ['Actor',\n  'Japan',\n  'Parliament_of_the_United_Kingdom'],\n 'Parliamentary_system': ['Actor', 'Japan', 'Parliamentary_system'],\n 'Pottery': ['Actor', 'Japan', 'Pottery'],\n 'President_of_the_United_States': ['Actor',\n  'Japan',\n  'President_of_the_United_States'],\n 'Rice': ['Actor', 'Japan', 'Rice'],\n 'Saudi_Arabia': ['Actor', 'Japan', 'Saudi_Arabia'],\n 'Shinto': ['Actor', 'Japan', 'Shinto'],\n 'Ship': ['Actor', 'Japan', 'Ship'],\n 'Sony': ['Actor', 'Japan', 'Sony'],\n 'South_Korea': ['Actor', 'Japan', 'South_Korea'],\n 'Space_exploration': ['Actor', 'Japan', 'Space_exploration'],\n 'Steel': ['Actor', 'Japan', 'Steel'],\n 'Suffrage': ['Actor', 'Japan', 'Suffrage'],\n 'Sumo': ['Actor', 'Japan', 'Sumo'],\n 'Taiwan': ['Actor', 'Japan', 'Taiwan'],\n 'Taoism': ['Actor', 'Japan', 'Taoism'],\n 'Technology': ['Actor', 'Japan', 'Technology'],\n 'Telecommunication': ['Actor', 'Japan', 'Telecommunication'],\n 'Temperate': ['Actor', 'Japan', 'Temperate'],\n 'Textile': ['Actor', 'Japan', 'Textile'],\n 'Tokyo': ['Actor', 'Japan', 'Tokyo'],\n 'Tropical_cyclone': ['Actor', 'Japan', 'Tropical_cyclone'],\n 'Tsunami': ['Actor', 'Japan', 'Tsunami'],\n 'University': ['Actor', 'Japan', 'University'],\n 'Vegetable': ['Actor', 'Japan', 'Vegetable'],\n 'Volcano': ['Actor', 'Japan', 'Volcano'],\n 'Wasabi': ['Actor', 'Japan', 'Wasabi'],\n '18th_century': ['Actor', 'Latin', '18th_century'],\n '1st_century_BC': ['Actor', 'Latin', '1st_century_BC'],\n '9th_century': ['Actor', 'Latin', '9th_century'],\n 'Ancient_Rome': ['Actor', 'Latin', 'Ancient_Rome'],\n 'Bible': ['Actor', 'Latin', 'Bible'],\n 'French_language': ['Actor', 'Latin', 'French_language'],\n 'Great_Britain': ['Actor', 'Latin', 'Great_Britain'],\n 'Latin_alphabet': ['Actor', 'Latin', 'Latin_alphabet'],\n 'Law': ['Actor', 'Latin', 'Law'],\n 'Portuguese_language': ['Actor', 'Latin', 'Portuguese_language'],\n 'Roman_Empire': ['Actor', 'Latin', 'Roman_Empire'],\n 'Rome': ['Actor', 'Latin', 'Rome'],\n 'Science': ['Actor', 'Latin', 'Science'],\n 'Spanish_language': ['Actor', 'Latin', 'Spanish_language'],\n 'Split_infinitive': ['Actor', 'Latin', 'Split_infinitive'],\n 'The_Adventures_of_Tintin': ['Actor', 'Latin', 'The_Adventures_of_Tintin'],\n 'The_Cat_in_the_Hat': ['Actor', 'Latin', 'The_Cat_in_the_Hat'],\n 'Virgil': ['Actor', 'Latin', 'Virgil'],\n 'Vulgar_Latin': ['Actor', 'Latin', 'Vulgar_Latin'],\n 'Western_Roman_Empire': ['Actor', 'Latin', 'Western_Roman_Empire'],\n 'William_I_of_England': ['Actor', 'Latin', 'William_I_of_England'],\n '12th_century': ['Actor', 'Middle_Ages', '12th_century'],\n '14th_century': ['Actor', 'Middle_Ages', '14th_century'],\n '15th_century': ['Actor', 'Middle_Ages', '15th_century'],\n '16th_century': ['Actor', 'Middle_Ages', '16th_century'],\n '4th_century': ['Actor', 'Middle_Ages', '4th_century'],\n '5th_century': ['Actor', 'Middle_Ages', '5th_century'],\n '7th_century': ['Actor', 'Middle_Ages', '7th_century'],\n '8th_century': ['Actor', 'Middle_Ages', '8th_century'],\n 'Abbot': ['Actor', 'Middle_Ages', 'Abbot'],\n 'Albigensian_Crusade': ['Actor', 'Middle_Ages', 'Albigensian_Crusade'],\n 'Architecture': ['Actor', 'Middle_Ages', 'Architecture'],\n 'Augustine_of_Hippo': ['Actor', 'Middle_Ages', 'Augustine_of_Hippo'],\n 'Battle_of_Tours': ['Actor', 'Middle_Ages', 'Battle_of_Tours'],\n 'Black_Death': ['Actor', 'Middle_Ages', 'Black_Death'],\n 'Book_of_Kells': ['Actor', 'Middle_Ages', 'Book_of_Kells'],\n 'Capitalism': ['Actor', 'Middle_Ages', 'Capitalism'],\n 'Charlemagne': ['Actor', 'Middle_Ages', 'Charlemagne'],\n 'Christian_monasticism': ['Actor', 'Middle_Ages', 'Christian_monasticism'],\n 'Christopher_Columbus': ['Actor', 'Middle_Ages', 'Christopher_Columbus'],\n 'Clock': ['Actor', 'Middle_Ages', 'Clock'],\n 'Dark_Ages': ['Actor', 'Middle_Ages', 'Dark_Ages'],\n 'Dutch_language': ['Actor', 'Middle_Ages', 'Dutch_language'],\n 'East-West_Schism': ['Actor', 'Middle_Ages', 'East-West_Schism'],\n 'Franks': ['Actor', 'Middle_Ages', 'Franks'],\n 'Glasses': ['Actor', 'Middle_Ages', 'Glasses'],\n 'Gunpowder': ['Actor', 'Middle_Ages', 'Gunpowder'],\n 'Holy_Roman_Empire': ['Actor', 'Middle_Ages', 'Holy_Roman_Empire'],\n 'Hundred_Years%27_War': ['Actor', 'Middle_Ages', 'Hundred_Years%27_War'],\n 'Industrial_Revolution': ['Actor', 'Middle_Ages', 'Industrial_Revolution'],\n 'Jerusalem': ['Actor', 'Middle_Ages', 'Jerusalem'],\n 'Music': ['Actor', 'Middle_Ages', 'Music'],\n 'North_Africa': ['Actor', 'Middle_Ages', 'North_Africa'],\n 'Pope': ['Actor', 'Middle_Ages', 'Pope'],\n 'Renaissance': ['Actor', 'Middle_Ages', 'Renaissance'],\n 'Richard_III_of_England': ['Actor', 'Middle_Ages', 'Richard_III_of_England'],\n 'Russian_language': ['Actor', 'Middle_Ages', 'Russian_language'],\n 'Scotland_in_the_High_Middle_Ages': ['Actor',\n  'Middle_Ages',\n  'Scotland_in_the_High_Middle_Ages'],\n 'Sculpture': ['Actor', 'Middle_Ages', 'Sculpture'],\n 'Sub-Saharan_Africa': ['Actor', 'Middle_Ages', 'Sub-Saharan_Africa'],\n 'Viking': ['Actor', 'Middle_Ages', 'Viking'],\n 'Wars_of_the_Roses': ['Actor', 'Middle_Ages', 'Wars_of_the_Roses'],\n 'Anton%C3%ADn_Dvo%C5%99%C3%A1k': ['Actor',\n  'Opera',\n  'Anton%C3%ADn_Dvo%C5%99%C3%A1k'],\n 'Arthur_Sullivan': ['Actor', 'Opera', 'Arthur_Sullivan'],\n 'Atonality': ['Actor', 'Opera', 'Atonality'],\n 'Benjamin_Britten': ['Actor', 'Opera', 'Benjamin_Britten'],\n 'Dido_and_Aeneas': ['Actor', 'Opera', 'Dido_and_Aeneas'],\n 'Eva_Per%C3%B3n': ['Actor', 'Opera', 'Eva_Per%C3%B3n'],\n 'French_Revolution': ['Actor', 'Opera', 'French_Revolution'],\n 'Giuseppe_Verdi': ['Actor', 'Opera', 'Giuseppe_Verdi'],\n 'Hamburg': ['Actor', 'Opera', 'Hamburg'],\n 'Henry_Purcell': ['Actor', 'Opera', 'Henry_Purcell'],\n 'Igor_Stravinsky': ['Actor', 'Opera', 'Igor_Stravinsky'],\n 'Ludwig_van_Beethoven': ['Actor', 'Opera', 'Ludwig_van_Beethoven'],\n 'Madama_Butterfly': ['Actor', 'Opera', 'Madama_Butterfly'],\n 'Milan': ['Actor', 'Opera', 'Milan'],\n 'Napoleon_I_of_France': ['Actor', 'Opera', 'Napoleon_I_of_France'],\n 'Nationalism': ['Actor', 'Opera', 'Nationalism'],\n 'Nikolai_Rimsky-Korsakov': ['Actor', 'Opera', 'Nikolai_Rimsky-Korsakov'],\n 'Paris': ['Actor', 'Opera', 'Paris'],\n 'Porgy_and_Bess': ['Actor', 'Opera', 'Porgy_and_Bess'],\n 'Pyotr_Ilyich_Tchaikovsky': ['Actor', 'Opera', 'Pyotr_Ilyich_Tchaikovsky'],\n 'Richard_Wagner': ['Actor', 'Opera', 'Richard_Wagner'],\n 'Romanticism': ['Actor', 'Opera', 'Romanticism'],\n 'The_Rite_of_Spring': ['Actor', 'Opera', 'The_Rite_of_Spring'],\n 'Theatre': ['Actor', 'Opera', 'Theatre'],\n 'Venus_and_Adonis_%28opera%29': ['Actor',\n  'Opera',\n  'Venus_and_Adonis_%28opera%29'],\n 'Vienna': ['Actor', 'Opera', 'Vienna'],\n 'Wolfgang_Amadeus_Mozart': ['Actor', 'Opera', 'Wolfgang_Amadeus_Mozart'],\n 'Advertising': ['Actor', 'Television', 'Advertising'],\n 'Broadcasting': ['Actor', 'Television', 'Broadcasting'],\n 'Computer_and_video_games': ['Actor',\n  'Television',\n  'Computer_and_video_games'],\n 'John_Logie_Baird': ['Actor', 'Television', 'John_Logie_Baird'],\n 'Manufacturing': ['Actor', 'Television', 'Manufacturing'],\n 'New_Zealand': ['Actor', 'Television', 'New_Zealand'],\n 'Selenium': ['Actor', 'Television', 'Selenium'],\n 'The_Magic_Flute': ['Actor', 'The_Marriage_of_Figaro', 'The_Magic_Flute'],\n 'Alcohol': ['Actor', 'The_Simpsons', 'Alcohol'],\n 'Antarctica': ['Actor', 'The_Simpsons', 'Antarctica'],\n 'Bill_Clinton': ['Actor', 'The_Simpsons', 'Bill_Clinton'],\n 'Compact_Disc': ['Actor', 'The_Simpsons', 'Compact_Disc'],\n 'Continent': ['Actor', 'The_Simpsons', 'Continent'],\n 'Doom': ['Actor', 'The_Simpsons', 'Doom'],\n 'Earth': ['Actor', 'The_Simpsons', 'Earth'],\n 'Geography': ['Actor', 'The_Simpsons', 'Geography'],\n 'George_H._W._Bush': ['Actor', 'The_Simpsons', 'George_H._W._Bush'],\n 'Halloween': ['Actor', 'The_Simpsons', 'Halloween'],\n 'Latin_America': ['Actor', 'The_Simpsons', 'Latin_America'],\n 'Monopoly_%28game%29': ['Actor', 'The_Simpsons', 'Monopoly_%28game%29'],\n 'Nirvana_%28band%29': ['Actor', 'The_Simpsons', 'Nirvana_%28band%29'],\n 'Popular_culture': ['Actor', 'The_Simpsons', 'Popular_culture'],\n 'Saxophone': ['Actor', 'The_Simpsons', 'Saxophone'],\n 'Scooby-Doo': ['Actor', 'The_Simpsons', 'Scooby-Doo'],\n 'Seinfeld': ['Actor', 'The_Simpsons', 'Seinfeld'],\n 'Society': ['Actor', 'The_Simpsons', 'Society'],\n 'British_Empire': ['Actor', 'William_Shakespeare', 'British_Empire'],\n 'Employment': ['Actor', 'William_Shakespeare', 'Employment'],\n 'Language': ['Actor', 'William_Shakespeare', 'Language'],\n 'Love': ['Actor', 'William_Shakespeare', 'Love'],\n 'Macbeth': ['Actor', 'William_Shakespeare', 'Macbeth'],\n 'Miguel_de_Cervantes': ['Actor',\n  'William_Shakespeare',\n  'Miguel_de_Cervantes'],\n 'Poetry': ['Actor', 'William_Shakespeare', 'Poetry'],\n 'Samuel_Taylor_Coleridge': ['Actor',\n  'William_Shakespeare',\n  'Samuel_Taylor_Coleridge'],\n 'Stratford-upon-Avon': ['Actor',\n  'William_Shakespeare',\n  'Stratford-upon-Avon'],\n 'Abidjan': ['Actor', 'Charles_II_of_England', 'Africa', 'Abidjan'],\n 'Abuja': ['Actor', 'Charles_II_of_England', 'Africa', 'Abuja'],\n 'Accra': ['Actor', 'Charles_II_of_England', 'Africa', 'Accra'],\n 'Addis_Ababa': ['Actor', 'Charles_II_of_England', 'Africa', 'Addis_Ababa'],\n 'African_Great_Lakes': ['Actor',\n  'Charles_II_of_England',\n  'Africa',\n  'African_Great_Lakes'],\n 'African_Union': ['Actor',\n  'Charles_II_of_England',\n  'Africa',\n  'African_Union'],\n 'Afrikaans': ['Actor', 'Charles_II_of_England', 'Africa', 'Afrikaans'],\n 'Algiers': ['Actor', 'Charles_II_of_England', 'Africa', 'Algiers'],\n 'Ancient_Egypt': ['Actor',\n  'Charles_II_of_England',\n  'Africa',\n  'Ancient_Egypt'],\n 'Anglican_Communion': ['Actor',\n  'Charles_II_of_England',\n  'Africa',\n  'Anglican_Communion'],\n 'Angola': ['Actor', 'Charles_II_of_England', 'Africa', 'Angola'],\n 'Antananarivo': ['Actor', 'Charles_II_of_England', 'Africa', 'Antananarivo'],\n 'Anthropology': ['Actor', 'Charles_II_of_England', 'Africa', 'Anthropology'],\n 'Arabic_language': ['Actor',\n  'Charles_II_of_England',\n  'Africa',\n  'Arabic_language'],\n 'Atlantic_Ocean': ['Actor',\n  'Charles_II_of_England',\n  'Africa',\n  'Atlantic_Ocean'],\n 'Atlantic_slave_trade': ['Actor',\n  'Charles_II_of_England',\n  'Africa',\n  'Atlantic_slave_trade'],\n 'Bamako': ['Actor', 'Charles_II_of_England', 'Africa', 'Bamako'],\n 'Banjul': ['Actor', 'Charles_II_of_England', 'Africa', 'Banjul'],\n 'Bantu': ['Actor', 'Charles_II_of_England', 'Africa', 'Bantu'],\n 'Benin': ['Actor', 'Charles_II_of_England', 'Africa', 'Benin'],\n 'Bissau': ['Actor', 'Charles_II_of_England', 'Africa', 'Bissau'],\n 'Botswana': ['Actor', 'Charles_II_of_England', 'Africa', 'Botswana'],\n 'Burkina_Faso': ['Actor', 'Charles_II_of_England', 'Africa', 'Burkina_Faso'],\n 'Burundi': ['Actor', 'Charles_II_of_England', 'Africa', 'Burundi'],\n 'C%C3%B4te_d%27Ivoire': ['Actor',\n  'Charles_II_of_England',\n  'Africa',\n  'C%C3%B4te_d%27Ivoire'],\n 'Cairo': ['Actor', 'Charles_II_of_England', 'Africa', 'Cairo'],\n 'Camel': ['Actor', 'Charles_II_of_England', 'Africa', 'Camel'],\n 'Cameroon': ['Actor', 'Charles_II_of_England', 'Africa', 'Cameroon'],\n 'Cape_Town': ['Actor', 'Charles_II_of_England', 'Africa', 'Cape_Town'],\n 'Cape_Verde': ['Actor', 'Charles_II_of_England', 'Africa', 'Cape_Verde'],\n 'Carnivore': ['Actor', 'Charles_II_of_England', 'Africa', 'Carnivore'],\n 'Central_African_Republic': ['Actor',\n  'Charles_II_of_England',\n  'Africa',\n  'Central_African_Republic'],\n 'Chad': ['Actor', 'Charles_II_of_England', 'Africa', 'Chad'],\n 'Cheetah': ['Actor', 'Charles_II_of_England', 'Africa', 'Cheetah'],\n 'Civilization': ['Actor', 'Charles_II_of_England', 'Africa', 'Civilization'],\n 'Cocoa': ['Actor', 'Charles_II_of_England', 'Africa', 'Cocoa'],\n 'Coffee': ['Actor', 'Charles_II_of_England', 'Africa', 'Coffee'],\n 'Cold_War': ['Actor', 'Charles_II_of_England', 'Africa', 'Cold_War'],\n 'Comoros': ['Actor', 'Charles_II_of_England', 'Africa', 'Comoros'],\n 'Conakry': ['Actor', 'Charles_II_of_England', 'Africa', 'Conakry'],\n 'Congo_River': ['Actor', 'Charles_II_of_England', 'Africa', 'Congo_River'],\n 'Crocodile': ['Actor', 'Charles_II_of_England', 'Africa', 'Crocodile'],\n 'Dakar': ['Actor', 'Charles_II_of_England', 'Africa', 'Dakar'],\n 'David_Livingstone': ['Actor',\n  'Charles_II_of_England',\n  'Africa',\n  'David_Livingstone'],\n 'Deity': ['Actor', 'Charles_II_of_England', 'Africa', 'Deity'],\n 'Democratic_Republic_of_the_Congo': ['Actor',\n  'Charles_II_of_England',\n  'Africa',\n  'Democratic_Republic_of_the_Congo'],\n 'Desert': ['Actor', 'Charles_II_of_England', 'Africa', 'Desert'],\n 'Despotism': ['Actor', 'Charles_II_of_England', 'Africa', 'Despotism'],\n 'Diamond': ['Actor', 'Charles_II_of_England', 'Africa', 'Diamond'],\n 'Djibouti': ['Actor', 'Charles_II_of_England', 'Africa', 'Djibouti'],\n 'East_Africa': ['Actor', 'Charles_II_of_England', 'Africa', 'East_Africa'],\n 'El_Aai%C3%BAn': ['Actor',\n  'Charles_II_of_England',\n  'Africa',\n  'El_Aai%C3%BAn'],\n 'Elephant': ['Actor', 'Charles_II_of_England', 'Africa', 'Elephant'],\n 'Equatorial_Guinea': ['Actor',\n  'Charles_II_of_England',\n  'Africa',\n  'Equatorial_Guinea'],\n 'Eritrea': ['Actor', 'Charles_II_of_England', 'Africa', 'Eritrea'],\n 'Ethiopia': ['Actor', 'Charles_II_of_England', 'Africa', 'Ethiopia'],\n 'Famine': ['Actor', 'Charles_II_of_England', 'Africa', 'Famine'],\n 'Flute': ['Actor', 'Charles_II_of_England', 'Africa', 'Flute'],\n 'Fossil': ['Actor', 'Charles_II_of_England', 'Africa', 'Fossil'],\n 'Freetown': ['Actor', 'Charles_II_of_England', 'Africa', 'Freetown'],\n 'Funchal': ['Actor', 'Charles_II_of_England', 'Africa', 'Funchal'],\n 'Gabon': ['Actor', 'Charles_II_of_England', 'Africa', 'Gabon'],\n 'Gaborone': ['Actor', 'Charles_II_of_England', 'Africa', 'Gaborone'],\n 'Giraffe': ['Actor', 'Charles_II_of_England', 'Africa', 'Giraffe'],\n 'Glacier': ['Actor', 'Charles_II_of_England', 'Africa', 'Glacier'],\n 'Great_Pyramid_of_Giza': ['Actor',\n  'Charles_II_of_England',\n  'Africa',\n  'Great_Pyramid_of_Giza'],\n 'Guinea': ['Actor', 'Charles_II_of_England', 'Africa', 'Guinea'],\n 'Guinea-Bissau': ['Actor',\n  'Charles_II_of_England',\n  'Africa',\n  'Guinea-Bissau'],\n 'HIV': ['Actor', 'Charles_II_of_England', 'Africa', 'HIV'],\n 'Harare': ['Actor', 'Charles_II_of_England', 'Africa', 'Harare'],\n 'Henry_Morton_Stanley': ['Actor',\n  'Charles_II_of_England',\n  'Africa',\n  'Henry_Morton_Stanley'],\n 'Herbivore': ['Actor', 'Charles_II_of_England', 'Africa', 'Herbivore'],\n 'Horn_of_Africa': ['Actor',\n  'Charles_II_of_England',\n  'Africa',\n  'Horn_of_Africa'],\n 'Human': ['Actor', 'Charles_II_of_England', 'Africa', 'Human'],\n 'Hutu': ['Actor', 'Charles_II_of_England', 'Africa', 'Hutu'],\n 'Hyena': ['Actor', 'Charles_II_of_England', 'Africa', 'Hyena'],\n 'Indian_Ocean': ['Actor', 'Charles_II_of_England', 'Africa', 'Indian_Ocean'],\n 'Irrigation': ['Actor', 'Charles_II_of_England', 'Africa', 'Irrigation'],\n 'Ishango_bone': ['Actor', 'Charles_II_of_England', 'Africa', 'Ishango_bone'],\n 'Jazz': ['Actor', 'Charles_II_of_England', 'Africa', 'Jazz'],\n 'Judaism': ['Actor', 'Charles_II_of_England', 'Africa', 'Judaism'],\n 'Kenya': ['Actor', 'Charles_II_of_England', 'Africa', 'Kenya'],\n 'Khartoum': ['Actor', 'Charles_II_of_England', 'Africa', 'Khartoum'],\n 'Kigali': ['Actor', 'Charles_II_of_England', 'Africa', 'Kigali'],\n 'Lake_Tanganyika': ['Actor',\n  'Charles_II_of_England',\n  'Africa',\n  'Lake_Tanganyika'],\n 'Lake_Victoria': ['Actor',\n  'Charles_II_of_England',\n  'Africa',\n  'Lake_Victoria'],\n 'Las_Palmas_de_Gran_Canaria': ['Actor',\n  'Charles_II_of_England',\n  'Africa',\n  'Las_Palmas_de_Gran_Canaria'],\n 'Lesotho': ['Actor', 'Charles_II_of_England', 'Africa', 'Lesotho'],\n 'Liberal_democracy': ['Actor',\n  'Charles_II_of_England',\n  'Africa',\n  'Liberal_democracy'],\n 'Liberia': ['Actor', 'Charles_II_of_England', 'Africa', 'Liberia'],\n 'Libreville': ['Actor', 'Charles_II_of_England', 'Africa', 'Libreville'],\n 'Lilongwe': ['Actor', 'Charles_II_of_England', 'Africa', 'Lilongwe'],\n 'Lion': ['Actor', 'Charles_II_of_England', 'Africa', 'Lion'],\n 'Lom%C3%A9': ['Actor', 'Charles_II_of_England', 'Africa', 'Lom%C3%A9'],\n 'Lusaka': ['Actor', 'Charles_II_of_England', 'Africa', 'Lusaka'],\n 'Madagascar': ['Actor', 'Charles_II_of_England', 'Africa', 'Madagascar'],\n 'Malawi': ['Actor', 'Charles_II_of_England', 'Africa', 'Malawi'],\n 'Mali': ['Actor', 'Charles_II_of_England', 'Africa', 'Mali'],\n 'Maputo': ['Actor', 'Charles_II_of_England', 'Africa', 'Maputo'],\n 'Maseru': ['Actor', 'Charles_II_of_England', 'Africa', 'Maseru'],\n 'Mauritania': ['Actor', 'Charles_II_of_England', 'Africa', 'Mauritania'],\n 'Mauritius': ['Actor', 'Charles_II_of_England', 'Africa', 'Mauritius'],\n 'Mayotte': ['Actor', 'Charles_II_of_England', 'Africa', 'Mayotte'],\n 'Mbabane': ['Actor', 'Charles_II_of_England', 'Africa', 'Mbabane'],\n 'Military_dictatorship': ['Actor',\n  'Charles_II_of_England',\n  'Africa',\n  'Military_dictatorship'],\n 'Mitochondrial_Eve': ['Actor',\n  'Charles_II_of_England',\n  'Africa',\n  'Mitochondrial_Eve'],\n 'Mogadishu': ['Actor', 'Charles_II_of_England', 'Africa', 'Mogadishu'],\n 'Monrovia': ['Actor', 'Charles_II_of_England', 'Africa', 'Monrovia'],\n 'Mozambique': ['Actor', 'Charles_II_of_England', 'Africa', 'Mozambique'],\n 'Nairobi': ['Actor', 'Charles_II_of_England', 'Africa', 'Nairobi'],\n 'Namibia': ['Actor', 'Charles_II_of_England', 'Africa', 'Namibia'],\n 'Niger': ['Actor', 'Charles_II_of_England', 'Africa', 'Niger'],\n 'Nigeria': ['Actor', 'Charles_II_of_England', 'Africa', 'Nigeria'],\n 'Nile': ['Actor', 'Charles_II_of_England', 'Africa', 'Nile'],\n 'Nouakchott': ['Actor', 'Charles_II_of_England', 'Africa', 'Nouakchott'],\n 'Ouagadougou': ['Actor', 'Charles_II_of_England', 'Africa', 'Ouagadougou'],\n 'Palm_oil': ['Actor', 'Charles_II_of_England', 'Africa', 'Palm_oil'],\n 'Persian_Empire': ['Actor',\n  'Charles_II_of_England',\n  'Africa',\n  'Persian_Empire'],\n 'Port_Louis': ['Actor', 'Charles_II_of_England', 'Africa', 'Port_Louis'],\n 'Porto-Novo': ['Actor', 'Charles_II_of_England', 'Africa', 'Porto-Novo'],\n 'Poverty': ['Actor', 'Charles_II_of_England', 'Africa', 'Poverty'],\n 'Praia': ['Actor', 'Charles_II_of_England', 'Africa', 'Praia'],\n 'Pretoria': ['Actor', 'Charles_II_of_England', 'Africa', 'Pretoria'],\n 'Ptolemy': ['Actor', 'Charles_II_of_England', 'Africa', 'Ptolemy'],\n 'R%C3%A9union': ['Actor', 'Charles_II_of_England', 'Africa', 'R%C3%A9union'],\n 'Rabat': ['Actor', 'Charles_II_of_England', 'Africa', 'Rabat'],\n 'Rainforest': ['Actor', 'Charles_II_of_England', 'Africa', 'Rainforest'],\n 'Red_Sea': ['Actor', 'Charles_II_of_England', 'Africa', 'Red_Sea'],\n 'Reggae': ['Actor', 'Charles_II_of_England', 'Africa', 'Reggae'],\n 'Richard_Francis_Burton': ['Actor',\n  'Charles_II_of_England',\n  'Africa',\n  'Richard_Francis_Burton'],\n 'Royal_Navy': ['Actor', 'Charles_II_of_England', 'Africa', 'Royal_Navy'],\n 'Rwanda': ['Actor', 'Charles_II_of_England', 'Africa', 'Rwanda'],\n 'S%C3%A3o_Tom%C3%A9': ['Actor',\n  'Charles_II_of_England',\n  'Africa',\n  'S%C3%A3o_Tom%C3%A9'],\n 'S%C3%A3o_Tom%C3%A9_and_Pr%C3%ADncipe': ['Actor',\n  'Charles_II_of_England',\n  'Africa',\n  'S%C3%A3o_Tom%C3%A9_and_Pr%C3%ADncipe'],\n 'Saint_Helena': ['Actor', 'Charles_II_of_England', 'Africa', 'Saint_Helena'],\n 'Scramble_for_Africa': ['Actor',\n  'Charles_II_of_England',\n  'Africa',\n  'Scramble_for_Africa'],\n 'Second_Congo_War': ['Actor',\n  'Charles_II_of_England',\n  'Africa',\n  'Second_Congo_War'],\n 'Senegal': ['Actor', 'Charles_II_of_England', 'Africa', 'Senegal'],\n 'Seychelles': ['Actor', 'Charles_II_of_England', 'Africa', 'Seychelles'],\n 'Sierra_Leone': ['Actor', 'Charles_II_of_England', 'Africa', 'Sierra_Leone'],\n 'Somalia': ['Actor', 'Charles_II_of_England', 'Africa', 'Somalia'],\n 'Sorghum': ['Actor', 'Charles_II_of_England', 'Africa', 'Sorghum'],\n 'Soukous': ['Actor', 'Charles_II_of_England', 'Africa', 'Soukous'],\n 'South_Africa': ['Actor', 'Charles_II_of_England', 'Africa', 'South_Africa'],\n 'Southern_Africa': ['Actor',\n  'Charles_II_of_England',\n  'Africa',\n  'Southern_Africa'],\n 'Soviet_Union': ['Actor', 'Charles_II_of_England', 'Africa', 'Soviet_Union'],\n 'Sudan': ['Actor', 'Charles_II_of_England', 'Africa', 'Sudan'],\n 'Suez_Canal': ['Actor', 'Charles_II_of_England', 'Africa', 'Suez_Canal'],\n 'Swaziland': ['Actor', 'Charles_II_of_England', 'Africa', 'Swaziland'],\n 'The_Gambia': ['Actor', 'Charles_II_of_England', 'Africa', 'The_Gambia'],\n 'Timbuktu': ['Actor', 'Charles_II_of_England', 'Africa', 'Timbuktu'],\n 'Togo': ['Actor', 'Charles_II_of_England', 'Africa', 'Togo'],\n 'Tripoli': ['Actor', 'Charles_II_of_England', 'Africa', 'Tripoli'],\n 'Trumpet': ['Actor', 'Charles_II_of_England', 'Africa', 'Trumpet'],\n 'Tunis': ['Actor', 'Charles_II_of_England', 'Africa', 'Tunis'],\n 'Tutsi': ['Actor', 'Charles_II_of_England', 'Africa', 'Tutsi'],\n 'Uganda': ['Actor', 'Charles_II_of_England', 'Africa', 'Uganda'],\n 'United_States_Senate': ['Actor',\n  'Charles_II_of_England',\n  'Africa',\n  'United_States_Senate'],\n 'Victoria%2C_Seychelles': ['Actor',\n  'Charles_II_of_England',\n  'Africa',\n  'Victoria%2C_Seychelles'],\n 'Western_Sahara': ['Actor',\n  'Charles_II_of_England',\n  'Africa',\n  'Western_Sahara'],\n 'Yamoussoukro': ['Actor', 'Charles_II_of_England', 'Africa', 'Yamoussoukro'],\n 'Zambia': ['Actor', 'Charles_II_of_England', 'Africa', 'Zambia'],\n 'Zheng_He': ['Actor', 'Charles_II_of_England', 'Africa', 'Zheng_He'],\n 'Zimbabwe': ['Actor', 'Charles_II_of_England', 'Africa', 'Zimbabwe'],\n 'Zulu': ['Actor', 'Charles_II_of_England', 'Africa', 'Zulu'],\n '17th_century': ['Actor',\n  'Charles_II_of_England',\n  'Amsterdam',\n  '17th_century'],\n 'American_football': ['Actor',\n  'Charles_II_of_England',\n  'Amsterdam',\n  'American_football'],\n 'Anne_Frank': ['Actor', 'Charles_II_of_England', 'Amsterdam', 'Anne_Frank'],\n 'Antwerp': ['Actor', 'Charles_II_of_England', 'Amsterdam', 'Antwerp'],\n 'Baruch_Spinoza': ['Actor',\n  'Charles_II_of_England',\n  'Amsterdam',\n  'Baruch_Spinoza'],\n 'Baseball': ['Actor', 'Charles_II_of_England', 'Amsterdam', 'Baseball'],\n 'Basketball': ['Actor', 'Charles_II_of_England', 'Amsterdam', 'Basketball'],\n 'Berlin': ['Actor', 'Charles_II_of_England', 'Amsterdam', 'Berlin'],\n 'Brazil': ['Actor', 'Charles_II_of_England', 'Amsterdam', 'Brazil'],\n 'Canal': ['Actor', 'Charles_II_of_England', 'Amsterdam', 'Canal'],\n 'Ice_hockey': ['Actor', 'Charles_II_of_England', 'Amsterdam', 'Ice_hockey'],\n 'Madrid': ['Actor', 'Charles_II_of_England', 'Amsterdam', 'Madrid'],\n 'Napoleonic_Wars': ['Actor',\n  'Charles_II_of_England',\n  'Amsterdam',\n  'Napoleonic_Wars'],\n 'North_Sea': ['Actor', 'Charles_II_of_England', 'Amsterdam', 'North_Sea'],\n 'Philip_II_of_Spain': ['Actor',\n  'Charles_II_of_England',\n  'Amsterdam',\n  'Philip_II_of_Spain'],\n 'Rhine': ['Actor', 'Charles_II_of_England', 'Amsterdam', 'Rhine'],\n 'Rotterdam': ['Actor', 'Charles_II_of_England', 'Amsterdam', 'Rotterdam'],\n 'Train': ['Actor', 'Charles_II_of_England', 'Amsterdam', 'Train'],\n '1st_century': ['Actor',\n  'Charles_II_of_England',\n  'Anglicanism',\n  '1st_century'],\n '6th_century': ['Actor',\n  'Charles_II_of_England',\n  'Anglicanism',\n  '6th_century'],\n 'Aberdeen': ['Actor', 'Charles_II_of_England', 'Anglicanism', 'Aberdeen'],\n 'Anglican_Church_of_Australia': ['Actor',\n  'Charles_II_of_England',\n  'Anglicanism',\n  'Anglican_Church_of_Australia'],\n 'Apostolic_Succession': ['Actor',\n  'Charles_II_of_England',\n  'Anglicanism',\n  'Apostolic_Succession'],\n 'Archbishop_of_Canterbury': ['Actor',\n  'Charles_II_of_England',\n  'Anglicanism',\n  'Archbishop_of_Canterbury'],\n 'Bangladesh': ['Actor', 'Charles_II_of_England', 'Anglicanism', 'Bangladesh'],\n 'Book_of_Common_Prayer': ['Actor',\n  'Charles_II_of_England',\n  'Anglicanism',\n  'Book_of_Common_Prayer'],\n 'Columba': ['Actor', 'Charles_II_of_England', 'Anglicanism', 'Columba'],\n 'Desmond_Tutu': ['Actor',\n  'Charles_II_of_England',\n  'Anglicanism',\n  'Desmond_Tutu'],\n 'Eastern_Orthodox_Church': ['Actor',\n  'Charles_II_of_England',\n  'Anglicanism',\n  'Eastern_Orthodox_Church'],\n 'Edward_VI_of_England': ['Actor',\n  'Charles_II_of_England',\n  'Anglicanism',\n  'Edward_VI_of_England'],\n 'Elizabeth_I_of_England': ['Actor',\n  'Charles_II_of_England',\n  'Anglicanism',\n  'Elizabeth_I_of_England'],\n 'English_Reformation': ['Actor',\n  'Charles_II_of_England',\n  'Anglicanism',\n  'English_Reformation'],\n 'Episcopal_polity': ['Actor',\n  'Charles_II_of_England',\n  'Anglicanism',\n  'Episcopal_polity'],\n 'Ethics': ['Actor', 'Charles_II_of_England', 'Anglicanism', 'Ethics'],\n 'Henry_VIII_of_England': ['Actor',\n  'Charles_II_of_England',\n  'Anglicanism',\n  'Henry_VIII_of_England'],\n 'Jesus': ['Actor', 'Charles_II_of_England', 'Anglicanism', 'Jesus'],\n 'John_Calvin': ['Actor',\n  'Charles_II_of_England',\n  'Anglicanism',\n  'John_Calvin'],\n 'Martin_Luther': ['Actor',\n  'Charles_II_of_England',\n  'Anglicanism',\n  'Martin_Luther'],\n 'Mary_I_of_England': ['Actor',\n  'Charles_II_of_England',\n  'Anglicanism',\n  'Mary_I_of_England'],\n 'Michael_Ramsey': ['Actor',\n  'Charles_II_of_England',\n  'Anglicanism',\n  'Michael_Ramsey'],\n 'Ordination_of_women': ['Actor',\n  'Charles_II_of_England',\n  'Anglicanism',\n  'Ordination_of_women'],\n 'Papua_New_Guinea': ['Actor',\n  'Charles_II_of_England',\n  'Anglicanism',\n  'Papua_New_Guinea'],\n 'Philippines': ['Actor',\n  'Charles_II_of_England',\n  'Anglicanism',\n  'Philippines'],\n 'Pope_John_Paul_II': ['Actor',\n  'Charles_II_of_England',\n  'Anglicanism',\n  'Pope_John_Paul_II'],\n 'Roman_Britain': ['Actor',\n  'Charles_II_of_England',\n  'Anglicanism',\n  'Roman_Britain'],\n 'Rowan_Williams': ['Actor',\n  'Charles_II_of_England',\n  'Anglicanism',\n  'Rowan_Williams'],\n 'Scottish_Episcopal_Church': ['Actor',\n  'Charles_II_of_England',\n  'Anglicanism',\n  'Scottish_Episcopal_Church'],\n 'Solomon_Islands': ['Actor',\n  'Charles_II_of_England',\n  'Anglicanism',\n  'Solomon_Islands'],\n 'Thomas_Cranmer': ['Actor',\n  'Charles_II_of_England',\n  'Anglicanism',\n  'Thomas_Cranmer'],\n 'Vanuatu': ['Actor', 'Charles_II_of_England', 'Anglicanism', 'Vanuatu'],\n 'William_Wilberforce': ['Actor',\n  'Charles_II_of_England',\n  'Anglicanism',\n  'William_Wilberforce'],\n 'Acts_of_Union_1707': ['Actor',\n  'Charles_II_of_England',\n  'Anne_of_Great_Britain',\n  'Acts_of_Union_1707'],\n 'George_I_of_Great_Britain': ['Actor',\n  'Charles_II_of_England',\n  'Anne_of_Great_Britain',\n  'George_I_of_Great_Britain'],\n 'Gibraltar': ['Actor',\n  'Charles_II_of_England',\n  'Anne_of_Great_Britain',\n  'Gibraltar'],\n 'House_of_Lords': ['Actor',\n  'Charles_II_of_England',\n  'Anne_of_Great_Britain',\n  'House_of_Lords'],\n 'Jacobite_rising': ['Actor',\n  'Charles_II_of_England',\n  'Anne_of_Great_Britain',\n  'Jacobite_rising'],\n 'John_Vanbrugh': ['Actor',\n  'Charles_II_of_England',\n  'Anne_of_Great_Britain',\n  'John_Vanbrugh'],\n 'Mary_II_of_England': ['Actor',\n  'Charles_II_of_England',\n  'Anne_of_Great_Britain',\n  'Mary_II_of_England'],\n 'Order_of_the_Garter': ['Actor',\n  'Charles_II_of_England',\n  'Anne_of_Great_Britain',\n  'Order_of_the_Garter'],\n 'Prime_Minister_of_the_United_Kingdom': ['Actor',\n  'Charles_II_of_England',\n  'Anne_of_Great_Britain',\n  'Prime_Minister_of_the_United_Kingdom'],\n 'Smallpox': ['Actor',\n  'Charles_II_of_England',\n  'Anne_of_Great_Britain',\n  'Smallpox'],\n 'War_of_the_Spanish_Succession': ['Actor',\n  'Charles_II_of_England',\n  'Anne_of_Great_Britain',\n  'War_of_the_Spanish_Succession'],\n 'William_III_of_England': ['Actor',\n  'Charles_II_of_England',\n  'Anne_of_Great_Britain',\n  'William_III_of_England'],\n 'AT%26T': ['Actor', 'Charles_II_of_England', 'BBC', 'AT%26T'],\n 'Belfast': ['Actor', 'Charles_II_of_England', 'BBC', 'Belfast'],\n 'Birmingham': ['Actor', 'Charles_II_of_England', 'BBC', 'Birmingham'],\n 'Bristol': ['Actor', 'Charles_II_of_England', 'BBC', 'Bristol'],\n 'Cardiff': ['Actor', 'Charles_II_of_England', 'BBC', 'Cardiff'],\n 'Channel_Islands': ['Actor',\n  'Charles_II_of_England',\n  'BBC',\n  'Channel_Islands'],\n 'Doctor_Who': ['Actor', 'Charles_II_of_England', 'BBC', 'Doctor_Who'],\n 'EastEnders': ['Actor', 'Charles_II_of_England', 'BBC', 'EastEnders'],\n 'Football_%28soccer%29': ['Actor',\n  'Charles_II_of_England',\n  'BBC',\n  'Football_%28soccer%29'],\n 'Glasgow': ['Actor', 'Charles_II_of_England', 'BBC', 'Glasgow'],\n 'Manchester': ['Actor', 'Charles_II_of_England', 'BBC', 'Manchester'],\n 'Multiculturalism': ['Actor',\n  'Charles_II_of_England',\n  'BBC',\n  'Multiculturalism'],\n 'Newcastle_upon_Tyne': ['Actor',\n  'Charles_II_of_England',\n  'BBC',\n  'Newcastle_upon_Tyne'],\n 'Podcasting': ['Actor', 'Charles_II_of_England', 'BBC', 'Podcasting'],\n 'Rugby_football': ['Actor', 'Charles_II_of_England', 'BBC', 'Rugby_football'],\n 'Scottish_Gaelic_language': ['Actor',\n  'Charles_II_of_England',\n  'BBC',\n  'Scottish_Gaelic_language'],\n 'September_11%2C_2001_attacks': ['Actor',\n  'Charles_II_of_England',\n  'BBC',\n  'September_11%2C_2001_attacks'],\n 'Southampton': ['Actor', 'Charles_II_of_England', 'BBC', 'Southampton'],\n 'United_States_dollar': ['Actor',\n  'Charles_II_of_England',\n  'BBC',\n  'United_States_dollar'],\n 'Bay_of_Bengal': ['Actor',\n  'Charles_II_of_England',\n  'British_East_India_Company',\n  'Bay_of_Bengal'],\n 'Chennai': ['Actor',\n  'Charles_II_of_England',\n  'British_East_India_Company',\n  'Chennai'],\n 'Edmund_Burke': ['Actor',\n  'Charles_II_of_England',\n  'British_East_India_Company',\n  'Edmund_Burke'],\n 'Goa': ['Actor',\n  'Charles_II_of_England',\n  'British_East_India_Company',\n  'Goa'],\n 'Guangzhou': ['Actor',\n  'Charles_II_of_England',\n  'British_East_India_Company',\n  'Guangzhou'],\n 'Manila': ['Actor',\n  'Charles_II_of_England',\n  'British_East_India_Company',\n  'Manila'],\n 'Myanmar': ['Actor',\n  'Charles_II_of_England',\n  'British_East_India_Company',\n  'Myanmar'],\n 'Potassium_nitrate': ['Actor',\n  'Charles_II_of_England',\n  'British_East_India_Company',\n  'Potassium_nitrate'],\n 'Privy_Council_of_the_United_Kingdom': ['Actor',\n  'Charles_II_of_England',\n  'British_East_India_Company',\n  'Privy_Council_of_the_United_Kingdom'],\n 'Saint_Petersburg': ['Actor',\n  'Charles_II_of_England',\n  'British_East_India_Company',\n  'Saint_Petersburg'],\n 'Silver': ['Actor',\n  'Charles_II_of_England',\n  'British_East_India_Company',\n  'Silver'],\n 'Singapore': ['Actor',\n  'Charles_II_of_England',\n  'British_East_India_Company',\n  'Singapore'],\n 'Tea': ['Actor',\n  'Charles_II_of_England',\n  'British_East_India_Company',\n  'Tea'],\n 'Union_Flag': ['Actor',\n  'Charles_II_of_England',\n  'British_East_India_Company',\n  'Union_Flag'],\n '10th_century': ['Actor',\n  'Charles_II_of_England',\n  'British_monarchy',\n  '10th_century'],\n 'Alfred_the_Great': ['Actor',\n  'Charles_II_of_England',\n  'British_monarchy',\n  'Alfred_the_Great'],\n 'Banknote': ['Actor',\n  'Charles_II_of_England',\n  'British_monarchy',\n  'Banknote'],\n 'British_House_of_Commons': ['Actor',\n  'Charles_II_of_England',\n  'British_monarchy',\n  'British_House_of_Commons'],\n 'Buckingham_Palace': ['Actor',\n  'Charles_II_of_England',\n  'British_monarchy',\n  'Buckingham_Palace'],\n 'Coin': ['Actor', 'Charles_II_of_England', 'British_monarchy', 'Coin'],\n 'Crusades': ['Actor',\n  'Charles_II_of_England',\n  'British_monarchy',\n  'Crusades'],\n 'D%C3%A1l_Riata': ['Actor',\n  'Charles_II_of_England',\n  'British_monarchy',\n  'D%C3%A1l_Riata'],\n 'Dolphin': ['Actor', 'Charles_II_of_England', 'British_monarchy', 'Dolphin'],\n 'Edward_II_of_England': ['Actor',\n  'Charles_II_of_England',\n  'British_monarchy',\n  'Edward_II_of_England'],\n 'Edward_IV_of_England': ['Actor',\n  'Charles_II_of_England',\n  'British_monarchy',\n  'Edward_IV_of_England'],\n 'Edward_I_of_England': ['Actor',\n  'Charles_II_of_England',\n  'British_monarchy',\n  'Edward_I_of_England'],\n 'Edward_VIII_of_the_United_Kingdom': ['Actor',\n  'Charles_II_of_England',\n  'British_monarchy',\n  'Edward_VIII_of_the_United_Kingdom'],\n 'Edward_VII_of_the_United_Kingdom': ['Actor',\n  'Charles_II_of_England',\n  'British_monarchy',\n  'Edward_VII_of_the_United_Kingdom'],\n 'Edward_V_of_England': ['Actor',\n  'Charles_II_of_England',\n  'British_monarchy',\n  'Edward_V_of_England'],\n 'Elizabeth_II_of_the_United_Kingdom': ['Actor',\n  'Charles_II_of_England',\n  'British_monarchy',\n  'Elizabeth_II_of_the_United_Kingdom'],\n 'George_III_of_the_United_Kingdom': ['Actor',\n  'Charles_II_of_England',\n  'British_monarchy',\n  'George_III_of_the_United_Kingdom'],\n 'George_II_of_Great_Britain': ['Actor',\n  'Charles_II_of_England',\n  'British_monarchy',\n  'George_II_of_Great_Britain'],\n 'George_IV_of_the_United_Kingdom': ['Actor',\n  'Charles_II_of_England',\n  'British_monarchy',\n  'George_IV_of_the_United_Kingdom'],\n 'George_VI_of_the_United_Kingdom': ['Actor',\n  'Charles_II_of_England',\n  'British_monarchy',\n  'George_VI_of_the_United_Kingdom'],\n 'George_V_of_the_United_Kingdom': ['Actor',\n  'Charles_II_of_England',\n  'British_monarchy',\n  'George_V_of_the_United_Kingdom'],\n 'Harold_Wilson': ['Actor',\n  'Charles_II_of_England',\n  'British_monarchy',\n  'Harold_Wilson'],\n 'Henry_III_of_England': ['Actor',\n  'Charles_II_of_England',\n  'British_monarchy',\n  'Henry_III_of_England'],\n 'Henry_II_of_England': ['Actor',\n  'Charles_II_of_England',\n  'British_monarchy',\n  'Henry_II_of_England'],\n 'Henry_IV_of_England': ['Actor',\n  'Charles_II_of_England',\n  'British_monarchy',\n  'Henry_IV_of_England'],\n 'Henry_I_of_England': ['Actor',\n  'Charles_II_of_England',\n  'British_monarchy',\n  'Henry_I_of_England'],\n 'Henry_VII_of_England': ['Actor',\n  'Charles_II_of_England',\n  'British_monarchy',\n  'Henry_VII_of_England'],\n 'Henry_VI_of_England': ['Actor',\n  'Charles_II_of_England',\n  'British_monarchy',\n  'Henry_VI_of_England'],\n 'Henry_V_of_England': ['Actor',\n  'Charles_II_of_England',\n  'British_monarchy',\n  'Henry_V_of_England'],\n 'History_of_Anglo-Saxon_England': ['Actor',\n  'Charles_II_of_England',\n  'British_monarchy',\n  'History_of_Anglo-Saxon_England'],\n 'John_of_England': ['Actor',\n  'Charles_II_of_England',\n  'British_monarchy',\n  'John_of_England'],\n 'Laws_in_Wales_Acts_1535%E2%80%931542': ['Actor',\n  'Charles_II_of_England',\n  'British_monarchy',\n  'Laws_in_Wales_Acts_1535%E2%80%931542'],\n 'Macbeth_of_Scotland': ['Actor',\n  'Charles_II_of_England',\n  'British_monarchy',\n  'Macbeth_of_Scotland'],\n 'Magna_Carta': ['Actor',\n  'Charles_II_of_England',\n  'British_monarchy',\n  'Magna_Carta'],\n 'Malcolm_III_of_Scotland': ['Actor',\n  'Charles_II_of_England',\n  'British_monarchy',\n  'Malcolm_III_of_Scotland'],\n 'Malcolm_II_of_Scotland': ['Actor',\n  'Charles_II_of_England',\n  'British_monarchy',\n  'Malcolm_II_of_Scotland'],\n 'Mercia': ['Actor', 'Charles_II_of_England', 'British_monarchy', 'Mercia'],\n 'Norfolk': ['Actor', 'Charles_II_of_England', 'British_monarchy', 'Norfolk'],\n 'Northern_Ireland': ['Actor',\n  'Charles_II_of_England',\n  'British_monarchy',\n  'Northern_Ireland'],\n 'Order_of_the_Thistle': ['Actor',\n  'Charles_II_of_England',\n  'British_monarchy',\n  'Order_of_the_Thistle'],\n 'Palace_of_Westminster': ['Actor',\n  'Charles_II_of_England',\n  'British_monarchy',\n  'Palace_of_Westminster'],\n 'Picts': ['Actor', 'Charles_II_of_England', 'British_monarchy', 'Picts'],\n 'Postage_stamp': ['Actor',\n  'Charles_II_of_England',\n  'British_monarchy',\n  'Postage_stamp'],\n 'Richard_II_of_England': ['Actor',\n  'Charles_II_of_England',\n  'British_monarchy',\n  'Richard_II_of_England'],\n 'Richard_I_of_England': ['Actor',\n  'Charles_II_of_England',\n  'British_monarchy',\n  'Richard_I_of_England'],\n 'Robert_Peel': ['Actor',\n  'Charles_II_of_England',\n  'British_monarchy',\n  'Robert_Peel'],\n 'Royal_Air_Force': ['Actor',\n  'Charles_II_of_England',\n  'British_monarchy',\n  'Royal_Air_Force'],\n 'Sandringham_House': ['Actor',\n  'Charles_II_of_England',\n  'British_monarchy',\n  'Sandringham_House'],\n 'Spanish_Armada': ['Actor',\n  'Charles_II_of_England',\n  'British_monarchy',\n  'Spanish_Armada'],\n 'Speaker_of_the_British_House_of_Commons': ['Actor',\n  'Charles_II_of_England',\n  'British_monarchy',\n  'Speaker_of_the_British_House_of_Commons'],\n 'Stephen_of_England': ['Actor',\n  'Charles_II_of_England',\n  'British_monarchy',\n  'Stephen_of_England'],\n 'The_Anarchy': ['Actor',\n  'Charles_II_of_England',\n  'British_monarchy',\n  'The_Anarchy'],\n 'Victoria_of_the_United_Kingdom': ['Actor',\n  'Charles_II_of_England',\n  'British_monarchy',\n  'Victoria_of_the_United_Kingdom'],\n 'Wales': ['Actor', 'Charles_II_of_England', 'British_monarchy', 'Wales'],\n 'Wessex': ['Actor', 'Charles_II_of_England', 'British_monarchy', 'Wessex'],\n 'Whale': ['Actor', 'Charles_II_of_England', 'British_monarchy', 'Whale'],\n 'William_II_of_England': ['Actor',\n  'Charles_II_of_England',\n  'British_monarchy',\n  'William_II_of_England'],\n 'William_IV_of_the_United_Kingdom': ['Actor',\n  'Charles_II_of_England',\n  'British_monarchy',\n  'William_IV_of_the_United_Kingdom'],\n 'Windsor_Castle': ['Actor',\n  'Charles_II_of_England',\n  'British_monarchy',\n  'Windsor_Castle'],\n 'Anthony_van_Dyck': ['Actor',\n  'Charles_II_of_England',\n  'Charles_I_of_England',\n  'Anthony_van_Dyck'],\n 'Canada': ['Actor',\n  'Charles_II_of_England',\n  'Charles_I_of_England',\n  'Canada'],\n 'Canterbury': ['Actor',\n  'Charles_II_of_England',\n  'Charles_I_of_England',\n  'Canterbury'],\n 'Isle_of_Wight': ['Actor',\n  'Charles_II_of_England',\n  'Charles_I_of_England',\n  'Isle_of_Wight'],\n 'John_Milton': ['Actor',\n  'Charles_II_of_England',\n  'Charles_I_of_England',\n  'John_Milton'],\n 'Monty_Python': ['Actor',\n  'Charles_II_of_England',\n  'Charles_I_of_England',\n  'Monty_Python'],\n 'Nottingham': ['Actor',\n  'Charles_II_of_England',\n  'Charles_I_of_England',\n  'Nottingham'],\n 'Paul_of_Tarsus': ['Actor',\n  'Charles_II_of_England',\n  'Charles_I_of_England',\n  'Paul_of_Tarsus'],\n 'Archimedes': ['Actor',\n  'Charles_II_of_England',\n  'Christopher_Wren',\n  'Archimedes'],\n 'Astronomy': ['Actor',\n  'Charles_II_of_England',\n  'Christopher_Wren',\n  'Astronomy'],\n 'Blaise_Pascal': ['Actor',\n  'Charles_II_of_England',\n  'Christopher_Wren',\n  'Blaise_Pascal'],\n 'John_Dee': ['Actor',\n  'Charles_II_of_England',\n  'Christopher_Wren',\n  'John_Dee'],\n 'Magnetism': ['Actor',\n  'Charles_II_of_England',\n  'Christopher_Wren',\n  'Magnetism'],\n 'Mathematics': ['Actor',\n  'Charles_II_of_England',\n  'Christopher_Wren',\n  'Mathematics'],\n 'Meteorology': ['Actor',\n  'Charles_II_of_England',\n  'Christopher_Wren',\n  'Meteorology'],\n 'Microscope': ['Actor',\n  'Charles_II_of_England',\n  'Christopher_Wren',\n  'Microscope'],\n 'Physics': ['Actor', 'Charles_II_of_England', 'Christopher_Wren', 'Physics'],\n 'Saturn': ['Actor', 'Charles_II_of_England', 'Christopher_Wren', 'Saturn'],\n 'St_Paul%27s_Cathedral': ['Actor',\n  'Charles_II_of_England',\n  'Christopher_Wren',\n  'St_Paul%27s_Cathedral'],\n 'Telescope': ['Actor',\n  'Charles_II_of_England',\n  'Christopher_Wren',\n  'Telescope'],\n 'Trinity_College%2C_Cambridge': ['Actor',\n  'Charles_II_of_England',\n  'Christopher_Wren',\n  'Trinity_College%2C_Cambridge'],\n 'Tuberculosis': ['Actor',\n  'Charles_II_of_England',\n  'Christopher_Wren',\n  'Tuberculosis'],\n 'Washington%2C_D.C.': ['Actor',\n  'Charles_II_of_England',\n  'Christopher_Wren',\n  'Washington%2C_D.C.'],\n 'Canterbury_Cathedral': ['Actor',\n  'Charles_II_of_England',\n  'Church_of_England',\n  'Canterbury_Cathedral'],\n 'Charles_V%2C_Holy_Roman_Emperor': ['Actor',\n  'Charles_II_of_England',\n  'Church_of_England',\n  'Charles_V%2C_Holy_Roman_Emperor'],\n 'Isle_of_Man': ['Actor',\n  'Charles_II_of_England',\n  'Church_of_England',\n  'Isle_of_Man'],\n 'Abbey_Theatre': ['Actor',\n  'Charles_II_of_England',\n  'Church_of_Ireland',\n  'Abbey_Theatre'],\n 'Bah%C3%A1%27%C3%AD_Faith': ['Actor',\n  'Charles_II_of_England',\n  'Church_of_Ireland',\n  'Bah%C3%A1%27%C3%AD_Faith'],\n 'Dublin': ['Actor', 'Charles_II_of_England', 'Church_of_Ireland', 'Dublin'],\n 'Limerick': ['Actor',\n  'Charles_II_of_England',\n  'Church_of_Ireland',\n  'Limerick'],\n 'Samuel_Beckett': ['Actor',\n  'Charles_II_of_England',\n  'Church_of_Ireland',\n  'Samuel_Beckett'],\n 'Tony_Blair': ['Actor',\n  'Charles_II_of_England',\n  'Church_of_Ireland',\n  'Tony_Blair'],\n 'U2': ['Actor', 'Charles_II_of_England', 'Church_of_Ireland', 'U2'],\n 'William_Butler_Yeats': ['Actor',\n  'Charles_II_of_England',\n  'Church_of_Ireland',\n  'William_Butler_Yeats'],\n 'Asteroid': ['Actor', 'Charles_II_of_England', 'Comet', 'Asteroid'],\n 'Comet_Hale-Bopp': ['Actor',\n  'Charles_II_of_England',\n  'Comet',\n  'Comet_Hale-Bopp'],\n 'Comet_Halley': ['Actor', 'Charles_II_of_England', 'Comet', 'Comet_Halley'],\n 'Comet_Hyakutake': ['Actor',\n  'Charles_II_of_England',\n  'Comet',\n  'Comet_Hyakutake'],\n 'Comet_Shoemaker-Levy_9': ['Actor',\n  'Charles_II_of_England',\n  'Comet',\n  'Comet_Shoemaker-Levy_9'],\n 'Earth%27s_atmosphere': ['Actor',\n  'Charles_II_of_England',\n  'Comet',\n  'Earth%27s_atmosphere'],\n 'Edmond_Halley': ['Actor', 'Charles_II_of_England', 'Comet', 'Edmond_Halley'],\n 'Galaxy': ['Actor', 'Charles_II_of_England', 'Comet', 'Galaxy'],\n 'Galileo_Galilei': ['Actor',\n  'Charles_II_of_England',\n  'Comet',\n  'Galileo_Galilei'],\n 'Gas': ['Actor', 'Charles_II_of_England', 'Comet', 'Gas'],\n 'Gravitation': ['Actor', 'Charles_II_of_England', 'Comet', 'Gravitation'],\n 'Immanuel_Kant': ['Actor', 'Charles_II_of_England', 'Comet', 'Immanuel_Kant'],\n 'Johannes_Kepler': ['Actor',\n  'Charles_II_of_England',\n  'Comet',\n  'Johannes_Kepler'],\n 'Kuiper_belt': ['Actor', 'Charles_II_of_England', 'Comet', 'Kuiper_belt'],\n 'Mercury_%28planet%29': ['Actor',\n  'Charles_II_of_England',\n  'Comet',\n  'Mercury_%28planet%29'],\n 'Meteor': ['Actor', 'Charles_II_of_England', 'Comet', 'Meteor'],\n 'Milky_Way': ['Actor', 'Charles_II_of_England', 'Comet', 'Milky_Way'],\n 'Petroleum': ['Actor', 'Charles_II_of_England', 'Comet', 'Petroleum'],\n 'Phase_%28matter%29': ['Actor',\n  'Charles_II_of_England',\n  'Comet',\n  'Phase_%28matter%29'],\n 'Philosophiae_Naturalis_Principia_Mathematica': ['Actor',\n  'Charles_II_of_England',\n  'Comet',\n  'Philosophiae_Naturalis_Principia_Mathematica'],\n 'Planet': ['Actor', 'Charles_II_of_England', 'Comet', 'Planet'],\n 'Star': ['Actor', 'Charles_II_of_England', 'Comet', 'Star'],\n 'Sun': ['Actor', 'Charles_II_of_England', 'Comet', 'Sun'],\n 'Tycho_Brahe': ['Actor', 'Charles_II_of_England', 'Comet', 'Tycho_Brahe'],\n 'Water': ['Actor', 'Charles_II_of_England', 'Comet', 'Water'],\n 'Wind': ['Actor', 'Charles_II_of_England', 'Comet', 'Wind'],\n 'American_Civil_War': ['Actor',\n  'Charles_II_of_England',\n  'Cotton',\n  'American_Civil_War'],\n 'Ecology': ['Actor', 'Charles_II_of_England', 'Cotton', 'Ecology'],\n 'Feather': ['Actor', 'Charles_II_of_England', 'Cotton', 'Feather'],\n 'Gossypium': ['Actor', 'Charles_II_of_England', 'Cotton', 'Gossypium'],\n 'Mahatma_Gandhi': ['Actor',\n  'Charles_II_of_England',\n  'Cotton',\n  'Mahatma_Gandhi'],\n 'Mesopotamia': ['Actor', 'Charles_II_of_England', 'Cotton', 'Mesopotamia'],\n 'Mexico': ['Actor', 'Charles_II_of_England', 'Cotton', 'Mexico'],\n 'Plant': ['Actor', 'Charles_II_of_England', 'Cotton', 'Plant'],\n 'Shanghai': ['Actor', 'Charles_II_of_England', 'Cotton', 'Shanghai'],\n 'Battle_of_Hastings': ['Actor',\n  'Charles_II_of_England',\n  'Dover',\n  'Battle_of_Hastings'],\n 'Boat': ['Actor', 'Charles_II_of_England', 'Dover', 'Boat'],\n 'Bronze_Age': ['Actor', 'Charles_II_of_England', 'Dover', 'Bronze_Age'],\n 'Domesday_Book': ['Actor', 'Charles_II_of_England', 'Dover', 'Domesday_Book'],\n 'English_Channel': ['Actor',\n  'Charles_II_of_England',\n  'Dover',\n  'English_Channel'],\n 'European_Parliament': ['Actor',\n  'Charles_II_of_England',\n  'Dover',\n  'European_Parliament'],\n 'List_of_sovereign_states': ['Actor',\n  'Charles_II_of_England',\n  'Dover',\n  'List_of_sovereign_states'],\n 'Rail_transport': ['Actor',\n  'Charles_II_of_England',\n  'Dover',\n  'Rail_transport'],\n 'Watling_Street': ['Actor',\n  'Charles_II_of_England',\n  'Dover',\n  'Watling_Street'],\n 'White_cliffs_of_Dover': ['Actor',\n  'Charles_II_of_England',\n  'Dover',\n  'White_cliffs_of_Dover'],\n 'Adam_Smith': ['Actor', 'Charles_II_of_England', 'Edinburgh', 'Adam_Smith'],\n 'Age_of_Enlightenment': ['Actor',\n  'Charles_II_of_England',\n  'Edinburgh',\n  'Age_of_Enlightenment'],\n 'Alexander_Graham_Bell': ['Actor',\n  'Charles_II_of_England',\n  'Edinburgh',\n  'Alexander_Graham_Bell'],\n 'Bog': ['Actor', 'Charles_II_of_England', 'Edinburgh', 'Bog'],\n 'City_status_in_the_United_Kingdom': ['Actor',\n  'Charles_II_of_England',\n  'Edinburgh',\n  'City_status_in_the_United_Kingdom'],\n 'Coal': ['Actor', 'Charles_II_of_England', 'Edinburgh', 'Coal'],\n 'Cricket': ['Actor', 'Charles_II_of_England', 'Edinburgh', 'Cricket'],\n 'David_Hume': ['Actor', 'Charles_II_of_England', 'Edinburgh', 'David_Hume'],\n 'Edwin_of_Northumbria': ['Actor',\n  'Charles_II_of_England',\n  'Edinburgh',\n  'Edwin_of_Northumbria'],\n 'Engineering': ['Actor', 'Charles_II_of_England', 'Edinburgh', 'Engineering'],\n 'Geology': ['Actor', 'Charles_II_of_England', 'Edinburgh', 'Geology'],\n 'Harry_Potter': ['Actor',\n  'Charles_II_of_England',\n  'Edinburgh',\n  'Harry_Potter'],\n 'J._K._Rowling': ['Actor',\n  'Charles_II_of_England',\n  'Edinburgh',\n  'J._K._Rowling'],\n 'James_Clerk_Maxwell': ['Actor',\n  'Charles_II_of_England',\n  'Edinburgh',\n  'James_Clerk_Maxwell'],\n 'Kiev': ['Actor', 'Charles_II_of_England', 'Edinburgh', 'Kiev'],\n 'Loch': ['Actor', 'Charles_II_of_England', 'Edinburgh', 'Loch'],\n 'Mammal': ['Actor', 'Charles_II_of_England', 'Edinburgh', 'Mammal'],\n 'Moscow': ['Actor', 'Charles_II_of_England', 'Edinburgh', 'Moscow'],\n 'Mosque': ['Actor', 'Charles_II_of_England', 'Edinburgh', 'Mosque'],\n 'Munich': ['Actor', 'Charles_II_of_England', 'Edinburgh', 'Munich'],\n 'Neoclassicism': ['Actor',\n  'Charles_II_of_England',\n  'Edinburgh',\n  'Neoclassicism'],\n 'Princeton_University': ['Actor',\n  'Charles_II_of_England',\n  'Edinburgh',\n  'Princeton_University'],\n 'Publishing': ['Actor', 'Charles_II_of_England', 'Edinburgh', 'Publishing'],\n 'Scots_language': ['Actor',\n  'Charles_II_of_England',\n  'Edinburgh',\n  'Scots_language'],\n 'Sean_Connery': ['Actor',\n  'Charles_II_of_England',\n  'Edinburgh',\n  'Sean_Connery'],\n 'Vancouver': ['Actor', 'Charles_II_of_England', 'Edinburgh', 'Vancouver'],\n 'Walter_Scott': ['Actor',\n  'Charles_II_of_England',\n  'Edinburgh',\n  'Walter_Scott'],\n 'World_Heritage_Site': ['Actor',\n  'Charles_II_of_England',\n  'Edinburgh',\n  'World_Heritage_Site'],\n 'English_peasants%27_revolt_of_1381': ['Actor',\n  'Charles_II_of_England',\n  'Edward_III_of_England',\n  'English_peasants%27_revolt_of_1381'],\n 'King_Arthur': ['Actor',\n  'Charles_II_of_England',\n  'Edward_III_of_England',\n  'King_Arthur'],\n 'Norman_conquest_of_England': ['Actor',\n  'Charles_II_of_England',\n  'Edward_III_of_England',\n  'Norman_conquest_of_England'],\n 'Supply_and_demand': ['Actor',\n  'Charles_II_of_England',\n  'Edward_III_of_England',\n  'Supply_and_demand'],\n 'University_of_Cambridge': ['Actor',\n  'Charles_II_of_England',\n  'Edward_III_of_England',\n  'University_of_Cambridge'],\n 'Badminton': ['Actor', 'Charles_II_of_England', 'England', 'Badminton'],\n 'Bede': ['Actor', 'Charles_II_of_England', 'England', 'Bede'],\n 'Bridge': ['Actor', 'Charles_II_of_England', 'England', 'Bridge'],\n 'Brighton': ['Actor', 'Charles_II_of_England', 'England', 'Brighton'],\n 'British_Isles': ['Actor',\n  'Charles_II_of_England',\n  'England',\n  'British_Isles'],\n 'Canute_the_Great': ['Actor',\n  'Charles_II_of_England',\n  'England',\n  'Canute_the_Great'],\n 'Charles_Darwin': ['Actor',\n  'Charles_II_of_England',\n  'England',\n  'Charles_Darwin'],\n 'Charles_Dickens': ['Actor',\n  'Charles_II_of_England',\n  'England',\n  'Charles_Dickens'],\n 'City': ['Actor', 'Charles_II_of_England', 'England', 'City'],\n 'Commonwealth_Games': ['Actor',\n  'Charles_II_of_England',\n  'England',\n  'Commonwealth_Games'],\n 'Coventry': ['Actor', 'Charles_II_of_England', 'England', 'Coventry'],\n 'Drum_and_bass': ['Actor',\n  'Charles_II_of_England',\n  'England',\n  'Drum_and_bass'],\n 'Edward_the_Confessor': ['Actor',\n  'Charles_II_of_England',\n  'England',\n  'Edward_the_Confessor'],\n 'FIFA': ['Actor', 'Charles_II_of_England', 'England', 'FIFA'],\n 'FIFA_World_Cup': ['Actor',\n  'Charles_II_of_England',\n  'England',\n  'FIFA_World_Cup'],\n 'Finance': ['Actor', 'Charles_II_of_England', 'England', 'Finance'],\n 'Football': ['Actor', 'Charles_II_of_England', 'England', 'Football'],\n 'Francis_Bacon': ['Actor',\n  'Charles_II_of_England',\n  'England',\n  'Francis_Bacon'],\n 'Genoa': ['Actor', 'Charles_II_of_England', 'England', 'Genoa'],\n 'George_Eliot': ['Actor', 'Charles_II_of_England', 'England', 'George_Eliot'],\n 'Gustav_Holst': ['Actor', 'Charles_II_of_England', 'England', 'Gustav_Holst'],\n 'Hebrew_language': ['Actor',\n  'Charles_II_of_England',\n  'England',\n  'Hebrew_language'],\n 'Hinduism': ['Actor', 'Charles_II_of_England', 'England', 'Hinduism'],\n 'Indonesian_language': ['Actor',\n  'Charles_II_of_England',\n  'England',\n  'Indonesian_language'],\n 'Irish_Sea': ['Actor', 'Charles_II_of_England', 'England', 'Irish_Sea'],\n 'Iron_Maiden': ['Actor', 'Charles_II_of_England', 'England', 'Iron_Maiden'],\n 'Isambard_Kingdom_Brunel': ['Actor',\n  'Charles_II_of_England',\n  'England',\n  'Isambard_Kingdom_Brunel'],\n 'Jane_Austen': ['Actor', 'Charles_II_of_England', 'England', 'Jane_Austen'],\n 'Jet_engine': ['Actor', 'Charles_II_of_England', 'England', 'Jet_engine'],\n 'John_Constable': ['Actor',\n  'Charles_II_of_England',\n  'England',\n  'John_Constable'],\n 'John_Locke': ['Actor', 'Charles_II_of_England', 'England', 'John_Locke'],\n 'L._S._Lowry': ['Actor', 'Charles_II_of_England', 'England', 'L._S._Lowry'],\n 'Lake_District': ['Actor',\n  'Charles_II_of_England',\n  'England',\n  'Lake_District'],\n 'Leeds': ['Actor', 'Charles_II_of_England', 'England', 'Leeds'],\n 'Leicester': ['Actor', 'Charles_II_of_England', 'England', 'Leicester'],\n 'Liverpool': ['Actor', 'Charles_II_of_England', 'England', 'Liverpool'],\n 'London_Underground': ['Actor',\n  'Charles_II_of_England',\n  'England',\n  'London_Underground'],\n 'National_parks_of_England_and_Wales': ['Actor',\n  'Charles_II_of_England',\n  'England',\n  'National_parks_of_England_and_Wales'],\n 'Oasis_%28band%29': ['Actor',\n  'Charles_II_of_England',\n  'England',\n  'Oasis_%28band%29'],\n 'Old_English_language': ['Actor',\n  'Charles_II_of_England',\n  'England',\n  'Old_English_language'],\n 'Oslo': ['Actor', 'Charles_II_of_England', 'England', 'Oslo'],\n 'Portsmouth': ['Actor', 'Charles_II_of_England', 'England', 'Portsmouth'],\n 'Queen_%28band%29': ['Actor',\n  'Charles_II_of_England',\n  'England',\n  'Queen_%28band%29'],\n 'Rain': ['Actor', 'Charles_II_of_England', 'England', 'Rain'],\n 'Religious_Society_of_Friends': ['Actor',\n  'Charles_II_of_England',\n  'England',\n  'Religious_Society_of_Friends'],\n 'River_Severn': ['Actor', 'Charles_II_of_England', 'England', 'River_Severn'],\n 'Rudyard_Kipling': ['Actor',\n  'Charles_II_of_England',\n  'England',\n  'Rudyard_Kipling'],\n 'Scurvy': ['Actor', 'Charles_II_of_England', 'England', 'Scurvy'],\n 'Season': ['Actor', 'Charles_II_of_England', 'England', 'Season'],\n 'Sheffield': ['Actor', 'Charles_II_of_England', 'England', 'Sheffield'],\n 'Sikhism': ['Actor', 'Charles_II_of_England', 'England', 'Sikhism'],\n 'Snow': ['Actor', 'Charles_II_of_England', 'England', 'Snow'],\n 'Socialism': ['Actor', 'Charles_II_of_England', 'England', 'Socialism'],\n 'Stephen_Hawking': ['Actor',\n  'Charles_II_of_England',\n  'England',\n  'Stephen_Hawking'],\n 'Stonehenge': ['Actor', 'Charles_II_of_England', 'England', 'Stonehenge'],\n 'Sutton_Hoo': ['Actor', 'Charles_II_of_England', 'England', 'Sutton_Hoo'],\n 'Tamil_language': ['Actor',\n  'Charles_II_of_England',\n  'England',\n  'Tamil_language'],\n 'Tennis': ['Actor', 'Charles_II_of_England', 'England', 'Tennis'],\n 'The_Beatles': ['Actor', 'Charles_II_of_England', 'England', 'The_Beatles'],\n 'The_Fens': ['Actor', 'Charles_II_of_England', 'England', 'The_Fens'],\n 'The_Rolling_Stones': ['Actor',\n  'Charles_II_of_England',\n  'England',\n  'The_Rolling_Stones'],\n 'Thomas_Hobbes': ['Actor',\n  'Charles_II_of_England',\n  'England',\n  'Thomas_Hobbes'],\n 'Tim_Berners-Lee': ['Actor',\n  'Charles_II_of_England',\n  'England',\n  'Tim_Berners-Lee'],\n 'William_Hogarth': ['Actor',\n  'Charles_II_of_England',\n  'England',\n  'William_Hogarth'],\n 'Winston_Churchill': ['Actor',\n  'Charles_II_of_England',\n  'England',\n  'Winston_Churchill'],\n 'Winter': ['Actor', 'Charles_II_of_England', 'England', 'Winter'],\n 'York': ['Actor', 'Charles_II_of_England', 'England', 'York'],\n 'AIDS': ['Actor', 'Charles_II_of_England', 'France', 'AIDS'],\n 'Airbus': ['Actor', 'Charles_II_of_England', 'France', 'Airbus'],\n 'Airbus_A380': ['Actor', 'Charles_II_of_England', 'France', 'Airbus_A380'],\n 'Berber_languages': ['Actor',\n  'Charles_II_of_England',\n  'France',\n  'Berber_languages'],\n 'Brussels': ['Actor', 'Charles_II_of_England', 'France', 'Brussels'],\n 'California': ['Actor', 'Charles_II_of_England', 'France', 'California'],\n 'Country': ['Actor', 'Charles_II_of_England', 'France', 'Country'],\n 'Interpol': ['Actor', 'Charles_II_of_England', 'France', 'Interpol'],\n 'Julius_Caesar': ['Actor',\n  'Charles_II_of_England',\n  'France',\n  'Julius_Caesar'],\n 'Lille': ['Actor', 'Charles_II_of_England', 'France', 'Lille'],\n 'Lyon': ['Actor', 'Charles_II_of_England', 'France', 'Lyon'],\n 'Maghreb': ['Actor', 'Charles_II_of_England', 'France', 'Maghreb'],\n 'Marseille': ['Actor', 'Charles_II_of_England', 'France', 'Marseille'],\n 'Netherlands_Antilles': ['Actor',\n  'Charles_II_of_England',\n  'France',\n  'Netherlands_Antilles'],\n 'New_Caledonia': ['Actor',\n  'Charles_II_of_England',\n  'France',\n  'New_Caledonia'],\n 'River': ['Actor', 'Charles_II_of_England', 'France', 'River'],\n 'South_America': ['Actor',\n  'Charles_II_of_England',\n  'France',\n  'South_America'],\n 'Suriname': ['Actor', 'Charles_II_of_England', 'France', 'Suriname'],\n 'Thailand': ['Actor', 'Charles_II_of_England', 'France', 'Thailand'],\n 'World_Bank_Group': ['Actor',\n  'Charles_II_of_England',\n  'France',\n  'World_Bank_Group'],\n 'Yemen': ['Actor', 'Charles_II_of_England', 'France', 'Yemen'],\n 'Dorset': ['Actor', 'Charles_II_of_England', 'Glorious_Revolution', 'Dorset'],\n 'Plymouth': ['Actor',\n  'Charles_II_of_England',\n  'Glorious_Revolution',\n  'Plymouth'],\n 'Propaganda': ['Actor',\n  'Charles_II_of_England',\n  'Glorious_Revolution',\n  'Propaganda'],\n 'Scottish_Highlands': ['Actor',\n  'Charles_II_of_England',\n  'Glorious_Revolution',\n  'Scottish_Highlands'],\n 'Akhenaten': ['Actor', 'Charles_II_of_England', 'God', 'Akhenaten'],\n 'Allah': ['Actor', 'Charles_II_of_England', 'God', 'Allah'],\n 'Big_Bang': ['Actor', 'Charles_II_of_England', 'God', 'Big_Bang'],\n 'Brahman': ['Actor', 'Charles_II_of_England', 'God', 'Brahman'],\n 'Gautama_Buddha': ['Actor', 'Charles_II_of_England', 'God', 'Gautama_Buddha'],\n 'Jehovah': ['Actor', 'Charles_II_of_England', 'God', 'Jehovah'],\n 'Light': ['Actor', 'Charles_II_of_England', 'God', 'Light'],\n 'Marxism': ['Actor', 'Charles_II_of_England', 'God', 'Marxism'],\n 'Michelangelo': ['Actor', 'Charles_II_of_England', 'God', 'Michelangelo'],\n 'Nature': ['Actor', 'Charles_II_of_England', 'God', 'Nature'],\n 'Odin': ['Actor', 'Charles_II_of_England', 'God', 'Odin'],\n 'Sigmund_Freud': ['Actor', 'Charles_II_of_England', 'God', 'Sigmund_Freud'],\n 'Stephen_Jay_Gould': ['Actor',\n  'Charles_II_of_England',\n  'God',\n  'Stephen_Jay_Gould'],\n 'Trinity': ['Actor', 'Charles_II_of_England', 'God', 'Trinity'],\n 'Waheguru': ['Actor', 'Charles_II_of_England', 'God', 'Waheguru'],\n 'Alchemy': ['Actor', 'Charles_II_of_England', 'Gold', 'Alchemy'],\n 'Aluminium': ['Actor', 'Charles_II_of_England', 'Gold', 'Aluminium'],\n 'Astrology': ['Actor', 'Charles_II_of_England', 'Gold', 'Astrology'],\n 'Bismuth': ['Actor', 'Charles_II_of_England', 'Gold', 'Bismuth'],\n 'Black_Sea': ['Actor', 'Charles_II_of_England', 'Gold', 'Black_Sea'],\n 'Bromine': ['Actor', 'Charles_II_of_England', 'Gold', 'Bromine'],\n 'Caesium': ['Actor', 'Charles_II_of_England', 'Gold', 'Caesium'],\n 'Cancer': ['Actor', 'Charles_II_of_England', 'Gold', 'Cancer'],\n 'Chemical_element': ['Actor',\n  'Charles_II_of_England',\n  'Gold',\n  'Chemical_element'],\n 'Chemistry': ['Actor', 'Charles_II_of_England', 'Gold', 'Chemistry'],\n 'Chile': ['Actor', 'Charles_II_of_England', 'Gold', 'Chile'],\n 'Chlorine': ['Actor', 'Charles_II_of_England', 'Gold', 'Chlorine'],\n 'Cobalt': ['Actor', 'Charles_II_of_England', 'Gold', 'Cobalt'],\n 'Colombia': ['Actor', 'Charles_II_of_England', 'Gold', 'Colombia'],\n 'Communism': ['Actor', 'Charles_II_of_England', 'Gold', 'Communism'],\n 'Computer': ['Actor', 'Charles_II_of_England', 'Gold', 'Computer'],\n 'Copper': ['Actor', 'Charles_II_of_England', 'Gold', 'Copper'],\n 'Corrosion': ['Actor', 'Charles_II_of_England', 'Gold', 'Corrosion'],\n 'Crust_%28geology%29': ['Actor',\n  'Charles_II_of_England',\n  'Gold',\n  'Crust_%28geology%29'],\n 'Electricity': ['Actor', 'Charles_II_of_England', 'Gold', 'Electricity'],\n 'Electron': ['Actor', 'Charles_II_of_England', 'Gold', 'Electron'],\n 'Fluorine': ['Actor', 'Charles_II_of_England', 'Gold', 'Fluorine'],\n 'Gold%28III%29_chloride': ['Actor',\n  'Charles_II_of_England',\n  'Gold',\n  'Gold%28III%29_chloride'],\n 'Gold_standard': ['Actor', 'Charles_II_of_England', 'Gold', 'Gold_standard'],\n 'Heat': ['Actor', 'Charles_II_of_England', 'Gold', 'Heat'],\n 'Hydrogen': ['Actor', 'Charles_II_of_England', 'Gold', 'Hydrogen'],\n 'Igneous_rock': ['Actor', 'Charles_II_of_England', 'Gold', 'Igneous_rock'],\n 'Iodine': ['Actor', 'Charles_II_of_England', 'Gold', 'Iodine'],\n 'Johannesburg': ['Actor', 'Charles_II_of_England', 'Gold', 'Johannesburg'],\n 'Lead': ['Actor', 'Charles_II_of_England', 'Gold', 'Lead'],\n 'List_of_elements_by_name': ['Actor',\n  'Charles_II_of_England',\n  'Gold',\n  'List_of_elements_by_name'],\n 'Mercury_%28element%29': ['Actor',\n  'Charles_II_of_England',\n  'Gold',\n  'Mercury_%28element%29'],\n 'Metamorphic_rock': ['Actor',\n  'Charles_II_of_England',\n  'Gold',\n  'Metamorphic_rock'],\n 'Mohs_scale_of_mineral_hardness': ['Actor',\n  'Charles_II_of_England',\n  'Gold',\n  'Mohs_scale_of_mineral_hardness'],\n 'Money': ['Actor', 'Charles_II_of_England', 'Gold', 'Money'],\n 'Neutron': ['Actor', 'Charles_II_of_England', 'Gold', 'Neutron'],\n 'Nickel': ['Actor', 'Charles_II_of_England', 'Gold', 'Nickel'],\n 'Nuclear_weapon': ['Actor',\n  'Charles_II_of_England',\n  'Gold',\n  'Nuclear_weapon'],\n 'Oxygen': ['Actor', 'Charles_II_of_England', 'Gold', 'Oxygen'],\n 'Palladium': ['Actor', 'Charles_II_of_England', 'Gold', 'Palladium'],\n 'Periodic_table': ['Actor',\n  'Charles_II_of_England',\n  'Gold',\n  'Periodic_table'],\n 'Platinum': ['Actor', 'Charles_II_of_England', 'Gold', 'Platinum'],\n 'Pyrite': ['Actor', 'Charles_II_of_England', 'Gold', 'Pyrite'],\n 'Quartz': ['Actor', 'Charles_II_of_England', 'Gold', 'Quartz'],\n 'Roentgenium': ['Actor', 'Charles_II_of_England', 'Gold', 'Roentgenium'],\n 'Rubidium': ['Actor', 'Charles_II_of_England', 'Gold', 'Rubidium'],\n 'Second_Boer_War': ['Actor',\n  'Charles_II_of_England',\n  'Gold',\n  'Second_Boer_War'],\n 'Sulfur': ['Actor', 'Charles_II_of_England', 'Gold', 'Sulfur'],\n 'Tellurium': ['Actor', 'Charles_II_of_England', 'Gold', 'Tellurium'],\n 'Thomas_More': ['Actor', 'Charles_II_of_England', 'Gold', 'Thomas_More'],\n 'Xenon': ['Actor', 'Charles_II_of_England', 'Gold', 'Xenon'],\n 'Zinc': ['Actor', 'Charles_II_of_England', 'Gold', 'Zinc'],\n 'Eagle': ['Actor', 'Charles_II_of_England', 'Heraldry', 'Eagle'],\n 'Fish': ['Actor', 'Charles_II_of_England', 'Heraldry', 'Fish'],\n 'Stained_glass': ['Actor',\n  'Charles_II_of_England',\n  'Heraldry',\n  'Stained_glass'],\n 'Josephus': ['Actor', 'Charles_II_of_England', 'Idolatry', 'Josephus'],\n 'Bangalore': ['Actor', 'Charles_II_of_England', 'India', 'Bangalore'],\n 'Bhutan': ['Actor', 'Charles_II_of_England', 'India', 'Bhutan'],\n 'Biodiversity': ['Actor', 'Charles_II_of_England', 'India', 'Biodiversity'],\n 'Chess': ['Actor', 'Charles_II_of_England', 'India', 'Chess'],\n 'Delhi': ['Actor', 'Charles_II_of_England', 'India', 'Delhi'],\n 'Extinction': ['Actor', 'Charles_II_of_England', 'India', 'Extinction'],\n 'Flag_of_India': ['Actor', 'Charles_II_of_England', 'India', 'Flag_of_India'],\n 'Ganges_River': ['Actor', 'Charles_II_of_England', 'India', 'Ganges_River'],\n 'Himalayas': ['Actor', 'Charles_II_of_England', 'India', 'Himalayas'],\n ...}"
     },
     "execution_count": 23,
     "metadata": {},
     "output_type": "execute_result"
    }
   ],
   "source": [
    "shortest_path_dict['Actor']['Japan']"
   ],
   "metadata": {
    "collapsed": false
   }
  },
  {
   "cell_type": "markdown",
   "source": [
    "That works, gives different values compared to the dictionary, so we might redo this into a fixed result and store it somewhere.\n",
    "\n",
    "Now, back to the important part, the AI!"
   ],
   "metadata": {
    "collapsed": false
   }
  },
  {
   "cell_type": "markdown",
   "source": [
    "# Alternate implementation\n",
    "The shortest path method works, but we want to modify this to be a bit more depth first in relation to the exploration of elements.\n",
    "\n",
    "This is to replicate more or less how humans work, that they do a depth first search at each iteration and are happy as soon as they find a result. We want to replicate this idea as best as possible\n",
    "\n",
    "So we modify A star to do the following:\n",
    "- Return a value as soon as the solution target is found\n",
    "- Make the fitting of the function a bit easier\n",
    "\n",
    "I just copy and pasted the code from networkX and modified it!\n",
    "\n",
    "I am not sure at all how the fuck do I cite it though!"
   ],
   "metadata": {
    "collapsed": false
   }
  },
  {
   "cell_type": "code",
   "execution_count": 30,
   "outputs": [],
   "source": [
    "from heapq import heappop, heappush\n",
    "from itertools import count\n",
    "from networkx.algorithms.shortest_paths.weighted import _weight_function\n",
    "\n",
    "def modded_astar_path(G: nx.Graph, source: str, target: str, heuristic=None, weight=\"weight\"):\n",
    "    \"\"\"Returns a list of nodes in a shortest path between source and target\n",
    "    using the A* (\"A-star\") algorithm.\n",
    "\n",
    "    There may be more than one shortest path.  This returns only one.\n",
    "\n",
    "    Parameters\n",
    "    ----------\n",
    "    G : NetworkX graph\n",
    "\n",
    "    source : node\n",
    "       Starting node for path\n",
    "\n",
    "    target : node\n",
    "       Ending node for path\n",
    "\n",
    "    heuristic : function\n",
    "       A function to evaluate the estimate of the distance\n",
    "       from the a node to the target.  The function takes\n",
    "       two nodes arguments and must return a number.\n",
    "       If the heuristic is inadmissible (if it might\n",
    "       overestimate the cost of reaching the goal from a node),\n",
    "       the result may not be a shortest path.\n",
    "       The algorithm does not support updating heuristic\n",
    "       values for the same node due to caching the first\n",
    "       heuristic calculation per node.\n",
    "\n",
    "    weight : string or function\n",
    "       If this is a string, then edge weights will be accessed via the\n",
    "       edge attribute with this key (that is, the weight of the edge\n",
    "       joining `u` to `v` will be ``G.edges[u, v][weight]``). If no\n",
    "       such edge attribute exists, the weight of the edge is assumed to\n",
    "       be one.\n",
    "       If this is a function, the weight of an edge is the value\n",
    "       returned by the function. The function must accept exactly three\n",
    "       positional arguments: the two endpoints of an edge and the\n",
    "       dictionary of edge attributes for that edge. The function must\n",
    "       return a number or None to indicate a hidden edge.\n",
    "\n",
    "    Raises\n",
    "    ------\n",
    "    NetworkXNoPath\n",
    "        If no path exists between source and target.\n",
    "\n",
    "    Examples\n",
    "    --------\n",
    "    >>> G = nx.path_graph(5)\n",
    "    >>> print(nx.astar_path(G, 0, 4))\n",
    "    [0, 1, 2, 3, 4]\n",
    "    >>> G = nx.grid_graph(dim=[3, 3])  # nodes are two-tuples (x,y)\n",
    "    >>> nx.set_edge_attributes(G, {e: e[1][0] * 2 for e in G.edges()}, \"cost\")\n",
    "    >>> def dist(a, b):\n",
    "    ...     (x1, y1) = a\n",
    "    ...     (x2, y2) = b\n",
    "    ...     return ((x1 - x2) ** 2 + (y1 - y2) ** 2) ** 0.5\n",
    "    >>> print(nx.astar_path(G, (0, 0), (2, 2), heuristic=dist, weight=\"cost\"))\n",
    "    [(0, 0), (0, 1), (0, 2), (1, 2), (2, 2)]\n",
    "\n",
    "    Notes\n",
    "    -----\n",
    "    Edge weight attributes must be numerical.\n",
    "    Distances are calculated as sums of weighted edges traversed.\n",
    "\n",
    "    The weight function can be used to hide edges by returning None.\n",
    "    So ``weight = lambda u, v, d: 1 if d['color']==\"red\" else None``\n",
    "    will find the shortest red path.\n",
    "\n",
    "    See Also\n",
    "    --------\n",
    "    shortest_path, dijkstra_path\n",
    "\n",
    "    \"\"\"\n",
    "    if source not in G or target not in G:\n",
    "        msg = f\"Either source {source} or target {target} is not in G\"\n",
    "        raise nx.NodeNotFound(msg)\n",
    "\n",
    "    if heuristic is None:\n",
    "        # The default heuristic is h=0 - same as Dijkstra's algorithm\n",
    "        def heuristic(u, v):\n",
    "            return 0\n",
    "\n",
    "    heuristic = distance_two_words\n",
    "\n",
    "    push = heappush\n",
    "    pop = heappop\n",
    "    weight = _weight_function(G, weight)\n",
    "\n",
    "    g_succ = G._adj  # For speed-up (and works for both directed and undirected graphs)\n",
    "\n",
    "    # The queue stores priority, node, cost to reach, and parent.\n",
    "    # Uses Python heapq to keep in priority order.\n",
    "    # Add a counter to the queue to prevent the underlying heap from\n",
    "    # attempting to compare the nodes themselves. The hash breaks ties in the\n",
    "    # priority and is guaranteed unique for all nodes in the graph.\n",
    "    c = count()\n",
    "    queue = [(0, next(c), source, 0, None)]\n",
    "\n",
    "    # Maps enqueued nodes to distance of discovered paths and the\n",
    "    # computed heuristics to target. We avoid computing the heuristics\n",
    "    # more than once and inserting the node into the queue too many times.\n",
    "    enqueued = {}\n",
    "    # Maps explored nodes to parent closest to the source.\n",
    "    explored = {}\n",
    "\n",
    "    while queue:\n",
    "        # Pop the smallest item from queue.\n",
    "        _, __, curnode, dist, parent = pop(queue)\n",
    "\n",
    "        if curnode == target:\n",
    "            path = [curnode]\n",
    "            node = parent\n",
    "            while node is not None:\n",
    "                path.append(node)\n",
    "                node = explored[node]\n",
    "            path.reverse()\n",
    "            return path, explored\n",
    "\n",
    "        if curnode in explored:\n",
    "            # Do not override the parent of starting node\n",
    "            if explored[curnode] is None:\n",
    "                continue\n",
    "\n",
    "            # Skip bad paths that were enqueued before finding a better one\n",
    "            qcost, h = enqueued[curnode]\n",
    "            if qcost < dist:\n",
    "                continue\n",
    "\n",
    "        explored[curnode] = parent\n",
    "\n",
    "        for neighbor, w in g_succ[curnode].items():\n",
    "            # This is the real only place where the code was changed, as I added a check for the neighbor being adjacent\n",
    "            if neighbor == target:\n",
    "                explored[neighbor] = curnode\n",
    "                path = [neighbor]\n",
    "                node = curnode\n",
    "                while node is not None:\n",
    "                    path.append(node)\n",
    "                    node = explored[node]\n",
    "                path.reverse()\n",
    "                return path, explored\n",
    "\n",
    "            cost = weight(curnode, neighbor, w)\n",
    "            if cost is None:\n",
    "                continue\n",
    "            ncost = dist + cost\n",
    "            if neighbor in enqueued:\n",
    "                qcost, h = enqueued[neighbor]\n",
    "                # if qcost <= ncost, a less costly path from the\n",
    "                # neighbor to the source was already determined.\n",
    "                # Therefore, we won't attempt to push this neighbor\n",
    "                # to the queue\n",
    "                if qcost <= ncost:\n",
    "                    continue\n",
    "            else:\n",
    "                h = heuristic(neighbor, target)\n",
    "            enqueued[neighbor] = ncost, h\n",
    "            push(queue, (ncost + h, next(c), neighbor, ncost, curnode))\n",
    "\n",
    "    raise nx.NetworkXNoPath(f\"Node {target} not reachable from {source}\")"
   ],
   "metadata": {
    "collapsed": false
   }
  },
  {
   "cell_type": "code",
   "execution_count": 34,
   "outputs": [],
   "source": [
    "path_1, explore_1 = modded_astar_path(wikispeedia, 'Actor', 'Japan', heuristic=distance_two_words)\n",
    "path_2, explore_2 = modded_astar_path(wikispeedia, 'Actor', 'Josephus', heuristic=distance_two_words)"
   ],
   "metadata": {
    "collapsed": false
   }
  },
  {
   "cell_type": "code",
   "execution_count": 36,
   "outputs": [
    {
     "data": {
      "text/plain": "['Actor', 'Charles_II_of_England', 'Idolatry', 'Josephus']"
     },
     "execution_count": 36,
     "metadata": {},
     "output_type": "execute_result"
    }
   ],
   "source": [
    "path_2"
   ],
   "metadata": {
    "collapsed": false
   }
  },
  {
   "cell_type": "code",
   "execution_count": 71,
   "outputs": [],
   "source": [
    "from heapq import heappop, heappush\n",
    "from itertools import count\n",
    "from networkx.algorithms.shortest_paths.weighted import _weight_function\n",
    "\n",
    "def only_depth_first_astar_path(G: nx.Graph, source: str, target: str, heuristic=None, weight=\"weight\"):\n",
    "    \"\"\"Returns a list of nodes in a shortest path between source and target\n",
    "    using the A* (\"A-star\") algorithm.\n",
    "\n",
    "    There may be more than one shortest path.  This returns only one.\n",
    "\n",
    "    Only goes depth first, if it finds no nodes it gives up moving onwards\n",
    "\n",
    "    \"\"\"\n",
    "    if source not in G or target not in G:\n",
    "        msg = f\"Either source {source} or target {target} is not in G\"\n",
    "        raise nx.NodeNotFound(msg)\n",
    "\n",
    "    if heuristic is None:\n",
    "        # The default heuristic is h=0 - same as Dijkstra's algorithm\n",
    "        def heuristic(u, v):\n",
    "            return 0\n",
    "\n",
    "    heuristic = distance_two_words\n",
    "\n",
    "    push = heappush\n",
    "    pop = heappop\n",
    "    weight = _weight_function(G, weight)\n",
    "\n",
    "    g_succ = G._adj  # For speed-up (and works for both directed and undirected graphs)\n",
    "\n",
    "    # The queue stores priority, node, cost to reach, and parent.\n",
    "    # Uses Python heapq to keep in priority order.\n",
    "    # Add a counter to the queue to prevent the underlying heap from\n",
    "    # attempting to compare the nodes themselves. The hash breaks ties in the\n",
    "    # priority and is guaranteed unique for all nodes in the graph.\n",
    "    c = count()\n",
    "\n",
    "    # Maps explored nodes to parent closest to the source.\n",
    "    explored = {}\n",
    "\n",
    "    curnode = source\n",
    "    parent = None\n",
    "\n",
    "    while curnode is not None:\n",
    "\n",
    "        explored[curnode] = parent\n",
    "\n",
    "        if curnode == target:\n",
    "            path = [curnode]\n",
    "            node = parent\n",
    "            while node is not None:\n",
    "                path.append(node)\n",
    "                node = explored[node]\n",
    "            path.reverse()\n",
    "            return path, explored\n",
    "\n",
    "        # Here I explore all the nodes, find the cost and decide only the smallest one\n",
    "        adjacent_nodes_and_weight = []\n",
    "\n",
    "        for neighbor, w in g_succ[curnode].items():\n",
    "            # This is the real only place where the code was changed, as I added a check for the neighbor being adjacent\n",
    "            if neighbor == target:\n",
    "                explored[neighbor] = curnode\n",
    "                path = [neighbor]\n",
    "                node = curnode\n",
    "                while node is not None:\n",
    "                    path.append(node)\n",
    "                    node = explored[node]\n",
    "                path.reverse()\n",
    "                return path, explored\n",
    "\n",
    "            h = heuristic(neighbor, target)\n",
    "\n",
    "            adjacent_nodes_and_weight.append((neighbor, h))\n",
    "\n",
    "        adjacent_nodes_and_weight.sort(key=lambda x: x[1])\n",
    "\n",
    "        # Now, pick the lowest value that hasn't been explored yet\n",
    "        # It does mean we could get in a loop, but that's okay!\n",
    "        parent = curnode\n",
    "        curnode = None\n",
    "        #print(parent)\n",
    "\n",
    "        for node, val in adjacent_nodes_and_weight:\n",
    "            if not node in explored:\n",
    "                curnode = node\n",
    "                break\n",
    "\n",
    "    raise nx.NetworkXNoPath(f\"Node {target} not reachable from {source}\")"
   ],
   "metadata": {
    "collapsed": false
   }
  },
  {
   "cell_type": "code",
   "execution_count": 70,
   "outputs": [
    {
     "name": "stdout",
     "output_type": "stream",
     "text": [
      "Actor\n",
      "William_Shakespeare\n",
      "Macbeth\n",
      "Henry_James\n",
      "Charles_Darwin\n",
      "Isaac_Newton\n",
      "Johannes_Kepler\n",
      "Aristotle\n",
      "Rome\n",
      "Jerusalem\n",
      "Hebrew_language\n",
      "Israel\n",
      "Tel_Aviv\n",
      "Mesopotamia\n",
      "Babylonia\n",
      "Assyria\n",
      "Egypt\n",
      "Islam\n"
     ]
    }
   ],
   "source": [
    "alt_path_1, alt_explore_1 = only_depth_first_astar_path(wikispeedia, 'Actor', 'Japan', heuristic=distance_two_words)\n",
    "alt_path_2, alt_explore_2 = only_depth_first_astar_path(wikispeedia, 'Actor', 'Josephus', heuristic=distance_two_words)"
   ],
   "metadata": {
    "collapsed": false
   }
  },
  {
   "cell_type": "markdown",
   "source": [
    "They both work, which is good.\n",
    "\n",
    "I can do some comparisons later of the explored of the two, but fuck it this is good enough!"
   ],
   "metadata": {
    "collapsed": false
   }
  },
  {
   "cell_type": "markdown",
   "source": [
    "In this bit, I make sure the methods to read in the other python files are properly working"
   ],
   "metadata": {
    "collapsed": false
   }
  },
  {
   "cell_type": "code",
   "execution_count": 6,
   "outputs": [],
   "source": [
    "import machine_searchers\n",
    "\n",
    "lib_path_1, lib_explore_1 = machine_searchers.modded_astar_path(wikispeedia, 'Actor', 'Japan', heuristic=distance_two_words)\n",
    "lib_path_2, lib_explore_2 = machine_searchers.modded_astar_path(wikispeedia, 'Actor', 'Josephus', heuristic=distance_two_words)"
   ],
   "metadata": {
    "collapsed": false,
    "ExecuteTime": {
     "end_time": "2023-11-16T14:27:44.415739600Z",
     "start_time": "2023-11-16T14:23:24.646853500Z"
    }
   }
  },
  {
   "cell_type": "code",
   "execution_count": 9,
   "outputs": [
    {
     "data": {
      "text/plain": "['Actor', 'Charles_II_of_England', 'Idolatry', 'Josephus']"
     },
     "execution_count": 9,
     "metadata": {},
     "output_type": "execute_result"
    }
   ],
   "source": [
    "lib_path_2"
   ],
   "metadata": {
    "collapsed": false,
    "ExecuteTime": {
     "end_time": "2023-11-16T14:29:49.757189700Z",
     "start_time": "2023-11-16T14:29:49.722537700Z"
    }
   }
  },
  {
   "cell_type": "code",
   "execution_count": 7,
   "outputs": [],
   "source": [
    "lib_alt_path_1, lib_alt_explore_1 = machine_searchers.only_depth_first_astar_path(wikispeedia, 'Actor', 'Japan', heuristic=distance_two_words)\n",
    "lib_alt_path_2, lib_alt_explore_2 = machine_searchers.only_depth_first_astar_path(wikispeedia, 'Actor', 'Josephus', heuristic=distance_two_words)"
   ],
   "metadata": {
    "collapsed": false,
    "ExecuteTime": {
     "end_time": "2023-11-16T14:29:12.322412500Z",
     "start_time": "2023-11-16T14:27:44.425672Z"
    }
   }
  },
  {
   "cell_type": "code",
   "execution_count": 11,
   "outputs": [
    {
     "data": {
      "text/plain": "['Actor',\n 'William_Shakespeare',\n 'Macbeth',\n 'Henry_James',\n 'Charles_Darwin',\n 'Isaac_Newton',\n 'Johannes_Kepler',\n 'Aristotle',\n 'Rome',\n 'Jerusalem',\n 'Hebrew_language',\n 'Israel',\n 'Tel_Aviv',\n 'Mesopotamia',\n 'Babylonia',\n 'Assyria',\n 'Egypt',\n 'Islam',\n 'Judaism',\n 'Josephus']"
     },
     "execution_count": 11,
     "metadata": {},
     "output_type": "execute_result"
    }
   ],
   "source": [
    "lib_alt_path_2"
   ],
   "metadata": {
    "collapsed": false,
    "ExecuteTime": {
     "end_time": "2023-11-16T14:50:56.911244700Z",
     "start_time": "2023-11-16T14:50:56.883788Z"
    }
   }
  }
 ],
 "metadata": {
  "kernelspec": {
   "display_name": "Python 3",
   "language": "python",
   "name": "python3"
  },
  "language_info": {
   "codemirror_mode": {
    "name": "ipython",
    "version": 2
   },
   "file_extension": ".py",
   "mimetype": "text/x-python",
   "name": "python",
   "nbconvert_exporter": "python",
   "pygments_lexer": "ipython2",
   "version": "2.7.6"
  }
 },
 "nbformat": 4,
 "nbformat_minor": 0
}

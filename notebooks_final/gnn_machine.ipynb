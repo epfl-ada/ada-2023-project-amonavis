{
 "cells": [
  {
   "cell_type": "markdown",
   "source": [
    "# GNN Model\n",
    "Original A* model takes too damn long to run. We are building a GNN to make up for it.\n",
    "\n",
    "The gist of how this one works is that it does a classification model to predict the likelihood of a node being part of the solution, as in normal classification. During actual prediction, it takes a moment to only add an element if it is valid in the current answer, IE it is connected to the existing nodes."
   ],
   "metadata": {
    "collapsed": false
   },
   "id": "aa510e1e01a5371c"
  },
  {
   "cell_type": "code",
   "execution_count": 1,
   "outputs": [],
   "source": [
    "import sys\n",
    "import os\n",
    "sys.path.append('../')\n",
    "import data_readers\n",
    "\n",
    "import pandas as pd\n",
    "import numpy as np\n",
    "from datetime import datetime\n",
    "import matplotlib.pyplot as plt\n",
    "import seaborn as sns\n",
    "import statistics\n",
    "import math\n",
    "\n",
    "# networkx\n",
    "import networkx as nx\n",
    "from networkx.drawing.nx_pydot import graphviz_layout\n",
    "\n",
    "# For semantic similarity\n",
    "from urllib.parse import unquote\n",
    "from sentence_transformers import SentenceTransformer\n",
    "import torch\n",
    "\n",
    "# Python functions in .py file to read data\n",
    "import machine_searchers\n",
    "import time\n",
    "\n",
    "import warnings\n",
    "from tqdm import TqdmWarning\n",
    "warnings.filterwarnings('ignore', category=TqdmWarning)\n",
    "# I'll ignore the data embeddings, as that is "
   ],
   "metadata": {
    "collapsed": false,
    "ExecuteTime": {
     "end_time": "2023-12-15T08:48:54.273044200Z",
     "start_time": "2023-12-15T08:48:42.268227900Z"
    }
   },
   "id": "599c835735754e7"
  },
  {
   "cell_type": "code",
   "execution_count": 2,
   "outputs": [],
   "source": [
    "wikispeedia= nx.read_edgelist('../datasets/wikispeedia_paths-and-graph/links.tsv',\n",
    "                              create_using=nx.DiGraph)\n",
    "\n",
    "def decode_word(word):\n",
    "    word = word.replace('_', ' ')\n",
    "    return unquote(word)\n",
    "\n",
    "# Create a new graph with decoded node labels\n",
    "decoded_wikispeedia = nx.DiGraph()\n",
    "\n",
    "for node in wikispeedia.nodes():\n",
    "    decoded_node = decode_word(node)\n",
    "    decoded_wikispeedia.add_node(decoded_node)\n",
    "\n",
    "# Copy the edges from the original graph to the new graph with decoded node labels\n",
    "for edge in wikispeedia.edges():\n",
    "    decoded_edge = tuple(decode_word(node) for node in edge)\n",
    "    decoded_wikispeedia.add_edge(*decoded_edge)"
   ],
   "metadata": {
    "collapsed": false,
    "ExecuteTime": {
     "end_time": "2023-12-15T08:48:55.803572300Z",
     "start_time": "2023-12-15T08:48:54.273044200Z"
    }
   },
   "id": "79c1b6d93c7fd0dc"
  },
  {
   "cell_type": "markdown",
   "source": [
    "# Building the embeddings\n",
    "There are a shit ton of ways of building the embeddings, for now, we will take a simpler approach of just using semantic distance. We also need to add to the embeddings if it's a source node and if it's a target node.\n",
    "\n",
    "For creating the training dataset, we also need to transform the shortest path pairs of the dataset into a vector of classifier. Which we need to test properly\n",
    "\n",
    "A decent amount of data creation..."
   ],
   "metadata": {
    "collapsed": false
   },
   "id": "a5f548df91ad6d20"
  },
  {
   "cell_type": "markdown",
   "source": [
    "# Getting all the embeddings\n",
    "\n",
    "We need to find the embeddings for each element. I'll just create the code and assume someone can do this better with cuda than what I feel like doing"
   ],
   "metadata": {
    "collapsed": false
   },
   "id": "2eb772bd121c3818"
  },
  {
   "cell_type": "code",
   "execution_count": 3,
   "outputs": [
    {
     "data": {
      "text/plain": "SentenceTransformer(\n  (0): Transformer({'max_seq_length': 256, 'do_lower_case': False}) with Transformer model: BertModel \n  (1): Pooling({'word_embedding_dimension': 384, 'pooling_mode_cls_token': False, 'pooling_mode_mean_tokens': True, 'pooling_mode_max_tokens': False, 'pooling_mode_mean_sqrt_len_tokens': False})\n  (2): Normalize()\n)"
     },
     "execution_count": 3,
     "metadata": {},
     "output_type": "execute_result"
    }
   ],
   "source": [
    "# Do model to cuda here\n",
    "model = SentenceTransformer('all-MiniLM-L6-v2')\n",
    "\n",
    "# Function to get embeddings using sentence transformer\n",
    "def get_embedding(text):\n",
    "    temp_embed = model.encode(text, convert_to_tensor=True)\n",
    "    temp_embed = temp_embed / temp_embed.norm(p=2, dim=0, keepdim=True)\n",
    "    return temp_embed\n",
    "\n",
    "model"
   ],
   "metadata": {
    "collapsed": false,
    "ExecuteTime": {
     "end_time": "2023-12-15T08:48:57.546556200Z",
     "start_time": "2023-12-15T08:48:55.792780200Z"
    }
   },
   "id": "f37d201e1cb3f97b"
  },
  {
   "cell_type": "code",
   "execution_count": 5,
   "outputs": [
    {
     "data": {
      "text/plain": "torch.Size([384])"
     },
     "execution_count": 5,
     "metadata": {},
     "output_type": "execute_result"
    }
   ],
   "source": [
    "temp = model.encode('Test', convert_to_tensor=True)\n",
    "temp.shape"
   ],
   "metadata": {
    "collapsed": false,
    "ExecuteTime": {
     "end_time": "2023-12-15T08:50:07.843351800Z",
     "start_time": "2023-12-15T08:50:07.651958800Z"
    }
   },
   "id": "fb6e8873e3b0a4d1"
  },
  {
   "cell_type": "code",
   "execution_count": 11,
   "outputs": [
    {
     "ename": "KeyboardInterrupt",
     "evalue": "",
     "output_type": "error",
     "traceback": [
      "\u001B[1;31m---------------------------------------------------------------------------\u001B[0m",
      "\u001B[1;31mKeyboardInterrupt\u001B[0m                         Traceback (most recent call last)",
      "Cell \u001B[1;32mIn[11], line 8\u001B[0m\n\u001B[0;32m      6\u001B[0m i \u001B[38;5;241m=\u001B[39m \u001B[38;5;241m0\u001B[39m\n\u001B[0;32m      7\u001B[0m \u001B[38;5;28;01mfor\u001B[39;00m node \u001B[38;5;129;01min\u001B[39;00m node_list:\n\u001B[1;32m----> 8\u001B[0m     text_embeddings[i] \u001B[38;5;241m=\u001B[39m get_embedding(node)\n\u001B[0;32m      9\u001B[0m     i \u001B[38;5;241m+\u001B[39m\u001B[38;5;241m=\u001B[39m \u001B[38;5;241m1\u001B[39m\n",
      "Cell \u001B[1;32mIn[3], line 5\u001B[0m, in \u001B[0;36mget_embedding\u001B[1;34m(text)\u001B[0m\n\u001B[0;32m      4\u001B[0m \u001B[38;5;28;01mdef\u001B[39;00m \u001B[38;5;21mget_embedding\u001B[39m(text):\n\u001B[1;32m----> 5\u001B[0m     temp_embed \u001B[38;5;241m=\u001B[39m model\u001B[38;5;241m.\u001B[39mencode(text, convert_to_tensor\u001B[38;5;241m=\u001B[39m\u001B[38;5;28;01mTrue\u001B[39;00m)\n\u001B[0;32m      6\u001B[0m     temp_embed \u001B[38;5;241m=\u001B[39m temp_embed \u001B[38;5;241m/\u001B[39m temp_embed\u001B[38;5;241m.\u001B[39mnorm(p\u001B[38;5;241m=\u001B[39m\u001B[38;5;241m2\u001B[39m, dim\u001B[38;5;241m=\u001B[39m\u001B[38;5;241m0\u001B[39m, keepdim\u001B[38;5;241m=\u001B[39m\u001B[38;5;28;01mTrue\u001B[39;00m)\n\u001B[0;32m      7\u001B[0m     \u001B[38;5;28;01mreturn\u001B[39;00m model\u001B[38;5;241m.\u001B[39mencode(text, convert_to_tensor\u001B[38;5;241m=\u001B[39m\u001B[38;5;28;01mTrue\u001B[39;00m)\n",
      "File \u001B[1;32m~\\anaconda3\\Lib\\site-packages\\sentence_transformers\\SentenceTransformer.py:165\u001B[0m, in \u001B[0;36mSentenceTransformer.encode\u001B[1;34m(self, sentences, batch_size, show_progress_bar, output_value, convert_to_numpy, convert_to_tensor, device, normalize_embeddings)\u001B[0m\n\u001B[0;32m    162\u001B[0m features \u001B[38;5;241m=\u001B[39m batch_to_device(features, device)\n\u001B[0;32m    164\u001B[0m \u001B[38;5;28;01mwith\u001B[39;00m torch\u001B[38;5;241m.\u001B[39mno_grad():\n\u001B[1;32m--> 165\u001B[0m     out_features \u001B[38;5;241m=\u001B[39m \u001B[38;5;28mself\u001B[39m\u001B[38;5;241m.\u001B[39mforward(features)\n\u001B[0;32m    167\u001B[0m     \u001B[38;5;28;01mif\u001B[39;00m output_value \u001B[38;5;241m==\u001B[39m \u001B[38;5;124m'\u001B[39m\u001B[38;5;124mtoken_embeddings\u001B[39m\u001B[38;5;124m'\u001B[39m:\n\u001B[0;32m    168\u001B[0m         embeddings \u001B[38;5;241m=\u001B[39m []\n",
      "File \u001B[1;32m~\\anaconda3\\Lib\\site-packages\\torch\\nn\\modules\\container.py:215\u001B[0m, in \u001B[0;36mSequential.forward\u001B[1;34m(self, input)\u001B[0m\n\u001B[0;32m    213\u001B[0m \u001B[38;5;28;01mdef\u001B[39;00m \u001B[38;5;21mforward\u001B[39m(\u001B[38;5;28mself\u001B[39m, \u001B[38;5;28minput\u001B[39m):\n\u001B[0;32m    214\u001B[0m     \u001B[38;5;28;01mfor\u001B[39;00m module \u001B[38;5;129;01min\u001B[39;00m \u001B[38;5;28mself\u001B[39m:\n\u001B[1;32m--> 215\u001B[0m         \u001B[38;5;28minput\u001B[39m \u001B[38;5;241m=\u001B[39m module(\u001B[38;5;28minput\u001B[39m)\n\u001B[0;32m    216\u001B[0m     \u001B[38;5;28;01mreturn\u001B[39;00m \u001B[38;5;28minput\u001B[39m\n",
      "File \u001B[1;32m~\\anaconda3\\Lib\\site-packages\\torch\\nn\\modules\\module.py:1518\u001B[0m, in \u001B[0;36mModule._wrapped_call_impl\u001B[1;34m(self, *args, **kwargs)\u001B[0m\n\u001B[0;32m   1516\u001B[0m     \u001B[38;5;28;01mreturn\u001B[39;00m \u001B[38;5;28mself\u001B[39m\u001B[38;5;241m.\u001B[39m_compiled_call_impl(\u001B[38;5;241m*\u001B[39margs, \u001B[38;5;241m*\u001B[39m\u001B[38;5;241m*\u001B[39mkwargs)  \u001B[38;5;66;03m# type: ignore[misc]\u001B[39;00m\n\u001B[0;32m   1517\u001B[0m \u001B[38;5;28;01melse\u001B[39;00m:\n\u001B[1;32m-> 1518\u001B[0m     \u001B[38;5;28;01mreturn\u001B[39;00m \u001B[38;5;28mself\u001B[39m\u001B[38;5;241m.\u001B[39m_call_impl(\u001B[38;5;241m*\u001B[39margs, \u001B[38;5;241m*\u001B[39m\u001B[38;5;241m*\u001B[39mkwargs)\n",
      "File \u001B[1;32m~\\anaconda3\\Lib\\site-packages\\torch\\nn\\modules\\module.py:1527\u001B[0m, in \u001B[0;36mModule._call_impl\u001B[1;34m(self, *args, **kwargs)\u001B[0m\n\u001B[0;32m   1522\u001B[0m \u001B[38;5;66;03m# If we don't have any hooks, we want to skip the rest of the logic in\u001B[39;00m\n\u001B[0;32m   1523\u001B[0m \u001B[38;5;66;03m# this function, and just call forward.\u001B[39;00m\n\u001B[0;32m   1524\u001B[0m \u001B[38;5;28;01mif\u001B[39;00m \u001B[38;5;129;01mnot\u001B[39;00m (\u001B[38;5;28mself\u001B[39m\u001B[38;5;241m.\u001B[39m_backward_hooks \u001B[38;5;129;01mor\u001B[39;00m \u001B[38;5;28mself\u001B[39m\u001B[38;5;241m.\u001B[39m_backward_pre_hooks \u001B[38;5;129;01mor\u001B[39;00m \u001B[38;5;28mself\u001B[39m\u001B[38;5;241m.\u001B[39m_forward_hooks \u001B[38;5;129;01mor\u001B[39;00m \u001B[38;5;28mself\u001B[39m\u001B[38;5;241m.\u001B[39m_forward_pre_hooks\n\u001B[0;32m   1525\u001B[0m         \u001B[38;5;129;01mor\u001B[39;00m _global_backward_pre_hooks \u001B[38;5;129;01mor\u001B[39;00m _global_backward_hooks\n\u001B[0;32m   1526\u001B[0m         \u001B[38;5;129;01mor\u001B[39;00m _global_forward_hooks \u001B[38;5;129;01mor\u001B[39;00m _global_forward_pre_hooks):\n\u001B[1;32m-> 1527\u001B[0m     \u001B[38;5;28;01mreturn\u001B[39;00m forward_call(\u001B[38;5;241m*\u001B[39margs, \u001B[38;5;241m*\u001B[39m\u001B[38;5;241m*\u001B[39mkwargs)\n\u001B[0;32m   1529\u001B[0m \u001B[38;5;28;01mtry\u001B[39;00m:\n\u001B[0;32m   1530\u001B[0m     result \u001B[38;5;241m=\u001B[39m \u001B[38;5;28;01mNone\u001B[39;00m\n",
      "File \u001B[1;32m~\\anaconda3\\Lib\\site-packages\\sentence_transformers\\models\\Pooling.py:85\u001B[0m, in \u001B[0;36mPooling.forward\u001B[1;34m(self, features)\u001B[0m\n\u001B[0;32m     83\u001B[0m     output_vectors\u001B[38;5;241m.\u001B[39mappend(max_over_time)\n\u001B[0;32m     84\u001B[0m \u001B[38;5;28;01mif\u001B[39;00m \u001B[38;5;28mself\u001B[39m\u001B[38;5;241m.\u001B[39mpooling_mode_mean_tokens \u001B[38;5;129;01mor\u001B[39;00m \u001B[38;5;28mself\u001B[39m\u001B[38;5;241m.\u001B[39mpooling_mode_mean_sqrt_len_tokens:\n\u001B[1;32m---> 85\u001B[0m     input_mask_expanded \u001B[38;5;241m=\u001B[39m attention_mask\u001B[38;5;241m.\u001B[39munsqueeze(\u001B[38;5;241m-\u001B[39m\u001B[38;5;241m1\u001B[39m)\u001B[38;5;241m.\u001B[39mexpand(token_embeddings\u001B[38;5;241m.\u001B[39msize())\u001B[38;5;241m.\u001B[39mfloat()\n\u001B[0;32m     86\u001B[0m     sum_embeddings \u001B[38;5;241m=\u001B[39m torch\u001B[38;5;241m.\u001B[39msum(token_embeddings \u001B[38;5;241m*\u001B[39m input_mask_expanded, \u001B[38;5;241m1\u001B[39m)\n\u001B[0;32m     88\u001B[0m     \u001B[38;5;66;03m#If tokens are weighted (by WordWeights layer), feature 'token_weights_sum' will be present\u001B[39;00m\n",
      "\u001B[1;31mKeyboardInterrupt\u001B[0m: "
     ]
    }
   ],
   "source": [
    "# Didn't run this part, but we just need to run it to be free\n",
    "node_list = decoded_wikispeedia.nodes()\n",
    "\n",
    "text_embeddings = torch.zeros((len(node_list), 384))\n",
    "\n",
    "i = 0\n",
    "for node in node_list:\n",
    "    text_embeddings[i] = get_embedding(node)\n",
    "    i += 1"
   ],
   "metadata": {
    "collapsed": false,
    "ExecuteTime": {
     "end_time": "2023-12-15T08:56:30.965047200Z",
     "start_time": "2023-12-15T08:56:28.508150500Z"
    }
   },
   "id": "1aebd067034d33f7"
  },
  {
   "cell_type": "code",
   "execution_count": 12,
   "outputs": [],
   "source": [
    "torch.save(text_embeddings, 'text_embeddings.pt')"
   ],
   "metadata": {
    "collapsed": false,
    "ExecuteTime": {
     "end_time": "2023-12-15T08:56:34.376668600Z",
     "start_time": "2023-12-15T08:56:34.366574100Z"
    }
   },
   "id": "434e83fc236d2666"
  },
  {
   "cell_type": "markdown",
   "source": [
    "# Getting the classification task\n",
    "\n",
    "For this, we run all shortest distance pairs to get the target classification module.\n",
    "\n",
    "We then transform this into a 2D tensor, with the following information:\n",
    "- First dimension is what is the source, and what is the target node. Everything else is 0\n",
    "- Second dimension has a 1 for all the nodes included in the shortest path. Including source and target\n",
    "\n",
    "Reason it's a 2D module is so we can extract the first one and add it to the embeddings, and the second is the actual target classification. It's just a way of guaranteeing all the units are together\n",
    "\n",
    "Also means the output will be a dictionary? I don't know if dictionary or a 3D tensor is better...\n",
    "\n",
    "I'll go with a dictionary because I don't feel like thinking. We can just pickle it or something"
   ],
   "metadata": {
    "collapsed": false
   },
   "id": "140b82168a07702e"
  },
  {
   "cell_type": "code",
   "execution_count": 15,
   "outputs": [],
   "source": [
    "all_shortest_paths = dict(nx.all_pairs_shortest_path(decoded_wikispeedia))\n",
    "shortest_paths_df = pd.DataFrame(all_shortest_paths)"
   ],
   "metadata": {
    "collapsed": false,
    "ExecuteTime": {
     "end_time": "2023-12-15T09:03:14.263455400Z",
     "start_time": "2023-12-15T09:00:17.460002200Z"
    }
   },
   "id": "abaaa78a24454db4"
  },
  {
   "cell_type": "code",
   "execution_count": 17,
   "outputs": [
    {
     "data": {
      "text/plain": "                                    Áedán mac Gabráin  \\\nÁedán mac Gabráin                 [Áedán mac Gabráin]   \nBede                        [Áedán mac Gabráin, Bede]   \nColumba                  [Áedán mac Gabráin, Columba]   \nDál Riata              [Áedán mac Gabráin, Dál Riata]   \nGreat Britain      [Áedán mac Gabráin, Great Britain]   \n\n                                                                Bede  \\\nÁedán mac Gabráin                                                NaN   \nBede                                                          [Bede]   \nColumba                [Bede, Abbot, Christian monasticism, Columba]   \nDál Riata          [Bede, Durham Cathedral, Oswald of Northumbria...   \nGreat Britain                                  [Bede, Great Britain]   \n\n                                               Columba  \\\nÁedán mac Gabráin                                  NaN   \nBede                        [Columba, Dál Riata, Bede]   \nColumba                                      [Columba]   \nDál Riata                         [Columba, Dál Riata]   \nGreat Britain      [Columba, Dál Riata, Great Britain]   \n\n                                    Dál Riata  \\\nÁedán mac Gabráin                         NaN   \nBede                        [Dál Riata, Bede]   \nColumba                  [Dál Riata, Columba]   \nDál Riata                         [Dál Riata]   \nGreat Britain      [Dál Riata, Great Britain]   \n\n                                                       Great Britain  \\\nÁedán mac Gabráin                                                NaN   \nBede               [Great Britain, British Isles (terminology), B...   \nColumba                              [Great Britain, Picts, Columba]   \nDál Riata                  [Great Britain, British Isles, Dál Riata]   \nGreat Britain                                        [Great Britain]   \n\n                                               Ireland  \\\nÁedán mac Gabráin                                  NaN   \nBede                      [Ireland, Anno Domini, Bede]   \nColumba              [Ireland, Book of Kells, Columba]   \nDál Riata          [Ireland, British Isles, Dál Riata]   \nGreat Britain                 [Ireland, Great Britain]   \n\n                                                   Isle of Man  \\\nÁedán mac Gabráin                                          NaN   \nBede                              [Isle of Man, England, Bede]   \nColumba                       [Isle of Man, Scotland, Columba]   \nDál Riata              [Isle of Man, British Isles, Dál Riata]   \nGreat Britain      [Isle of Man, British Isles, Great Britain]   \n\n                                                  Monarchy  \\\nÁedán mac Gabráin                                      NaN   \nBede                             [Monarchy, England, Bede]   \nColumba                      [Monarchy, Scotland, Columba]   \nDál Riata          [Monarchy, British monarchy, Dál Riata]   \nGreat Britain          [Monarchy, Anguilla, Great Britain]   \n\n                                               Orkney  \\\nÁedán mac Gabráin                                 NaN   \nBede                        [Orkney, Dál Riata, Bede]   \nColumba                  [Orkney, Dál Riata, Columba]   \nDál Riata                         [Orkney, Dál Riata]   \nGreat Britain      [Orkney, Dál Riata, Great Britain]   \n\n                                              Picts  ...  \\\nÁedán mac Gabráin                               NaN  ...   \nBede                                  [Picts, Bede]  ...   \nColumba                            [Picts, Columba]  ...   \nDál Riata                        [Picts, Dál Riata]  ...   \nGreat Britain      [Picts, Aberdeen, Great Britain]  ...   \n\n                                                   Wyndham Robertson  \\\nÁedán mac Gabráin                                                NaN   \nBede               [Wyndham Robertson, American Civil War, Jesus,...   \nColumba            [Wyndham Robertson, Abraham Lincoln, Charles D...   \nDál Riata          [Wyndham Robertson, U.S. state, British Isles,...   \nGreat Britain      [Wyndham Robertson, Abraham Lincoln, Andrew Jo...   \n\n                                               X-Men  The Last Stand  \\\nÁedán mac Gabráin                                                NaN   \nBede               [X-Men  The Last Stand, Vancouver, England, Bede]   \nColumba            [X-Men  The Last Stand, Canada, Irish people, ...   \nDál Riata          [X-Men  The Last Stand, Canada, Irish people, ...   \nGreat Britain      [X-Men  The Last Stand, Canada, Afghanistan, G...   \n\n                          X Window System protocols and architecture  \\\nÁedán mac Gabráin                                                NaN   \nBede               [X Window System protocols and architecture, A...   \nColumba            [X Window System protocols and architecture, A...   \nDál Riata          [X Window System protocols and architecture, A...   \nGreat Britain      [X Window System protocols and architecture, A...   \n\n                                              X Window core protocol  \\\nÁedán mac Gabráin                                                NaN   \nBede               [X Window core protocol, Unix, AT&T, United Ki...   \nColumba            [X Window core protocol, Unix, AT&T, United Ki...   \nDál Riata          [X Window core protocol, Unix, AT&T, United Ki...   \nGreat Britain      [X Window core protocol, Unix, Latin, Great Br...   \n\n                                                       Xanadu House  \\\nÁedán mac Gabráin                                               NaN   \nBede                        [Xanadu House, Business, England, Bede]   \nColumba              [Xanadu House, Florida, Irish people, Columba]   \nDál Riata          [Xanadu House, Florida, Irish people, Dál Riata]   \nGreat Britain               [Xanadu House, Computer, Great Britain]   \n\n                                                        Yellowhammer  \\\nÁedán mac Gabráin                                                NaN   \nBede                   [Yellowhammer, Bird migration, England, Bede]   \nColumba                 [Yellowhammer, Europe, Anglicanism, Columba]   \nDál Riata          [Yellowhammer, Carolus Linnaeus, Orkney, Dál R...   \nGreat Britain           [Yellowhammer, Animal, Latin, Great Britain]   \n\n                                                      Yotsuya Kaidan  \\\nÁedán mac Gabráin                                                NaN   \nBede                          [Yotsuya Kaidan, Tokyo, England, Bede]   \nColumba                   [Yotsuya Kaidan, Tokyo, Scotland, Columba]   \nDál Riata          [Yotsuya Kaidan, Osaka, Tree, British Isles, D...   \nGreat Britain       [Yotsuya Kaidan, Osaka, Aquarium, Great Britain]   \n\n                                                You're Still the One  \\\nÁedán mac Gabráin                                                NaN   \nBede               [You're Still the One, California, Bird migrat...   \nColumba            [You're Still the One, California, English lan...   \nDál Riata          [You're Still the One, California, English lan...   \nGreat Britain      [You're Still the One, California, Computer, G...   \n\n                                                        Yungay, Peru  \\\nÁedán mac Gabráin                                                NaN   \nBede                         [Yungay, Peru, Peru, 8th century, Bede]   \nColumba            [Yungay, Peru, Earthquake, Netherlands, Scotla...   \nDál Riata          [Yungay, Peru, Earthquake, United Kingdom, Bri...   \nGreat Britain      [Yungay, Peru, Earthquake, Indonesia, Great Br...   \n\n                                                       Zara Yaqob  \nÁedán mac Gabráin                                             NaN  \nBede                          [Zara Yaqob, Ethiopia, Jesus, Bede]  \nColumba              [Zara Yaqob, Ethiopia, 6th century, Columba]  \nDál Riata          [Zara Yaqob, Europe, British Isles, Dál Riata]  \nGreat Britain                  [Zara Yaqob, Islam, Great Britain]  \n\n[5 rows x 4592 columns]",
      "text/html": "<div>\n<style scoped>\n    .dataframe tbody tr th:only-of-type {\n        vertical-align: middle;\n    }\n\n    .dataframe tbody tr th {\n        vertical-align: top;\n    }\n\n    .dataframe thead th {\n        text-align: right;\n    }\n</style>\n<table border=\"1\" class=\"dataframe\">\n  <thead>\n    <tr style=\"text-align: right;\">\n      <th></th>\n      <th>Áedán mac Gabráin</th>\n      <th>Bede</th>\n      <th>Columba</th>\n      <th>Dál Riata</th>\n      <th>Great Britain</th>\n      <th>Ireland</th>\n      <th>Isle of Man</th>\n      <th>Monarchy</th>\n      <th>Orkney</th>\n      <th>Picts</th>\n      <th>...</th>\n      <th>Wyndham Robertson</th>\n      <th>X-Men  The Last Stand</th>\n      <th>X Window System protocols and architecture</th>\n      <th>X Window core protocol</th>\n      <th>Xanadu House</th>\n      <th>Yellowhammer</th>\n      <th>Yotsuya Kaidan</th>\n      <th>You're Still the One</th>\n      <th>Yungay, Peru</th>\n      <th>Zara Yaqob</th>\n    </tr>\n  </thead>\n  <tbody>\n    <tr>\n      <th>Áedán mac Gabráin</th>\n      <td>[Áedán mac Gabráin]</td>\n      <td>NaN</td>\n      <td>NaN</td>\n      <td>NaN</td>\n      <td>NaN</td>\n      <td>NaN</td>\n      <td>NaN</td>\n      <td>NaN</td>\n      <td>NaN</td>\n      <td>NaN</td>\n      <td>...</td>\n      <td>NaN</td>\n      <td>NaN</td>\n      <td>NaN</td>\n      <td>NaN</td>\n      <td>NaN</td>\n      <td>NaN</td>\n      <td>NaN</td>\n      <td>NaN</td>\n      <td>NaN</td>\n      <td>NaN</td>\n    </tr>\n    <tr>\n      <th>Bede</th>\n      <td>[Áedán mac Gabráin, Bede]</td>\n      <td>[Bede]</td>\n      <td>[Columba, Dál Riata, Bede]</td>\n      <td>[Dál Riata, Bede]</td>\n      <td>[Great Britain, British Isles (terminology), B...</td>\n      <td>[Ireland, Anno Domini, Bede]</td>\n      <td>[Isle of Man, England, Bede]</td>\n      <td>[Monarchy, England, Bede]</td>\n      <td>[Orkney, Dál Riata, Bede]</td>\n      <td>[Picts, Bede]</td>\n      <td>...</td>\n      <td>[Wyndham Robertson, American Civil War, Jesus,...</td>\n      <td>[X-Men  The Last Stand, Vancouver, England, Bede]</td>\n      <td>[X Window System protocols and architecture, A...</td>\n      <td>[X Window core protocol, Unix, AT&amp;T, United Ki...</td>\n      <td>[Xanadu House, Business, England, Bede]</td>\n      <td>[Yellowhammer, Bird migration, England, Bede]</td>\n      <td>[Yotsuya Kaidan, Tokyo, England, Bede]</td>\n      <td>[You're Still the One, California, Bird migrat...</td>\n      <td>[Yungay, Peru, Peru, 8th century, Bede]</td>\n      <td>[Zara Yaqob, Ethiopia, Jesus, Bede]</td>\n    </tr>\n    <tr>\n      <th>Columba</th>\n      <td>[Áedán mac Gabráin, Columba]</td>\n      <td>[Bede, Abbot, Christian monasticism, Columba]</td>\n      <td>[Columba]</td>\n      <td>[Dál Riata, Columba]</td>\n      <td>[Great Britain, Picts, Columba]</td>\n      <td>[Ireland, Book of Kells, Columba]</td>\n      <td>[Isle of Man, Scotland, Columba]</td>\n      <td>[Monarchy, Scotland, Columba]</td>\n      <td>[Orkney, Dál Riata, Columba]</td>\n      <td>[Picts, Columba]</td>\n      <td>...</td>\n      <td>[Wyndham Robertson, Abraham Lincoln, Charles D...</td>\n      <td>[X-Men  The Last Stand, Canada, Irish people, ...</td>\n      <td>[X Window System protocols and architecture, A...</td>\n      <td>[X Window core protocol, Unix, AT&amp;T, United Ki...</td>\n      <td>[Xanadu House, Florida, Irish people, Columba]</td>\n      <td>[Yellowhammer, Europe, Anglicanism, Columba]</td>\n      <td>[Yotsuya Kaidan, Tokyo, Scotland, Columba]</td>\n      <td>[You're Still the One, California, English lan...</td>\n      <td>[Yungay, Peru, Earthquake, Netherlands, Scotla...</td>\n      <td>[Zara Yaqob, Ethiopia, 6th century, Columba]</td>\n    </tr>\n    <tr>\n      <th>Dál Riata</th>\n      <td>[Áedán mac Gabráin, Dál Riata]</td>\n      <td>[Bede, Durham Cathedral, Oswald of Northumbria...</td>\n      <td>[Columba, Dál Riata]</td>\n      <td>[Dál Riata]</td>\n      <td>[Great Britain, British Isles, Dál Riata]</td>\n      <td>[Ireland, British Isles, Dál Riata]</td>\n      <td>[Isle of Man, British Isles, Dál Riata]</td>\n      <td>[Monarchy, British monarchy, Dál Riata]</td>\n      <td>[Orkney, Dál Riata]</td>\n      <td>[Picts, Dál Riata]</td>\n      <td>...</td>\n      <td>[Wyndham Robertson, U.S. state, British Isles,...</td>\n      <td>[X-Men  The Last Stand, Canada, Irish people, ...</td>\n      <td>[X Window System protocols and architecture, A...</td>\n      <td>[X Window core protocol, Unix, AT&amp;T, United Ki...</td>\n      <td>[Xanadu House, Florida, Irish people, Dál Riata]</td>\n      <td>[Yellowhammer, Carolus Linnaeus, Orkney, Dál R...</td>\n      <td>[Yotsuya Kaidan, Osaka, Tree, British Isles, D...</td>\n      <td>[You're Still the One, California, English lan...</td>\n      <td>[Yungay, Peru, Earthquake, United Kingdom, Bri...</td>\n      <td>[Zara Yaqob, Europe, British Isles, Dál Riata]</td>\n    </tr>\n    <tr>\n      <th>Great Britain</th>\n      <td>[Áedán mac Gabráin, Great Britain]</td>\n      <td>[Bede, Great Britain]</td>\n      <td>[Columba, Dál Riata, Great Britain]</td>\n      <td>[Dál Riata, Great Britain]</td>\n      <td>[Great Britain]</td>\n      <td>[Ireland, Great Britain]</td>\n      <td>[Isle of Man, British Isles, Great Britain]</td>\n      <td>[Monarchy, Anguilla, Great Britain]</td>\n      <td>[Orkney, Dál Riata, Great Britain]</td>\n      <td>[Picts, Aberdeen, Great Britain]</td>\n      <td>...</td>\n      <td>[Wyndham Robertson, Abraham Lincoln, Andrew Jo...</td>\n      <td>[X-Men  The Last Stand, Canada, Afghanistan, G...</td>\n      <td>[X Window System protocols and architecture, A...</td>\n      <td>[X Window core protocol, Unix, Latin, Great Br...</td>\n      <td>[Xanadu House, Computer, Great Britain]</td>\n      <td>[Yellowhammer, Animal, Latin, Great Britain]</td>\n      <td>[Yotsuya Kaidan, Osaka, Aquarium, Great Britain]</td>\n      <td>[You're Still the One, California, Computer, G...</td>\n      <td>[Yungay, Peru, Earthquake, Indonesia, Great Br...</td>\n      <td>[Zara Yaqob, Islam, Great Britain]</td>\n    </tr>\n  </tbody>\n</table>\n<p>5 rows × 4592 columns</p>\n</div>"
     },
     "execution_count": 17,
     "metadata": {},
     "output_type": "execute_result"
    }
   ],
   "source": [
    "shortest_paths_df.head()"
   ],
   "metadata": {
    "collapsed": false,
    "ExecuteTime": {
     "end_time": "2023-12-15T09:04:05.346238300Z",
     "start_time": "2023-12-15T09:04:05.272050400Z"
    }
   },
   "id": "530e4f56aeceba5a"
  },
  {
   "cell_type": "code",
   "execution_count": 19,
   "outputs": [
    {
     "data": {
      "text/plain": "0    Áedán mac Gabráin\n1                 Bede\n2              Columba\n3            Dál Riata\n4        Great Britain\ndtype: object"
     },
     "execution_count": 19,
     "metadata": {},
     "output_type": "execute_result"
    }
   ],
   "source": [
    "series_of_elements = pd.Series(shortest_paths_df.index)\n",
    "series_of_elements.head()"
   ],
   "metadata": {
    "collapsed": false,
    "ExecuteTime": {
     "end_time": "2023-12-15T09:18:25.171553800Z",
     "start_time": "2023-12-15T09:18:25.121783300Z"
    }
   },
   "id": "e52ab24515e93b0b"
  },
  {
   "cell_type": "code",
   "execution_count": 71,
   "outputs": [
    {
     "ename": "KeyboardInterrupt",
     "evalue": "",
     "output_type": "error",
     "traceback": [
      "\u001B[1;31m---------------------------------------------------------------------------\u001B[0m",
      "\u001B[1;31mKeyboardInterrupt\u001B[0m                         Traceback (most recent call last)",
      "Cell \u001B[1;32mIn[71], line 19\u001B[0m\n\u001B[0;32m     17\u001B[0m \u001B[38;5;28;01mfor\u001B[39;00m source \u001B[38;5;129;01min\u001B[39;00m node_list:\n\u001B[0;32m     18\u001B[0m     \u001B[38;5;28;01mfor\u001B[39;00m target \u001B[38;5;129;01min\u001B[39;00m node_list:\n\u001B[1;32m---> 19\u001B[0m         source_and_target \u001B[38;5;241m=\u001B[39m series_of_elements\u001B[38;5;241m.\u001B[39misin([source, target])\n\u001B[0;32m     20\u001B[0m         \u001B[38;5;66;03m# Order of target and source should make sense, it's just a consequence of how things are organized elsewhere\u001B[39;00m\n\u001B[0;32m     21\u001B[0m         \n\u001B[0;32m     22\u001B[0m         \u001B[38;5;66;03m# There are cases where the element is a nan, which is why we do this extra check\u001B[39;00m\n\u001B[0;32m     23\u001B[0m         \u001B[38;5;66;03m# This just skips the element, as there is no need to classify it then!\u001B[39;00m\n\u001B[0;32m     24\u001B[0m         \u001B[38;5;28;01mif\u001B[39;00m \u001B[38;5;28mtype\u001B[39m(shortest_paths_df\u001B[38;5;241m.\u001B[39mloc[target, source]) \u001B[38;5;241m!=\u001B[39m \u001B[38;5;28mlist\u001B[39m:\n\u001B[0;32m     25\u001B[0m             \u001B[38;5;66;03m#print('No path between', source, target)\u001B[39;00m\n",
      "File \u001B[1;32m~\\anaconda3\\Lib\\site-packages\\pandas\\core\\series.py:5564\u001B[0m, in \u001B[0;36mSeries.isin\u001B[1;34m(self, values)\u001B[0m\n\u001B[0;32m   5491\u001B[0m \u001B[38;5;250m\u001B[39m\u001B[38;5;124;03m\"\"\"\u001B[39;00m\n\u001B[0;32m   5492\u001B[0m \u001B[38;5;124;03mWhether elements in Series are contained in `values`.\u001B[39;00m\n\u001B[0;32m   5493\u001B[0m \n\u001B[1;32m   (...)\u001B[0m\n\u001B[0;32m   5561\u001B[0m \u001B[38;5;124;03mdtype: bool\u001B[39;00m\n\u001B[0;32m   5562\u001B[0m \u001B[38;5;124;03m\"\"\"\u001B[39;00m\n\u001B[0;32m   5563\u001B[0m result \u001B[38;5;241m=\u001B[39m algorithms\u001B[38;5;241m.\u001B[39misin(\u001B[38;5;28mself\u001B[39m\u001B[38;5;241m.\u001B[39m_values, values)\n\u001B[1;32m-> 5564\u001B[0m \u001B[38;5;28;01mreturn\u001B[39;00m \u001B[38;5;28mself\u001B[39m\u001B[38;5;241m.\u001B[39m_constructor(result, index\u001B[38;5;241m=\u001B[39m\u001B[38;5;28mself\u001B[39m\u001B[38;5;241m.\u001B[39mindex)\u001B[38;5;241m.\u001B[39m__finalize__(\n\u001B[0;32m   5565\u001B[0m     \u001B[38;5;28mself\u001B[39m, method\u001B[38;5;241m=\u001B[39m\u001B[38;5;124m\"\u001B[39m\u001B[38;5;124misin\u001B[39m\u001B[38;5;124m\"\u001B[39m\n\u001B[0;32m   5566\u001B[0m )\n",
      "File \u001B[1;32m~\\anaconda3\\Lib\\site-packages\\pandas\\core\\series.py:546\u001B[0m, in \u001B[0;36mSeries._constructor\u001B[1;34m(self)\u001B[0m\n\u001B[0;32m    542\u001B[0m     \u001B[38;5;28;01mreturn\u001B[39;00m s\u001B[38;5;241m.\u001B[39m_mgr, s\u001B[38;5;241m.\u001B[39mindex\n\u001B[0;32m    544\u001B[0m \u001B[38;5;66;03m# ----------------------------------------------------------------------\u001B[39;00m\n\u001B[1;32m--> 546\u001B[0m \u001B[38;5;129m@property\u001B[39m\n\u001B[0;32m    547\u001B[0m \u001B[38;5;28;01mdef\u001B[39;00m \u001B[38;5;21m_constructor\u001B[39m(\u001B[38;5;28mself\u001B[39m) \u001B[38;5;241m-\u001B[39m\u001B[38;5;241m>\u001B[39m Callable[\u001B[38;5;241m.\u001B[39m\u001B[38;5;241m.\u001B[39m\u001B[38;5;241m.\u001B[39m, Series]:\n\u001B[0;32m    548\u001B[0m     \u001B[38;5;28;01mreturn\u001B[39;00m Series\n\u001B[0;32m    550\u001B[0m \u001B[38;5;129m@property\u001B[39m\n\u001B[0;32m    551\u001B[0m \u001B[38;5;28;01mdef\u001B[39;00m \u001B[38;5;21m_constructor_expanddim\u001B[39m(\u001B[38;5;28mself\u001B[39m) \u001B[38;5;241m-\u001B[39m\u001B[38;5;241m>\u001B[39m Callable[\u001B[38;5;241m.\u001B[39m\u001B[38;5;241m.\u001B[39m\u001B[38;5;241m.\u001B[39m, DataFrame]:\n",
      "\u001B[1;31mKeyboardInterrupt\u001B[0m: "
     ]
    }
   ],
   "source": [
    "# In the resulting DF the column is the source node\n",
    "# The target is the row\n",
    "\n",
    "# There's probably a pandas way of doing this that is nicer and not a bunch of shitty for loops\n",
    "# But that's okay\n",
    "shortest_paths_classification_dict = {}\n",
    "\n",
    "# I need a way of transforming an input into the classification part...\n",
    "# Having a pandas series with the values being the node names seems like the easiest solution!\n",
    "series_of_elements = pd.Series(shortest_paths_df.index)\n",
    "\n",
    "# IMPORTANT: This means the resulting nodes are in whatever is the current order\n",
    "# This can be shit, as the system might learn other stuff by coincidence...\n",
    "# Might also not matter?\n",
    "# We need a way of guaranteeing this order is kept!!!\n",
    "\n",
    "for source in node_list:\n",
    "    for target in node_list:\n",
    "        source_and_target = series_of_elements.isin([source, target])\n",
    "        # Order of target and source should make sense, it's just a consequence of how things are organized elsewhere\n",
    "        \n",
    "        # There are cases where the element is a nan, which is why we do this extra check\n",
    "        # This just skips the element, as there is no need to classify it then!\n",
    "        if type(shortest_paths_df.loc[target, source]) != list:\n",
    "            #print('No path between', source, target)\n",
    "            continue\n",
    "        shortest_path_here = series_of_elements.isin(shortest_paths_df.loc[target, source])\n",
    "        \n",
    "        # So each element in the dict is a tuple where the first element is the classification,\n",
    "        # The second is the solution\n",
    "        shortest_paths_classification_dict[(source, target)] = (\n",
    "            torch.tensor(source_and_target, dtype=torch.float32),\n",
    "            torch.tensor(shortest_path_here, dtype=torch.float32)\n",
    "        )\n",
    "\n"
   ],
   "metadata": {
    "collapsed": false,
    "ExecuteTime": {
     "end_time": "2023-12-15T14:07:36.729908700Z",
     "start_time": "2023-12-15T14:07:22.764199900Z"
    }
   },
   "id": "15a6acd2f145d820"
  },
  {
   "cell_type": "code",
   "execution_count": null,
   "outputs": [],
   "source": [
    "# At this point you should pickle the shortest_paths_classification_dict\n",
    "# this is to guarantee it works out!\n",
    "# Didn't write the code, but it's not ultra hard\n",
    "import pickle\n"
   ],
   "metadata": {
    "collapsed": false
   },
   "id": "b0aacdd833113206"
  },
  {
   "cell_type": "code",
   "execution_count": 27,
   "outputs": [
    {
     "data": {
      "text/plain": "tensor([[1., 0., 0.,  ..., 0., 0., 0.],\n        [1., 1., 0.,  ..., 0., 0., 0.]])"
     },
     "execution_count": 27,
     "metadata": {},
     "output_type": "execute_result"
    }
   ],
   "source": [
    "temp = shortest_paths_classification_dict[('Áedán mac Gabráin',\n",
    "                                    'German language')]\n",
    "\n",
    "temp"
   ],
   "metadata": {
    "collapsed": false,
    "ExecuteTime": {
     "end_time": "2023-12-15T12:04:07.315546800Z",
     "start_time": "2023-12-15T12:04:07.311656700Z"
    }
   },
   "id": "444960a93908c8ef"
  },
  {
   "cell_type": "code",
   "execution_count": 29,
   "outputs": [],
   "source": [
    "# Someone please double check that the orders line up!\n",
    "adj_matrix = nx.adjacency_matrix(decoded_wikispeedia, nodelist=node_list)"
   ],
   "metadata": {
    "collapsed": false,
    "ExecuteTime": {
     "end_time": "2023-12-15T12:15:57.256367700Z",
     "start_time": "2023-12-15T12:15:57.238715Z"
    }
   },
   "id": "ac63754c85faa201"
  },
  {
   "cell_type": "markdown",
   "source": [
    "# Building the problem generator\n",
    "All the parts are there, now is the part of kinda building the things together.\n",
    "\n",
    "Namely, this does the following:\n",
    "- Go over the shortest_paths_classification_dict and add the relevant source/target and the y value where needed\n",
    "- Checks the queries and only supplies problems that have not been done by humans. This is to make the testing more equal to avoid issues of dataleakage\n",
    "\n",
    "There is some extra smoothing that needs to be done here, particularly because there is already a dataloader class in pytorch and in pytorch geometric. But no fucking clue how to grab it!"
   ],
   "metadata": {
    "collapsed": false
   },
   "id": "d12993c615b18379"
  },
  {
   "cell_type": "code",
   "execution_count": 32,
   "outputs": [],
   "source": [
    "# TODO: We really should store this article_combinations as a df... it's pretty important\n",
    "#   and calculating it all the time is a pain\n",
    "\n",
    "finished_paths = pd.read_csv('../datasets/wikispeedia_paths-and-graph/paths_finished.tsv', sep='\\t', skiprows=15,\n",
    "                             names=['hashedIpAddress', 'timestamp', \"durationInSec\", 'path', \"rating\"])\n",
    "finished_paths['first_article'] = finished_paths['path'].apply(lambda x: x.split(';')[0])\n",
    "finished_paths['last_article'] = finished_paths['path'].apply(lambda x: x.split(';')[-1])\n",
    "finished_paths['path_length'] = finished_paths['path'].apply(lambda x: len(x.split(';')))\n",
    "finished_paths['date'] = pd.to_datetime(finished_paths['timestamp'], unit='s')\n",
    "\n",
    "# How many each pair of articles has been visited\n",
    "article_combinations_count = finished_paths.groupby(['first_article', 'last_article']).size().reset_index(name='count')\n",
    "\n",
    "# The mean and std of the path length for each pair of articles\n",
    "article_combinations_stats = finished_paths.groupby(['first_article', 'last_article'])['path_length'].agg(['mean', 'std']).reset_index()\n",
    "article_combinations_stats['std'] = article_combinations_stats['std'].fillna(0)\n",
    "article_combinations_stats.rename(columns={'mean': 'mean_length', 'std': 'std_length'}, inplace=True)\n",
    "\n",
    "# The mean and std of the rating for each pair of articles. \n",
    "# Note that mean and std may be nan if there are nan ratings. We purposely leave them as nan, as we don't want to fill them with 0s or 1s.\n",
    "# Depending on the application, we could change this in the future if neeeded.\n",
    "rating_combinations_stats_rating = finished_paths.groupby(['first_article', 'last_article'])['rating'].agg(['mean', 'std']).reset_index()\n",
    "#rating_combinations_stats_rating['std'] = rating_combinations_stats_rating['std'].fillna(0)\n",
    "mask = rating_combinations_stats_rating['mean'].notnull()\n",
    "rating_combinations_stats_rating.loc[mask, 'std'] = rating_combinations_stats_rating.loc[mask, 'std'].fillna(0)\n",
    "rating_combinations_stats_rating.rename(columns={'mean': 'mean_rating', 'std': 'std_rating'}, inplace=True)\n",
    "\n",
    "# The mean and std of the time for each pair of articles.\n",
    "rating_combinations_stats_time = finished_paths.groupby(['first_article', 'last_article'])['durationInSec'].agg(['mean', 'std']).reset_index()\n",
    "rating_combinations_stats_time['std'] = rating_combinations_stats_time['std'].fillna(0)\n",
    "rating_combinations_stats_time.rename(columns={'mean': 'mean_durationInSec', 'std': 'std_durationInSec'}, inplace=True)\n",
    "\n",
    "# Merging all the dataframes\n",
    "article_combinations = pd.merge(article_combinations_count, article_combinations_stats, on=['first_article', 'last_article'])\n",
    "article_combinations = pd.merge(article_combinations, rating_combinations_stats_rating, on=['first_article', 'last_article'])\n",
    "article_combinations = pd.merge(article_combinations, rating_combinations_stats_time, on=['first_article', 'last_article'])\n",
    "\n",
    "article_combinations['first_article'] = article_combinations['first_article'].apply(decode_word)\n",
    "article_combinations['last_article'] = article_combinations['last_article'].apply(decode_word)\n"
   ],
   "metadata": {
    "collapsed": false,
    "ExecuteTime": {
     "end_time": "2023-12-15T12:39:50.395189900Z",
     "start_time": "2023-12-15T12:39:50.120135300Z"
    }
   },
   "id": "9ce45270040a3726"
  },
  {
   "cell_type": "code",
   "execution_count": 33,
   "outputs": [
    {
     "data": {
      "text/plain": "            first_article          last_article  count  mean_length  \\\n0  €2 commemorative coins             Irish Sea      1          3.0   \n1            10th century          11th century      3          2.0   \n2            10th century              Banknote      1          5.0   \n3            10th century               Country      1          3.0   \n4            10th century  Harlem Globetrotters      2          4.5   \n\n   std_length  mean_rating  std_rating  mean_durationInSec  std_durationInSec  \n0    0.000000     1.000000    0.000000           15.000000           0.000000  \n1    0.000000     2.333333    2.309401            4.333333           1.527525  \n2    0.000000     3.000000    0.000000           48.000000           0.000000  \n3    0.000000     1.000000    0.000000           15.000000           0.000000  \n4    0.707107     2.000000    0.000000           75.000000          24.041631  ",
      "text/html": "<div>\n<style scoped>\n    .dataframe tbody tr th:only-of-type {\n        vertical-align: middle;\n    }\n\n    .dataframe tbody tr th {\n        vertical-align: top;\n    }\n\n    .dataframe thead th {\n        text-align: right;\n    }\n</style>\n<table border=\"1\" class=\"dataframe\">\n  <thead>\n    <tr style=\"text-align: right;\">\n      <th></th>\n      <th>first_article</th>\n      <th>last_article</th>\n      <th>count</th>\n      <th>mean_length</th>\n      <th>std_length</th>\n      <th>mean_rating</th>\n      <th>std_rating</th>\n      <th>mean_durationInSec</th>\n      <th>std_durationInSec</th>\n    </tr>\n  </thead>\n  <tbody>\n    <tr>\n      <th>0</th>\n      <td>€2 commemorative coins</td>\n      <td>Irish Sea</td>\n      <td>1</td>\n      <td>3.0</td>\n      <td>0.000000</td>\n      <td>1.000000</td>\n      <td>0.000000</td>\n      <td>15.000000</td>\n      <td>0.000000</td>\n    </tr>\n    <tr>\n      <th>1</th>\n      <td>10th century</td>\n      <td>11th century</td>\n      <td>3</td>\n      <td>2.0</td>\n      <td>0.000000</td>\n      <td>2.333333</td>\n      <td>2.309401</td>\n      <td>4.333333</td>\n      <td>1.527525</td>\n    </tr>\n    <tr>\n      <th>2</th>\n      <td>10th century</td>\n      <td>Banknote</td>\n      <td>1</td>\n      <td>5.0</td>\n      <td>0.000000</td>\n      <td>3.000000</td>\n      <td>0.000000</td>\n      <td>48.000000</td>\n      <td>0.000000</td>\n    </tr>\n    <tr>\n      <th>3</th>\n      <td>10th century</td>\n      <td>Country</td>\n      <td>1</td>\n      <td>3.0</td>\n      <td>0.000000</td>\n      <td>1.000000</td>\n      <td>0.000000</td>\n      <td>15.000000</td>\n      <td>0.000000</td>\n    </tr>\n    <tr>\n      <th>4</th>\n      <td>10th century</td>\n      <td>Harlem Globetrotters</td>\n      <td>2</td>\n      <td>4.5</td>\n      <td>0.707107</td>\n      <td>2.000000</td>\n      <td>0.000000</td>\n      <td>75.000000</td>\n      <td>24.041631</td>\n    </tr>\n  </tbody>\n</table>\n</div>"
     },
     "execution_count": 33,
     "metadata": {},
     "output_type": "execute_result"
    }
   ],
   "source": [
    "article_combinations.head()"
   ],
   "metadata": {
    "collapsed": false,
    "ExecuteTime": {
     "end_time": "2023-12-15T12:39:51.437064100Z",
     "start_time": "2023-12-15T12:39:51.416884200Z"
    }
   },
   "id": "66403b483e2eea5e"
  },
  {
   "cell_type": "code",
   "execution_count": 41,
   "outputs": [
    {
     "data": {
      "text/plain": "[('€2 commemorative coins', 'Irish Sea'),\n ('10th century', '11th century'),\n ('10th century', 'Banknote'),\n ('10th century', 'Country'),\n ('10th century', 'Harlem Globetrotters'),\n ('10th century', 'History of democracy'),\n ('10th century', 'Marco Polo'),\n ('10th century', 'Soviet Union'),\n ('11th century', 'Art'),\n ('11th century', 'Dimetrodon'),\n ('11th century', 'Education in the United States'),\n ('11th century', 'Ho Chi Minh'),\n ('11th century', 'Hurricane Alex (2004)'),\n ('11th century', 'John Adams'),\n ('11th century', 'Lhasa'),\n ('11th century', 'Nintendo Entertainment System'),\n ('11th century', 'Plum'),\n ('11th century', 'Taiwan'),\n ('11th century', 'Warsaw'),\n ('12th century', 'Belfast'),\n ('12th century', 'Edinburgh'),\n ('12th century', 'Flat Earth'),\n ('12th century', 'Geography of Ireland'),\n ('12th century', 'Guitar'),\n ('12th century', 'Islam'),\n ('12th century', 'Katana'),\n ('12th century', 'Mexico'),\n ('12th century', 'Suleiman the Magnificent'),\n ('12th century', 'University of Chicago'),\n ('12th century', 'Zimbabwe'),\n ('13th century', 'Bison'),\n ('13th century', 'Guernsey'),\n ('13th century', 'Lothal'),\n ('13th century', 'Neighbours'),\n ('13th century', 'Olive oil'),\n ('14th century', 'African slave trade'),\n ('14th century', 'Elizabeth I of England'),\n ('14th century', 'Fire'),\n ('14th century', 'Greece'),\n ('14th century', 'Henry David Thoreau'),\n ('14th century', 'John F. Kennedy'),\n ('14th century', 'Rainbow'),\n ('14th century', 'Sodium'),\n ('15th Marine Expeditionary Unit', 'Cheetah'),\n ('15th Marine Expeditionary Unit', 'Ireland'),\n ('15th Marine Expeditionary Unit', 'Multiple sequence alignment'),\n ('15th Marine Expeditionary Unit', 'Planet'),\n ('15th Marine Expeditionary Unit', 'Republic of Ireland'),\n ('15th century', 'Anglican Church of Australia'),\n ('15th century', 'Arithmetic'),\n ('15th century', 'Falcon'),\n ('15th century', 'Hurricane Floyd'),\n ('15th century', 'Sulfuric acid'),\n ('15th century', 'The Last Supper (Leonardo)'),\n ('15th century', 'Windows Vista'),\n ('16 Cygni', 'HIV'),\n ('16 Cygni', 'Hurricane Andrew'),\n ('16 Cygni', 'Saudi Arabia'),\n ('16 Cygni', 'TeX'),\n ('16 Cygni Bb', '16 Cygni'),\n ('16 Cygni Bb', 'Ammonite'),\n ('16 Cygni Bb', 'Astrology'),\n ('16 Cygni Bb', 'Attention-deficit hyperactivity disorder'),\n ('16 Cygni Bb', 'Corinthian War'),\n ('16 Cygni Bb', 'Hippocrates'),\n ('16 Cygni Bb', 'Jew'),\n ('16 Cygni Bb', 'Mexico'),\n ('16 Cygni Bb', 'Persian Gulf'),\n ('16 Cygni Bb', 'United States Constitution'),\n ('16 Cygni Bb', 'Utilitarianism'),\n ('16th century', '1st century'),\n ('16th century', 'Able Archer 83'),\n ('16th century', 'Adolf Hitler'),\n ('16th century', 'Clock'),\n ('16th century', 'Domesday Book'),\n ('16th century', 'Football'),\n ('16th century', 'Houston, Texas'),\n ('16th century', 'Ike Altgens'),\n ('16th century', 'Political integration of India'),\n ('16th century', 'South Ossetia'),\n ('16th century', 'Trinity'),\n ('16th century', 'Victoria of the United Kingdom'),\n ('1755 Lisbon earthquake', '8th century'),\n ('1755 Lisbon earthquake', 'Basketball'),\n ('1755 Lisbon earthquake', 'Quantum mechanics'),\n ('1755 Lisbon earthquake', 'Whale shark'),\n ('17th century', 'Attack on Pearl Harbor'),\n ('17th century', 'Edward VI of England'),\n ('17th century', 'Jackie Robinson'),\n ('17th century', 'Lhasa'),\n ('17th century', 'Monarchy'),\n ('17th century', 'Saturn'),\n ('1896 Summer Olympics', 'Cairo'),\n ('1896 Summer Olympics', 'Leonardo da Vinci'),\n ('1896 Summer Olympics', 'Niger River'),\n ('1896 Summer Olympics', 'Planet'),\n ('18th century', 'Capitalism'),\n ('18th century', 'Fencing'),\n ('18th century', 'Language'),\n ('18th century', 'Malcolm X'),\n ('18th century', 'Minnesota'),\n ('18th century', 'Perth, Western Australia'),\n ('18th century', 'Sumer'),\n ('1928 Okeechobee Hurricane', 'Adolf Hitler'),\n ('1928 Okeechobee Hurricane', 'Colombia'),\n ('1928 Okeechobee Hurricane', 'Costa Rica'),\n ('1928 Okeechobee Hurricane', 'Force'),\n ('1928 Okeechobee Hurricane', 'Invasive species'),\n ('1928 Okeechobee Hurricane', 'Irish Sea'),\n ('1928 Okeechobee Hurricane', 'Nuclear weapon'),\n ('1928 Okeechobee Hurricane', 'Pyramid'),\n ('1973 oil crisis', 'Benito Mussolini'),\n ('1973 oil crisis', 'Berkelium'),\n ('1973 oil crisis', 'Bohemian Rhapsody'),\n ('1973 oil crisis', 'Ivory-billed Woodpecker'),\n ('1973 oil crisis', 'Sassanid Empire'),\n ('1973 oil crisis', 'Tower of London'),\n ('1980 eruption of Mount St. Helens', 'Adolf Hitler'),\n ('1980 eruption of Mount St. Helens', 'Bamako'),\n ('1980 eruption of Mount St. Helens', 'Buddha'),\n ('1980 eruption of Mount St. Helens', 'Dubai'),\n ('1980 eruption of Mount St. Helens', 'Eurasian Collared Dove'),\n ('1980 eruption of Mount St. Helens', 'Glass'),\n ('19th century', 'Antarctic krill'),\n ('19th century', 'Battle of the Eastern Solomons'),\n ('19th century', 'Bear'),\n ('19th century', 'Claudius'),\n ('19th century', 'Code of Hammurabi'),\n ('19th century', 'Convention on the Rights of the Child'),\n ('19th century', 'Lead'),\n ('19th century', 'Lord Voldemort'),\n ('19th century', 'Mikhail Gorbachev'),\n ('19th century', 'Paul McCartney'),\n ('19th century', 'Religion'),\n ('19th century', \"Sgt. Pepper's Lonely Hearts Club Band\"),\n ('19th century', 'Terrorism'),\n ('19th century', 'Volcano'),\n ('1 Ceres', 'Indian Ocean'),\n ('1 Ceres', 'John Locke'),\n ('1 Ceres', 'London'),\n ('1 Ceres', 'Miami, Florida'),\n ('1 Ceres', 'Sputnik 2'),\n ('1st century', 'Alphabet'),\n ('1st century', 'East Africa'),\n ('1st century', 'Flag of Belarus'),\n ('1st century', 'Pac-Man'),\n ('1st century', 'Phosphorus'),\n ('1st century', 'Steam engine'),\n ('1st century', 'Superconductivity'),\n ('1st century BC', 'Buddha'),\n ('1st century BC', 'Hydrogen'),\n ('1st century BC', 'Ocean'),\n ('1st century BC', 'Religious Society of Friends'),\n ('1st century BC', 'Roentgenium'),\n ('1st century BC', 'Spider'),\n ('2-6-0', 'Canberra'),\n ('2-6-0', 'Marshall Plan'),\n ('2-8-0', 'James K. Polk'),\n ('2-8-0', 'John F. Kennedy'),\n ('2-8-0', 'List of Prime Ministers of the United Kingdom'),\n ('2-8-0', 'Michael Jordan'),\n ('2-8-0', 'Muhammad Ali'),\n ('2003 Atlantic hurricane season', 'Cambodia'),\n ('2003 Atlantic hurricane season', 'Gull'),\n ('2003 Atlantic hurricane season', 'Thunderstorm'),\n ('2003 Atlantic hurricane season', 'Vatican City'),\n ('2004 Atlantic hurricane season', '8th century'),\n ('2004 Atlantic hurricane season', 'Art'),\n ('2004 Atlantic hurricane season', 'Atom'),\n ('2004 Atlantic hurricane season', 'Buckminster Fuller'),\n ('2004 Atlantic hurricane season', 'Chromium'),\n ('2004 Atlantic hurricane season', 'Great comet'),\n ('2004 Atlantic hurricane season', 'Ice age'),\n ('2004 Atlantic hurricane season', 'James II of England'),\n ('2004 Indian Ocean earthquake', 'Argan'),\n ('2004 Indian Ocean earthquake', 'Columbus, Ohio'),\n ('2004 Indian Ocean earthquake', 'Corundum'),\n ('2004 Indian Ocean earthquake', 'Electric charge'),\n ('2004 Indian Ocean earthquake', 'Irish Sea'),\n ('2004 Indian Ocean earthquake', 'Ivory'),\n ('2004 Indian Ocean earthquake', 'Leif Ericson'),\n ('2004 Indian Ocean earthquake', 'Manchester United F.C.'),\n ('2004 Indian Ocean earthquake', 'Martinique'),\n ('2004 Indian Ocean earthquake', 'Motion (physics)'),\n ('2004 Indian Ocean earthquake', 'Tuna'),\n ('2005 Atlantic hurricane season', 'Burundi'),\n ('2005 Atlantic hurricane season', 'Hydrogen peroxide'),\n ('2005 Atlantic hurricane season', 'International Court of Justice'),\n ('2005 Atlantic hurricane season', 'Jazz'),\n ('2005 Atlantic hurricane season', 'Liechtenstein'),\n ('2005 Atlantic hurricane season', 'Lisbon'),\n ('2005 Atlantic hurricane season', 'Spain'),\n ('2005 Atlantic hurricane season', 'Sweden'),\n ('2005 Atlantic hurricane season', 'William McKinley'),\n ('2005 Hertfordshire Oil Storage Terminal fire', 'Franz Schubert'),\n ('2005 Kashmir earthquake', 'Aircraft'),\n ('2005 Kashmir earthquake', 'Analytical Marxism'),\n ('2005 Kashmir earthquake', 'Canadian House of Commons'),\n ('2005 Kashmir earthquake', 'Trafalgar Square'),\n ('2005 Kashmir earthquake', 'Walrus'),\n ('2005 Sumatra earthquake', 'A Christmas Carol'),\n ('2005 Sumatra earthquake', 'Beaver'),\n ('2005 Sumatra earthquake', 'Firearm'),\n ('2005 Sumatra earthquake', 'Geometry'),\n ('2005 Sumatra earthquake', 'Jersey Zoological Park'),\n ('2005 Sumatra earthquake', 'Mark Twain'),\n ('2005 Sumatra earthquake', 'Physics'),\n ('2005 Sumatra earthquake', 'Portugal'),\n ('20th century', 'Bolivia'),\n ('20th century', 'Bran'),\n ('20th century', 'Cameroon'),\n ('20th century', 'Charles Darwin'),\n ('20th century', 'Emacs'),\n ('20th century', 'Federal Bureau of Investigation'),\n ('20th century', 'Iguanodon'),\n ('20th century', 'Lebanon'),\n ('20th century', 'Parrot'),\n ('20th century', 'Rainforest'),\n ('20th century', 'Thor'),\n ('20th century', 'Zeus'),\n ('21st century', 'Australia'),\n ('21st century', 'Baghdad'),\n ('21st century', 'Comet Hale-Bopp'),\n ('21st century', 'Common cold'),\n ('21st century', 'Dog'),\n ('21st century', 'Harry S. Truman'),\n ('21st century', 'Libreville'),\n ('21st century', 'Manchester'),\n ('21st century', 'Red giant'),\n ('21st century', 'River Thames'),\n ('21st century', 'South Africa'),\n ('21st century', 'Turin'),\n ('2nd century', 'Alexander Graham Bell'),\n ('2nd century', 'Houston, Texas'),\n ('2nd century', 'Magnet'),\n ('2nd century', 'Pelé'),\n ('2nd century', 'Pupil'),\n ('2nd century', 'Technology'),\n ('2nd century', 'World War II'),\n ('3 Juno', 'Aluminium'),\n ('3 Juno', 'Monarchy'),\n ('3 Juno', 'Periodic table'),\n ('3 Juno', 'Wellington'),\n ('3rd century', \"Alice's Adventures in Wonderland\"),\n ('3rd century', 'Ben Jonson'),\n ('3rd century', 'Colombia'),\n ('3rd century', 'Swastika'),\n ('3rd century', 'The Rime of the Ancient Mariner'),\n ('4-2-0', '17th century'),\n ('4-2-0', 'Boolean logic'),\n ('4-2-0', 'Game'),\n ('4-2-0', 'Mongol Empire'),\n ('4-2-0', 'Split infinitive'),\n ('4-4-0', 'Adolf Hitler'),\n ('4-4-0', 'Chicago'),\n ('4-4-0', 'Eris (dwarf planet)'),\n ('4-4-0', 'Globe Theatre'),\n ('4-4-0', 'John F. Kennedy assassination'),\n ('4-4-0', 'Ludwig van Beethoven'),\n ('4-4-0', 'Muhammad'),\n ('4-4-0', 'NATO'),\n ('4-4-0', 'The Origin of Species'),\n ('4-6-0', 'Amazon Rainforest'),\n ('4-6-0', 'Bird of prey'),\n ('4-6-0', 'Cataract'),\n ('4-6-0', 'Day'),\n ('4-6-0', 'Dwight D. Eisenhower'),\n ('4-6-0', 'Julius Caesar'),\n ('4-6-0', 'List of areas in the National Park System of the United States'),\n ('4-6-0', 'Silicon'),\n ('47 Ursae Majoris', 'Barnacle'),\n ('47 Ursae Majoris', 'Caspian Sea'),\n ('47 Ursae Majoris', 'Edema'),\n ('47 Ursae Majoris', 'Jehovah'),\n ('47 Ursae Majoris', 'John Milton'),\n ('47 Ursae Majoris', 'Oxbow lake'),\n ('47 Ursae Majoris b', 'Extraterrestrial life'),\n ('47 Ursae Majoris b', 'Kenya'),\n ('47 Ursae Majoris b', 'Malcolm X'),\n ('47 Ursae Majoris b', 'Sugarcane'),\n ('47 Ursae Majoris b', 'Treaty of Versailles'),\n ('47 Ursae Majoris c', 'Nintendo'),\n ('47 Ursae Majoris c', 'Yeast'),\n ('4 Vesta', 'Augustus'),\n ('4 Vesta', 'Computer and video games'),\n ('4 Vesta', 'Elvis Presley'),\n ('4 Vesta', 'History of South Africa in the apartheid era'),\n ('4 Vesta', 'Hurricane Andrew'),\n ('4 Vesta', 'Yugoslavia'),\n ('4th century', 'British Isles (terminology)'),\n ('4th century', 'Google'),\n ('4th century', 'Lyme disease'),\n ('4th century', 'Mathematics'),\n ('4th century', 'Neutron'),\n ('4th century', 'Nitrogen fixation'),\n ('4th century', 'Tripoli'),\n ('4th century', 'Upsilon Andromedae d'),\n ('55 Cancri', 'Algeria'),\n ('55 Cancri', 'Bahrain'),\n ('55 Cancri', 'Bluegrass music'),\n ('55 Cancri', 'Gas giant'),\n ('55 Cancri', 'Mars'),\n ('55 Cancri', 'Sickle-cell disease'),\n ('55 Cancri b', 'Eyelid'),\n ('55 Cancri c', 'African Great Lakes'),\n ('55 Cancri c', 'Al Jazeera'),\n ('55 Cancri c', 'Antwerp'),\n ('55 Cancri c', 'Comet Hale-Bopp'),\n ('55 Cancri c', 'HTTP cookie'),\n ('55 Cancri c', 'Lake Tahoe'),\n ('55 Cancri c', 'Niger'),\n ('55 Cancri d', '1928 Okeechobee Hurricane'),\n ('55 Cancri d', 'Republic of the Congo'),\n ('55 Cancri e', 'Eruption column'),\n ('55 Cancri e', 'United States'),\n ('5th century', 'Ant'),\n ('5th century', 'Earth'),\n ('5th century', 'Ernest Hemingway'),\n ('5th century', 'God'),\n ('5th century', 'Luminiferous aether'),\n ('5th century', 'Nuclear weapon'),\n ('5th century', 'Tobacco smoking'),\n ('5th century', 'Tonga'),\n ('5th century', 'United Arab Emirates'),\n ('5th century', 'William Shakespeare'),\n ('6-2-0', 'Agnosticism'),\n ('6-2-0', 'Chicago Bears'),\n ('6-2-0', 'List of rivers by length'),\n ('6-2-0', 'Mary I of Scotland'),\n ('6-2-0', 'Miami, Florida'),\n ('6-2-0', 'Sparrow'),\n ('6-2-0', 'Windows Vista'),\n ('6th century', 'Assyria'),\n ('6th century', 'Electronics'),\n ('6th century', 'Emotion'),\n ('7th century', 'Euclid'),\n ('7th century', 'Mahatma Gandhi'),\n ('7th century', 'Radar'),\n ('7th century', 'Silicon'),\n ('7th century', 'Sun Yat-sen'),\n ('8th century', '11th century'),\n ('8th century', 'Ecology'),\n ('8th century', 'Republic of China'),\n ('8th century', 'Shroud of Turin'),\n ('90377 Sedna', 'Buffy the Vampire Slayer'),\n ('90377 Sedna', 'Sirius'),\n ('90377 Sedna', 'Spanish language'),\n ('90377 Sedna', 'Statistics'),\n ('9th century', '11th century'),\n ('9th century', '8th century'),\n ('9th century', 'Alexander Graham Bell'),\n ('9th century', 'Computer'),\n ('9th century', 'English language'),\n ('9th century', 'Ivory'),\n ('9th century', 'Ku Klux Klan'),\n ('9th century', 'Optical microscope'),\n ('9th century', 'Piano'),\n ('9th century', 'Scottish mythology'),\n ('9th century', 'Theatre'),\n ('9th century', 'Van Halen'),\n ('9th century', 'Vasco da Gama'),\n ('ABO blood group system', 'Azerbaijani people'),\n ('ABO blood group system', 'Hinduism'),\n ('ABO blood group system', 'Hoover Dam'),\n ('ABO blood group system', 'Human'),\n ('ABO blood group system', 'Mars Reconnaissance Orbiter'),\n ('AIDS', 'Adolf Hitler'),\n ('AIDS', 'Africa'),\n ('AIDS', 'Cod'),\n ('AIDS', 'Cold War'),\n ('AIDS', 'Ethics'),\n ('AIDS', 'Film'),\n ('AIDS', 'Flamingo'),\n ('AIDS', 'Germany'),\n ('AIDS', 'Gulf of Mexico'),\n ('AIDS', 'Jesus'),\n ('AIDS', 'Maldives'),\n ('AIDS', 'Napoleon I of France'),\n ('AIDS', 'Palestinian territories'),\n ('AIDS', 'Paprika'),\n ('AIDS', 'Paris'),\n ('AIDS', 'Religion'),\n ('AIDS', 'Saxophone'),\n ('AIDS', 'Soup'),\n ('AIDS', 'Steel'),\n ('AIDS', 'Tony Blair'),\n ('AIDS', 'Tour de France'),\n ('AIDS', 'Varanasi'),\n ('AIDS', 'Wildebeest'),\n ('AK-47', 'Allegory in the Middle Ages'),\n ('AK-47', 'Autocracy'),\n ('AK-47', 'Bay Area Rapid Transit'),\n ('AK-47', 'California'),\n ('AK-47', 'Earth'),\n ('AK-47', 'Katana'),\n ('AK-47', 'Montreal Metro'),\n ('AK-47', 'Music of Hungary'),\n ('AK-47', 'Quantum computer'),\n ('AK-47', 'Renaissance music'),\n ('AK-47', 'Tawny Owl'),\n ('ALCO FA', 'Alcohol'),\n ('ALCO FA', 'Auto racing'),\n ('ALCO FA', 'Civil society'),\n ('ALCO FA', 'Ethics'),\n ('ALCO FA', 'Guinness'),\n ('ALCO FA', 'Humour'),\n ('ALCO FA', 'Liverpool and Manchester Railway'),\n ('ALCO FA', 'Sumo'),\n ('ASCII', 'Avacha Volcano'),\n ('ASCII', 'Education in the United States'),\n ('ASCII', 'H.D.'),\n ('ASCII', 'Milk'),\n ('ASCII', 'Netherlands Antilles'),\n ('ASCII', 'Parthenon'),\n ('ASCII', 'Ramesses II'),\n ('ASCII', 'September 11, 2001 attacks'),\n ('ASCII', 'Swastika'),\n ('ASCII', 'Trigonometry'),\n ('ASCII', 'Western Roman Empire'),\n ('AT&T', 'Buenos Aires'),\n ('AT&T', 'Chile'),\n ('AT&T', 'Dallas, Texas'),\n ('AT&T', 'Ethiopia'),\n ('AT&T', 'Glacier'),\n ('AT&T', 'John Millington Synge'),\n ('AT&T', 'Vegetable'),\n ('ATLAS experiment', 'Trojan War'),\n ('A Christmas Carol', 'Agamemnon'),\n ('A Christmas Carol', 'British Virgin Islands'),\n ('A Christmas Carol', 'Bull shark'),\n ('A Christmas Carol', 'Carbon'),\n ('A Christmas Carol', 'Edward V of England'),\n ('A Christmas Carol', 'Liberia'),\n ('A Christmas Carol', 'Magnetism'),\n ('A Christmas Carol', 'Papua New Guinea'),\n ('A Christmas Carol', 'Phosphorus'),\n ('A Christmas Carol', 'Poison gas in World War I'),\n ('A Christmas Carol', 'Sermon on the Mount'),\n ('A Christmas Carol', 'Walt Disney'),\n ('A Tale of a Tub', 'First Transcontinental Railroad'),\n ('A Tale of a Tub', 'France in the American Revolutionary War'),\n ('A Tale of a Tub', 'Italian War of 1521'),\n ('A Tale of a Tub', 'Liberal democracy'),\n ('A Tale of a Tub', 'Milky Way'),\n ('A Tale of a Tub', 'Oceania'),\n ('A Tale of a Tub', 'Queen (band)'),\n ('A cappella', 'Attila the Hun'),\n ('A cappella', 'Ebony'),\n ('A cappella', 'Elementary algebra'),\n ('A cappella', 'Jocelin'),\n ('A cappella', 'Layla'),\n ('A cappella', 'Liverpool F.C.'),\n ('A cappella', 'Plains Zebra'),\n ('A cappella', 'Republic of China'),\n ('Aachen', 'Brothers Grimm'),\n ('Aachen', 'Francis Drake'),\n ('Aachen', 'James Callaghan'),\n ('Aachen', 'North America'),\n ('Aardvark', 'Africa'),\n ('Aardvark', 'Amber'),\n ('Aardvark', 'Andrew Carnegie'),\n ('Aardvark', 'Batman'),\n ('Aardvark', 'Binary star'),\n ('Aardvark', 'Bluetooth'),\n ('Aardvark', 'Elementary algebra'),\n ('Aardvark', 'Erie Canal'),\n ('Aardvark', 'Nintendo DS'),\n ('Aardvark', 'Plum'),\n ('Aardvark', 'Spacecraft propulsion'),\n ('Aardvark', 'Zeus'),\n ('Aarhus', 'Aluminium chloride'),\n ('Aarhus', 'Cretaceous'),\n ('Aarhus', 'Franks'),\n ('Aarhus', 'Herring Gull'),\n ('Aarhus', 'Merseburg Incantations'),\n ('Aarhus', 'Monaco'),\n ('Aarhus', 'Mummy'),\n ('Aarhus', 'Radio telescope'),\n ('Aarhus', 'Stegosaurus'),\n ('Aarhus', 'The Rite of Spring'),\n ('Aarhus', 'Triumph of the Will'),\n ('Aarhus', 'Tyrannosaurus'),\n ('Aarhus', 'Zirconium'),\n ('Abacus', 'Algebra'),\n ('Abacus', 'Charles V, Holy Roman Emperor'),\n ('Abacus', 'William I of England'),\n ('Abadan', 'Civilization'),\n ('Abadan', 'Commodore 64'),\n ('Abadan', 'Magellanic Penguin'),\n ('Abbadid', 'Tripoli'),\n ('Abbasid', '16th century'),\n ('Abbasid', 'Bread'),\n ('Abbasid', 'Das Kapital'),\n ('Abbasid', 'Dead Sea'),\n ('Abbasid', 'Expressionism'),\n ('Abbasid', 'Football (soccer)'),\n ('Abbasid', 'Google'),\n ('Abbasid', 'Persian Gulf'),\n ('Abbasid', 'Plant'),\n ('Abbey', 'Ancient Egypt'),\n ('Abbey', 'Björn Borg'),\n ('Abbey', 'Citrus'),\n ('Abbey', 'The Lord of the Rings'),\n ('Abbey Theatre', 'Mogadishu'),\n ('Abbey Theatre', 'Neptune'),\n ('Abbot', 'Bohrium'),\n ('Abbot', 'Elephant shrew'),\n ('Abbot', 'HSBC'),\n ('Abbot', 'PRR GG1'),\n ('Abbot', 'Sikhism'),\n ('Abbot', 'Zachary Taylor'),\n ('Abel Tasman', 'Abel Tasman'),\n ('Abel Tasman', 'Tony Blair'),\n ('Abel Tasman', 'Tropical Storm Ana (2003)'),\n ('Aberdeen', 'Alfred Nobel'),\n ('Aberdeen', 'Bread'),\n ('Aberdeen', 'Effects of global warming'),\n ('Aberdeen', 'Oxford'),\n ('Aberdeen', 'RER'),\n ('Aberdeen', 'Sparrowhawk'),\n ('Aberdeen', 'Vampire bat'),\n ('Aberration of light', 'Pope Pius XII'),\n ('Aberration of light', 'Sequoia'),\n ('Aberration of light', 'Sutton Hoo'),\n ('Aberration of light', 'Swastika'),\n ('Aberystwyth', 'Dance'),\n ('Aberystwyth', 'Julius Caesar'),\n ('Aberystwyth', 'Portugal'),\n ('Abhidhamma Pitaka', 'Denver, Colorado'),\n ('Abhidhamma Pitaka', 'French Guiana'),\n ('Abhidhamma Pitaka', 'Mozambique'),\n ('Abhidhamma Pitaka', 'Neil Armstrong'),\n ('Abhidhamma Pitaka', 'Zulu'),\n ('Abidjan', 'Angkor'),\n ('Abidjan', 'Myocardial infarction'),\n ('Abidjan', 'Writing'),\n ('Abkhazia', 'Atlantic slave trade'),\n ('Abkhazia', 'Banana'),\n ('Abkhazia', 'Crab Nebula'),\n ('Abkhazia', 'Frederick Douglass'),\n ('Abkhazia', 'Giza pyramid complex'),\n ('Abkhazia', 'Henry H. Rogers'),\n ('Abkhazia', 'Mississippi River'),\n ('Abkhazia', 'Sweden'),\n ('Able Archer 83', 'Al Jazeera'),\n ('Able Archer 83', 'Almaty'),\n ('Able Archer 83', 'Bottlenose Dolphin'),\n ('Able Archer 83', 'Finland'),\n ('Able Archer 83', 'James Monroe'),\n ('Able Archer 83', 'Ming Dynasty'),\n ('Able Archer 83', 'Miranda Otto'),\n ('Able Archer 83', 'Poverty'),\n ('Able Archer 83', 'Space Shuttle Endeavour'),\n ('Able Archer 83', 'Ununpentium'),\n ('Abraham Lincoln', '6th century'),\n ('Abraham Lincoln', 'Andes'),\n ('Abraham Lincoln', 'Anglican Church of Australia'),\n ('Abraham Lincoln', 'Anthropology'),\n ('Abraham Lincoln', 'Banana'),\n ('Abraham Lincoln', 'Binoculars'),\n ('Abraham Lincoln', 'Essential oil'),\n ('Abraham Lincoln', 'Folk music'),\n ('Abraham Lincoln', 'Great Wall of China'),\n ('Abraham Lincoln', 'Jane Austen'),\n ('Abraham Lincoln', 'Jesus'),\n ('Abraham Lincoln', 'Liverpool'),\n ('Absinthe', 'Blue shark'),\n ('Absinthe', 'Bruce Springsteen'),\n ('Absinthe', 'Davis Cup'),\n ('Absinthe', 'M1 motorway'),\n ('Absinthe', 'Potassium nitrate'),\n ('Absinthe', 'Salt'),\n ('Absinthe', 'Southampton'),\n ('Absinthe', 'Star Wars'),\n ('Absinthe', 'Warren G. Harding'),\n ('Absolute zero', 'Adolf Hitler'),\n ('Absolute zero', 'Electronics'),\n ('Absolute zero', 'Harlem Globetrotters'),\n ('Absolute zero', 'Honey bee'),\n ('Absolute zero', 'Linguistics'),\n ('Absolute zero', 'London Bridge'),\n ('Absolute zero', 'Mango'),\n ('Absolute zero', 'Namibia'),\n ('Absolute zero', 'Solar eclipse'),\n ('Abstract art', 'Adolf Hitler'),\n ('Abstract art', 'American Civil War'),\n ('Abstract art', 'Cheese'),\n ('Abstract art', 'Corn oil'),\n ('Abstract art', 'Emacs'),\n ('Abstract art', 'Numismatics'),\n ('Abstract art', 'Reggaeton'),\n ('Abstract art', 'Second Crusade'),\n ('Abstract art', 'Sparrowhawk'),\n ('Abstract art', 'Universe'),\n ('Abu Dhabi', 'Brain'),\n ('Abu Dhabi', 'Craton'),\n ('Abu Dhabi', 'Das Kapital'),\n ('Abu Dhabi', 'Education'),\n ('Abu Dhabi', 'Engineering'),\n ('Abu Dhabi', 'Indium'),\n ('Abu Dhabi', 'Jamaica'),\n ('Abu Dhabi', 'List of countries by system of government'),\n ('Abu Dhabi', 'Magnetism'),\n ('Abu Dhabi', 'Pythagoras'),\n ('Abu Dhabi', 'The Lord of the Rings'),\n ('Abuja', 'Bill Clinton'),\n ('Abuja', 'Emirate'),\n ('Abuja', 'Internet Explorer'),\n ('Abuja', 'Lunar eclipse'),\n ('Abuja', 'Sand'),\n ('Abuja', 'Sun Yat-sen'),\n ('Acceleration', 'Dresden'),\n ('Acceleration', 'Elephant'),\n ('Acceleration', 'Hydrogen'),\n ('Acceleration', 'Martina Navratilova'),\n ('Acceleration', 'Minnesota'),\n ('Acceleration', 'Mozilla Firefox'),\n ('Acceleration', 'Potassium iodide'),\n ('Acceleration', 'Surtsey'),\n ('Acceleration', 'Trout'),\n ('Accountancy', '1928 Okeechobee Hurricane'),\n ('Accountancy', 'Bronze Age'),\n ('Accountancy', 'Columba'),\n ('Accountancy', 'Ecuador'),\n ('Accountancy', 'Eris (dwarf planet)'),\n ('Accountancy', 'Feather'),\n ('Accountancy', 'I Want to Hold Your Hand'),\n ('Accountancy', 'River'),\n ('Accountancy', 'Sauropodomorpha'),\n ('Accra', 'Arctic'),\n ('Accra', 'Astatine'),\n ('Accra', 'Hassium'),\n ('Accra', 'Sudan'),\n ('Accra', 'United States Virgin Islands'),\n ('Accra', 'Whale'),\n ('Acetic acid', 'John F. Kennedy'),\n ('Acetic acid', 'Rail transport'),\n ('Acetic acid', 'Raphael'),\n ('Acetic acid', 'Sphere'),\n ('Acetone', 'Amsterdam'),\n ('Acetone', 'Astatine'),\n ('Acetone', 'Guinness'),\n ('Acetone', 'Ichthyosaur'),\n ('Acetone', 'Lake Superior'),\n ('Acetone', 'Lomé'),\n ('Acetone', 'Tawny Owl'),\n ('Acetone', 'Toy'),\n ('Acetone', 'Vatican City'),\n ('Achilles', 'Americium'),\n ('Achilles', 'Bongo (antelope)'),\n ('Achilles', 'Crocodile'),\n ('Achilles', 'Gold'),\n ('Achilles', 'Great white shark'),\n ('Achilles', 'History of Anglo-Saxon England'),\n ('Achilles', 'Internet'),\n ('Achilles', 'Nineteen Eighty-Four'),\n ('Achilles', 'Winston Churchill'),\n ('Achilles tendon', 'Great white shark'),\n ('Achilles tendon', 'Ivory'),\n ('Achilles tendon', 'Ocean'),\n ('Acid rain', 'Abraham Lincoln'),\n ('Acid rain', 'Akrotiri and Dhekelia'),\n ('Acid rain', 'Biodiversity'),\n ('Acid rain', 'Continent'),\n ('Acid rain', 'Economics'),\n ('Acid rain', 'Keira Knightley'),\n ('Acid rain', 'List of circulating currencies'),\n ('Acid rain', 'Marxism'),\n ('Acid rain', 'Tamil language'),\n ('Acid rain', 'Tropical cyclone'),\n ('Acid rain', 'Winston Churchill'),\n ('Acorn Computers', 'Cameroon'),\n ('Acorn Computers', 'Church of England'),\n ('Acorn Computers', 'Henry Ford'),\n ('Acorn Computers', 'New York City'),\n ('Acorn Computers', 'Ordination of women'),\n ('Actinium', 'Caspian Sea'),\n ('Actinium', 'Measurement'),\n ('Actinium', 'Moscow'),\n ('Actinium', 'Seoul'),\n ('Actinium', 'Statistics'),\n ('Actinium', 'Strontium'),\n ('Actinium', 'Tamil language'),\n ('Actinium', 'Ziad Jarrah'),\n ('Action potential', \"Alzheimer's disease\"),\n ('Action potential', 'Bible'),\n ('Action potential', 'Calvin and Hobbes'),\n ('Action potential', 'Color blindness'),\n ('Action potential', 'Pyramid'),\n ('Action potential', 'The Simpsons'),\n ('Actor', 'Aral Sea'),\n ('Actor', 'Canterbury Cathedral'),\n ('Actor', 'Dingo'),\n ('Actor', 'Egyptian pyramids'),\n ('Actor', 'Emirate'),\n ('Actor', 'Food'),\n ('Actor', 'Lille'),\n ('Actor', 'Norse mythology'),\n ('Actor', 'Seaborgium'),\n ('Acts of Union 1707', 'El Niño-Southern Oscillation'),\n ('Acts of Union 1707', 'Malta'),\n ('Adam Smith', 'Maize'),\n ('Adam Smith', 'Piano'),\n ('Adam Smith', 'Plains Zebra'),\n ('Adam Smith', 'Plant'),\n ('Adam Smith', 'Shinto'),\n ('Addis Ababa', 'Beriberi'),\n ('Addis Ababa', 'King Arthur'),\n ('Addis Ababa', 'Latin America'),\n ('Adelaide', 'Automobile'),\n ('Adelaide', 'Korea'),\n ('Adelaide', 'Mammal'),\n ('Adelaide', 'Philosophy'),\n ('Adelaide', 'Rubidium'),\n ('Adelaide', 'Tower of London'),\n ('Adenosine triphosphate', 'African Grey Parrot'),\n ('Adenosine triphosphate', 'Battle of France'),\n ('Adenosine triphosphate', 'Coal'),\n ('Adenosine triphosphate', 'DVD'),\n ('Adenosine triphosphate', 'Finance'),\n ('Adenosine triphosphate', 'House Sparrow'),\n ('Adenosine triphosphate', 'Italy'),\n ('Adenosine triphosphate', 'Pound sterling'),\n ('Adenosine triphosphate', 'Probability theory'),\n ('Adenosine triphosphate', 'Water'),\n ('Adolf Hitler', 'Alphabet'),\n ('Adolf Hitler', 'Ant'),\n ('Adolf Hitler', 'Banana'),\n ('Adolf Hitler', 'Byzantine Empire'),\n ('Adolf Hitler', 'Communism'),\n ('Adolf Hitler', 'Computer and video games'),\n ('Adolf Hitler', 'Confucius'),\n ('Adolf Hitler', 'Fidel Castro'),\n ('Adolf Hitler', 'Germany'),\n ('Adolf Hitler', 'God'),\n ('Adolf Hitler', 'Henry Ford'),\n ('Adolf Hitler', 'History'),\n ('Adolf Hitler', 'IPod'),\n ('Adolf Hitler', 'India'),\n ('Adolf Hitler', 'Jesus'),\n ('Adolf Hitler', 'Jew'),\n ('Adolf Hitler', 'Joseph Stalin'),\n ('Adolf Hitler', 'Luxembourg'),\n ('Adolf Hitler', 'Mahatma Gandhi'),\n ('Adolf Hitler', 'Microsoft'),\n ('Adolf Hitler', 'Milk'),\n ('Adolf Hitler', 'National Hockey League'),\n ('Adolf Hitler', 'Nazi Germany'),\n ('Adolf Hitler', 'Nintendo'),\n ('Adolf Hitler', 'Norway'),\n ('Adolf Hitler', 'Pakistan'),\n ('Adolf Hitler', 'Philosophy'),\n ('Adolf Hitler', 'Pope Benedict XVI'),\n ('Adolf Hitler', 'Rainbow'),\n ('Adolf Hitler', 'Rapping'),\n ('Adolf Hitler', 'Science'),\n ('Adolf Hitler', 'Spanish Inquisition'),\n ('Adolf Hitler', 'Super Mario Bros.'),\n ('Adolf Hitler', 'Suriname'),\n ('Adolf Hitler', 'Tiger shark'),\n ('Adolf Hitler', 'Ultraviolet'),\n ('Adolf Hitler', 'University of Bristol'),\n ('Adolf Hitler', 'Uzbekistan'),\n ('Adolf Hitler', 'Winston Churchill'),\n ('Adolf Hitler', 'Zeus'),\n ('Advertising', 'Amazon parrot'),\n ('Advertising', 'Dolphin'),\n ('Advertising', 'Leif Ericson'),\n ('Advertising', 'Multiculturalism'),\n ('Advertising', 'Stonehenge'),\n ('Advertising', 'United States'),\n ('Aesthetics', 'British East India Company'),\n ('Aesthetics', 'DVD'),\n ('Aesthetics', 'Munich'),\n ('Aesthetics', 'Neptunium'),\n ('Aesthetics', 'Northern Mariana Islands'),\n ('Afghan Hound', 'Aberration of light'),\n ('Afghan Hound', 'Chew Valley'),\n ('Afghan Hound', 'Geometry'),\n ('Afghan Hound', 'Owl'),\n ('Afghan Hound', 'Ukraine'),\n ('Afghanistan', 'Condoleezza Rice'),\n ('Afghanistan', 'Miami, Florida'),\n ('Afghanistan', 'Polonium'),\n ('Africa', 'AIDS'),\n ('Africa', 'Americium'),\n ('Africa', 'Australia'),\n ('Africa', 'Differential equation'),\n ('Africa', 'England'),\n ('Africa', 'Hampstead Heath'),\n ('Africa', 'History'),\n ('Africa', 'Lake Mead'),\n ('Africa', 'Mexico'),\n ('Africa', 'Pac-Man'),\n ('Africa', 'Potato'),\n ('Africa', 'Poverty'),\n ('Africa', 'Sauropodomorpha'),\n ('Africa', 'Sleep'),\n ('Africa', 'Solar System'),\n ('Africa', 'Sun'),\n ('Africa', 'Temperate'),\n ('Africa', 'Vietnam'),\n ('African American literature', 'Christianity'),\n ('African American literature', 'Cider'),\n ('African American literature', 'Democratic Action Party'),\n ('African American literature', 'Gabon'),\n ('African American literature', 'La Paz'),\n ('African American literature', 'National Gallery, London'),\n ('African American literature', 'Pac-Man'),\n ('African American literature', 'Saturn V'),\n ('African American literature', 'Spain'),\n ('African American literature', 'Tibet'),\n ('African American literature', 'Uganda'),\n ('African Brush-tailed Porcupine', 'Mississippi River'),\n ('African Buffalo', 'Atonality'),\n ('African Buffalo', 'Jesus'),\n ('African Buffalo', 'Monaco Grand Prix'),\n ('African Buffalo', 'Sri Lankan Civil War'),\n ('African Buffalo', 'Trans-Siberian Railway'),\n ('African Darter', 'Aircraft'),\n ('African Darter', 'Anne Frank'),\n ('African Darter', 'Montreal'),\n ('African Darter', 'Supermarine Spitfire'),\n ('African Great Lakes', 'Bison'),\n ('African Great Lakes', 'Bongo (antelope)'),\n ('African Great Lakes', 'Makuria'),\n ('African Great Lakes', 'Planetary nebula'),\n ('African Great Lakes', 'Roman Empire'),\n ('African Great Lakes', 'Tupac Shakur'),\n ('African Great Lakes', 'Volleyball'),\n ('African Grey Hornbill', 'Czech Republic'),\n ('African Grey Parrot', 'Banana'),\n ('African Grey Parrot', 'Bee'),\n ('African Grey Parrot', 'Cosmic microwave background radiation'),\n ('African Grey Parrot', 'Genghis Khan'),\n ('African Grey Parrot', 'Global city'),\n ('African Grey Parrot', 'Green Woodpecker'),\n ('African Grey Parrot', 'Juvenile delinquency'),\n ('African Grey Parrot', 'Recorder'),\n ('African Grey Parrot', 'Ununtrium'),\n ('African Penguin', 'Cameroon'),\n ('African Penguin', 'Chemistry'),\n ('African Penguin', 'Semiconductor'),\n ('African Penguin', 'Silicon'),\n ('African Penguin', 'Wasp'),\n ('African Penguin', 'Ytterbium'),\n ('African Union', 'Bologna'),\n ('African Union', 'Californium'),\n ('African Union', 'Igor Stravinsky'),\n ('African Union', 'Maldives'),\n ('African Union', 'Mountain Gorilla'),\n ('African Union', 'Nelson Mandela'),\n ('African Union', 'New moon'),\n ('African Wild Dog', 'Allah'),\n ('African Wild Dog', 'Aphid'),\n ('African Wild Dog', 'Battle of Normandy'),\n ('African Wild Dog', 'Burkina Faso'),\n ('African Wild Dog', 'Calculus'),\n ('African Wild Dog', 'Chocolate'),\n ('African Wild Dog', 'Kuala Lumpur'),\n ('African Wild Dog', 'Sierra Leone'),\n ('African Wild Dog', 'Solar System'),\n ('African Wild Dog', 'Suez Canal'),\n ('African clawed frog', 'American football'),\n ('African clawed frog', 'Berlin'),\n ('African clawed frog', 'Cornea'),\n ('African clawed frog', 'Family'),\n ('African clawed frog', 'Fruit'),\n ('African clawed frog', 'Mexico'),\n ('African clawed frog', 'The Rolling Stones'),\n ('African clawed frog', 'Upsilon Andromedae'),\n ('African dwarf frog', 'Acid rain'),\n ('African dwarf frog', 'Great Britain'),\n ('African dwarf frog', 'Islam'),\n ('African dwarf frog', 'Japan'),\n ('African dwarf frog', 'Jaws (film)'),\n ('African dwarf frog', 'London Bridge'),\n ('African dwarf frog', 'Silicon'),\n ('African dwarf frog', 'Sleep'),\n ('African dwarf frog', 'Yellow fever'),\n ('African slave trade', 'Dakar'),\n ('African slave trade', 'Manifest Destiny'),\n ('African slave trade', 'Richard Francis Burton'),\n ('African slave trade', 'William Shakespeare'),\n ('Afrikaans', 'Canola'),\n ('Afrikaans', 'Christianity'),\n ('Afrikaans', 'Computer and video games'),\n ('Afrikaans', 'Glasgow'),\n ('Afrikaans', 'Invertebrate'),\n ('Afrikaans', 'Mexico City'),\n ('Afrikaans', 'Roman law'),\n ('Afrikaans', 'United Arab Emirates'),\n ('Agamemnon', 'Chew Magna'),\n ('Agamemnon', 'Genetics'),\n ('Agamemnon', 'Weimar Republic'),\n ('Age of Enlightenment', 'Art'),\n ('Age of Enlightenment', 'Extrasolar planet'),\n ('Age of Enlightenment', 'Francis Bacon'),\n ('Age of Enlightenment', 'Hurricane Andrew'),\n ('Age of Enlightenment', 'Ice sheet'),\n ('Age of Enlightenment', 'Igneous rock'),\n ('Age of Enlightenment', 'Joseph Stalin'),\n ('Age of Enlightenment', 'Kazakhstan'),\n ('Age of Enlightenment', 'Last Supper'),\n ('Age of Enlightenment', 'Peace'),\n ('Age of Enlightenment', 'Voltaire'),\n ('Age of Enlightenment', 'Yeast'),\n ('Aggregator', 'Adelaide'),\n ('Aggregator', 'Alligator'),\n ('Aggregator', 'Archaeology'),\n ('Aggregator', 'Halloween'),\n ('Aggregator', 'Hindi'),\n ('Aggregator', 'Velociraptor'),\n ('Agnosticism', 'Bald Eagle'),\n ('Agnosticism', 'Optical microscope'),\n ('Agnosticism', 'Pope Pius XII'),\n ('Agnosticism', 'The Last Supper (Leonardo)'),\n ('Agnosticism', 'Vitamin D'),\n ('Agriculture', 'Barley'),\n ('Agriculture', 'Famine'),\n ('Agriculture', 'Kiev'),\n ('Agriculture', 'Language'),\n ('Agriculture', 'Mao Zedong'),\n ('Agriculture', 'Ornithischia'),\n ('Agriculture', 'Sparrow'),\n ('Agriculture', 'Tropical Storm Delta (2005)'),\n ('Airbus', '8th century'),\n ('Airbus', 'Abbasid'),\n ('Airbus', 'Battle of France'),\n ('Airbus', 'Ho Chi Minh City'),\n ('Airbus', 'Jean-Jacques Rousseau'),\n ('Airbus', 'John F. Kennedy assassination'),\n ('Airbus', 'Religion'),\n ('Airbus', 'Skylark'),\n ('Airbus A380', 'Autumn'),\n ('Airbus A380', 'Corundum'),\n ('Airbus A380', 'Extinct birds'),\n ('Airbus A380', 'Libertarianism'),\n ('Airbus A380', 'Mozilla Firefox'),\n ('Airbus A380', 'Palau'),\n ('Airbus A380', 'Poverty'),\n ('Airbus A380', 'Richard III of England'),\n ('Airbus A380', 'Sumo'),\n ('Aircraft', 'Adolf Hitler'),\n ('Aircraft', 'Bangladesh'),\n ('Aircraft', 'Chola dynasty'),\n ('Aircraft', 'Constitution of May 3, 1791'),\n ('Aircraft', 'Euclid'),\n ('Aircraft', 'Google'),\n ('Aircraft', 'Heraclius'),\n ('Aircraft', 'Joseph Stalin'),\n ('Aircraft', 'Moon'),\n ('Aircraft', 'Parliament of the United Kingdom'),\n ('Aircraft', 'Solar eclipse'),\n ('Aircraft', 'United States Constitution'),\n ('Aircraft', 'Western Roman Empire'),\n ('Aircraft', 'Yugoslavia'),\n ('Aircraft carrier', 'Crocodile'),\n ('Aircraft carrier', 'Gibraltar'),\n ('Aircraft carrier', 'New York City'),\n ('Aircraft carrier', 'Socrates'),\n ('Aircraft carrier', 'South Africa'),\n ('Aircraft carrier', 'Union Flag'),\n ('Airship', 'Cultural diversity'),\n ('Airship', 'Dmitri Mendeleev'),\n ('Airship', 'James D. Watson'),\n ('Airship', 'Latin America'),\n ('Airship', 'Lord Voldemort'),\n ('Airship', 'Parrot'),\n ('Airship', 'Trinity'),\n ('Akbar', 'Forest'),\n ('Akbar', 'Henry H. Rogers'),\n ('Akbar', 'Stegosaurus'),\n ('Akhenaten', 'Commodore 64'),\n ('Akhenaten', 'Liberal democracy'),\n ('Akhenaten', 'Probability theory'),\n ('Akhenaten', 'Soil structure'),\n ('Akhenaten', 'Sparrowhawk'),\n ('Akhenaten', 'Wales'),\n ('Akira Kurosawa', 'Autorack'),\n ('Akira Kurosawa', 'Chemistry'),\n ('Akira Kurosawa', 'Heat'),\n ('Akira Kurosawa', 'Himno Nacional Mexicano'),\n ('Akkadian Empire', '2004 Indian Ocean earthquake'),\n ('Akkadian Empire', 'E. E. Cummings'),\n ('Akkadian Empire', 'London'),\n ('Akkadian Empire', 'Morocco'),\n ('Akkadian Empire', 'New York City'),\n ('Akrotiri and Dhekelia', 'Edward II of England'),\n ('Akrotiri and Dhekelia', 'Fishing'),\n ('Akrotiri and Dhekelia', 'Hydrogen'),\n ('Akrotiri and Dhekelia', 'Iraq'),\n ('Akrotiri and Dhekelia', 'Vancouver'),\n ('Aksumite currency', 'Indonesian language'),\n ('Aksumite currency', 'Japan'),\n ('Aksumite currency', 'Karl Popper'),\n ('Aksumite currency', 'Paraguay'),\n ('Aksumite currency', 'Swastika'),\n ('Aksumite currency', 'Synthesizer'),\n ('Aksumite currency', 'The Lion King'),\n ...]"
     },
     "execution_count": 41,
     "metadata": {},
     "output_type": "execute_result"
    }
   ],
   "source": [
    "result_list = list(zip(article_combinations['first_article'], article_combinations['last_article']))"
   ],
   "metadata": {
    "collapsed": false,
    "ExecuteTime": {
     "end_time": "2023-12-15T13:44:50.392388Z",
     "start_time": "2023-12-15T13:44:50.291073700Z"
    }
   },
   "id": "4954fe8a0754c182"
  },
  {
   "cell_type": "code",
   "execution_count": 93,
   "outputs": [],
   "source": [
    "import random\n",
    "\n",
    "class ProblemGenerator:\n",
    "    def __init__(self, embedded_nodes: torch.tensor = None, classification_dict: dict = None,\n",
    "                 adjacency_matrix: torch.tensor = None, paths_not_to_use: pd.DataFrame = None):\n",
    "        if embedded_nodes is None:\n",
    "            # TODO: Add a way of reading in the pickled data of the tensors\n",
    "            # Remove the return, I just added it in to have some code here\n",
    "            pass\n",
    "        \n",
    "        if classification_dict is None:\n",
    "            # TODO: Pickle data here too\n",
    "            pass\n",
    "        \n",
    "        # TODO: Do the pickling thing also for the adjacency matrix and the paths not to use!\n",
    "        \n",
    "        self.embedded_nodes = embedded_nodes\n",
    "        self.classification_dict = classification_dict\n",
    "        \n",
    "        self.adjacency_matrix = adjacency_matrix\n",
    "\n",
    "        self.remove_paths_not_to_use(paths_not_to_use)\n",
    "        \n",
    "    def remove_paths_not_to_use(self, path_not_to_use: pd.DataFrame):\n",
    "        \"\"\"Method goes over the classification dict, and removes any node pairs that\n",
    "        are contained in the paths not to use df\"\"\"\n",
    "        \n",
    "        # First part is creating a list that is just the first_article and last_article\n",
    "        \n",
    "        elems_to_remove = list(zip(article_combinations['first_article'], article_combinations['last_article']))\n",
    "        for elem in elems_to_remove:\n",
    "            self.classification_dict.pop(elem, None)\n",
    "        \n",
    "    def generate_problems(self, number_of_problems_to_generate: int = 200):\n",
    "        \"\"\"Generates problems.\n",
    "        \n",
    "        Namely, this means for the number_of_problems_to_generate, pick a problem,\n",
    "        attach the source and target matrix to the embeddings, and output the y value\n",
    "        as an adjacent value\n",
    "        \n",
    "        I guess this also means the output should be 3d, so we need to do some work on\n",
    "        the shape so that it has that structure!\n",
    "        \n",
    "        I'm not sure how to include the adjacency matrix in the output though, sorry :D\"\"\"\n",
    "        \n",
    "        # This should get the random keys\n",
    "        random_keys = random.sample(sorted(self.classification_dict.keys()), number_of_problems_to_generate)\n",
    "        \n",
    "        # Now, for each key generate a version of the problem\n",
    "        # I'll store the info in a 3d tensor, which I just update at each count!\n",
    "        # It's shape[1] because we add the source and target nodes to the inputs\n",
    "        emb_nodes_shape = self.embedded_nodes.shape\n",
    "        X_values = torch.zeros((number_of_problems_to_generate, emb_nodes_shape[0], emb_nodes_shape[1] + 1))\n",
    "        \n",
    "        # This is a 2d matrix, first dim is the inputs\n",
    "        # second dim is the solutions for each of the relevant elems\n",
    "        y_values = torch.zeros((number_of_problems_to_generate, emb_nodes_shape[0]))\n",
    "        \n",
    "        i = 0\n",
    "        for elem in random_keys:\n",
    "            cur_source_and_target, cur_solution = self.classification_dict[elem]\n",
    "            y_values[i] = cur_solution\n",
    "            \n",
    "            # TODO: I'm not sure if it's worth it to copy the embedded nodes...\n",
    "            # This is to avoid weird shit from happening with the gradient\n",
    "            X_values[i] = torch.cat([self.embedded_nodes, cur_source_and_target.unsqueeze(dim=1)], dim=1)\n",
    "            \n",
    "        return X_values, y_values\n",
    "        "
   ],
   "metadata": {
    "collapsed": false,
    "ExecuteTime": {
     "end_time": "2023-12-15T14:14:23.400451800Z",
     "start_time": "2023-12-15T14:14:23.363623Z"
    }
   },
   "id": "2d792a297542495b"
  },
  {
   "cell_type": "code",
   "execution_count": 102,
   "outputs": [
    {
     "name": "stdout",
     "output_type": "stream",
     "text": [
      "torch.Size([5, 4592, 385])\n",
      "torch.Size([5, 4592])\n"
     ]
    }
   ],
   "source": [
    "# This is to show what the structure is for the prob_gen!\n",
    "prob_gen = ProblemGenerator(text_embeddings, shortest_paths_classification_dict,\n",
    "                            adj_matrix, article_combinations)\n",
    "\n",
    "test_X, test_y = prob_gen.generate_problems(5)\n",
    "\n",
    "print(test_X.shape)\n",
    "print(test_y.shape)"
   ],
   "metadata": {
    "collapsed": false,
    "ExecuteTime": {
     "end_time": "2023-12-15T14:15:32.704187100Z",
     "start_time": "2023-12-15T14:15:32.601639300Z"
    }
   },
   "id": "5d129cdfc52253dd"
  },
  {
   "cell_type": "markdown",
   "source": [
    "Okay, the previous parts work, which is good!\n",
    "\n",
    "They need to be added to separate files and we need to do some pickling, that's okay!"
   ],
   "metadata": {
    "collapsed": false
   },
   "id": "edef34bfe3422653"
  },
  {
   "cell_type": "markdown",
   "source": [
    "# The actual GNN\n",
    "\n"
   ],
   "metadata": {
    "collapsed": false
   },
   "id": "c0ae5aa919bcf596"
  }
 ],
 "metadata": {
  "kernelspec": {
   "display_name": "Python 3",
   "language": "python",
   "name": "python3"
  },
  "language_info": {
   "codemirror_mode": {
    "name": "ipython",
    "version": 2
   },
   "file_extension": ".py",
   "mimetype": "text/x-python",
   "name": "python",
   "nbconvert_exporter": "python",
   "pygments_lexer": "ipython2",
   "version": "2.7.6"
  }
 },
 "nbformat": 4,
 "nbformat_minor": 5
}

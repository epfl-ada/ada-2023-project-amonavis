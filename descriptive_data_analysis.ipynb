{
 "cells": [
  {
   "cell_type": "markdown",
   "metadata": {},
   "source": [
    "# Descriptive Data Analysis"
   ]
  },
  {
   "cell_type": "markdown",
   "metadata": {},
   "source": [
    "1. How many articles there are, how many paths\n",
    "2. Histograms of the links from each article (for example, how many articles have 20 links, etc)\n",
    "3. Average distance from one article to any other article\n",
    "4. Histogram of the number of games at each point in time\n",
    "5. Categories of targets in unfinished games\n",
    "6. Classify how many times each word appears in the games (we could also do a histogram with that)"
   ]
  },
  {
   "cell_type": "code",
   "execution_count": null,
   "metadata": {},
   "outputs": [],
   "source": [
    "import numpy as np\n",
    "import pandas as pd\n",
    "import networkx as nx\n",
    "import matplotlib.pyplot as plt\n",
    "from datetime import datetime"
   ]
  },
  {
   "cell_type": "code",
   "execution_count": null,
   "metadata": {},
   "outputs": [],
   "source": [
    "wikispeedia= networkx.read_edgelist('datasets/wikispeedia_paths-and-graph/links.tsv', \n",
    "                                    create_using=networkx.DiGraph)\n",
    "paths_finished = pd.read_csv('datasets/wikispeedia_paths-and-graph/paths_finished.tsv', sep='\\t', skiprows=15, \n",
    "                   names=['hashedIpAddress', 'timestamp', \"durationInSec\", 'path', \"rating\"])\n",
    "paths_unfinished = pd.read_csv('datasets/wikispeedia_paths-and-graph/paths_unfinished.tsv', sep='\\t', skiprows=16,\n",
    "                               names=['hashedIpAddress', 'timestamp', \"durationInSec\", 'path', \"target\", \"type\"])"
   ]
  },
  {
   "cell_type": "markdown",
   "metadata": {},
   "source": [
    "## 1. How many: articles, links, finished games, unfinished games?"
   ]
  },
  {
   "cell_type": "code",
   "execution_count": null,
   "metadata": {},
   "outputs": [],
   "source": [
    "print(\"There are\", len(wikispeedia.nodes), \"articles in the dataset.\")\n",
    "print(\"There are\", len(wikispeedia.edges), \"links/paths.\")\n",
    "print(\"There are\", paths_finished.shape[0], \"finished games.\")\n",
    "print(\"There are\", paths_unfinished.shape[0], \"unfinished games.\")"
   ]
  },
  {
   "cell_type": "markdown",
   "metadata": {},
   "source": [
    "## 2. Degree of a Node\n",
    "The degree of a node is the number of edges/links it has. We plot a complementary cumulative distribution function (CCDF) of degree for each article/node."
   ]
  },
  {
   "cell_type": "code",
   "execution_count": null,
   "metadata": {},
   "outputs": [],
   "source": [
    "# Get the degrees of all nodes\n",
    "degrees = dict(wikispeedia.degree())\n",
    "\n",
    "# Calculate the CCDF\n",
    "degree_values = sorted(set(degrees.values()), reverse=True)\n",
    "ccdf = [sum(1 for degree in degrees.values() if degree >= d) for d in degree_values]\n",
    "\n",
    "# Plot the CCDF\n",
    "plt.plot(degree_values, ccdf, marker='o', linestyle='-', color='b')\n",
    "plt.xscale('log')  # Use log scale for better visualization\n",
    "plt.yscale('log')\n",
    "plt.xlabel('Degree')\n",
    "plt.ylabel('Complementary Cumulative Distribution Function (CCDF)')\n",
    "plt.title('CCDF of Node Degrees')\n",
    "plt.show()"
   ]
  },
  {
   "cell_type": "markdown",
   "metadata": {},
   "source": [
    "What are the \"hubs\"? Which nodes have more than 500 links?"
   ]
  },
  {
   "cell_type": "code",
   "execution_count": null,
   "metadata": {},
   "outputs": [],
   "source": [
    "print(\"Nodes with more than 1000 edges: \", [node for node in wikispeedia.nodes if wikispeedia.degree(node) >= 1000])\n",
    "print(\"Nodes with more than 500 edges: \", [node for node in wikispeedia.nodes if wikispeedia.degree(node) >= 500])\n"
   ]
  },
  {
   "cell_type": "markdown",
   "metadata": {},
   "source": [
    "Observe that biggest hubs are mainly countries. The 'United Kingdom', 'France', 'United States', and 'Europe' have over 1000 links. Since there are 4592 nodes, these nodes have link to almost 1/4 of the dataset!"
   ]
  },
  {
   "cell_type": "markdown",
   "metadata": {},
   "source": [
    "How many nodes have more than 20 links? How many have only 1 link?"
   ]
  },
  {
   "cell_type": "code",
   "execution_count": null,
   "metadata": {},
   "outputs": [],
   "source": [
    "# Count the number of nodes with degree 1\n",
    "nodes_degree_1 = [node for node in wikispeedia.nodes if wikispeedia.degree(node) == 1]\n",
    "print('Nodes with degree 1: ', nodes_degree_1)\n",
    "\n",
    "# Get the percentages\n",
    "total_nodes = len(wikispeedia.nodes)\n",
    "percentage_degree_1 = (len(nodes_degree_1) / total_nodes)\n",
    "print('% of nodes that have only 1 edge/link:', percentage_degree_1)\n",
    "\n",
    "# Count number of nodes with degree <= 20\n",
    "nodes_degree_20 = sum(1 for degree in degrees.values() if degree <= 20)\n",
    "print('% of nodes that have 20 or less edges/links:', nodes_degree_20 / total_nodes)"
   ]
  },
  {
   "cell_type": "markdown",
   "metadata": {},
   "source": [
    "## 3. Average Distance between Articles\n",
    "On average, how many links/edges does it take to connect any random two articles?"
   ]
  },
  {
   "cell_type": "code",
   "execution_count": null,
   "metadata": {},
   "outputs": [],
   "source": [
    "# Our graph is not strongly connected, meaning it's not possible to reach every node from every other node\n",
    "# So we can't use the built in function nx.average_shortest_path_length\n",
    "\n",
    "# This takes a long time to run (30 sec)\n",
    "shortest_paths = list(nx.all_pairs_shortest_path_length(wikispeedia))\n",
    "reachable_pairs = [(source, target, length) for source, paths in shortest_paths for target, length in paths.items() if length != float('inf')]\n",
    "total_distances = sum(length for _, _, length in reachable_pairs)\n",
    "average_distance = total_distances / len(reachable_pairs) if reachable_pairs else 0\n",
    "print(f\"Average distance between reachable nodes: {average_distance:.2f}\")\n"
   ]
  },
  {
   "cell_type": "markdown",
   "metadata": {},
   "source": [
    "## 3. Games per Time\n",
    "Histogram of the number of games at each point in time.\n"
   ]
  },
  {
   "cell_type": "code",
   "execution_count": null,
   "metadata": {},
   "outputs": [],
   "source": [
    "# Convert timestamps to datetime objects\n",
    "timestamps = paths_finished['timestamp']\n",
    "date_times = [datetime.utcfromtimestamp(ts) for ts in timestamps]\n",
    "\n",
    "# Create a histogram of timestamps\n",
    "plt.hist(date_times, bins=20, color='skyblue')\n",
    "plt.xlabel('Time')\n",
    "plt.ylabel('Frequency')\n",
    "plt.title('Distribution of Timestamps')\n",
    "plt.xticks(rotation=45)  # Rotate x-axis labels for better readability\n",
    "plt.show()"
   ]
  },
  {
   "cell_type": "markdown",
   "metadata": {},
   "source": [
    "A lot of games were played in Q3 2009! "
   ]
  },
  {
   "cell_type": "code",
   "execution_count": null,
   "metadata": {},
   "outputs": [],
   "source": [
    "q3_2009_times = [dt for dt in date_times if dt.year == 2009 and dt.month in [7, 8, 9]]\n",
    "percent_q3_2009_times = len(q3_2009_times) / len(date_times)\n",
    "print(f\"Percent of finished games completed in Q3 2009: {percent_q3_2009_times:.2f}\")\n"
   ]
  },
  {
   "cell_type": "markdown",
   "metadata": {},
   "source": [
    "## 5. Which categories of games are more likely to be unfinished? "
   ]
  },
  {
   "cell_type": "code",
   "execution_count": 82,
   "metadata": {},
   "outputs": [
    {
     "name": "stdout",
     "output_type": "stream",
     "text": [
      "There are 606 articles with more than 1 category.\n"
     ]
    }
   ],
   "source": [
    "categories = pd.read_csv('datasets/wikispeedia_paths-and-graph/categories.tsv', sep='\\t', skiprows=12, names = ['article', 'categories'])\n",
    "categories[categories['article'].duplicated()]\n",
    "print('There are', categories['article'].duplicated().sum(), 'articles with more than 1 category.')\n",
    "\n",
    "# Should we drop the duplicate categories, or doublecount them?"
   ]
  },
  {
   "cell_type": "code",
   "execution_count": 101,
   "metadata": {},
   "outputs": [
    {
     "data": {
      "text/plain": [
       "0       [History, British_History, British_History_150...\n",
       "1                            [People, Historical_figures]\n",
       "2                                             [Countries]\n",
       "3       [Geography, European_Geography, European_Count...\n",
       "4                                       [People, Artists]\n",
       "                              ...                        \n",
       "5199              [Science, Chemistry, Chemical_elements]\n",
       "5200              [People, Religious_figures_and_leaders]\n",
       "5201                      [Geography, European_Geography]\n",
       "5202                 [Language_and_literature, Languages]\n",
       "5203                       [Geography, African_Geography]\n",
       "Name: categories, Length: 5204, dtype: object"
      ]
     },
     "execution_count": 101,
     "metadata": {},
     "output_type": "execute_result"
    }
   ],
   "source": [
    "categories['categories'].str[8:].str.split('.')"
   ]
  },
  {
   "cell_type": "code",
   "execution_count": 83,
   "metadata": {},
   "outputs": [
    {
     "data": {
      "text/html": [
       "<div>\n",
       "<style scoped>\n",
       "    .dataframe tbody tr th:only-of-type {\n",
       "        vertical-align: middle;\n",
       "    }\n",
       "\n",
       "    .dataframe tbody tr th {\n",
       "        vertical-align: top;\n",
       "    }\n",
       "\n",
       "    .dataframe thead th {\n",
       "        text-align: right;\n",
       "    }\n",
       "</style>\n",
       "<table border=\"1\" class=\"dataframe\">\n",
       "  <thead>\n",
       "    <tr style=\"text-align: right;\">\n",
       "      <th></th>\n",
       "      <th>hashedIpAddress</th>\n",
       "      <th>timestamp</th>\n",
       "      <th>durationInSec</th>\n",
       "      <th>path</th>\n",
       "      <th>target</th>\n",
       "      <th>type</th>\n",
       "    </tr>\n",
       "  </thead>\n",
       "  <tbody>\n",
       "    <tr>\n",
       "      <th>0</th>\n",
       "      <td>2426091a53125110</td>\n",
       "      <td>1297054935</td>\n",
       "      <td>1804</td>\n",
       "      <td>Obi-Wan_Kenobi</td>\n",
       "      <td>Microsoft</td>\n",
       "      <td>timeout</td>\n",
       "    </tr>\n",
       "    <tr>\n",
       "      <th>1</th>\n",
       "      <td>26141fd878806294</td>\n",
       "      <td>1297055651</td>\n",
       "      <td>1805</td>\n",
       "      <td>Julius_Caesar</td>\n",
       "      <td>Caracas</td>\n",
       "      <td>timeout</td>\n",
       "    </tr>\n",
       "    <tr>\n",
       "      <th>2</th>\n",
       "      <td>2b015fb8181c48f2</td>\n",
       "      <td>1297090819</td>\n",
       "      <td>1818</td>\n",
       "      <td>Malawi;Democracy;Alexander_the_Great</td>\n",
       "      <td>First_Crusade</td>\n",
       "      <td>timeout</td>\n",
       "    </tr>\n",
       "    <tr>\n",
       "      <th>3</th>\n",
       "      <td>53a53bc244e08a6a</td>\n",
       "      <td>1297094761</td>\n",
       "      <td>49</td>\n",
       "      <td>Paraguay</td>\n",
       "      <td>Mount_St._Helens</td>\n",
       "      <td>restart</td>\n",
       "    </tr>\n",
       "    <tr>\n",
       "      <th>4</th>\n",
       "      <td>53a53bc244e08a6a</td>\n",
       "      <td>1297099105</td>\n",
       "      <td>1808</td>\n",
       "      <td>Paraguay;Bolivia</td>\n",
       "      <td>Mount_St._Helens</td>\n",
       "      <td>timeout</td>\n",
       "    </tr>\n",
       "    <tr>\n",
       "      <th>...</th>\n",
       "      <td>...</td>\n",
       "      <td>...</td>\n",
       "      <td>...</td>\n",
       "      <td>...</td>\n",
       "      <td>...</td>\n",
       "      <td>...</td>\n",
       "    </tr>\n",
       "    <tr>\n",
       "      <th>24870</th>\n",
       "      <td>109ed71f571d86e9</td>\n",
       "      <td>1389787605</td>\n",
       "      <td>180</td>\n",
       "      <td>Franz_Kafka;Tuberculosis;World_Health_Organiza...</td>\n",
       "      <td>Cholera</td>\n",
       "      <td>restart</td>\n",
       "    </tr>\n",
       "    <tr>\n",
       "      <th>24871</th>\n",
       "      <td>232f992e57d43e8d</td>\n",
       "      <td>1389787697</td>\n",
       "      <td>6</td>\n",
       "      <td>Modern_history</td>\n",
       "      <td>Hollandic</td>\n",
       "      <td>restart</td>\n",
       "    </tr>\n",
       "    <tr>\n",
       "      <th>24872</th>\n",
       "      <td>2e09a7224600a7cd</td>\n",
       "      <td>1389798400</td>\n",
       "      <td>1900</td>\n",
       "      <td>Computer_programming;Linguistics;Culture;Popul...</td>\n",
       "      <td>The_Beatles</td>\n",
       "      <td>timeout</td>\n",
       "    </tr>\n",
       "    <tr>\n",
       "      <th>24873</th>\n",
       "      <td>60af9e2138051b96</td>\n",
       "      <td>1389799481</td>\n",
       "      <td>1903</td>\n",
       "      <td>Jamaica;United_Kingdom;World_War_II;Battle_of_...</td>\n",
       "      <td>Alan_Turing</td>\n",
       "      <td>timeout</td>\n",
       "    </tr>\n",
       "    <tr>\n",
       "      <th>24874</th>\n",
       "      <td>1cf0cbb3281049ab</td>\n",
       "      <td>1389822841</td>\n",
       "      <td>352</td>\n",
       "      <td>Mark_Antony;Rome;Tennis;Hawk-Eye;Computer</td>\n",
       "      <td>Feather</td>\n",
       "      <td>restart</td>\n",
       "    </tr>\n",
       "  </tbody>\n",
       "</table>\n",
       "<p>24875 rows × 6 columns</p>\n",
       "</div>"
      ],
      "text/plain": [
       "        hashedIpAddress   timestamp  durationInSec  \\\n",
       "0      2426091a53125110  1297054935           1804   \n",
       "1      26141fd878806294  1297055651           1805   \n",
       "2      2b015fb8181c48f2  1297090819           1818   \n",
       "3      53a53bc244e08a6a  1297094761             49   \n",
       "4      53a53bc244e08a6a  1297099105           1808   \n",
       "...                 ...         ...            ...   \n",
       "24870  109ed71f571d86e9  1389787605            180   \n",
       "24871  232f992e57d43e8d  1389787697              6   \n",
       "24872  2e09a7224600a7cd  1389798400           1900   \n",
       "24873  60af9e2138051b96  1389799481           1903   \n",
       "24874  1cf0cbb3281049ab  1389822841            352   \n",
       "\n",
       "                                                    path            target  \\\n",
       "0                                         Obi-Wan_Kenobi         Microsoft   \n",
       "1                                          Julius_Caesar           Caracas   \n",
       "2                   Malawi;Democracy;Alexander_the_Great     First_Crusade   \n",
       "3                                               Paraguay  Mount_St._Helens   \n",
       "4                                       Paraguay;Bolivia  Mount_St._Helens   \n",
       "...                                                  ...               ...   \n",
       "24870  Franz_Kafka;Tuberculosis;World_Health_Organiza...           Cholera   \n",
       "24871                                     Modern_history         Hollandic   \n",
       "24872  Computer_programming;Linguistics;Culture;Popul...       The_Beatles   \n",
       "24873  Jamaica;United_Kingdom;World_War_II;Battle_of_...       Alan_Turing   \n",
       "24874          Mark_Antony;Rome;Tennis;Hawk-Eye;Computer           Feather   \n",
       "\n",
       "          type  \n",
       "0      timeout  \n",
       "1      timeout  \n",
       "2      timeout  \n",
       "3      restart  \n",
       "4      timeout  \n",
       "...        ...  \n",
       "24870  restart  \n",
       "24871  restart  \n",
       "24872  timeout  \n",
       "24873  timeout  \n",
       "24874  restart  \n",
       "\n",
       "[24875 rows x 6 columns]"
      ]
     },
     "execution_count": 83,
     "metadata": {},
     "output_type": "execute_result"
    }
   ],
   "source": [
    "paths_unfinished"
   ]
  }
 ],
 "metadata": {
  "kernelspec": {
   "display_name": "ada",
   "language": "python",
   "name": "python3"
  },
  "language_info": {
   "codemirror_mode": {
    "name": "ipython",
    "version": 3
   },
   "file_extension": ".py",
   "mimetype": "text/x-python",
   "name": "python",
   "nbconvert_exporter": "python",
   "pygments_lexer": "ipython3",
   "version": "3.9.18"
  }
 },
 "nbformat": 4,
 "nbformat_minor": 2
}

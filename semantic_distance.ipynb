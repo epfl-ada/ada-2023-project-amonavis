{
 "cells": [
  {
   "cell_type": "code",
   "execution_count": 29,
   "metadata": {},
   "outputs": [],
   "source": [
    "from gensim.models import KeyedVectors\n",
    "from scipy.spatial import distance\n",
    "import numpy as np"
   ]
  },
  {
   "cell_type": "code",
   "execution_count": 8,
   "metadata": {},
   "outputs": [],
   "source": [
    "# Load the pre-trained Word2Vec model\n",
    "model = KeyedVectors.load_word2vec_format('GoogleNews-vectors-negative300.bin', binary=True)\n",
    "# you can download the file from here: https://www.kaggle.com/datasets/pkugoodspeed/nlpword2vecembeddingspretrained/"
   ]
  },
  {
   "cell_type": "code",
   "execution_count": 22,
   "metadata": {},
   "outputs": [
    {
     "name": "stdout",
     "output_type": "stream",
     "text": [
      "0.3489043116569519\n"
     ]
    }
   ],
   "source": [
    "# Example words\n",
    "word1 = \"queen\"\n",
    "word2 = \"king\"\n",
    "\n",
    "# Get the vector for each word\n",
    "vector1 = model[word1]\n",
    "vector2 = model[word2]\n",
    "\n",
    "# Calculate the cosine distance between the two vectors\n",
    "cosine_dist = distance.cosine(vector1, vector2)\n",
    "\n",
    "print(cosine_dist)\n"
   ]
  },
  {
   "cell_type": "code",
   "execution_count": 30,
   "metadata": {},
   "outputs": [
    {
     "name": "stdout",
     "output_type": "stream",
     "text": [
      "Cosine distance between 'queen' and 'king': 0.3489\n"
     ]
    }
   ],
   "source": [
    "# Check if the words are in the model's vocabulary\n",
    "if word1 in model.key_to_index and word2 in model.key_to_index:\n",
    "    try:\n",
    "        # Get the vector for each word\n",
    "        vector1 = model[word1]\n",
    "        vector2 = model[word2]\n",
    "\n",
    "        # Normalize the vectors (optional)\n",
    "        vector1 = vector1 / np.linalg.norm(vector1)\n",
    "        vector2 = vector2 / np.linalg.norm(vector2)\n",
    "\n",
    "        # Calculate the cosine distance between the two vectors\n",
    "        cosine_dist = distance.cosine(vector1, vector2)\n",
    "\n",
    "        # Print the result, formatted to 4 decimal places\n",
    "        print(f\"Cosine distance between '{word1}' and '{word2}': {cosine_dist:.4f}\")\n",
    "    except Exception as e:\n",
    "        print(f\"An error occurred: {e}\")\n",
    "else:\n",
    "    print(f\"One or both words ('{word1}', '{word2}') are not in the model's vocabulary.\")\n"
   ]
  }
 ],
 "metadata": {
  "kernelspec": {
   "display_name": "ada",
   "language": "python",
   "name": "python3"
  },
  "language_info": {
   "codemirror_mode": {
    "name": "ipython",
    "version": 3
   },
   "file_extension": ".py",
   "mimetype": "text/x-python",
   "name": "python",
   "nbconvert_exporter": "python",
   "pygments_lexer": "ipython3",
   "version": "3.9.18"
  },
  "orig_nbformat": 4
 },
 "nbformat": 4,
 "nbformat_minor": 2
}

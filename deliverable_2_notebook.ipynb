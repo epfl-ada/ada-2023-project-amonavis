{
 "cells": [
  {
   "cell_type": "markdown",
   "metadata": {
    "collapsed": false
   },
   "source": [
    "# Deliverable 2\n",
    "This is the notebook that has the second deliverable."
   ]
  },
  {
   "cell_type": "markdown",
   "metadata": {},
   "source": [
    "Table of Contents <br>\n",
    "\n",
    "0. Import Modules\n",
    "1. Data reading\n",
    "2. Descriptive data analysis\n",
    "3. Ways to enrich, filter, transform the data\n",
    "4. Plan and Ideas for Methods"
   ]
  },
  {
   "cell_type": "markdown",
   "metadata": {},
   "source": [
    "# 0. Import modules\n",
    "Feel free to use the virtual environment (amonavis) included in the GitHub folder."
   ]
  },
  {
   "cell_type": "code",
   "execution_count": 1,
   "metadata": {},
   "outputs": [
    {
     "name": "stderr",
     "output_type": "stream",
     "text": [
      "/Users/danielebelfiore/Library/Python/3.9/lib/python/site-packages/urllib3/__init__.py:34: NotOpenSSLWarning: urllib3 v2.0 only supports OpenSSL 1.1.1+, currently the 'ssl' module is compiled with 'LibreSSL 2.8.3'. See: https://github.com/urllib3/urllib3/issues/3020\n",
      "  warnings.warn(\n",
      "/Users/danielebelfiore/Library/Python/3.9/lib/python/site-packages/tqdm/auto.py:21: TqdmWarning: IProgress not found. Please update jupyter and ipywidgets. See https://ipywidgets.readthedocs.io/en/stable/user_install.html\n",
      "  from .autonotebook import tqdm as notebook_tqdm\n"
     ]
    }
   ],
   "source": [
    "import pandas as pd\n",
    "import numpy as np\n",
    "from datetime import datetime\n",
    "import matplotlib.pyplot as plt \n",
    "import networkx as nx\n",
    "\n",
    "\n",
    "# For semantic similarity\n",
    "from urllib.parse import unquote\n",
    "from transformers import BertTokenizer, BertModel\n",
    "from sklearn.metrics.pairwise import cosine_similarity\n",
    "\n",
    "# Python functions in .py file to read data\n",
    "import data_readers"
   ]
  },
  {
   "cell_type": "markdown",
   "metadata": {
    "collapsed": false
   },
   "source": [
    "# 1. Data reading\n",
    "The following code reads the data and saves them in the appropriate variables.\n",
    "<br><br>\n",
    "**Wikispeedia**\n",
    "This will hold our graph where Wikipedia articles are nodes and links/paths between them are edges.\n",
    "\n",
    "<br><br>\n",
    "**finished_paths**\n",
    "The datafile includes the hashedIpAddress, timestamp, durationInSec, path, and rating of games that were completed.\n",
    "We also add columns with the first article (soruce), last article (target), path length (#articles), and a readable date in Timestamp format.\n",
    "\n",
    "<br><br>\n",
    "**unfinished_paths**\n",
    "This datafile is similar to finished_paths, but with games that weren't completed. It has the hashedIpAddress, timestamp, durationInSec, path, target, and type of failure (either timeout or restart).\n",
    "\n",
    "<br><br>\n",
    "**articles**\n",
    "Dataframe with the name of all articles in the dataset.\n",
    "\n",
    "<br><br>\n",
    "**categories**\n",
    "This shows the higher category classification of each article. For example, Áedán mac Gabráin is part of 'subject.History.British_History.British_History_1500_and_before_including_Roman_Britain'"
   ]
  },
  {
   "cell_type": "code",
   "execution_count": 2,
   "metadata": {
    "collapsed": false
   },
   "outputs": [],
   "source": [
    "# The links and edges\n",
    "wikispeedia = data_readers.read_wikispeedia_graph()\n",
    "\n",
    "# The finished paths\n",
    "finished_paths = data_readers.read_finished_paths()\n",
    "\n",
    "# The unfinished paths\n",
    "unfinished_paths = data_readers.read_unfinished_paths()\n",
    "\n",
    "# List of all articles\n",
    "articles = data_readers.read_articles()\n",
    "\n",
    "# List of all articles and their categories\n",
    "categories = data_readers.read_categories()\n",
    "\n",
    "\n",
    "# We found out later that the data contained in the shortest path matrix given to us seems to be wrong\n",
    "# Here we also add a quick dictionary that properly shows that this is wrong, and give an example\n",
    "shortest_path_df = data_readers.read_shortest_path_df()\n",
    "shortest_path_dict = dict(nx.all_pairs_shortest_path(wikispeedia))\n",
    "\n",
    "# Searching for the string of a given article. It has to be formatted like the article name\n",
    "# Which shouldn't be a problem, as we'll probably usually retrieve them internally\n",
    "obi_wan_text = data_readers.plaintext_article_finder('Obi-Wan_Kenobi')"
   ]
  },
  {
   "cell_type": "code",
   "execution_count": 3,
   "metadata": {},
   "outputs": [
    {
     "name": "stdout",
     "output_type": "stream",
     "text": [
      "Dataset has 4592 nodes\n",
      "Dataset has 119882 edges\n"
     ]
    }
   ],
   "source": [
    "print(\"Dataset has\", len(wikispeedia.nodes), \"nodes\")\n",
    "print(\"Dataset has\", len(wikispeedia.edges), \"edges\")"
   ]
  },
  {
   "cell_type": "markdown",
   "metadata": {
    "collapsed": false
   },
   "source": [
    "These are less nodes than the reported number, it should be 4,604 nodes.\n",
    "\n",
    "The 119,882 edges is correct though.\n",
    "\n",
    "The difference is probably due to some nodes not being connected to the rest of the graph, as here we read in only the articles that are connected. The few nodes that we are losing do not matter for what we need."
   ]
  },
  {
   "cell_type": "code",
   "execution_count": 4,
   "metadata": {},
   "outputs": [
    {
     "data": {
      "text/html": [
       "<div>\n",
       "<style scoped>\n",
       "    .dataframe tbody tr th:only-of-type {\n",
       "        vertical-align: middle;\n",
       "    }\n",
       "\n",
       "    .dataframe tbody tr th {\n",
       "        vertical-align: top;\n",
       "    }\n",
       "\n",
       "    .dataframe thead th {\n",
       "        text-align: right;\n",
       "    }\n",
       "</style>\n",
       "<table border=\"1\" class=\"dataframe\">\n",
       "  <thead>\n",
       "    <tr style=\"text-align: right;\">\n",
       "      <th></th>\n",
       "      <th>hashedIpAddress</th>\n",
       "      <th>timestamp</th>\n",
       "      <th>durationInSec</th>\n",
       "      <th>path</th>\n",
       "      <th>rating</th>\n",
       "      <th>first_article</th>\n",
       "      <th>last_article</th>\n",
       "      <th>path_length</th>\n",
       "      <th>date</th>\n",
       "    </tr>\n",
       "  </thead>\n",
       "  <tbody>\n",
       "    <tr>\n",
       "      <th>30054</th>\n",
       "      <td>7636613643de6e50</td>\n",
       "      <td>1367439554</td>\n",
       "      <td>120</td>\n",
       "      <td>Proxima_Centauri;South_Africa;Citrus;Juice;Fru...</td>\n",
       "      <td>NaN</td>\n",
       "      <td>Proxima_Centauri</td>\n",
       "      <td>Mango</td>\n",
       "      <td>6</td>\n",
       "      <td>2013-05-01 20:19:14</td>\n",
       "    </tr>\n",
       "    <tr>\n",
       "      <th>6106</th>\n",
       "      <td>4584a790178bd28f</td>\n",
       "      <td>1336222104</td>\n",
       "      <td>97</td>\n",
       "      <td>Manchester;Canal;Ocean;Seawater;Water</td>\n",
       "      <td>NaN</td>\n",
       "      <td>Manchester</td>\n",
       "      <td>Water</td>\n",
       "      <td>5</td>\n",
       "      <td>2012-05-05 12:48:24</td>\n",
       "    </tr>\n",
       "    <tr>\n",
       "      <th>6401</th>\n",
       "      <td>7a99e31f7debaf79</td>\n",
       "      <td>1366942620</td>\n",
       "      <td>96</td>\n",
       "      <td>Music;Culture;Human;Agriculture;Food;Vitamin;V...</td>\n",
       "      <td>3.0</td>\n",
       "      <td>Music</td>\n",
       "      <td>Vitamin_D</td>\n",
       "      <td>7</td>\n",
       "      <td>2013-04-26 02:17:00</td>\n",
       "    </tr>\n",
       "    <tr>\n",
       "      <th>41782</th>\n",
       "      <td>0d57c8c57d75e2f5</td>\n",
       "      <td>1287156983</td>\n",
       "      <td>152</td>\n",
       "      <td>Ku_Klux_Klan;Superman;Earth;Tide;Flood</td>\n",
       "      <td>NaN</td>\n",
       "      <td>Ku_Klux_Klan</td>\n",
       "      <td>Flood</td>\n",
       "      <td>5</td>\n",
       "      <td>2010-10-15 15:36:23</td>\n",
       "    </tr>\n",
       "    <tr>\n",
       "      <th>37195</th>\n",
       "      <td>0a11ab06174551d9</td>\n",
       "      <td>1251252501</td>\n",
       "      <td>201</td>\n",
       "      <td>Constantine_I;Roman_Empire;Danube;European_Uni...</td>\n",
       "      <td>NaN</td>\n",
       "      <td>Constantine_I</td>\n",
       "      <td>Barcelona</td>\n",
       "      <td>7</td>\n",
       "      <td>2009-08-26 02:08:21</td>\n",
       "    </tr>\n",
       "  </tbody>\n",
       "</table>\n",
       "</div>"
      ],
      "text/plain": [
       "        hashedIpAddress   timestamp  durationInSec  \\\n",
       "30054  7636613643de6e50  1367439554            120   \n",
       "6106   4584a790178bd28f  1336222104             97   \n",
       "6401   7a99e31f7debaf79  1366942620             96   \n",
       "41782  0d57c8c57d75e2f5  1287156983            152   \n",
       "37195  0a11ab06174551d9  1251252501            201   \n",
       "\n",
       "                                                    path  rating  \\\n",
       "30054  Proxima_Centauri;South_Africa;Citrus;Juice;Fru...     NaN   \n",
       "6106               Manchester;Canal;Ocean;Seawater;Water     NaN   \n",
       "6401   Music;Culture;Human;Agriculture;Food;Vitamin;V...     3.0   \n",
       "41782             Ku_Klux_Klan;Superman;Earth;Tide;Flood     NaN   \n",
       "37195  Constantine_I;Roman_Empire;Danube;European_Uni...     NaN   \n",
       "\n",
       "          first_article last_article  path_length                date  \n",
       "30054  Proxima_Centauri        Mango            6 2013-05-01 20:19:14  \n",
       "6106         Manchester        Water            5 2012-05-05 12:48:24  \n",
       "6401              Music    Vitamin_D            7 2013-04-26 02:17:00  \n",
       "41782      Ku_Klux_Klan        Flood            5 2010-10-15 15:36:23  \n",
       "37195     Constantine_I    Barcelona            7 2009-08-26 02:08:21  "
      ]
     },
     "execution_count": 4,
     "metadata": {},
     "output_type": "execute_result"
    }
   ],
   "source": [
    "# Let's print a sample of each datafram to make sure they were read in correctly.\n",
    "finished_paths.sample(5)"
   ]
  },
  {
   "cell_type": "code",
   "execution_count": 5,
   "metadata": {},
   "outputs": [
    {
     "data": {
      "text/html": [
       "<div>\n",
       "<style scoped>\n",
       "    .dataframe tbody tr th:only-of-type {\n",
       "        vertical-align: middle;\n",
       "    }\n",
       "\n",
       "    .dataframe tbody tr th {\n",
       "        vertical-align: top;\n",
       "    }\n",
       "\n",
       "    .dataframe thead th {\n",
       "        text-align: right;\n",
       "    }\n",
       "</style>\n",
       "<table border=\"1\" class=\"dataframe\">\n",
       "  <thead>\n",
       "    <tr style=\"text-align: right;\">\n",
       "      <th></th>\n",
       "      <th>hashedIpAddress</th>\n",
       "      <th>timestamp</th>\n",
       "      <th>durationInSec</th>\n",
       "      <th>path</th>\n",
       "      <th>target</th>\n",
       "      <th>type</th>\n",
       "    </tr>\n",
       "  </thead>\n",
       "  <tbody>\n",
       "    <tr>\n",
       "      <th>3845</th>\n",
       "      <td>605b6e447f9bc259</td>\n",
       "      <td>1306630320</td>\n",
       "      <td>301</td>\n",
       "      <td>Theatre;India;United_Nations;South_Africa;Afri...</td>\n",
       "      <td>Zebra</td>\n",
       "      <td>restart</td>\n",
       "    </tr>\n",
       "    <tr>\n",
       "      <th>22379</th>\n",
       "      <td>0ee75cdb367fbd88</td>\n",
       "      <td>1381891304</td>\n",
       "      <td>69</td>\n",
       "      <td>Writing;Library;Book</td>\n",
       "      <td>Dune</td>\n",
       "      <td>restart</td>\n",
       "    </tr>\n",
       "    <tr>\n",
       "      <th>12387</th>\n",
       "      <td>43ed9a467c525ef5</td>\n",
       "      <td>1348420761</td>\n",
       "      <td>172</td>\n",
       "      <td>Batman;Spring_Heeled_Jack;England;Rain;Brazil;...</td>\n",
       "      <td>Banana</td>\n",
       "      <td>restart</td>\n",
       "    </tr>\n",
       "    <tr>\n",
       "      <th>9813</th>\n",
       "      <td>526f5b9a62458d44</td>\n",
       "      <td>1343403735</td>\n",
       "      <td>163</td>\n",
       "      <td>Comet;Sun;Sunlight;Electromagnetic_radiation;P...</td>\n",
       "      <td>Speed_of_light</td>\n",
       "      <td>restart</td>\n",
       "    </tr>\n",
       "    <tr>\n",
       "      <th>20433</th>\n",
       "      <td>14e834724f159c93</td>\n",
       "      <td>1373672330</td>\n",
       "      <td>121</td>\n",
       "      <td>Carl_Jung;Humanities;Culture;20th_century;Comp...</td>\n",
       "      <td>PONG</td>\n",
       "      <td>restart</td>\n",
       "    </tr>\n",
       "  </tbody>\n",
       "</table>\n",
       "</div>"
      ],
      "text/plain": [
       "        hashedIpAddress   timestamp  durationInSec  \\\n",
       "3845   605b6e447f9bc259  1306630320            301   \n",
       "22379  0ee75cdb367fbd88  1381891304             69   \n",
       "12387  43ed9a467c525ef5  1348420761            172   \n",
       "9813   526f5b9a62458d44  1343403735            163   \n",
       "20433  14e834724f159c93  1373672330            121   \n",
       "\n",
       "                                                    path          target  \\\n",
       "3845   Theatre;India;United_Nations;South_Africa;Afri...           Zebra   \n",
       "22379                               Writing;Library;Book            Dune   \n",
       "12387  Batman;Spring_Heeled_Jack;England;Rain;Brazil;...          Banana   \n",
       "9813   Comet;Sun;Sunlight;Electromagnetic_radiation;P...  Speed_of_light   \n",
       "20433  Carl_Jung;Humanities;Culture;20th_century;Comp...            PONG   \n",
       "\n",
       "          type  \n",
       "3845   restart  \n",
       "22379  restart  \n",
       "12387  restart  \n",
       "9813   restart  \n",
       "20433  restart  "
      ]
     },
     "execution_count": 5,
     "metadata": {},
     "output_type": "execute_result"
    }
   ],
   "source": [
    "unfinished_paths.sample(5)"
   ]
  },
  {
   "cell_type": "code",
   "execution_count": 6,
   "metadata": {},
   "outputs": [
    {
     "data": {
      "text/html": [
       "<div>\n",
       "<style scoped>\n",
       "    .dataframe tbody tr th:only-of-type {\n",
       "        vertical-align: middle;\n",
       "    }\n",
       "\n",
       "    .dataframe tbody tr th {\n",
       "        vertical-align: top;\n",
       "    }\n",
       "\n",
       "    .dataframe thead th {\n",
       "        text-align: right;\n",
       "    }\n",
       "</style>\n",
       "<table border=\"1\" class=\"dataframe\">\n",
       "  <thead>\n",
       "    <tr style=\"text-align: right;\">\n",
       "      <th></th>\n",
       "      <th>articles</th>\n",
       "    </tr>\n",
       "  </thead>\n",
       "  <tbody>\n",
       "    <tr>\n",
       "      <th>110</th>\n",
       "      <td>Acid_rain</td>\n",
       "    </tr>\n",
       "    <tr>\n",
       "      <th>2101</th>\n",
       "      <td>Indian_Peafowl</td>\n",
       "    </tr>\n",
       "    <tr>\n",
       "      <th>1644</th>\n",
       "      <td>Gas_tungsten_arc_welding</td>\n",
       "    </tr>\n",
       "    <tr>\n",
       "      <th>4359</th>\n",
       "      <td>Victoria_of_the_United_Kingdom</td>\n",
       "    </tr>\n",
       "    <tr>\n",
       "      <th>3247</th>\n",
       "      <td>Piccadilly_Circus</td>\n",
       "    </tr>\n",
       "  </tbody>\n",
       "</table>\n",
       "</div>"
      ],
      "text/plain": [
       "                            articles\n",
       "110                        Acid_rain\n",
       "2101                  Indian_Peafowl\n",
       "1644        Gas_tungsten_arc_welding\n",
       "4359  Victoria_of_the_United_Kingdom\n",
       "3247               Piccadilly_Circus"
      ]
     },
     "execution_count": 6,
     "metadata": {},
     "output_type": "execute_result"
    }
   ],
   "source": [
    "articles.sample(5)"
   ]
  },
  {
   "cell_type": "code",
   "execution_count": 7,
   "metadata": {},
   "outputs": [
    {
     "data": {
      "text/html": [
       "<div>\n",
       "<style scoped>\n",
       "    .dataframe tbody tr th:only-of-type {\n",
       "        vertical-align: middle;\n",
       "    }\n",
       "\n",
       "    .dataframe tbody tr th {\n",
       "        vertical-align: top;\n",
       "    }\n",
       "\n",
       "    .dataframe thead th {\n",
       "        text-align: right;\n",
       "    }\n",
       "</style>\n",
       "<table border=\"1\" class=\"dataframe\">\n",
       "  <thead>\n",
       "    <tr style=\"text-align: right;\">\n",
       "      <th></th>\n",
       "      <th>article</th>\n",
       "      <th>categories</th>\n",
       "    </tr>\n",
       "  </thead>\n",
       "  <tbody>\n",
       "    <tr>\n",
       "      <th>1403</th>\n",
       "      <td>Drought</td>\n",
       "      <td>subject.Geography.Climate_and_the_Weather</td>\n",
       "    </tr>\n",
       "    <tr>\n",
       "      <th>745</th>\n",
       "      <td>Boudica</td>\n",
       "      <td>subject.People.Historical_figures</td>\n",
       "    </tr>\n",
       "    <tr>\n",
       "      <th>2037</th>\n",
       "      <td>Gremlins</td>\n",
       "      <td>subject.Everyday_life.Films</td>\n",
       "    </tr>\n",
       "    <tr>\n",
       "      <th>162</th>\n",
       "      <td>Agnosticism</td>\n",
       "      <td>subject.Religion.Philosophy</td>\n",
       "    </tr>\n",
       "    <tr>\n",
       "      <th>190</th>\n",
       "      <td>Albrecht_D%C3%BCrer</td>\n",
       "      <td>subject.People.Mathematicians</td>\n",
       "    </tr>\n",
       "  </tbody>\n",
       "</table>\n",
       "</div>"
      ],
      "text/plain": [
       "                  article                                 categories\n",
       "1403              Drought  subject.Geography.Climate_and_the_Weather\n",
       "745               Boudica          subject.People.Historical_figures\n",
       "2037             Gremlins                subject.Everyday_life.Films\n",
       "162           Agnosticism                subject.Religion.Philosophy\n",
       "190   Albrecht_D%C3%BCrer              subject.People.Mathematicians"
      ]
     },
     "execution_count": 7,
     "metadata": {},
     "output_type": "execute_result"
    }
   ],
   "source": [
    "categories.sample(5)"
   ]
  },
  {
   "cell_type": "code",
   "execution_count": 8,
   "metadata": {},
   "outputs": [
    {
     "data": {
      "text/html": [
       "<div>\n",
       "<style scoped>\n",
       "    .dataframe tbody tr th:only-of-type {\n",
       "        vertical-align: middle;\n",
       "    }\n",
       "\n",
       "    .dataframe tbody tr th {\n",
       "        vertical-align: top;\n",
       "    }\n",
       "\n",
       "    .dataframe thead th {\n",
       "        text-align: right;\n",
       "    }\n",
       "</style>\n",
       "<table border=\"1\" class=\"dataframe\">\n",
       "  <thead>\n",
       "    <tr style=\"text-align: right;\">\n",
       "      <th></th>\n",
       "      <th>(%C3%81ed%C3%A1n_mac_Gabr%C3%A1in,)</th>\n",
       "      <th>(%C3%85land,)</th>\n",
       "      <th>(%C3%89douard_Manet,)</th>\n",
       "      <th>(%C3%89ire,)</th>\n",
       "      <th>(%C3%93engus_I_of_the_Picts,)</th>\n",
       "      <th>(%E2%82%AC2_commemorative_coins,)</th>\n",
       "      <th>(10th_century,)</th>\n",
       "      <th>(11th_century,)</th>\n",
       "      <th>(12th_century,)</th>\n",
       "      <th>(13th_century,)</th>\n",
       "      <th>...</th>\n",
       "      <th>(Ziad_Jarrah,)</th>\n",
       "      <th>(Zimbabwe,)</th>\n",
       "      <th>(Zinc,)</th>\n",
       "      <th>(Zinc_chloride,)</th>\n",
       "      <th>(Zion_National_Park,)</th>\n",
       "      <th>(Zionism,)</th>\n",
       "      <th>(Zirconium,)</th>\n",
       "      <th>(Zoroaster,)</th>\n",
       "      <th>(Zuid-Gelders,)</th>\n",
       "      <th>(Zulu,)</th>\n",
       "    </tr>\n",
       "  </thead>\n",
       "  <tbody>\n",
       "    <tr>\n",
       "      <th>(%C3%81ed%C3%A1n_mac_Gabr%C3%A1in,)</th>\n",
       "      <td>0</td>\n",
       "      <td>-1</td>\n",
       "      <td>-1</td>\n",
       "      <td>-1</td>\n",
       "      <td>-1</td>\n",
       "      <td>-1</td>\n",
       "      <td>3</td>\n",
       "      <td>3</td>\n",
       "      <td>3</td>\n",
       "      <td>3</td>\n",
       "      <td>...</td>\n",
       "      <td>4</td>\n",
       "      <td>3</td>\n",
       "      <td>3</td>\n",
       "      <td>4</td>\n",
       "      <td>4</td>\n",
       "      <td>3</td>\n",
       "      <td>4</td>\n",
       "      <td>4</td>\n",
       "      <td>4</td>\n",
       "      <td>2</td>\n",
       "    </tr>\n",
       "    <tr>\n",
       "      <th>(%C3%85land,)</th>\n",
       "      <td>-1</td>\n",
       "      <td>0</td>\n",
       "      <td>-1</td>\n",
       "      <td>-1</td>\n",
       "      <td>-1</td>\n",
       "      <td>-1</td>\n",
       "      <td>2</td>\n",
       "      <td>2</td>\n",
       "      <td>2</td>\n",
       "      <td>2</td>\n",
       "      <td>...</td>\n",
       "      <td>4</td>\n",
       "      <td>2</td>\n",
       "      <td>3</td>\n",
       "      <td>4</td>\n",
       "      <td>4</td>\n",
       "      <td>3</td>\n",
       "      <td>4</td>\n",
       "      <td>3</td>\n",
       "      <td>3</td>\n",
       "      <td>3</td>\n",
       "    </tr>\n",
       "    <tr>\n",
       "      <th>(%C3%89douard_Manet,)</th>\n",
       "      <td>-1</td>\n",
       "      <td>-1</td>\n",
       "      <td>0</td>\n",
       "      <td>-1</td>\n",
       "      <td>-1</td>\n",
       "      <td>-1</td>\n",
       "      <td>3</td>\n",
       "      <td>3</td>\n",
       "      <td>2</td>\n",
       "      <td>2</td>\n",
       "      <td>...</td>\n",
       "      <td>4</td>\n",
       "      <td>3</td>\n",
       "      <td>2</td>\n",
       "      <td>3</td>\n",
       "      <td>4</td>\n",
       "      <td>3</td>\n",
       "      <td>4</td>\n",
       "      <td>3</td>\n",
       "      <td>3</td>\n",
       "      <td>3</td>\n",
       "    </tr>\n",
       "    <tr>\n",
       "      <th>(%C3%89ire,)</th>\n",
       "      <td>-1</td>\n",
       "      <td>-1</td>\n",
       "      <td>-1</td>\n",
       "      <td>0</td>\n",
       "      <td>-1</td>\n",
       "      <td>-1</td>\n",
       "      <td>3</td>\n",
       "      <td>3</td>\n",
       "      <td>3</td>\n",
       "      <td>3</td>\n",
       "      <td>...</td>\n",
       "      <td>4</td>\n",
       "      <td>2</td>\n",
       "      <td>2</td>\n",
       "      <td>3</td>\n",
       "      <td>4</td>\n",
       "      <td>3</td>\n",
       "      <td>4</td>\n",
       "      <td>4</td>\n",
       "      <td>3</td>\n",
       "      <td>3</td>\n",
       "    </tr>\n",
       "    <tr>\n",
       "      <th>(%C3%93engus_I_of_the_Picts,)</th>\n",
       "      <td>-1</td>\n",
       "      <td>-1</td>\n",
       "      <td>-1</td>\n",
       "      <td>-1</td>\n",
       "      <td>0</td>\n",
       "      <td>-1</td>\n",
       "      <td>2</td>\n",
       "      <td>2</td>\n",
       "      <td>3</td>\n",
       "      <td>2</td>\n",
       "      <td>...</td>\n",
       "      <td>4</td>\n",
       "      <td>2</td>\n",
       "      <td>3</td>\n",
       "      <td>4</td>\n",
       "      <td>4</td>\n",
       "      <td>3</td>\n",
       "      <td>4</td>\n",
       "      <td>3</td>\n",
       "      <td>3</td>\n",
       "      <td>3</td>\n",
       "    </tr>\n",
       "  </tbody>\n",
       "</table>\n",
       "<p>5 rows × 4604 columns</p>\n",
       "</div>"
      ],
      "text/plain": [
       "                                     (%C3%81ed%C3%A1n_mac_Gabr%C3%A1in,)  \\\n",
       "(%C3%81ed%C3%A1n_mac_Gabr%C3%A1in,)                                    0   \n",
       "(%C3%85land,)                                                         -1   \n",
       "(%C3%89douard_Manet,)                                                 -1   \n",
       "(%C3%89ire,)                                                          -1   \n",
       "(%C3%93engus_I_of_the_Picts,)                                         -1   \n",
       "\n",
       "                                     (%C3%85land,)  (%C3%89douard_Manet,)  \\\n",
       "(%C3%81ed%C3%A1n_mac_Gabr%C3%A1in,)             -1                     -1   \n",
       "(%C3%85land,)                                    0                     -1   \n",
       "(%C3%89douard_Manet,)                           -1                      0   \n",
       "(%C3%89ire,)                                    -1                     -1   \n",
       "(%C3%93engus_I_of_the_Picts,)                   -1                     -1   \n",
       "\n",
       "                                     (%C3%89ire,)  \\\n",
       "(%C3%81ed%C3%A1n_mac_Gabr%C3%A1in,)            -1   \n",
       "(%C3%85land,)                                  -1   \n",
       "(%C3%89douard_Manet,)                          -1   \n",
       "(%C3%89ire,)                                    0   \n",
       "(%C3%93engus_I_of_the_Picts,)                  -1   \n",
       "\n",
       "                                     (%C3%93engus_I_of_the_Picts,)  \\\n",
       "(%C3%81ed%C3%A1n_mac_Gabr%C3%A1in,)                             -1   \n",
       "(%C3%85land,)                                                   -1   \n",
       "(%C3%89douard_Manet,)                                           -1   \n",
       "(%C3%89ire,)                                                    -1   \n",
       "(%C3%93engus_I_of_the_Picts,)                                    0   \n",
       "\n",
       "                                     (%E2%82%AC2_commemorative_coins,)  \\\n",
       "(%C3%81ed%C3%A1n_mac_Gabr%C3%A1in,)                                 -1   \n",
       "(%C3%85land,)                                                       -1   \n",
       "(%C3%89douard_Manet,)                                               -1   \n",
       "(%C3%89ire,)                                                        -1   \n",
       "(%C3%93engus_I_of_the_Picts,)                                       -1   \n",
       "\n",
       "                                     (10th_century,)  (11th_century,)  \\\n",
       "(%C3%81ed%C3%A1n_mac_Gabr%C3%A1in,)                3                3   \n",
       "(%C3%85land,)                                      2                2   \n",
       "(%C3%89douard_Manet,)                              3                3   \n",
       "(%C3%89ire,)                                       3                3   \n",
       "(%C3%93engus_I_of_the_Picts,)                      2                2   \n",
       "\n",
       "                                     (12th_century,)  (13th_century,)  ...  \\\n",
       "(%C3%81ed%C3%A1n_mac_Gabr%C3%A1in,)                3                3  ...   \n",
       "(%C3%85land,)                                      2                2  ...   \n",
       "(%C3%89douard_Manet,)                              2                2  ...   \n",
       "(%C3%89ire,)                                       3                3  ...   \n",
       "(%C3%93engus_I_of_the_Picts,)                      3                2  ...   \n",
       "\n",
       "                                     (Ziad_Jarrah,)  (Zimbabwe,)  (Zinc,)  \\\n",
       "(%C3%81ed%C3%A1n_mac_Gabr%C3%A1in,)               4            3        3   \n",
       "(%C3%85land,)                                     4            2        3   \n",
       "(%C3%89douard_Manet,)                             4            3        2   \n",
       "(%C3%89ire,)                                      4            2        2   \n",
       "(%C3%93engus_I_of_the_Picts,)                     4            2        3   \n",
       "\n",
       "                                     (Zinc_chloride,)  (Zion_National_Park,)  \\\n",
       "(%C3%81ed%C3%A1n_mac_Gabr%C3%A1in,)                 4                      4   \n",
       "(%C3%85land,)                                       4                      4   \n",
       "(%C3%89douard_Manet,)                               3                      4   \n",
       "(%C3%89ire,)                                        3                      4   \n",
       "(%C3%93engus_I_of_the_Picts,)                       4                      4   \n",
       "\n",
       "                                     (Zionism,)  (Zirconium,)  (Zoroaster,)  \\\n",
       "(%C3%81ed%C3%A1n_mac_Gabr%C3%A1in,)           3             4             4   \n",
       "(%C3%85land,)                                 3             4             3   \n",
       "(%C3%89douard_Manet,)                         3             4             3   \n",
       "(%C3%89ire,)                                  3             4             4   \n",
       "(%C3%93engus_I_of_the_Picts,)                 3             4             3   \n",
       "\n",
       "                                     (Zuid-Gelders,)  (Zulu,)  \n",
       "(%C3%81ed%C3%A1n_mac_Gabr%C3%A1in,)                4        2  \n",
       "(%C3%85land,)                                      3        3  \n",
       "(%C3%89douard_Manet,)                              3        3  \n",
       "(%C3%89ire,)                                       3        3  \n",
       "(%C3%93engus_I_of_the_Picts,)                      3        3  \n",
       "\n",
       "[5 rows x 4604 columns]"
      ]
     },
     "execution_count": 8,
     "metadata": {},
     "output_type": "execute_result"
    }
   ],
   "source": [
    "shortest_path_df.head()"
   ]
  },
  {
   "cell_type": "markdown",
   "metadata": {},
   "source": [
    "# 2. Descriptive Data Analysis\n",
    "Here, we show that we understand what’s in the data (formats, distributions, missing values, correlations, etc.).\n"
   ]
  },
  {
   "cell_type": "markdown",
   "metadata": {},
   "source": [
    "In this section:\n",
    "<br>2.1. How many articles there are, how many paths \n",
    "<br>2.2. Histograms of the links from each article (for example, how many articles have 20 links, etc)\n",
    "<br>2.3. Average distance from one article to any other article\n",
    "<br>2.4. Histogram of the number of games at each point in time\n",
    "<br>2.5. Understanding unfinished games: Categories of targets in unfinished games\n"
   ]
  },
  {
   "cell_type": "markdown",
   "metadata": {},
   "source": [
    "### 2.1. How many: articles, links, finished games, unfinished games?\n"
   ]
  },
  {
   "cell_type": "code",
   "execution_count": 9,
   "metadata": {},
   "outputs": [
    {
     "name": "stdout",
     "output_type": "stream",
     "text": [
      "There are 4592 articles in the dataset.\n",
      "There are 119882 links/paths.\n",
      "There are 51318 finished games.\n",
      "There are 24875 unfinished games.\n"
     ]
    }
   ],
   "source": [
    "print(\"There are\", len(wikispeedia.nodes), \"articles in the dataset.\")\n",
    "print(\"There are\", len(wikispeedia.edges), \"links/paths.\")\n",
    "print(\"There are\", finished_paths.shape[0], \"finished games.\")\n",
    "print(\"There are\", unfinished_paths.shape[0], \"unfinished games.\")"
   ]
  },
  {
   "cell_type": "code",
   "execution_count": 10,
   "metadata": {},
   "outputs": [
    {
     "name": "stdout",
     "output_type": "stream",
     "text": [
      "There are 47856 unique finshed paths.\n"
     ]
    }
   ],
   "source": [
    "unique_paths = finished_paths['path'].unique()\n",
    "print('There are', len(unique_paths), 'unique finshed paths.')"
   ]
  },
  {
   "cell_type": "markdown",
   "metadata": {},
   "source": [
    "### 2.2. Degree of a Node\n",
    "The degree of a node is the number of edges/links it has. We plot a complementary cumulative distribution function (CCDF) of degree for each article/node."
   ]
  },
  {
   "cell_type": "code",
   "execution_count": 11,
   "metadata": {},
   "outputs": [
    {
     "data": {
      "image/png": "[encoded data removed]",
      "text/plain": [
       "<Figure size 640x480 with 1 Axes>"
      ]
     },
     "metadata": {},
     "output_type": "display_data"
    }
   ],
   "source": [
    "# Get the degrees of all nodes\n",
    "degrees = dict(wikispeedia.degree())\n",
    "\n",
    "# Calculate the CCDF\n",
    "degree_values = sorted(set(degrees.values()), reverse=True)\n",
    "ccdf = [sum(1 for degree in degrees.values() if degree >= d) for d in degree_values]\n",
    "\n",
    "# Plot the CCDF\n",
    "plt.plot(degree_values, ccdf, marker='o', linestyle='-', color='b')\n",
    "plt.xscale('log')  # Use log scale for better visualization\n",
    "plt.yscale('log')\n",
    "plt.xlabel('Degree')\n",
    "plt.ylabel('Complementary Cumulative Distribution Function (CCDF)')\n",
    "plt.title('CCDF of Node Degrees')\n",
    "plt.show()"
   ]
  },
  {
   "cell_type": "markdown",
   "metadata": {},
   "source": [
    "What are the \"hubs\"? Which nodes have more than 500 links?"
   ]
  },
  {
   "cell_type": "code",
   "execution_count": 12,
   "metadata": {},
   "outputs": [
    {
     "name": "stdout",
     "output_type": "stream",
     "text": [
      "Nodes with more than 1000 edges:  ['United_Kingdom', 'France', 'United_States', 'Europe']\n",
      "Nodes with more than 500 edges:  ['Russia', 'United_Kingdom', 'World_War_II', 'France', 'Germany', 'Italy', 'Canada', 'English_language', 'England', 'Spain', 'United_States', 'India', 'China', 'Europe', 'Australia', 'Japan', 'London', 'Africa', 'Animal', 'Scientific_classification']\n"
     ]
    }
   ],
   "source": [
    "print(\"Nodes with more than 1000 edges: \", [node for node in wikispeedia.nodes if wikispeedia.degree(node) >= 1000])\n",
    "print(\"Nodes with more than 500 edges: \", [node for node in wikispeedia.nodes if wikispeedia.degree(node) >= 500])\n"
   ]
  },
  {
   "cell_type": "markdown",
   "metadata": {},
   "source": [
    "Observe that biggest hubs are mainly countries. The 'United Kingdom', 'France', 'United States', and 'Europe' have over 1000 links. Since there are 4592 nodes, these nodes have link to almost 1/4 of the dataset!"
   ]
  },
  {
   "cell_type": "markdown",
   "metadata": {},
   "source": [
    "How many nodes have more than 20 links? How many have only 1 link?"
   ]
  },
  {
   "cell_type": "code",
   "execution_count": 13,
   "metadata": {},
   "outputs": [
    {
     "name": "stdout",
     "output_type": "stream",
     "text": [
      "Nodes with degree 1:  ['All_your_base_are_belong_to_us', 'Local_community', 'Dewey_Square', 'Emma_Roberts', 'Human_abdomen', 'Pere_Marquette_1225', 'Pro_Milone', 'Sunol_Water_Temple', 'T._D._Judah', 'Terik', 'Duchenne_muscular_dystrophy', 'Klinefelter%27s_syndrome', 'White_Mountain_art']\n",
      "% of nodes that have only 1 edge/link: 0.0028310104529616726\n",
      "% of nodes that have 20 or less edges/links: 0.344294425087108\n"
     ]
    }
   ],
   "source": [
    "# Count the number of nodes with degree 1\n",
    "nodes_degree_1 = [node for node in wikispeedia.nodes if wikispeedia.degree(node) == 1]\n",
    "print('Nodes with degree 1: ', nodes_degree_1)\n",
    "\n",
    "# Get the percentages\n",
    "total_nodes = len(wikispeedia.nodes)\n",
    "percentage_degree_1 = (len(nodes_degree_1) / total_nodes)\n",
    "print('% of nodes that have only 1 edge/link:', percentage_degree_1)\n",
    "\n",
    "# Count number of nodes with degree <= 20\n",
    "nodes_degree_20 = sum(1 for degree in degrees.values() if degree <= 20)\n",
    "print('% of nodes that have 20 or less edges/links:', nodes_degree_20 / total_nodes)"
   ]
  },
  {
   "cell_type": "markdown",
   "metadata": {},
   "source": [
    "### 2.3. Average Distance between Articles\n",
    "On average, how many links/edges does it take to connect any random two articles?"
   ]
  },
  {
   "cell_type": "code",
   "execution_count": 14,
   "metadata": {},
   "outputs": [
    {
     "name": "stdout",
     "output_type": "stream",
     "text": [
      "Average distance between reachable nodes: 3.20\n"
     ]
    }
   ],
   "source": [
    "# Our graph is not strongly connected, meaning it's not possible to reach every node from every other node\n",
    "# So we can't use the built in function nx.average_shortest_path_length\n",
    "\n",
    "# This takes a long time to run (30 sec)\n",
    "shortest_paths = list(nx.all_pairs_shortest_path_length(wikispeedia))\n",
    "reachable_pairs = [(source, target, length) for source, paths in shortest_paths for target, length in paths.items() if length != float('inf')]\n",
    "total_distances = sum(length for _, _, length in reachable_pairs)\n",
    "average_distance = total_distances / len(reachable_pairs) if reachable_pairs else 0\n",
    "print(f\"Average distance between reachable nodes: {average_distance:.2f}\")\n"
   ]
  },
  {
   "cell_type": "markdown",
   "metadata": {},
   "source": [
    "### 2.4. Games per Time\n",
    "Histogram of the number of games at each point in time.\n"
   ]
  },
  {
   "cell_type": "code",
   "execution_count": 15,
   "metadata": {},
   "outputs": [
    {
     "data": {
      "image/png": "[encoded data removed]",
      "text/plain": [
       "<Figure size 640x480 with 1 Axes>"
      ]
     },
     "metadata": {},
     "output_type": "display_data"
    }
   ],
   "source": [
    "# Convert timestamps to datetime objects\n",
    "timestamps = finished_paths['timestamp']\n",
    "date_times = [datetime.utcfromtimestamp(ts) for ts in timestamps]\n",
    "\n",
    "# Create a histogram of timestamps\n",
    "plt.hist(date_times, bins=20, color='skyblue')\n",
    "plt.xlabel('Time')\n",
    "plt.ylabel('Frequency')\n",
    "plt.title('Distribution of Timestamps')\n",
    "plt.xticks(rotation=45)  # Rotate x-axis labels for better readability\n",
    "plt.show()"
   ]
  },
  {
   "cell_type": "markdown",
   "metadata": {},
   "source": [
    "A lot of games were played in Q3 2009! "
   ]
  },
  {
   "cell_type": "code",
   "execution_count": 16,
   "metadata": {},
   "outputs": [
    {
     "name": "stdout",
     "output_type": "stream",
     "text": [
      "Percent of finished games completed in Q3 2009: 0.24\n"
     ]
    }
   ],
   "source": [
    "q3_2009_times = [dt for dt in date_times if dt.year == 2009 and dt.month in [7, 8, 9]]\n",
    "percent_q3_2009_times = len(q3_2009_times) / len(date_times)\n",
    "print(f\"Percent of finished games completed in Q3 2009: {percent_q3_2009_times:.2f}\")\n"
   ]
  },
  {
   "cell_type": "markdown",
   "metadata": {},
   "source": [
    "### 2.5. Which categories of games are more likely to be unfinished? "
   ]
  },
  {
   "cell_type": "code",
   "execution_count": 17,
   "metadata": {},
   "outputs": [
    {
     "name": "stdout",
     "output_type": "stream",
     "text": [
      "There are 606 articles with more than 1 category.\n",
      "Should we drop the duplicate categories, or doublecount them?\n",
      "This corresponds to 0.13196864111498258 of the articles.\n",
      "The new shape is:  (5204, 2)\n"
     ]
    }
   ],
   "source": [
    "print('There are', categories['article'].duplicated().sum(), 'articles with more than 1 category.')\n",
    "\n",
    "print('Should we drop the duplicate categories, or doublecount them?')\n",
    "print('This corresponds to', categories['article'].duplicated().sum() / len(wikispeedia.nodes), 'of the articles.')\n",
    "\n",
    "# Let's drop them for now.\n",
    "categories['article'] = categories['article'].drop_duplicates()\n",
    "print('The new shape is: ',categories.shape)\n",
    "\n",
    "# Why are there more articles here than nodes (# articles)?"
   ]
  },
  {
   "cell_type": "code",
   "execution_count": 18,
   "metadata": {},
   "outputs": [
    {
     "data": {
      "text/html": [
       "<div>\n",
       "<style scoped>\n",
       "    .dataframe tbody tr th:only-of-type {\n",
       "        vertical-align: middle;\n",
       "    }\n",
       "\n",
       "    .dataframe tbody tr th {\n",
       "        vertical-align: top;\n",
       "    }\n",
       "\n",
       "    .dataframe thead th {\n",
       "        text-align: right;\n",
       "    }\n",
       "</style>\n",
       "<table border=\"1\" class=\"dataframe\">\n",
       "  <thead>\n",
       "    <tr style=\"text-align: right;\">\n",
       "      <th></th>\n",
       "      <th>article</th>\n",
       "      <th>categories</th>\n",
       "      <th>depth_1</th>\n",
       "    </tr>\n",
       "  </thead>\n",
       "  <tbody>\n",
       "    <tr>\n",
       "      <th>0</th>\n",
       "      <td>%C3%81ed%C3%A1n_mac_Gabr%C3%A1in</td>\n",
       "      <td>subject.History.British_History.British_Histor...</td>\n",
       "      <td>History</td>\n",
       "    </tr>\n",
       "    <tr>\n",
       "      <th>1</th>\n",
       "      <td>NaN</td>\n",
       "      <td>subject.People.Historical_figures</td>\n",
       "      <td>People</td>\n",
       "    </tr>\n",
       "    <tr>\n",
       "      <th>2</th>\n",
       "      <td>%C3%85land</td>\n",
       "      <td>subject.Countries</td>\n",
       "      <td>Countries</td>\n",
       "    </tr>\n",
       "    <tr>\n",
       "      <th>3</th>\n",
       "      <td>NaN</td>\n",
       "      <td>subject.Geography.European_Geography.European_...</td>\n",
       "      <td>Geography</td>\n",
       "    </tr>\n",
       "    <tr>\n",
       "      <th>4</th>\n",
       "      <td>%C3%89douard_Manet</td>\n",
       "      <td>subject.People.Artists</td>\n",
       "      <td>People</td>\n",
       "    </tr>\n",
       "  </tbody>\n",
       "</table>\n",
       "</div>"
      ],
      "text/plain": [
       "                            article  \\\n",
       "0  %C3%81ed%C3%A1n_mac_Gabr%C3%A1in   \n",
       "1                               NaN   \n",
       "2                        %C3%85land   \n",
       "3                               NaN   \n",
       "4                %C3%89douard_Manet   \n",
       "\n",
       "                                          categories    depth_1  \n",
       "0  subject.History.British_History.British_Histor...    History  \n",
       "1                  subject.People.Historical_figures     People  \n",
       "2                                  subject.Countries  Countries  \n",
       "3  subject.Geography.European_Geography.European_...  Geography  \n",
       "4                             subject.People.Artists     People  "
      ]
     },
     "execution_count": 18,
     "metadata": {},
     "output_type": "execute_result"
    }
   ],
   "source": [
    "# Let's use string manipulation to extract the highest level category for each article.\n",
    "\n",
    "sub_categories = categories['categories'].str[8:].str.split('.')\n",
    "category_depth_1 = sub_categories.apply(lambda x: x[0])\n",
    "categories['depth_1'] = category_depth_1\n",
    "categories.head()"
   ]
  },
  {
   "cell_type": "markdown",
   "metadata": {},
   "source": [
    "Let's find the category corresponding to each unfinished target."
   ]
  },
  {
   "cell_type": "code",
   "execution_count": 19,
   "metadata": {},
   "outputs": [
    {
     "data": {
      "image/png": "[encoded data removed]",
      "text/plain": [
       "<Figure size 640x480 with 1 Axes>"
      ]
     },
     "metadata": {},
     "output_type": "display_data"
    }
   ],
   "source": [
    "# Merging categories with unfinished paths.\n",
    "unfinished_paths_with_categories = pd.merge(unfinished_paths, categories, left_on = 'target', right_on= 'article', how = 'left')\n",
    "\n",
    "# Count the occurrences of each category\n",
    "category_counts = unfinished_paths_with_categories['depth_1'].value_counts()\n",
    "\n",
    "# Plotting the bar chart\n",
    "plt.bar(category_counts.index, category_counts.values)\n",
    "\n",
    "# Adding labels and title\n",
    "plt.xlabel('Depth 1 Categories')\n",
    "plt.ylabel('Frequency')\n",
    "plt.title('Frequency of Categories of Target Articles in Unfinished Paths')\n",
    "\n",
    "plt.xticks(rotation=90)  # Rotate x-axis labels for better readability\n",
    "plt.tight_layout()  # Ensure labels fit within the plot area"
   ]
  },
  {
   "cell_type": "markdown",
   "metadata": {},
   "source": [
    "Notice that targets in the science category make up the largest proportion of unfinished games. In Deliverable 3, we will investigate this more. We'll discover if this is because most of the articles are from the science category, or if science articles are actually harder to find in the game."
   ]
  },
  {
   "cell_type": "markdown",
   "metadata": {
    "collapsed": false
   },
   "source": [
    "### 2.6 Issue with the shortest path\n",
    "The shortest paths that were calculated are wrong. This is just a simple example to show that at least one of the points is wrong. We assume this is common enough elsewhere, as the effort needed to properly prove this is too large.\n",
    "\n",
    "We double-checked the method for reading in the data, and there are no big changes to be done there. We also double-checked that the graph is a directed graph, which matters for this search. Additionally, we manually checked the edges, so we know that the following example is correct."
   ]
  },
  {
   "cell_type": "code",
   "execution_count": 20,
   "metadata": {
    "collapsed": false
   },
   "outputs": [
    {
     "name": "stdout",
     "output_type": "stream",
     "text": [
      "Shortest path from Actor to Japan in the given matrix is: 3\n",
      "Shortest path from Actor to Japan according to networkX is: 1\n",
      "The actual path is: ['Actor', 'Japan']\n"
     ]
    }
   ],
   "source": [
    "# We have to put the strings into tuples to make this work. It's ugly, but this works\n",
    "print(\"Shortest path from Actor to Japan in the given matrix is:\", shortest_path_df[('Actor',)][('Japan',)])\n",
    "\n",
    "print(\"Shortest path from Actor to Japan according to networkX is:\", len(shortest_path_dict['Actor']['Japan'])-1)\n",
    "\n",
    "print(\"The actual path is:\", shortest_path_dict['Actor']['Japan'])"
   ]
  },
  {
   "cell_type": "code",
   "execution_count": 21,
   "metadata": {},
   "outputs": [
    {
     "data": {
      "text/plain": [
       "'   #copyright\\n\\nObi-Wan Kenobi\\n\\n2007 Schools Wikipedia Selection. Related subjects: Films\\n\\n   Star Wa'"
      ]
     },
     "execution_count": 21,
     "metadata": {},
     "output_type": "execute_result"
    }
   ],
   "source": [
    "# No need to print the entire text, just show that reading it in works\n",
    "obi_wan_text[:100]"
   ]
  },
  {
   "cell_type": "markdown",
   "metadata": {},
   "source": [
    "### 2.7. Study of Unique Paths\n",
    "Here we study the unique source and target pairs. We will use the dataframes to compare the performance between humans and machines, as well as to know what paths to make machines complete.\n",
    "\n",
    "**article_combinations**\n",
    "\n",
    "This dataframe contains information on all the combination of source and target articles in the finished games (paths). It includes how many times it has been played, and the mean and std of the path length, duration of the game, and rating.\n",
    "\n",
    "**unique_targets** and **unique_sources**\n",
    "\n",
    "These dataframes include all the sources and targets that appears in the finished games\n",
    "\n",
    "<br><br>\n",
    "Note that we don't change to ASCII the name of the articles yet. We will do it at a later step if we need to.\n",
    "<br><br>"
   ]
  },
  {
   "cell_type": "code",
   "execution_count": 22,
   "metadata": {},
   "outputs": [],
   "source": [
    "# How many each pair of articles has been visited\n",
    "article_combinations_count = finished_paths.groupby(['first_article', 'last_article']).size().reset_index(name='count')\n",
    "\n",
    "# The mean and std of the path length for each pair of articles\n",
    "article_combinations_stats = finished_paths.groupby(['first_article', 'last_article'])['path_length'].agg(['mean', 'std']).reset_index()\n",
    "article_combinations_stats['std'] = article_combinations_stats['std'].fillna(0)\n",
    "article_combinations_stats.rename(columns={'mean': 'mean_length', 'std': 'std_length'}, inplace=True)\n",
    "\n",
    "# The mean and std of the rating for each pair of articles. \n",
    "    # Note that mean and std may be nan if there are nan ratings. We purposely leave them as nan, as we don't want to fill them with 0s or 1s.\n",
    "    # Depending on the application, we could change this in the future if neeeded.\n",
    "rating_combinations_stats_rating = finished_paths.groupby(['first_article', 'last_article'])['rating'].agg(['mean', 'std']).reset_index()\n",
    "#rating_combinations_stats_rating['std'] = rating_combinations_stats_rating['std'].fillna(0)\n",
    "mask = rating_combinations_stats_rating['mean'].notnull()\n",
    "rating_combinations_stats_rating.loc[mask, 'std'] = rating_combinations_stats_rating.loc[mask, 'std'].fillna(0)\n",
    "rating_combinations_stats_rating.rename(columns={'mean': 'mean_rating', 'std': 'std_rating'}, inplace=True)\n",
    "\n",
    "# The mean and std of the time for each pair of articles.\n",
    "rating_combinations_stats_time = finished_paths.groupby(['first_article', 'last_article'])['durationInSec'].agg(['mean', 'std']).reset_index()\n",
    "rating_combinations_stats_time['std'] = rating_combinations_stats_time['std'].fillna(0)\n",
    "rating_combinations_stats_time.rename(columns={'mean': 'mean_durationInSec', 'std': 'std_durationInSec'}, inplace=True)\n",
    "\n",
    "# Merging all the dataframes\n",
    "article_combinations = pd.merge(article_combinations_count, article_combinations_stats, on=['first_article', 'last_article'])\n",
    "article_combinations = pd.merge(article_combinations, rating_combinations_stats_rating, on=['first_article', 'last_article'])\n",
    "article_combinations = pd.merge(article_combinations, rating_combinations_stats_time, on=['first_article', 'last_article'])\n",
    "\n",
    "# The number of unique sources and targets\n",
    "unique_sources = finished_paths['first_article'].value_counts().reset_index()\n",
    "unique_targets = finished_paths['last_article'].value_counts().reset_index()"
   ]
  },
  {
   "cell_type": "code",
   "execution_count": 23,
   "metadata": {},
   "outputs": [
    {
     "data": {
      "text/html": [
       "<div>\n",
       "<style scoped>\n",
       "    .dataframe tbody tr th:only-of-type {\n",
       "        vertical-align: middle;\n",
       "    }\n",
       "\n",
       "    .dataframe tbody tr th {\n",
       "        vertical-align: top;\n",
       "    }\n",
       "\n",
       "    .dataframe thead th {\n",
       "        text-align: right;\n",
       "    }\n",
       "</style>\n",
       "<table border=\"1\" class=\"dataframe\">\n",
       "  <thead>\n",
       "    <tr style=\"text-align: right;\">\n",
       "      <th></th>\n",
       "      <th>first_article</th>\n",
       "      <th>last_article</th>\n",
       "      <th>count</th>\n",
       "      <th>mean_length</th>\n",
       "      <th>std_length</th>\n",
       "      <th>mean_rating</th>\n",
       "      <th>std_rating</th>\n",
       "      <th>mean_durationInSec</th>\n",
       "      <th>std_durationInSec</th>\n",
       "    </tr>\n",
       "  </thead>\n",
       "  <tbody>\n",
       "    <tr>\n",
       "      <th>10709</th>\n",
       "      <td>George_H._W._Bush</td>\n",
       "      <td>World_War_II</td>\n",
       "      <td>1</td>\n",
       "      <td>3.00</td>\n",
       "      <td>0.000000</td>\n",
       "      <td>1.0</td>\n",
       "      <td>0.0</td>\n",
       "      <td>57.000000</td>\n",
       "      <td>0.000000</td>\n",
       "    </tr>\n",
       "    <tr>\n",
       "      <th>9649</th>\n",
       "      <td>Fieldfare</td>\n",
       "      <td>Alphabet</td>\n",
       "      <td>2</td>\n",
       "      <td>6.00</td>\n",
       "      <td>1.414214</td>\n",
       "      <td>1.0</td>\n",
       "      <td>0.0</td>\n",
       "      <td>47.500000</td>\n",
       "      <td>4.949747</td>\n",
       "    </tr>\n",
       "    <tr>\n",
       "      <th>23738</th>\n",
       "      <td>Soup</td>\n",
       "      <td>21st_century</td>\n",
       "      <td>2</td>\n",
       "      <td>4.00</td>\n",
       "      <td>1.414214</td>\n",
       "      <td>1.0</td>\n",
       "      <td>0.0</td>\n",
       "      <td>26.500000</td>\n",
       "      <td>2.121320</td>\n",
       "    </tr>\n",
       "    <tr>\n",
       "      <th>11580</th>\n",
       "      <td>Grover_Cleveland</td>\n",
       "      <td>United_Arab_Emirates</td>\n",
       "      <td>4</td>\n",
       "      <td>5.75</td>\n",
       "      <td>2.872281</td>\n",
       "      <td>2.0</td>\n",
       "      <td>1.0</td>\n",
       "      <td>108.250000</td>\n",
       "      <td>67.029222</td>\n",
       "    </tr>\n",
       "    <tr>\n",
       "      <th>25610</th>\n",
       "      <td>The_Seagull</td>\n",
       "      <td>Pretoria</td>\n",
       "      <td>3</td>\n",
       "      <td>6.00</td>\n",
       "      <td>1.732051</td>\n",
       "      <td>3.0</td>\n",
       "      <td>0.0</td>\n",
       "      <td>132.666667</td>\n",
       "      <td>133.080176</td>\n",
       "    </tr>\n",
       "  </tbody>\n",
       "</table>\n",
       "</div>"
      ],
      "text/plain": [
       "           first_article          last_article  count  mean_length  \\\n",
       "10709  George_H._W._Bush          World_War_II      1         3.00   \n",
       "9649           Fieldfare              Alphabet      2         6.00   \n",
       "23738               Soup          21st_century      2         4.00   \n",
       "11580   Grover_Cleveland  United_Arab_Emirates      4         5.75   \n",
       "25610        The_Seagull              Pretoria      3         6.00   \n",
       "\n",
       "       std_length  mean_rating  std_rating  mean_durationInSec  \\\n",
       "10709    0.000000          1.0         0.0           57.000000   \n",
       "9649     1.414214          1.0         0.0           47.500000   \n",
       "23738    1.414214          1.0         0.0           26.500000   \n",
       "11580    2.872281          2.0         1.0          108.250000   \n",
       "25610    1.732051          3.0         0.0          132.666667   \n",
       "\n",
       "       std_durationInSec  \n",
       "10709           0.000000  \n",
       "9649            4.949747  \n",
       "23738           2.121320  \n",
       "11580          67.029222  \n",
       "25610         133.080176  "
      ]
     },
     "execution_count": 23,
     "metadata": {},
     "output_type": "execute_result"
    }
   ],
   "source": [
    "article_combinations.sample(5)"
   ]
  },
  {
   "cell_type": "code",
   "execution_count": 24,
   "metadata": {},
   "outputs": [
    {
     "data": {
      "text/html": [
       "<div>\n",
       "<style scoped>\n",
       "    .dataframe tbody tr th:only-of-type {\n",
       "        vertical-align: middle;\n",
       "    }\n",
       "\n",
       "    .dataframe tbody tr th {\n",
       "        vertical-align: top;\n",
       "    }\n",
       "\n",
       "    .dataframe thead th {\n",
       "        text-align: right;\n",
       "    }\n",
       "</style>\n",
       "<table border=\"1\" class=\"dataframe\">\n",
       "  <thead>\n",
       "    <tr style=\"text-align: right;\">\n",
       "      <th></th>\n",
       "      <th>first_article</th>\n",
       "      <th>count</th>\n",
       "    </tr>\n",
       "  </thead>\n",
       "  <tbody>\n",
       "    <tr>\n",
       "      <th>2120</th>\n",
       "      <td>Blackcap</td>\n",
       "      <td>9</td>\n",
       "    </tr>\n",
       "    <tr>\n",
       "      <th>2265</th>\n",
       "      <td>Brabantian</td>\n",
       "      <td>9</td>\n",
       "    </tr>\n",
       "    <tr>\n",
       "      <th>1895</th>\n",
       "      <td>Puffin</td>\n",
       "      <td>10</td>\n",
       "    </tr>\n",
       "    <tr>\n",
       "      <th>3700</th>\n",
       "      <td>Sgt._Pepper%27s_Lonely_Hearts_Club_Band</td>\n",
       "      <td>3</td>\n",
       "    </tr>\n",
       "    <tr>\n",
       "      <th>729</th>\n",
       "      <td>Niagara_Falls</td>\n",
       "      <td>17</td>\n",
       "    </tr>\n",
       "  </tbody>\n",
       "</table>\n",
       "</div>"
      ],
      "text/plain": [
       "                                first_article  count\n",
       "2120                                 Blackcap      9\n",
       "2265                               Brabantian      9\n",
       "1895                                   Puffin     10\n",
       "3700  Sgt._Pepper%27s_Lonely_Hearts_Club_Band      3\n",
       "729                             Niagara_Falls     17"
      ]
     },
     "execution_count": 24,
     "metadata": {},
     "output_type": "execute_result"
    }
   ],
   "source": [
    "unique_sources.sample(5)"
   ]
  },
  {
   "cell_type": "code",
   "execution_count": 25,
   "metadata": {},
   "outputs": [
    {
     "data": {
      "text/html": [
       "<div>\n",
       "<style scoped>\n",
       "    .dataframe tbody tr th:only-of-type {\n",
       "        vertical-align: middle;\n",
       "    }\n",
       "\n",
       "    .dataframe tbody tr th {\n",
       "        vertical-align: top;\n",
       "    }\n",
       "\n",
       "    .dataframe thead th {\n",
       "        text-align: right;\n",
       "    }\n",
       "</style>\n",
       "<table border=\"1\" class=\"dataframe\">\n",
       "  <thead>\n",
       "    <tr style=\"text-align: right;\">\n",
       "      <th></th>\n",
       "      <th>last_article</th>\n",
       "      <th>count</th>\n",
       "    </tr>\n",
       "  </thead>\n",
       "  <tbody>\n",
       "    <tr>\n",
       "      <th>20</th>\n",
       "      <td>Ocean</td>\n",
       "      <td>102</td>\n",
       "    </tr>\n",
       "    <tr>\n",
       "      <th>2140</th>\n",
       "      <td>Mining</td>\n",
       "      <td>7</td>\n",
       "    </tr>\n",
       "    <tr>\n",
       "      <th>1941</th>\n",
       "      <td>Macbeth_of_Scotland</td>\n",
       "      <td>8</td>\n",
       "    </tr>\n",
       "    <tr>\n",
       "      <th>2862</th>\n",
       "      <td>John_Flamsteed</td>\n",
       "      <td>5</td>\n",
       "    </tr>\n",
       "    <tr>\n",
       "      <th>952</th>\n",
       "      <td>Mary_I_of_Scotland</td>\n",
       "      <td>16</td>\n",
       "    </tr>\n",
       "  </tbody>\n",
       "</table>\n",
       "</div>"
      ],
      "text/plain": [
       "             last_article  count\n",
       "20                  Ocean    102\n",
       "2140               Mining      7\n",
       "1941  Macbeth_of_Scotland      8\n",
       "2862       John_Flamsteed      5\n",
       "952    Mary_I_of_Scotland     16"
      ]
     },
     "execution_count": 25,
     "metadata": {},
     "output_type": "execute_result"
    }
   ],
   "source": [
    "unique_targets.sample(5)"
   ]
  },
  {
   "cell_type": "markdown",
   "metadata": {
    "collapsed": false
   },
   "source": [
    "### 2.8. Study of hubs\n",
    "In the original paper, the authors make a point that hubs are used too commonly by users, and that this might not often be the case for the shortest path.\n",
    "\n",
    "We want to double check if that holds or not, by checking the number of times a node is used in the paths given in the dataset, versus the number of times they appear in the actual shortest paths.\n",
    "\n",
    "The only important caveat for this is that the networkX only returns one of the shortest paths, and there might be multiple. It is possible that the different alternate paths give a different result, but for now this is good enough."
   ]
  },
  {
   "cell_type": "code",
   "execution_count": 26,
   "metadata": {
    "collapsed": false
   },
   "outputs": [
    {
     "data": {
      "text/plain": [
       "Text(0.5, 1.0, 'Appearances in paths versus degree')"
      ]
     },
     "execution_count": 26,
     "metadata": {},
     "output_type": "execute_result"
    },
    {
     "data": {
      "image/png": "[encoded data removed]",
      "text/plain": [
       "<Figure size 640x480 with 1 Axes>"
      ]
     },
     "metadata": {},
     "output_type": "display_data"
    }
   ],
   "source": [
    "paths_finished = pd.read_csv('datasets/wikispeedia_paths-and-graph/paths_finished.tsv', sep='\\t', skiprows=15,\n",
    "                             names=['hashedIpAddress', 'timestamp', \"durationInSec\", 'path', \"rating\"])\n",
    "\n",
    "# This is just splitting all the values in paths, and doing a value count for each one of those!\n",
    "paths_per_step = paths_finished['path'].apply(lambda x: x.split(';')[1:-1])\n",
    "node_appearance_counts = paths_per_step.explode().value_counts()\n",
    "node_appearance_counts = node_appearance_counts.rename_axis('Node_Name').reset_index()\n",
    "\n",
    "# For this, we add the information of the degree of each node, because it's interesting!\n",
    "degree_dict = dict(wikispeedia.degree())\n",
    "node_appearance_counts['Degree'] = node_appearance_counts['Node_Name'].map(degree_dict)\n",
    "\n",
    "node_appearance_counts.plot.scatter('count', 'Degree')\n",
    "plt.title('Appearances in paths versus degree')"
   ]
  },
  {
   "cell_type": "code",
   "execution_count": 27,
   "metadata": {
    "collapsed": false
   },
   "outputs": [
    {
     "name": "stdout",
     "output_type": "stream",
     "text": [
      "                            OLS Regression Results                            \n",
      "==============================================================================\n",
      "Dep. Variable:                  count   R-squared:                       0.599\n",
      "Model:                            OLS   Adj. R-squared:                  0.599\n",
      "Method:                 Least Squares   F-statistic:                     5090.\n",
      "Date:                Fri, 17 Nov 2023   Prob (F-statistic):               0.00\n",
      "Time:                        15:43:06   Log-Likelihood:                -22069.\n",
      "No. Observations:                3405   AIC:                         4.414e+04\n",
      "Df Residuals:                    3403   BIC:                         4.416e+04\n",
      "Df Model:                           1                                         \n",
      "Covariance Type:            nonrobust                                         \n",
      "==============================================================================\n",
      "                 coef    std err          t      P>|t|      [0.025      0.975]\n",
      "------------------------------------------------------------------------------\n",
      "Intercept    -76.6768      3.364    -22.794      0.000     -83.272     -70.081\n",
      "Degree         2.2069      0.031     71.344      0.000       2.146       2.268\n",
      "==============================================================================\n",
      "Omnibus:                     5659.517   Durbin-Watson:                   1.141\n",
      "Prob(Omnibus):                  0.000   Jarque-Bera (JB):         11682784.746\n",
      "Skew:                          10.577   Prob(JB):                         0.00\n",
      "Kurtosis:                     289.178   Cond. No.                         135.\n",
      "==============================================================================\n",
      "\n",
      "Notes:\n",
      "[1] Standard Errors assume that the covariance matrix of the errors is correctly specified.\n"
     ]
    }
   ],
   "source": [
    "import statsmodels.formula.api as smf\n",
    "\n",
    "mod = smf.ols(formula='count ~ Degree', data=node_appearance_counts)\n",
    "\n",
    "res = mod.fit()\n",
    "print(res.summary())"
   ]
  },
  {
   "cell_type": "markdown",
   "metadata": {
    "collapsed": false
   },
   "source": [
    "Based on the regression analysis, there is a correlation between how often a node is used in the paths and the degree. So this idea of players using a hub is definitely common for the human dataset.\n",
    "\n",
    "We can also see that there is a high R squared, considering there is only one variable. So the degree does help explain how often it will appear in the paths.\n",
    "\n",
    "Now, does this actually hold for the shortest paths?"
   ]
  },
  {
   "cell_type": "code",
   "execution_count": 28,
   "metadata": {
    "collapsed": false
   },
   "outputs": [
    {
     "data": {
      "text/plain": [
       "Text(0.5, 1.0, 'Appearances in paths versus degree shortest paths')"
      ]
     },
     "execution_count": 28,
     "metadata": {},
     "output_type": "execute_result"
    },
    {
     "data": {
      "image/png": "[encoded data removed]",
      "text/plain": [
       "<Figure size 640x480 with 1 Axes>"
      ]
     },
     "metadata": {},
     "output_type": "display_data"
    }
   ],
   "source": [
    "shortest_path_dict = dict(nx.all_pairs_shortest_path(wikispeedia))\n",
    "\n",
    "# So, we also remove the first and last element in here\n",
    "shortest_path_df = pd.DataFrame(shortest_path_dict)\n",
    "shortest_path_df = pd.melt(shortest_path_df)\n",
    "# This column is not useful\n",
    "shortest_path_df = shortest_path_df.drop(['variable'], axis=1)\n",
    "shortest_path_df = shortest_path_df['value'].dropna()\n",
    "# This is to remove source and target, to keep the comparison similar\n",
    "shortest_path_df = shortest_path_df.apply(lambda x: x[1:-1])\n",
    "# This is to only keep lists that actually have at least one element\n",
    "shortest_path_df = shortest_path_df[shortest_path_df.map(lambda x: len(x)>0)]\n",
    "\n",
    "shortest_app_counts = shortest_path_df.explode().value_counts()\n",
    "shortest_app_counts = shortest_app_counts.rename_axis('Node_Name').reset_index()\n",
    "shortest_app_counts['Degree'] = shortest_app_counts['Node_Name'].map(degree_dict)\n",
    "\n",
    "shortest_app_counts.plot.scatter('count', 'Degree')\n",
    "plt.title('Appearances in paths versus degree shortest paths')"
   ]
  },
  {
   "cell_type": "code",
   "execution_count": 29,
   "metadata": {
    "collapsed": false
   },
   "outputs": [
    {
     "name": "stdout",
     "output_type": "stream",
     "text": [
      "                            OLS Regression Results                            \n",
      "==============================================================================\n",
      "Dep. Variable:                  count   R-squared:                       0.546\n",
      "Model:                            OLS   Adj. R-squared:                  0.546\n",
      "Method:                 Least Squares   F-statistic:                     4771.\n",
      "Date:                Fri, 17 Nov 2023   Prob (F-statistic):               0.00\n",
      "Time:                        15:44:25   Log-Likelihood:                -46255.\n",
      "No. Observations:                3970   AIC:                         9.251e+04\n",
      "Df Residuals:                    3968   BIC:                         9.253e+04\n",
      "Df Model:                           1                                         \n",
      "Covariance Type:            nonrobust                                         \n",
      "==============================================================================\n",
      "                 coef    std err          t      P>|t|      [0.025      0.975]\n",
      "------------------------------------------------------------------------------\n",
      "Intercept  -1.118e+04    539.844    -20.715      0.000   -1.22e+04   -1.01e+04\n",
      "Degree       368.5962      5.337     69.069      0.000     358.133     379.059\n",
      "==============================================================================\n",
      "Omnibus:                     7229.681   Durbin-Watson:                   0.860\n",
      "Prob(Omnibus):                  0.000   Jarque-Bera (JB):         21763052.005\n",
      "Skew:                          12.880   Prob(JB):                         0.00\n",
      "Kurtosis:                     364.803   Cond. No.                         124.\n",
      "==============================================================================\n",
      "\n",
      "Notes:\n",
      "[1] Standard Errors assume that the covariance matrix of the errors is correctly specified.\n"
     ]
    }
   ],
   "source": [
    "mod = smf.ols(formula='count ~ Degree', data=shortest_app_counts)\n",
    "\n",
    "res = mod.fit()\n",
    "print(res.summary())"
   ]
  },
  {
   "cell_type": "markdown",
   "metadata": {
    "collapsed": false
   },
   "source": [
    "While the R squared is lower, it is still quite high in this case. Most importantly, it also shows that there is a correlation between the degree and the number of times it appears in a shortest path!\n",
    "\n",
    "So this implies that hubs are actually very helpful for finding out the path between two nodes, and are commonly used.\n",
    "\n",
    "This is something that can be used in our AI, and maybe further in other analysis."
   ]
  },
  {
   "cell_type": "markdown",
   "metadata": {},
   "source": [
    "# 3. Ways to enrich, filter, transform the data"
   ]
  },
  {
   "cell_type": "markdown",
   "metadata": {},
   "source": [
    "## 3.1 Semantic Similarity\n",
    "\n",
    "An important part of the project is to study how humans and machines move from article to article. Semantic similarity compares two strings based on a trained model and assigns a value according to how are they correlated (the higher, the more related). For example, 'king' and 'queen' will have a higher semantic similarity than say, 'king' and 'chemistry' (will prove this here)."
   ]
  },
  {
   "cell_type": "markdown",
   "metadata": {},
   "source": [
    "### Remove the underscore and decode the url\n",
    "\n",
    "First we define a function that corrects the strings to have a readable format. For example, '%C3%89douard_Manet' is transformed to 'Édouard Manet'.\n",
    "\n",
    "We will create a function to decode a word, and we will be able to use it in series and dataframes using apply()."
   ]
  },
  {
   "cell_type": "code",
   "execution_count": 30,
   "metadata": {},
   "outputs": [],
   "source": [
    "def decode_word(word):\n",
    "    word = word.replace('_', ' ')\n",
    "    return unquote(word)"
   ]
  },
  {
   "cell_type": "code",
   "execution_count": 31,
   "metadata": {},
   "outputs": [
    {
     "data": {
      "text/plain": [
       "0    %C3%81ed%C3%A1n_mac_Gabr%C3%A1in\n",
       "1                          %C3%85land\n",
       "2                  %C3%89douard_Manet\n",
       "3                           %C3%89ire\n",
       "4          %C3%93engus_I_of_the_Picts\n",
       "Name: articles, dtype: object"
      ]
     },
     "execution_count": 31,
     "metadata": {},
     "output_type": "execute_result"
    }
   ],
   "source": [
    "articles['articles'].head(5)"
   ]
  },
  {
   "cell_type": "code",
   "execution_count": 32,
   "metadata": {},
   "outputs": [
    {
     "data": {
      "text/plain": [
       "0        Áedán mac Gabráin\n",
       "1                    Åland\n",
       "2            Édouard Manet\n",
       "3                     Éire\n",
       "4    Óengus I of the Picts\n",
       "Name: articles, dtype: object"
      ]
     },
     "execution_count": 32,
     "metadata": {},
     "output_type": "execute_result"
    }
   ],
   "source": [
    "articles['articles'].apply(decode_word).head(5)"
   ]
  },
  {
   "cell_type": "markdown",
   "metadata": {},
   "source": [
    "### Semantic Distance Model\n",
    "We create a function that returns the semantic similarity between two words you provide."
   ]
  },
  {
   "cell_type": "code",
   "execution_count": 33,
   "metadata": {},
   "outputs": [],
   "source": [
    "# We define the model outside the function (make sure to run this before using the function)\n",
    "model = BertModel.from_pretrained('bert-base-uncased')\n",
    "tokenizer = BertTokenizer.from_pretrained('bert-base-uncased')"
   ]
  },
  {
   "cell_type": "code",
   "execution_count": 34,
   "metadata": {},
   "outputs": [],
   "source": [
    "# Function to get embeddings (just because we will use it in semantic similarity function)\n",
    "def get_embedding(text):\n",
    "    inputs = tokenizer(text, return_tensors=\"pt\")\n",
    "    outputs = model(**inputs)\n",
    "    return outputs.last_hidden_state.mean(dim=1)\n",
    "\n",
    "# Semantic similarity function\n",
    "def semantic_similarity(word1, word2):\n",
    "    embedding1 = get_embedding(word1)\n",
    "    embedding2 = get_embedding(word2)\n",
    "    return cosine_similarity(embedding1.detach().numpy(), embedding2.detach().numpy())[0][0]"
   ]
  },
  {
   "cell_type": "code",
   "execution_count": 35,
   "metadata": {},
   "outputs": [
    {
     "data": {
      "text/plain": [
       "0.9388244"
      ]
     },
     "execution_count": 35,
     "metadata": {},
     "output_type": "execute_result"
    }
   ],
   "source": [
    "semantic_similarity('king', 'queen')"
   ]
  },
  {
   "cell_type": "code",
   "execution_count": 36,
   "metadata": {},
   "outputs": [
    {
     "data": {
      "text/plain": [
       "0.655022"
      ]
     },
     "execution_count": 36,
     "metadata": {},
     "output_type": "execute_result"
    }
   ],
   "source": [
    "semantic_similarity('king', 'chemistry')"
   ]
  },
  {
   "cell_type": "markdown",
   "metadata": {},
   "source": [
    "### Semantic Distance Matrix\n",
    "Provided a series, it creates a df where indices and column names are the strings of the series, and fills the matrix with the semantic similarity between all words in the provided series."
   ]
  },
  {
   "cell_type": "code",
   "execution_count": 37,
   "metadata": {},
   "outputs": [],
   "source": [
    "def semantic_similarity_matrix(titles):\n",
    "    df = pd.DataFrame(index=titles, columns=titles)\n",
    "    for i in range(len(titles)):\n",
    "        for j in range(i+1, len(titles)):\n",
    "            embedding1 = get_embedding(titles[i])\n",
    "            embedding2 = get_embedding(titles[j])\n",
    "            similarity = cosine_similarity(embedding1.detach().numpy(), embedding2.detach().numpy())[0][0]\n",
    "            df.iloc[i, j] = similarity\n",
    "            df.iloc[j, i] = similarity  # Copy value to lower triangle\n",
    "            np.fill_diagonal(df.values, 1)\n",
    "    return df"
   ]
  },
  {
   "cell_type": "code",
   "execution_count": 38,
   "metadata": {},
   "outputs": [
    {
     "data": {
      "text/html": [
       "<div>\n",
       "<style scoped>\n",
       "    .dataframe tbody tr th:only-of-type {\n",
       "        vertical-align: middle;\n",
       "    }\n",
       "\n",
       "    .dataframe tbody tr th {\n",
       "        vertical-align: top;\n",
       "    }\n",
       "\n",
       "    .dataframe thead th {\n",
       "        text-align: right;\n",
       "    }\n",
       "</style>\n",
       "<table border=\"1\" class=\"dataframe\">\n",
       "  <thead>\n",
       "    <tr style=\"text-align: right;\">\n",
       "      <th></th>\n",
       "      <th>king</th>\n",
       "      <th>queen</th>\n",
       "      <th>chemistry</th>\n",
       "      <th>biology</th>\n",
       "    </tr>\n",
       "  </thead>\n",
       "  <tbody>\n",
       "    <tr>\n",
       "      <th>king</th>\n",
       "      <td>1</td>\n",
       "      <td>0.938824</td>\n",
       "      <td>0.655022</td>\n",
       "      <td>0.734002</td>\n",
       "    </tr>\n",
       "    <tr>\n",
       "      <th>queen</th>\n",
       "      <td>0.938824</td>\n",
       "      <td>1</td>\n",
       "      <td>0.633365</td>\n",
       "      <td>0.745616</td>\n",
       "    </tr>\n",
       "    <tr>\n",
       "      <th>chemistry</th>\n",
       "      <td>0.655022</td>\n",
       "      <td>0.633365</td>\n",
       "      <td>1</td>\n",
       "      <td>0.846376</td>\n",
       "    </tr>\n",
       "    <tr>\n",
       "      <th>biology</th>\n",
       "      <td>0.734002</td>\n",
       "      <td>0.745616</td>\n",
       "      <td>0.846376</td>\n",
       "      <td>1</td>\n",
       "    </tr>\n",
       "  </tbody>\n",
       "</table>\n",
       "</div>"
      ],
      "text/plain": [
       "               king     queen chemistry   biology\n",
       "king              1  0.938824  0.655022  0.734002\n",
       "queen      0.938824         1  0.633365  0.745616\n",
       "chemistry  0.655022  0.633365         1  0.846376\n",
       "biology    0.734002  0.745616  0.846376         1"
      ]
     },
     "execution_count": 38,
     "metadata": {},
     "output_type": "execute_result"
    }
   ],
   "source": [
    "semantic_similarity_matrix(pd.Series(['king', 'queen', 'chemistry', 'biology']))"
   ]
  },
  {
   "cell_type": "markdown",
   "metadata": {},
   "source": [
    "# 4. Plan and Ideas for Methods\n"
   ]
  },
  {
   "cell_type": "markdown",
   "metadata": {
    "collapsed": false
   },
   "source": [
    "## 4.1 Basic AI using A* Algorigm\n",
    "\n",
    "Most of the model requires for there to be an AI model we can compare it against.\n",
    "\n",
    "We were indicated by the TA to not focus on this too much, as this is a data analysis course, not an ML course. Because of this, we took the implementation of A\\* that was included in networkX and created two modified versions that now do the following:\n",
    "- First version returns all of the explored nodes, not just the shortest path found\n",
    "- Second version is forced to do a depth first search without being able to return\n",
    "\n",
    "For our purposes, the explored nodes is the most interesting metric, as it describes what were the links \"clicked\".\n",
    "\n",
    "We found a paper that implements a more complicated version, and we might be able to do something with graph neural networks, but for now this is good enough.\n",
    "\n",
    "We additionally do a bit of work to show how the system works timewise, as well as how the comparison will work in the future.\n",
    "\n",
    "The time comparison is not super useful though, as that will depend on hardware too much to be worth using easily."
   ]
  },
  {
   "cell_type": "code",
   "execution_count": 39,
   "metadata": {
    "collapsed": false
   },
   "outputs": [
    {
     "name": "stdout",
     "output_type": "stream",
     "text": [
      "Using the modded a star that returns explored nodes:\n",
      " Found solution for Actor to Japan exploring the following number of nodes: 1\n",
      " Found it in: 0.28297972679138184\n",
      "Using depth first only A star that returns explored nodes:\n",
      " Found solution for Actor to Japan exploring the following number of nodes: 1\n",
      " Found it in: 0.28656792640686035\n"
     ]
    }
   ],
   "source": [
    "import machine_searchers\n",
    "import time\n",
    "\n",
    "def modded_get_embedding(text: str):\n",
    "    temp_str = text.replace('_', ' ')\n",
    "    temp_str = unquote(temp_str)\n",
    "    inputs = tokenizer(temp_str, return_tensors=\"pt\")\n",
    "    outputs = model(**inputs)\n",
    "    return outputs.last_hidden_state.mean(dim=1)\n",
    "\n",
    "def distance_two_words(w1: str, w2: str):\n",
    "    \"\"\"Receives a string that was in the wikispeedia dataset, and transforms it as needed to work\n",
    "    with the berd embeddings.\"\"\"\n",
    "\n",
    "    embedding1 = modded_get_embedding(w1)\n",
    "    embedding2 = modded_get_embedding(w2)\n",
    "    similarity = cosine_similarity(embedding1.detach().numpy(), embedding2.detach().numpy())[0][0]\n",
    "    # Adding absolute, just in case it is needed\n",
    "    # Similarity is actually 1 - abs(similarity) + 1,\n",
    "    # As we want closer words to have a smaller distance\n",
    "    # The last plus one is to indicate that there would be an extra cost to exploring, as if not the system often\n",
    "    # thinks that there are nodes that have a distance of 0.5 or something like that\n",
    "    similarity = 1 - abs(similarity) + 1\n",
    "    # print(\"First word:\", w1, \". Second word:\", w2, \". GoodDistance:\", similarity)\n",
    "    return similarity\n",
    "\n",
    "start_time = time.time()\n",
    "lib_path_1, lib_explore_1 = machine_searchers.modded_astar_path(wikispeedia, 'Actor', 'Japan', heuristic=distance_two_words)\n",
    "end_time = time.time()\n",
    "\n",
    "# It's len - 1 because the target node is also included, and that node wasn't explored\n",
    "print(\"Using the modded a star that returns explored nodes:\")\n",
    "print(\" Found solution for Actor to Japan exploring the following number of nodes:\", len(lib_explore_1)-1)\n",
    "print(\" Found it in:\", end_time-start_time)\n",
    "\n",
    "start_time = time.time()\n",
    "lib_path_2, lib_explore_2 = machine_searchers.only_depth_first_astar_path(wikispeedia, 'Actor', 'Japan', heuristic=distance_two_words)\n",
    "end_time = time.time()\n",
    "\n",
    "# It's len - 1 because the target node is also included, and that node wasn't explored\n",
    "print(\"Using depth first only A star that returns explored nodes:\")\n",
    "print(\" Found solution for Actor to Japan exploring the following number of nodes:\", len(lib_explore_1)-1)\n",
    "print(\" Found it in:\", end_time-start_time)\n"
   ]
  },
  {
   "cell_type": "markdown",
   "metadata": {
    "collapsed": false
   },
   "source": [
    "Now we'll take the most commonly explored node pair path, run it through the two algorithms and see what is the result!"
   ]
  },
  {
   "cell_type": "code",
   "execution_count": 40,
   "metadata": {
    "collapsed": false
   },
   "outputs": [
    {
     "data": {
      "text/html": [
       "<div>\n",
       "<style scoped>\n",
       "    .dataframe tbody tr th:only-of-type {\n",
       "        vertical-align: middle;\n",
       "    }\n",
       "\n",
       "    .dataframe tbody tr th {\n",
       "        vertical-align: top;\n",
       "    }\n",
       "\n",
       "    .dataframe thead th {\n",
       "        text-align: right;\n",
       "    }\n",
       "</style>\n",
       "<table border=\"1\" class=\"dataframe\">\n",
       "  <thead>\n",
       "    <tr style=\"text-align: right;\">\n",
       "      <th></th>\n",
       "      <th>first_article</th>\n",
       "      <th>last_article</th>\n",
       "      <th>count</th>\n",
       "      <th>mean_length</th>\n",
       "      <th>std_length</th>\n",
       "      <th>mean_rating</th>\n",
       "      <th>std_rating</th>\n",
       "      <th>mean_durationInSec</th>\n",
       "      <th>std_durationInSec</th>\n",
       "    </tr>\n",
       "  </thead>\n",
       "  <tbody>\n",
       "    <tr>\n",
       "      <th>2318</th>\n",
       "      <td>Asteroid</td>\n",
       "      <td>Viking</td>\n",
       "      <td>1043</td>\n",
       "      <td>7.516779</td>\n",
       "      <td>3.019205</td>\n",
       "      <td>2.554455</td>\n",
       "      <td>0.980963</td>\n",
       "      <td>202.216683</td>\n",
       "      <td>281.960852</td>\n",
       "    </tr>\n",
       "    <tr>\n",
       "      <th>4427</th>\n",
       "      <td>Brain</td>\n",
       "      <td>Telephone</td>\n",
       "      <td>1040</td>\n",
       "      <td>7.100000</td>\n",
       "      <td>3.580183</td>\n",
       "      <td>2.482051</td>\n",
       "      <td>1.043248</td>\n",
       "      <td>174.138462</td>\n",
       "      <td>189.381553</td>\n",
       "    </tr>\n",
       "    <tr>\n",
       "      <th>25700</th>\n",
       "      <td>Theatre</td>\n",
       "      <td>Zebra</td>\n",
       "      <td>905</td>\n",
       "      <td>7.836464</td>\n",
       "      <td>3.849462</td>\n",
       "      <td>2.635359</td>\n",
       "      <td>1.044531</td>\n",
       "      <td>251.068508</td>\n",
       "      <td>1169.866464</td>\n",
       "    </tr>\n",
       "    <tr>\n",
       "      <th>21255</th>\n",
       "      <td>Pyramid</td>\n",
       "      <td>Bean</td>\n",
       "      <td>642</td>\n",
       "      <td>8.246106</td>\n",
       "      <td>4.259726</td>\n",
       "      <td>2.677419</td>\n",
       "      <td>1.010459</td>\n",
       "      <td>199.085670</td>\n",
       "      <td>191.480244</td>\n",
       "    </tr>\n",
       "    <tr>\n",
       "      <th>3206</th>\n",
       "      <td>Batman</td>\n",
       "      <td>Wood</td>\n",
       "      <td>148</td>\n",
       "      <td>7.263514</td>\n",
       "      <td>3.413382</td>\n",
       "      <td>2.851852</td>\n",
       "      <td>1.199478</td>\n",
       "      <td>113.466216</td>\n",
       "      <td>141.024406</td>\n",
       "    </tr>\n",
       "  </tbody>\n",
       "</table>\n",
       "</div>"
      ],
      "text/plain": [
       "      first_article last_article  count  mean_length  std_length  mean_rating  \\\n",
       "2318       Asteroid       Viking   1043     7.516779    3.019205     2.554455   \n",
       "4427          Brain    Telephone   1040     7.100000    3.580183     2.482051   \n",
       "25700       Theatre        Zebra    905     7.836464    3.849462     2.635359   \n",
       "21255       Pyramid         Bean    642     8.246106    4.259726     2.677419   \n",
       "3206         Batman         Wood    148     7.263514    3.413382     2.851852   \n",
       "\n",
       "       std_rating  mean_durationInSec  std_durationInSec  \n",
       "2318     0.980963          202.216683         281.960852  \n",
       "4427     1.043248          174.138462         189.381553  \n",
       "25700    1.044531          251.068508        1169.866464  \n",
       "21255    1.010459          199.085670         191.480244  \n",
       "3206     1.199478          113.466216         141.024406  "
      ]
     },
     "execution_count": 40,
     "metadata": {},
     "output_type": "execute_result"
    }
   ],
   "source": [
    "# So it's finding the length between asteroid and viking\n",
    "article_combinations.sort_values('count', ascending=False).head()"
   ]
  },
  {
   "cell_type": "code",
   "execution_count": 41,
   "metadata": {
    "collapsed": false
   },
   "outputs": [
    {
     "name": "stdout",
     "output_type": "stream",
     "text": [
      "Using the modded a star that returns explored nodes:\n",
      " Found solution for Asteroid to Viking exploring the following number of nodes: 52\n",
      "Path length was: 3\n",
      " Found it in: 45.73216009140015\n",
      "\n",
      "Using depth first only A star that returns explored nodes:\n",
      " Found solution for Asteroid to Viking exploring the following number of nodes: 40\n",
      "Path length was: 40\n",
      " Found it in: 69.77429604530334\n"
     ]
    }
   ],
   "source": [
    "start_time = time.time()\n",
    "lib_path_1, lib_explore_1 = machine_searchers.modded_astar_path(wikispeedia, 'Asteroid', 'Viking', heuristic=distance_two_words)\n",
    "end_time = time.time()\n",
    "\n",
    "# It's len - 1 because the target node is also included, and that node wasn't explored\n",
    "print(\"Using the modded a star that returns explored nodes:\")\n",
    "print(\" Found solution for Asteroid to Viking exploring the following number of nodes:\", len(lib_explore_1)-1)\n",
    "print(\"Path length was:\", len(lib_path_1)-1)\n",
    "print(\" Found it in:\", end_time-start_time)\n",
    "\n",
    "start_time = time.time()\n",
    "lib_path_2, lib_explore_2 = machine_searchers.only_depth_first_astar_path(wikispeedia, 'Asteroid', 'Viking', heuristic=distance_two_words)\n",
    "end_time = time.time()\n",
    "print('')\n",
    "\n",
    "# It's len - 1 because the target node is also included, and that node wasn't explored\n",
    "print(\"Using depth first only A star that returns explored nodes:\")\n",
    "print(\" Found solution for Asteroid to Viking exploring the following number of nodes:\", len(lib_explore_2)-1)\n",
    "print(\"Path length was:\", len(lib_path_2)-1)\n",
    "print(\" Found it in:\", end_time-start_time)"
   ]
  },
  {
   "cell_type": "code",
   "execution_count": 42,
   "metadata": {
    "collapsed": false
   },
   "outputs": [
    {
     "data": {
      "text/plain": [
       "['Asteroid', '1_Ceres', 'Paris', 'Viking']"
      ]
     },
     "execution_count": 42,
     "metadata": {},
     "output_type": "execute_result"
    }
   ],
   "source": [
    "lib_path_1"
   ]
  },
  {
   "cell_type": "markdown",
   "metadata": {
    "collapsed": false
   },
   "source": [
    "So, based on the previous example of the path, this works out well enough. The systems spends a lot of time exploring and going back, which might be a common issue. There is a huge disconnect between explored and actual path length, but that is common for A\\*, so it's an expected caveat.\n",
    "\n",
    "It is interesting to note that the optimal solution passed through Paris, which seems to fit the definition of being one of the hubs that are described in the paper. Maybe the hub strategy is actually useful in most cases!\n",
    "\n",
    "The depth first method took a lot longer to run than planned. Based on this, it might be worth considering other alternatives.\n",
    "\n",
    "But still, at least we've proven the model works, and can give results that we can compare against humans. Again, this is using a much simpler method, but this could be enhanced in the future."
   ]
  }
 ],
 "metadata": {
  "kernelspec": {
   "display_name": "Python 3",
   "language": "python",
   "name": "python3"
  },
  "language_info": {
   "codemirror_mode": {
    "name": "ipython",
    "version": 3
   },
   "file_extension": ".py",
   "mimetype": "text/x-python",
   "name": "python",
   "nbconvert_exporter": "python",
   "pygments_lexer": "ipython3",
   "version": "3.9.18"
  }
 },
 "nbformat": 4,
 "nbformat_minor": 0
}

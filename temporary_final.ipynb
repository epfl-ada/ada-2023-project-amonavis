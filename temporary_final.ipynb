{
 "cells": [
  {
   "cell_type": "markdown",
   "id": "289176a3d9e45916",
   "metadata": {
    "collapsed": false
   },
   "source": [
    "# What\n",
    "Our code is a mess. This is just to not have to run everything all the time. Allows us to focus on the data we have instead of trying to get even more messy data.\n",
    "\n",
    "This should be used as a default and copies should be done to build on top. The idea of this is that it's a basic AF readers so that actual analysis can be done."
   ]
  },
  {
   "cell_type": "code",
   "execution_count": 113,
   "id": "a96a96f240a67cd3",
   "metadata": {
    "collapsed": false
   },
   "outputs": [],
   "source": [
    "import pandas as pd\n",
    "import numpy as np\n",
    "from datetime import datetime\n",
    "import matplotlib.pyplot as plt\n",
    "import plotly.graph_objects as go\n",
    "import seaborn as sns\n",
    "import statistics\n",
    "import math\n",
    "\n",
    "# networkx\n",
    "import networkx as nx\n",
    "from networkx.drawing.nx_pydot import graphviz_layout\n",
    "\n",
    "# For semantic similarity\n",
    "from urllib.parse import unquote\n",
    "from transformers import BertTokenizer\n",
    "from transformers import BertModel\n",
    "from sklearn.metrics.pairwise import cosine_similarity\n",
    "\n",
    "# Python functions in .py file to read data\n",
    "import data_readers\n",
    "\n",
    "import warnings\n",
    "from tqdm import TqdmWarning\n",
    "warnings.filterwarnings('ignore', category=TqdmWarning)"
   ]
  },
  {
   "cell_type": "code",
   "execution_count": 114,
   "id": "893fb1e3c988e06e",
   "metadata": {
    "collapsed": false
   },
   "outputs": [],
   "source": [
    "# The links and edges\n",
    "wikispeedia = data_readers.read_wikispeedia_graph()\n",
    "\n",
    "# The finished paths\n",
    "finished_paths = data_readers.read_finished_paths()\n",
    "\n",
    "# The unfinished paths\n",
    "unfinished_paths = data_readers.read_unfinished_paths()\n",
    "\n",
    "# DF of all articles and their categories\n",
    "categories = data_readers.read_categories()\n",
    "\n",
    "# Searching for the string of a given article. It has to be formatted like the article name\n",
    "# Which shouldn't be a problem, as we'll probably usually retrieve them internally\n",
    "obi_wan_text = data_readers.plaintext_article_finder('Obi-Wan_Kenobi')\n",
    "\n",
    "source_target_info = data_readers.source_target_paths_information()"
   ]
  },
  {
   "cell_type": "code",
   "execution_count": 115,
   "id": "9ecc9d58c52c2b3e",
   "metadata": {
    "collapsed": false
   },
   "outputs": [],
   "source": [
    "# This is a last step, of making these three datasets have consistent column names and order\n",
    "# as well as guaranteeing that the index order is conistent with both elements\n",
    "# Even though the boolean column is weird, it's a boolean so that's all good\n",
    "\n",
    "# FUCK IT. We don't touch the decoded version, that's too painful!\n",
    "\n",
    "col_names = ['source', 'target', 'reached', 'length', 'visited']\n",
    "\n",
    "import ast\n",
    "\n",
    "carlos_df = pd.read_csv('machine_outputs/data_carlos.csv')\n",
    "carlos_df.columns = col_names\n",
    "\n",
    "carlos_df['visited'] = carlos_df['visited'].str.strip('\\\\').str.strip('{}')\n",
    "carlos_df['visited'] = carlos_df['visited'].apply(lambda x: ast.literal_eval(x))\n",
    "\n",
    "carol_df = pd.read_csv('machine_outputs/carolOutput.csv')\n",
    "carol_df.columns = col_names\n",
    "\n",
    "carol_df['visited'] = carol_df['visited'].str.strip('\\\\').str.strip('{}')\n",
    "carol_df['visited'] = carol_df['visited'].apply(lambda x: ast.literal_eval(x))\n",
    "\n",
    "landmark_df = pd.read_csv('machine_outputs/landmark_method_results.csv')\n",
    "\n",
    "# Landmark_df is the only one with substantive change\n",
    "landmark_df.drop('Unnamed: 0', axis=1, inplace=True)\n",
    "landmark_df['reached'] = True\n",
    "landmark_df.columns = ['source', 'target', 'length', 'visited', 'reached']\n",
    "landmark_df = landmark_df[col_names]\n",
    "# Due to the way length was counted here, I need to update to increase by one\n",
    "landmark_df['length'] = landmark_df['length'] + 1\n",
    "\n",
    "landmark_df['visited'] = landmark_df['visited'].str.strip('\\\\').str.strip('{}')\n",
    "landmark_df['visited'] = landmark_df['visited'].apply(lambda x: ast.literal_eval(x))"
   ]
  },
  {
   "cell_type": "markdown",
   "id": "3617faca",
   "metadata": {},
   "source": [
    "Modify given datasets"
   ]
  },
  {
   "cell_type": "code",
   "execution_count": 116,
   "id": "a44e3b9d",
   "metadata": {},
   "outputs": [],
   "source": [
    "unfinished_paths['source'] = unfinished_paths['path'].str.split(';').apply(lambda x: x[0])\n",
    "unfinished_paths = unfinished_paths[['source', 'target', 'path', 'type']]\n"
   ]
  },
  {
   "cell_type": "code",
   "execution_count": 117,
   "id": "43c8e945",
   "metadata": {},
   "outputs": [],
   "source": [
    "def add_category_of_target_article(df_to_add_category_to) -> pd.DataFrame:\n",
    "    categories[categories['article'].duplicated()]\n",
    "    categories['article'] = categories['article'].drop_duplicates()\n",
    "    sub_categories = categories['categories'].str[8:].str.split('.')\n",
    "    category_depth_1 = sub_categories.apply(lambda x: x[0])\n",
    "    categories['category_target'] = category_depth_1\n",
    "\n",
    "    new_df = pd.merge(df_to_add_category_to, categories, left_on = 'target', right_on= 'article', how = 'left')\n",
    "    new_df = new_df.drop(columns = ['article', 'categories'])\n",
    "    return new_df\n",
    "\n",
    "landmark_df = add_category_of_target_article(landmark_df)"
   ]
  },
  {
   "cell_type": "markdown",
   "id": "80ce42d3",
   "metadata": {},
   "source": [
    "Can machine do some of the unfinished paths that man couldn’t?\n"
   ]
  },
  {
   "cell_type": "code",
   "execution_count": 121,
   "id": "ce42310f",
   "metadata": {},
   "outputs": [
    {
     "data": {
      "text/plain": [
       "target\n",
       "Telephone              1052\n",
       "Bean                    944\n",
       "Zebra                   884\n",
       "Viking                  728\n",
       "Wood                     82\n",
       "                       ... \n",
       "Pythagorean_theorem       1\n",
       "Graphic_novel             1\n",
       "Brass_instrument          1\n",
       "Svalbard                  1\n",
       "Owl                       1\n",
       "Name: count, Length: 863, dtype: int64"
      ]
     },
     "execution_count": 121,
     "metadata": {},
     "output_type": "execute_result"
    }
   ],
   "source": [
    "def find_unfinished_paths_from_man_and_machine(human_df, machine_df) -> pd.DataFrame:\n",
    "    return pd.merge(unfinished_paths, machine_df, how = 'inner', on = ['target', 'source'])\n",
    "\n",
    "find_unfinished_paths_from_man_and_machine(unfinished_paths, landmark_df)['target'].value_counts()"
   ]
  }
 ],
 "metadata": {
  "kernelspec": {
   "display_name": "Python 3",
   "language": "python",
   "name": "python3"
  },
  "language_info": {
   "codemirror_mode": {
    "name": "ipython",
    "version": 3
   },
   "file_extension": ".py",
   "mimetype": "text/x-python",
   "name": "python",
   "nbconvert_exporter": "python",
   "pygments_lexer": "ipython3",
   "version": "3.9.18"
  }
 },
 "nbformat": 4,
 "nbformat_minor": 5
}

{
 "cells": [
  {
   "cell_type": "markdown",
   "id": "289176a3d9e45916",
   "metadata": {
    "collapsed": false
   },
   "source": [
    "# What\n",
    "Our code is a mess. This is just to not have to run everything all the time. Allows us to focus on the data we have instead of trying to get even more messy data.\n",
    "\n",
    "This should be used as a default and copies should be done to build on top. The idea of this is that it's a basic AF readers so that actual analysis can be done."
   ]
  },
  {
   "cell_type": "code",
   "execution_count": 240,
   "id": "a96a96f240a67cd3",
   "metadata": {
    "collapsed": false
   },
   "outputs": [],
   "source": [
    "import pandas as pd\n",
    "import numpy as np\n",
    "from datetime import datetime\n",
    "import matplotlib.pyplot as plt\n",
    "import plotly.graph_objects as go\n",
    "import seaborn as sns\n",
    "import statistics\n",
    "import math\n",
    "import plotly.express as px\n",
    "import plotly.graph_objects as go\n",
    "\n",
    "# networkx\n",
    "import networkx as nx\n",
    "from networkx.drawing.nx_pydot import graphviz_layout\n",
    "\n",
    "# For semantic similarity\n",
    "from urllib.parse import unquote\n",
    "from transformers import BertTokenizer\n",
    "from transformers import BertModel\n",
    "from sklearn.metrics.pairwise import cosine_similarity\n",
    "\n",
    "# Python functions in .py file to read data\n",
    "import data_readers\n",
    "\n",
    "import warnings\n",
    "from tqdm import TqdmWarning\n",
    "warnings.filterwarnings('ignore', category=TqdmWarning)\n",
    "\n",
    "# Our custom plotting functions\n",
    "import plot_functions"
   ]
  },
  {
   "cell_type": "code",
   "execution_count": 241,
   "id": "893fb1e3c988e06e",
   "metadata": {
    "collapsed": false
   },
   "outputs": [],
   "source": [
    "# The links and edges\n",
    "wikispeedia = data_readers.read_wikispeedia_graph()\n",
    "\n",
    "# The finished paths\n",
    "finished_paths = data_readers.read_finished_paths()\n",
    "\n",
    "# The unfinished paths\n",
    "unfinished_paths = data_readers.read_unfinished_paths()\n",
    "\n",
    "# DF of all articles and their categories\n",
    "categories = data_readers.read_categories()\n",
    "\n",
    "# Searching for the string of a given article. It has to be formatted like the article name\n",
    "# Which shouldn't be a problem, as we'll probably usually retrieve them internally\n",
    "obi_wan_text = data_readers.plaintext_article_finder('Obi-Wan_Kenobi')\n",
    "\n",
    "source_target_info = data_readers.source_target_paths_information()"
   ]
  },
  {
   "cell_type": "code",
   "execution_count": 242,
   "id": "9ecc9d58c52c2b3e",
   "metadata": {
    "collapsed": false
   },
   "outputs": [],
   "source": [
    "# This is a last step, of making these three datasets have consistent column names and order\n",
    "# as well as guaranteeing that the index order is conistent with both elements\n",
    "# Even though the boolean column is weird, it's a boolean so that's all good\n",
    "\n",
    "# FUCK IT. We don't touch the decoded version, that's too painful!\n",
    "\n",
    "col_names = ['source', 'target', 'reached', 'length', 'visited']\n",
    "\n",
    "import ast\n",
    "\n",
    "carlos_df = pd.read_csv('machine_outputs/data_carlos.csv')\n",
    "carlos_df.columns = col_names\n",
    "\n",
    "carlos_df['visited'] = carlos_df['visited'].str.strip('\\\\').str.strip('{}')\n",
    "carlos_df['visited'] = carlos_df['visited'].apply(lambda x: ast.literal_eval(x))\n",
    "\n",
    "semantic_rank_df = pd.read_csv('machine_outputs/carolOutput.csv')\n",
    "semantic_rank_df.columns = col_names\n",
    "\n",
    "semantic_rank_df['visited'] = semantic_rank_df['visited'].str.strip('\\\\').str.strip('{}')\n",
    "semantic_rank_df['visited'] = semantic_rank_df['visited'].apply(lambda x: ast.literal_eval(x))\n",
    "\n",
    "landmark_df = pd.read_csv('machine_outputs/landmark_method_results.csv')\n",
    "\n",
    "# Landmark_df is the only one with substantive change\n",
    "landmark_df.drop('Unnamed: 0', axis=1, inplace=True)\n",
    "landmark_df['reached'] = True\n",
    "landmark_df.columns = ['source', 'target', 'length', 'visited', 'reached']\n",
    "landmark_df = landmark_df[col_names]\n",
    "# Due to the way length was counted here, I need to update to increase by one\n",
    "landmark_df['length'] = landmark_df['length'] + 1\n",
    "\n",
    "landmark_df['visited'] = landmark_df['visited'].str.strip('\\\\').str.strip('{}')\n",
    "landmark_df['visited'] = landmark_df['visited'].apply(lambda x: ast.literal_eval(x))\n",
    "landmark_df = landmark_df.sort_values('source')"
   ]
  },
  {
   "cell_type": "code",
   "execution_count": 243,
   "id": "76dd67a5",
   "metadata": {},
   "outputs": [],
   "source": [
    "finished_paths = finished_paths[['first_article', 'last_article', 'path_length', 'path']]\n",
    "finished_paths = finished_paths.rename(columns={'first_article':'source', 'last_article':'target', 'path_length':'length','path':'visted'})"
   ]
  },
  {
   "cell_type": "markdown",
   "id": "3617faca",
   "metadata": {},
   "source": [
    "Modify given datasets"
   ]
  },
  {
   "cell_type": "code",
   "execution_count": 244,
   "id": "a44e3b9d",
   "metadata": {},
   "outputs": [],
   "source": [
    "unfinished_paths['source'] = unfinished_paths['path'].str.split(';').apply(lambda x: x[0])\n",
    "unfinished_paths = unfinished_paths[['source', 'target', 'path', 'type']]\n"
   ]
  },
  {
   "cell_type": "code",
   "execution_count": 245,
   "id": "43c8e945",
   "metadata": {},
   "outputs": [],
   "source": [
    "def add_category_of_target_article(df_to_add_category_to) -> pd.DataFrame:\n",
    "    categories[categories['article'].duplicated()]\n",
    "    categories['article'] = categories['article'].drop_duplicates()\n",
    "    sub_categories = categories['categories'].str[8:].str.split('.')\n",
    "    category_depth_1 = sub_categories.apply(lambda x: x[0])\n",
    "    categories['category'] = category_depth_1\n",
    "\n",
    "    new_df = pd.merge(df_to_add_category_to, categories, left_on = 'target', right_on= 'article', how = 'left')\n",
    "    new_df = new_df.drop(columns = ['article', 'categories'])\n",
    "    return new_df\n",
    "\n",
    "finished_paths = add_category_of_target_article(finished_paths)\n",
    "landmark_df = add_category_of_target_article(landmark_df)\n",
    "semantic_rank_df = add_category_of_target_article(semantic_rank_df)\n",
    "carlos_df = add_category_of_target_article(carlos_df)"
   ]
  },
  {
   "cell_type": "markdown",
   "id": "eb84cb25",
   "metadata": {},
   "source": [
    "When are human paths shorter than the machine paths?"
   ]
  },
  {
   "cell_type": "code",
   "execution_count": 246,
   "id": "56c41ad9",
   "metadata": {},
   "outputs": [],
   "source": [
    "def combine_human_and_machine(df_human, df_machine) -> pd.DataFrame:\n",
    "    df = pd.merge(df_human, df_machine, how = 'inner', left_on= ['first_article', 'last_article'], right_on = ['Source', 'Target'])\n",
    "    df.rename(columns= {'path_length': 'man_len', 'len_shortest_path': 'machine_len'}, inplace=True)\n",
    "    return df"
   ]
  },
  {
   "cell_type": "code",
   "execution_count": 251,
   "id": "972c04f3",
   "metadata": {},
   "outputs": [
    {
     "data": {
      "application/vnd.plotly.v1+json": {
       "config": {
        "plotlyServerURL": "https://plot.ly"
       },
       "data": [
        {
         "alignmentgroup": "True",
         "hovertemplate": "variable=human<br>category=%{x}<br>value=%{y}<extra></extra>",
         "legendgroup": "human",
         "marker": {
          "color": "#636efa",
          "pattern": {
           "shape": ""
          }
         },
         "name": "human",
         "offsetgroup": "human",
         "orientation": "v",
         "showlegend": true,
         "textposition": "auto",
         "type": "bar",
         "x": [
          "Countries",
          "Geography",
          "Religion",
          "People",
          "Business_Studies",
          "Citizenship",
          "History",
          "Language_and_literature",
          "Mathematics",
          "Music",
          "Design_and_Technology",
          "Science",
          "Art",
          "IT",
          "Everyday_life"
         ],
         "xaxis": "x",
         "y": [
          4.840154867256637,
          5.945506080277956,
          6.101918465227818,
          6.3572558323448005,
          6.550522648083624,
          6.695024875621891,
          6.713448006254887,
          6.7427864798021435,
          6.879245283018868,
          7.214514407684098,
          7.259390503189228,
          7.316183118270732,
          7.4787878787878785,
          7.927320490367776,
          7.962664403903267
         ],
         "yaxis": "y"
        },
        {
         "alignmentgroup": "True",
         "hovertemplate": "variable=landmark<br>category=%{x}<br>value=%{y}<extra></extra>",
         "legendgroup": "landmark",
         "marker": {
          "color": "#EF553B",
          "pattern": {
           "shape": ""
          }
         },
         "name": "landmark",
         "offsetgroup": "landmark",
         "orientation": "v",
         "showlegend": true,
         "textposition": "auto",
         "type": "bar",
         "x": [
          "Countries",
          "Geography",
          "Religion",
          "People",
          "Business_Studies",
          "Citizenship",
          "History",
          "Language_and_literature",
          "Mathematics",
          "Music",
          "Design_and_Technology",
          "Science",
          "Art",
          "IT",
          "Everyday_life"
         ],
         "xaxis": "x",
         "y": [
          3.5901639344262297,
          3.8509316770186337,
          3.8955223880597014,
          4.109090909090909,
          4.03030303030303,
          4.0071942446043165,
          4.0181818181818185,
          4.043956043956044,
          4.5,
          4.230769230769231,
          4.19205298013245,
          4.383495145631068,
          4.190476190476191,
          4.650406504065041,
          4.307304785894207
         ],
         "yaxis": "y"
        },
        {
         "alignmentgroup": "True",
         "hovertemplate": "variable=semantic_rank<br>category=%{x}<br>value=%{y}<extra></extra>",
         "legendgroup": "semantic_rank",
         "marker": {
          "color": "#00cc96",
          "pattern": {
           "shape": ""
          }
         },
         "name": "semantic_rank",
         "offsetgroup": "semantic_rank",
         "orientation": "v",
         "showlegend": true,
         "textposition": "auto",
         "type": "bar",
         "x": [
          "Countries",
          "Geography",
          "Religion",
          "People",
          "Business_Studies",
          "Citizenship",
          "History",
          "Language_and_literature",
          "Mathematics",
          "Music",
          "Design_and_Technology",
          "Science",
          "Art",
          "IT",
          "Everyday_life"
         ],
         "xaxis": "x",
         "y": [
          4.557377049180328,
          7.085714285714285,
          7.41044776119403,
          10.272727272727273,
          7.333333333333333,
          8.107913669064748,
          8.236363636363636,
          8.615384615384615,
          12.333333333333334,
          12.782051282051283,
          10.562913907284768,
          10.427184466019417,
          8.047619047619047,
          12.59349593495935,
          13
         ],
         "yaxis": "y"
        },
        {
         "alignmentgroup": "True",
         "hovertemplate": "variable=carlos<br>category=%{x}<br>value=%{y}<extra></extra>",
         "legendgroup": "carlos",
         "marker": {
          "color": "#ab63fa",
          "pattern": {
           "shape": ""
          }
         },
         "name": "carlos",
         "offsetgroup": "carlos",
         "orientation": "v",
         "showlegend": true,
         "textposition": "auto",
         "type": "bar",
         "x": [
          "Countries",
          "Geography",
          "Religion",
          "People",
          "Business_Studies",
          "Citizenship",
          "History",
          "Language_and_literature",
          "Mathematics",
          "Music",
          "Design_and_Technology",
          "Science",
          "Art",
          "IT",
          "Everyday_life"
         ],
         "xaxis": "x",
         "y": [
          4.721311475409836,
          7.202484472049689,
          10.223880597014926,
          11.698701298701298,
          7.53030303030303,
          9.410071942446043,
          9.232727272727272,
          9.31868131868132,
          17.857142857142858,
          11.705128205128204,
          11.76158940397351,
          14.502912621359224,
          11.619047619047619,
          16.520325203252032,
          13.874055415617129
         ],
         "yaxis": "y"
        }
       ],
       "layout": {
        "barmode": "group",
        "height": 500,
        "legend": {
         "title": {
          "text": "variable"
         },
         "tracegroupgap": 0
        },
        "margin": {
         "b": 80,
         "l": 80,
         "r": 80,
         "t": 80
        },
        "showlegend": true,
        "template": {
         "data": {
          "bar": [
           {
            "error_x": {
             "color": "#2a3f5f"
            },
            "error_y": {
             "color": "#2a3f5f"
            },
            "marker": {
             "line": {
              "color": "#E5ECF6",
              "width": 0.5
             },
             "pattern": {
              "fillmode": "overlay",
              "size": 10,
              "solidity": 0.2
             }
            },
            "type": "bar"
           }
          ],
          "barpolar": [
           {
            "marker": {
             "line": {
              "color": "#E5ECF6",
              "width": 0.5
             },
             "pattern": {
              "fillmode": "overlay",
              "size": 10,
              "solidity": 0.2
             }
            },
            "type": "barpolar"
           }
          ],
          "carpet": [
           {
            "aaxis": {
             "endlinecolor": "#2a3f5f",
             "gridcolor": "white",
             "linecolor": "white",
             "minorgridcolor": "white",
             "startlinecolor": "#2a3f5f"
            },
            "baxis": {
             "endlinecolor": "#2a3f5f",
             "gridcolor": "white",
             "linecolor": "white",
             "minorgridcolor": "white",
             "startlinecolor": "#2a3f5f"
            },
            "type": "carpet"
           }
          ],
          "choropleth": [
           {
            "colorbar": {
             "outlinewidth": 0,
             "ticks": ""
            },
            "type": "choropleth"
           }
          ],
          "contour": [
           {
            "colorbar": {
             "outlinewidth": 0,
             "ticks": ""
            },
            "colorscale": [
             [
              0,
              "#0d0887"
             ],
             [
              0.1111111111111111,
              "#46039f"
             ],
             [
              0.2222222222222222,
              "#7201a8"
             ],
             [
              0.3333333333333333,
              "#9c179e"
             ],
             [
              0.4444444444444444,
              "#bd3786"
             ],
             [
              0.5555555555555556,
              "#d8576b"
             ],
             [
              0.6666666666666666,
              "#ed7953"
             ],
             [
              0.7777777777777778,
              "#fb9f3a"
             ],
             [
              0.8888888888888888,
              "#fdca26"
             ],
             [
              1,
              "#f0f921"
             ]
            ],
            "type": "contour"
           }
          ],
          "contourcarpet": [
           {
            "colorbar": {
             "outlinewidth": 0,
             "ticks": ""
            },
            "type": "contourcarpet"
           }
          ],
          "heatmap": [
           {
            "colorbar": {
             "outlinewidth": 0,
             "ticks": ""
            },
            "colorscale": [
             [
              0,
              "#0d0887"
             ],
             [
              0.1111111111111111,
              "#46039f"
             ],
             [
              0.2222222222222222,
              "#7201a8"
             ],
             [
              0.3333333333333333,
              "#9c179e"
             ],
             [
              0.4444444444444444,
              "#bd3786"
             ],
             [
              0.5555555555555556,
              "#d8576b"
             ],
             [
              0.6666666666666666,
              "#ed7953"
             ],
             [
              0.7777777777777778,
              "#fb9f3a"
             ],
             [
              0.8888888888888888,
              "#fdca26"
             ],
             [
              1,
              "#f0f921"
             ]
            ],
            "type": "heatmap"
           }
          ],
          "heatmapgl": [
           {
            "colorbar": {
             "outlinewidth": 0,
             "ticks": ""
            },
            "colorscale": [
             [
              0,
              "#0d0887"
             ],
             [
              0.1111111111111111,
              "#46039f"
             ],
             [
              0.2222222222222222,
              "#7201a8"
             ],
             [
              0.3333333333333333,
              "#9c179e"
             ],
             [
              0.4444444444444444,
              "#bd3786"
             ],
             [
              0.5555555555555556,
              "#d8576b"
             ],
             [
              0.6666666666666666,
              "#ed7953"
             ],
             [
              0.7777777777777778,
              "#fb9f3a"
             ],
             [
              0.8888888888888888,
              "#fdca26"
             ],
             [
              1,
              "#f0f921"
             ]
            ],
            "type": "heatmapgl"
           }
          ],
          "histogram": [
           {
            "marker": {
             "pattern": {
              "fillmode": "overlay",
              "size": 10,
              "solidity": 0.2
             }
            },
            "type": "histogram"
           }
          ],
          "histogram2d": [
           {
            "colorbar": {
             "outlinewidth": 0,
             "ticks": ""
            },
            "colorscale": [
             [
              0,
              "#0d0887"
             ],
             [
              0.1111111111111111,
              "#46039f"
             ],
             [
              0.2222222222222222,
              "#7201a8"
             ],
             [
              0.3333333333333333,
              "#9c179e"
             ],
             [
              0.4444444444444444,
              "#bd3786"
             ],
             [
              0.5555555555555556,
              "#d8576b"
             ],
             [
              0.6666666666666666,
              "#ed7953"
             ],
             [
              0.7777777777777778,
              "#fb9f3a"
             ],
             [
              0.8888888888888888,
              "#fdca26"
             ],
             [
              1,
              "#f0f921"
             ]
            ],
            "type": "histogram2d"
           }
          ],
          "histogram2dcontour": [
           {
            "colorbar": {
             "outlinewidth": 0,
             "ticks": ""
            },
            "colorscale": [
             [
              0,
              "#0d0887"
             ],
             [
              0.1111111111111111,
              "#46039f"
             ],
             [
              0.2222222222222222,
              "#7201a8"
             ],
             [
              0.3333333333333333,
              "#9c179e"
             ],
             [
              0.4444444444444444,
              "#bd3786"
             ],
             [
              0.5555555555555556,
              "#d8576b"
             ],
             [
              0.6666666666666666,
              "#ed7953"
             ],
             [
              0.7777777777777778,
              "#fb9f3a"
             ],
             [
              0.8888888888888888,
              "#fdca26"
             ],
             [
              1,
              "#f0f921"
             ]
            ],
            "type": "histogram2dcontour"
           }
          ],
          "mesh3d": [
           {
            "colorbar": {
             "outlinewidth": 0,
             "ticks": ""
            },
            "type": "mesh3d"
           }
          ],
          "parcoords": [
           {
            "line": {
             "colorbar": {
              "outlinewidth": 0,
              "ticks": ""
             }
            },
            "type": "parcoords"
           }
          ],
          "pie": [
           {
            "automargin": true,
            "type": "pie"
           }
          ],
          "scatter": [
           {
            "fillpattern": {
             "fillmode": "overlay",
             "size": 10,
             "solidity": 0.2
            },
            "type": "scatter"
           }
          ],
          "scatter3d": [
           {
            "line": {
             "colorbar": {
              "outlinewidth": 0,
              "ticks": ""
             }
            },
            "marker": {
             "colorbar": {
              "outlinewidth": 0,
              "ticks": ""
             }
            },
            "type": "scatter3d"
           }
          ],
          "scattercarpet": [
           {
            "marker": {
             "colorbar": {
              "outlinewidth": 0,
              "ticks": ""
             }
            },
            "type": "scattercarpet"
           }
          ],
          "scattergeo": [
           {
            "marker": {
             "colorbar": {
              "outlinewidth": 0,
              "ticks": ""
             }
            },
            "type": "scattergeo"
           }
          ],
          "scattergl": [
           {
            "marker": {
             "colorbar": {
              "outlinewidth": 0,
              "ticks": ""
             }
            },
            "type": "scattergl"
           }
          ],
          "scattermapbox": [
           {
            "marker": {
             "colorbar": {
              "outlinewidth": 0,
              "ticks": ""
             }
            },
            "type": "scattermapbox"
           }
          ],
          "scatterpolar": [
           {
            "marker": {
             "colorbar": {
              "outlinewidth": 0,
              "ticks": ""
             }
            },
            "type": "scatterpolar"
           }
          ],
          "scatterpolargl": [
           {
            "marker": {
             "colorbar": {
              "outlinewidth": 0,
              "ticks": ""
             }
            },
            "type": "scatterpolargl"
           }
          ],
          "scatterternary": [
           {
            "marker": {
             "colorbar": {
              "outlinewidth": 0,
              "ticks": ""
             }
            },
            "type": "scatterternary"
           }
          ],
          "surface": [
           {
            "colorbar": {
             "outlinewidth": 0,
             "ticks": ""
            },
            "colorscale": [
             [
              0,
              "#0d0887"
             ],
             [
              0.1111111111111111,
              "#46039f"
             ],
             [
              0.2222222222222222,
              "#7201a8"
             ],
             [
              0.3333333333333333,
              "#9c179e"
             ],
             [
              0.4444444444444444,
              "#bd3786"
             ],
             [
              0.5555555555555556,
              "#d8576b"
             ],
             [
              0.6666666666666666,
              "#ed7953"
             ],
             [
              0.7777777777777778,
              "#fb9f3a"
             ],
             [
              0.8888888888888888,
              "#fdca26"
             ],
             [
              1,
              "#f0f921"
             ]
            ],
            "type": "surface"
           }
          ],
          "table": [
           {
            "cells": {
             "fill": {
              "color": "#EBF0F8"
             },
             "line": {
              "color": "white"
             }
            },
            "header": {
             "fill": {
              "color": "#C8D4E3"
             },
             "line": {
              "color": "white"
             }
            },
            "type": "table"
           }
          ]
         },
         "layout": {
          "annotationdefaults": {
           "arrowcolor": "#2a3f5f",
           "arrowhead": 0,
           "arrowwidth": 1
          },
          "autotypenumbers": "strict",
          "coloraxis": {
           "colorbar": {
            "outlinewidth": 0,
            "ticks": ""
           }
          },
          "colorscale": {
           "diverging": [
            [
             0,
             "#8e0152"
            ],
            [
             0.1,
             "#c51b7d"
            ],
            [
             0.2,
             "#de77ae"
            ],
            [
             0.3,
             "#f1b6da"
            ],
            [
             0.4,
             "#fde0ef"
            ],
            [
             0.5,
             "#f7f7f7"
            ],
            [
             0.6,
             "#e6f5d0"
            ],
            [
             0.7,
             "#b8e186"
            ],
            [
             0.8,
             "#7fbc41"
            ],
            [
             0.9,
             "#4d9221"
            ],
            [
             1,
             "#276419"
            ]
           ],
           "sequential": [
            [
             0,
             "#0d0887"
            ],
            [
             0.1111111111111111,
             "#46039f"
            ],
            [
             0.2222222222222222,
             "#7201a8"
            ],
            [
             0.3333333333333333,
             "#9c179e"
            ],
            [
             0.4444444444444444,
             "#bd3786"
            ],
            [
             0.5555555555555556,
             "#d8576b"
            ],
            [
             0.6666666666666666,
             "#ed7953"
            ],
            [
             0.7777777777777778,
             "#fb9f3a"
            ],
            [
             0.8888888888888888,
             "#fdca26"
            ],
            [
             1,
             "#f0f921"
            ]
           ],
           "sequentialminus": [
            [
             0,
             "#0d0887"
            ],
            [
             0.1111111111111111,
             "#46039f"
            ],
            [
             0.2222222222222222,
             "#7201a8"
            ],
            [
             0.3333333333333333,
             "#9c179e"
            ],
            [
             0.4444444444444444,
             "#bd3786"
            ],
            [
             0.5555555555555556,
             "#d8576b"
            ],
            [
             0.6666666666666666,
             "#ed7953"
            ],
            [
             0.7777777777777778,
             "#fb9f3a"
            ],
            [
             0.8888888888888888,
             "#fdca26"
            ],
            [
             1,
             "#f0f921"
            ]
           ]
          },
          "colorway": [
           "#636efa",
           "#EF553B",
           "#00cc96",
           "#ab63fa",
           "#FFA15A",
           "#19d3f3",
           "#FF6692",
           "#B6E880",
           "#FF97FF",
           "#FECB52"
          ],
          "font": {
           "color": "#2a3f5f"
          },
          "geo": {
           "bgcolor": "white",
           "lakecolor": "white",
           "landcolor": "#E5ECF6",
           "showlakes": true,
           "showland": true,
           "subunitcolor": "white"
          },
          "hoverlabel": {
           "align": "left"
          },
          "hovermode": "closest",
          "mapbox": {
           "style": "light"
          },
          "paper_bgcolor": "white",
          "plot_bgcolor": "#E5ECF6",
          "polar": {
           "angularaxis": {
            "gridcolor": "white",
            "linecolor": "white",
            "ticks": ""
           },
           "bgcolor": "#E5ECF6",
           "radialaxis": {
            "gridcolor": "white",
            "linecolor": "white",
            "ticks": ""
           }
          },
          "scene": {
           "xaxis": {
            "backgroundcolor": "#E5ECF6",
            "gridcolor": "white",
            "gridwidth": 2,
            "linecolor": "white",
            "showbackground": true,
            "ticks": "",
            "zerolinecolor": "white"
           },
           "yaxis": {
            "backgroundcolor": "#E5ECF6",
            "gridcolor": "white",
            "gridwidth": 2,
            "linecolor": "white",
            "showbackground": true,
            "ticks": "",
            "zerolinecolor": "white"
           },
           "zaxis": {
            "backgroundcolor": "#E5ECF6",
            "gridcolor": "white",
            "gridwidth": 2,
            "linecolor": "white",
            "showbackground": true,
            "ticks": "",
            "zerolinecolor": "white"
           }
          },
          "shapedefaults": {
           "line": {
            "color": "#2a3f5f"
           }
          },
          "ternary": {
           "aaxis": {
            "gridcolor": "white",
            "linecolor": "white",
            "ticks": ""
           },
           "baxis": {
            "gridcolor": "white",
            "linecolor": "white",
            "ticks": ""
           },
           "bgcolor": "#E5ECF6",
           "caxis": {
            "gridcolor": "white",
            "linecolor": "white",
            "ticks": ""
           }
          },
          "title": {
           "x": 0.05
          },
          "xaxis": {
           "automargin": true,
           "gridcolor": "white",
           "linecolor": "white",
           "ticks": "",
           "title": {
            "standoff": 15
           },
           "zerolinecolor": "white",
           "zerolinewidth": 2
          },
          "yaxis": {
           "automargin": true,
           "gridcolor": "white",
           "linecolor": "white",
           "ticks": "",
           "title": {
            "standoff": 15
           },
           "zerolinecolor": "white",
           "zerolinewidth": 2
          }
         }
        },
        "title": {
         "text": "Average Finished Path Length by Category of Machine vs Man"
        },
        "xaxis": {
         "anchor": "y",
         "domain": [
          0,
          1
         ],
         "tickangle": 45,
         "title": {
          "text": "Categories"
         }
        },
        "yaxis": {
         "anchor": "x",
         "domain": [
          0,
          1
         ],
         "title": {}
        }
       }
      }
     },
     "metadata": {},
     "output_type": "display_data"
    }
   ],
   "source": [
    "a = finished_paths.groupby('category')['length'].mean()\n",
    "b = landmark_df.groupby('category')['length'].mean()\n",
    "c = semantic_rank_df.groupby('category')['length'].mean()\n",
    "d = carlos_df.groupby('category')['length'].mean()\n",
    "\n",
    "avg_lengths_df = pd.DataFrame((a,b,c, d)).T\n",
    "avg_lengths_df.columns = ['human', 'landmark', 'semantic_rank', 'carlos']\n",
    "avg_lengths_df = avg_lengths_df.sort_values('human')\n",
    "\n",
    "plot_functions.barplot_groups(avg_lengths_df, file_name= 'avg_lengths', title='Average Finished Path Length by Category of Machine vs Man', barmode='group')"
   ]
  },
  {
   "cell_type": "markdown",
   "id": "80ce42d3",
   "metadata": {},
   "source": [
    "Can machine do some of the unfinished paths that man couldn’t?\n"
   ]
  },
  {
   "cell_type": "code",
   "execution_count": 313,
   "id": "ce42310f",
   "metadata": {},
   "outputs": [],
   "source": [
    "def merge_man_and_machine_df(human_df, machine_df) -> pd.DataFrame:\n",
    "    return pd.merge(human_df, machine_df, how = 'inner', on = ['source', 'target'])"
   ]
  },
  {
   "cell_type": "code",
   "execution_count": 285,
   "id": "6b3b18a1",
   "metadata": {},
   "outputs": [
    {
     "name": "stdout",
     "output_type": "stream",
     "text": [
      "Out of the unfinished human games that the Landmark algorithm attempted, the Landmark algorithm was able to complete 100% of the games\n",
      "Out of the unfinished human games that the Semantic Rank algorithm attempted, it was able to complete 92.70083501 % of the games.\n"
     ]
    }
   ],
   "source": [
    "merge_man_and_machine_df(unfinished_paths, landmark_df)['reached'].value_counts()\n",
    "print('Out of the unfinished human games that the Landmark algorithm attempted, the Landmark algorithm was able to complete 100% of the games')\n",
    "\n",
    "human_unfinished_vs_semantic_rank = merge_man_and_machine_df(unfinished_paths, semantic_rank_df)\n",
    "semantic_rank_percent_completed = human_unfinished_vs_semantic_rank['reached'].value_counts()[0] / human_unfinished_vs_semantic_rank.shape[0]\n",
    "print('Out of the unfinished human games that the Semantic Rank algorithm attempted, it was able to complete', np.round(semantic_rank_percent_completed,10)*100, '% of the games.')"
   ]
  },
  {
   "cell_type": "code",
   "execution_count": 315,
   "id": "c04ebb25",
   "metadata": {},
   "outputs": [
    {
     "name": "stdout",
     "output_type": "stream",
     "text": [
      "Out of the unfinished human games that the Landmark algorithm attempted, the Landmark algorithm was able to complete 100% of the games\n",
      "Out of the unfinished human games that the Semantic Rank algorithm attempted, it was able to complete 92.92582418 % of the games.\n"
     ]
    }
   ],
   "source": [
    "unfinished_paths_restart = unfinished_paths[unfinished_paths['type'] == 'restart']\n",
    "\n",
    "merge_man_and_machine_df(unfinished_paths_restart, landmark_df)['reached'].value_counts()\n",
    "print('Next, we filter based on ')\n",
    "print('Out of the unfinished human games that the Landmark algorithm attempted, the Landmark algorithm was able to complete 100% of the games')\n",
    "\n",
    "human_unfinished_restart_vs_semantic_rank = merge_man_and_machine_df(unfinished_paths_restart, semantic_rank_df)\n",
    "semantic_rank_percent_completed = human_unfinished_restart_vs_semantic_rank['reached'].value_counts()[0] / human_unfinished_restart_vs_semantic_rank.shape[0]\n",
    "print('Out of the unfinished human games that the Semantic Rank algorithm attempted, it was able to complete', np.round(semantic_rank_percent_completed, 10)*100, '% of the games.')"
   ]
  }
 ],
 "metadata": {
  "kernelspec": {
   "display_name": "Python 3",
   "language": "python",
   "name": "python3"
  },
  "language_info": {
   "codemirror_mode": {
    "name": "ipython",
    "version": 3
   },
   "file_extension": ".py",
   "mimetype": "text/x-python",
   "name": "python",
   "nbconvert_exporter": "python",
   "pygments_lexer": "ipython3",
   "version": "3.9.18"
  }
 },
 "nbformat": 4,
 "nbformat_minor": 5
}

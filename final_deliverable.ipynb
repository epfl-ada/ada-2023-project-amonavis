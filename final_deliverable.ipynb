{
 "cells": [
  {
   "cell_type": "markdown",
   "metadata": {
    "collapsed": false
   },
   "source": [
    "# Final deliverable\n",
    "This is the notebook that has the final info.\n",
    "\n",
    "There is some story information, but we did this notebook under the assumption that it's mainly to display graphs, how we got them, logic behind the code, that kind of thing. The actual story in detail will be kept in the main readme."
   ]
  },
  {
   "cell_type": "markdown",
   "metadata": {},
   "source": [
    "Table of Contents <br>\n",
    "\n",
    "0. Import Modules\n",
    "1. Data reading\n",
    "2. Descriptive data analysis\n",
    "3. Ways to enrich, filter, transform the data\n",
    "4. Plan and Ideas for Methods"
   ]
  },
  {
   "cell_type": "markdown",
   "metadata": {},
   "source": [
    "# 0. Import modules\n",
    "Feel free to use the virtual environment (amonavis) included in the GitHub folder."
   ]
  },
  {
   "cell_type": "code",
   "execution_count": 1,
   "metadata": {
    "ExecuteTime": {
     "end_time": "2023-12-20T10:11:52.862207600Z",
     "start_time": "2023-12-20T10:11:47.178546500Z"
    }
   },
   "outputs": [],
   "source": [
    "import pandas as pd\n",
    "import numpy as np\n",
    "from datetime import datetime\n",
    "import matplotlib.pyplot as plt \n",
    "import plotly.graph_objects as go\n",
    "import seaborn as sns\n",
    "import statistics\n",
    "import math\n",
    "\n",
    "# networkx\n",
    "import networkx as nx\n",
    "from networkx.drawing.nx_pydot import graphviz_layout\n",
    "\n",
    "\n",
    "# For semantic similarity\n",
    "from urllib.parse import unquote\n",
    "from transformers import BertTokenizer\n",
    "from transformers import BertModel\n",
    "from sklearn.metrics.pairwise import cosine_similarity\n",
    "\n",
    "# Python functions in .py file to read data\n",
    "import data_readers\n",
    "\n",
    "import warnings\n",
    "from tqdm import TqdmWarning\n",
    "warnings.filterwarnings('ignore', category=TqdmWarning)"
   ]
  },
  {
   "cell_type": "markdown",
   "metadata": {
    "collapsed": false
   },
   "source": [
    "# 1. Data reading\n",
    "The following code reads the data and saves them in the appropriate variables.\n",
    "<br><br>\n",
    "**Wikispeedia**\n",
    "This will hold our graph where Wikipedia articles are nodes and links/paths between them are edges.\n",
    "\n",
    "<br><br>\n",
    "**finished_paths**\n",
    "The datafile includes the hashedIpAddress, timestamp, durationInSec, path, and rating of games that were completed.\n",
    "We also add columns with the first article (soruce), last article (target), path length (#articles), and a readable date in Timestamp format.\n",
    "\n",
    "<br><br>\n",
    "**unfinished_paths**\n",
    "This datafile is similar to finished_paths, but with games that weren't completed. It has the hashedIpAddress, timestamp, durationInSec, path, target, and type of failure (either timeout or restart).\n",
    "\n",
    "<br><br>\n",
    "**articles**\n",
    "Dataframe with the name of all articles in the dataset.\n",
    "\n",
    "<br><br>\n",
    "**categories**\n",
    "This shows the higher category classification of each article. For example, Áedán mac Gabráin is part of 'subject.History.British_History.British_History_1500_and_before_including_Roman_Britain'"
   ]
  },
  {
   "cell_type": "code",
   "execution_count": 2,
   "metadata": {
    "collapsed": false,
    "ExecuteTime": {
     "end_time": "2023-12-20T10:13:26.085819600Z",
     "start_time": "2023-12-20T10:11:52.862207600Z"
    }
   },
   "outputs": [],
   "source": [
    "# The links and edges\n",
    "wikispeedia = data_readers.read_wikispeedia_graph()\n",
    "\n",
    "# The finished paths\n",
    "finished_paths = data_readers.read_finished_paths()\n",
    "\n",
    "# The unfinished paths\n",
    "unfinished_paths = data_readers.read_unfinished_paths()\n",
    "\n",
    "# DF of all articles\n",
    "articles = data_readers.read_articles()\n",
    "\n",
    "# DF of all articles and their categories\n",
    "categories = data_readers.read_categories()\n",
    "\n",
    "# We found out later that the data contained in the shortest path matrix given to us seems to be wrong\n",
    "# Here we also add a quick dictionary that properly shows that this is wrong, and give an example\n",
    "shortest_path_df = data_readers.read_shortest_path_df()\n",
    "shortest_path_dict = dict(nx.all_pairs_shortest_path(wikispeedia))\n",
    "\n",
    "# Searching for the string of a given article. It has to be formatted like the article name\n",
    "# Which shouldn't be a problem, as we'll probably usually retrieve them internally\n",
    "obi_wan_text = data_readers.plaintext_article_finder('Obi-Wan_Kenobi')"
   ]
  },
  {
   "cell_type": "markdown",
   "metadata": {
    "collapsed": false
   },
   "source": [
    "These are less nodes than the reported number, it should be 4,604 nodes.\n",
    "\n",
    "The 119,882 edges is correct though.\n",
    "\n",
    "The difference is probably due to some nodes not being connected to the rest of the graph, as here we read in only the articles that are connected. The few nodes that we are losing do not matter for what we need."
   ]
  },
  {
   "cell_type": "markdown",
   "metadata": {},
   "source": [
    "# 2. Initial Descriptive Data Analysis\n",
    "Here, we show that we understand what’s in the data (formats, distributions, missing values, correlations, etc.).\n"
   ]
  },
  {
   "cell_type": "markdown",
   "metadata": {},
   "source": [
    "In this section:\n",
    "<br>2.1. How many articles there are, how many paths \n",
    "<br>2.2. Histograms of the links from each article (for example, how many articles have 20 links, etc)\n",
    "<br>2.3. PageRank\n",
    "<br>2.4. Average distance from one article to any other article\n",
    "<br>2.5. Histogram of the number of games at each point in time\n",
    "<br>2.6. Understanding unfinished games: Categories of targets in unfinished games\n",
    "<br>2.7. Issue with the shortest path\n",
    "<br>2.8. Study of Unique paths\n",
    "<br>2.9. Study of hubs\n",
    "<br>2.10. DataFrame and spreadsheet creation "
   ]
  },
  {
   "cell_type": "markdown",
   "metadata": {},
   "source": [
    "### 2.1. How many: articles, links, finished games, unfinished games?\n"
   ]
  },
  {
   "cell_type": "code",
   "execution_count": 3,
   "metadata": {
    "ExecuteTime": {
     "end_time": "2023-12-20T10:13:26.095271200Z",
     "start_time": "2023-12-20T10:13:26.088065900Z"
    }
   },
   "outputs": [
    {
     "name": "stdout",
     "output_type": "stream",
     "text": [
      "There are 4592 articles in the dataset.\n",
      "There are 119882 links/paths.\n",
      "There are 51318 finished games.\n",
      "There are 24875 unfinished games.\n"
     ]
    }
   ],
   "source": [
    "print(\"There are\", len(wikispeedia.nodes), \"articles in the dataset.\")\n",
    "print(\"There are\", len(wikispeedia.edges), \"links/paths.\")\n",
    "print(\"There are\", finished_paths.shape[0], \"finished games.\")\n",
    "print(\"There are\", unfinished_paths.shape[0], \"unfinished games.\")"
   ]
  },
  {
   "cell_type": "markdown",
   "source": [
    "These are less nodes than the reported number, it should be 4,604 nodes.\n",
    "\n",
    "The 119,882 edges is correct though.\n",
    "\n",
    "The difference is probably due to some nodes not being connected to the rest of the graph, as here we read in only the articles that are connected. The few nodes that we are losing do not matter for what we need."
   ],
   "metadata": {
    "collapsed": false
   }
  },
  {
   "cell_type": "code",
   "execution_count": 4,
   "metadata": {
    "ExecuteTime": {
     "end_time": "2023-12-20T10:13:26.124378800Z",
     "start_time": "2023-12-20T10:13:26.098248600Z"
    }
   },
   "outputs": [],
   "source": [
    "# This is sample code for how to do the plotply plots, important for later\n",
    "\n",
    "# import plotly.graph_objects as go\n",
    "# \n",
    "# # Coordinates and sizes for the circles\n",
    "# x_values = [0, 1]\n",
    "# y_values = [1, 1]\n",
    "# circle_sizes = [50, 100]  # Sizes of the circles\n",
    "# \n",
    "# # Create a Plotly scatter plot with circles\n",
    "# fig = go.Figure()\n",
    "# \n",
    "# fig.add_trace(go.Scatter(\n",
    "#     x=x_values,\n",
    "#     y=y_values,\n",
    "#     mode='markers',\n",
    "#     marker=dict(size=circle_sizes,\n",
    "#                 sizemode='diameter',  # Use the size value directly as diameter\n",
    "#                 color=['blue', 'red'],  # Colors of the circles\n",
    "#                 opacity=0.5,  # Adjust opacity if needed\n",
    "#                 line=dict(width=2),  # Adjust circle border width\n",
    "#                 symbol='circle',  # Use 'circle' symbol\n",
    "#                 showscale=False  # Disable the color scale\n",
    "#                )\n",
    "# ))\n",
    "# \n",
    "# # Update layout to hide x and y axes\n",
    "# fig.update_layout(\n",
    "#     title='Two Circles with Different Sizes',\n",
    "#     xaxis=dict(showgrid=False, zeroline=False, visible=False),  # Hide x axis\n",
    "#     yaxis=dict(showgrid=False, zeroline=False, visible=False),  # Hide y axis\n",
    "#     showlegend=False,\n",
    "#     hovermode='closest'\n",
    "# )\n",
    "# \n",
    "# # Show the plot\n",
    "# fig.show()\n"
   ]
  },
  {
   "cell_type": "code",
   "execution_count": 5,
   "metadata": {
    "ExecuteTime": {
     "end_time": "2023-12-20T10:13:26.208048700Z",
     "start_time": "2023-12-20T10:13:26.105028300Z"
    }
   },
   "outputs": [
    {
     "name": "stdout",
     "output_type": "stream",
     "text": [
      "There are 47856 unique finshed paths in the dataset\n"
     ]
    }
   ],
   "source": [
    "unique_paths = finished_paths['path'].unique()\n",
    "print('There are', len(unique_paths), 'unique finshed paths in the dataset')"
   ]
  },
  {
   "cell_type": "markdown",
   "metadata": {},
   "source": [
    "### 2.2. Degree of a Node\n",
    "We first want to get an idea of the node degree distribution\n",
    "\n",
    "The degree of a node is the number of edges/links it has. We plot a complementary cumulative distribution function (CCDF) of degree for each article/node, using a log log scale."
   ]
  },
  {
   "cell_type": "code",
   "execution_count": 6,
   "metadata": {
    "ExecuteTime": {
     "end_time": "2023-12-20T10:13:26.825599600Z",
     "start_time": "2023-12-20T10:13:26.131081400Z"
    }
   },
   "outputs": [
    {
     "data": {
      "text/plain": "<Figure size 640x480 with 1 Axes>",
      "image/png": "[encoded data removed]"
     },
     "metadata": {},
     "output_type": "display_data"
    }
   ],
   "source": [
    "# Get the degrees of all nodes\n",
    "degrees = dict(wikispeedia.degree())\n",
    "\n",
    "# Calculate the CCDF\n",
    "degree_values = sorted(set(degrees.values()), reverse=True)\n",
    "ccdf = [sum(1 for degree in degrees.values() if degree >= d) for d in degree_values]\n",
    "\n",
    "# Plot the CCDF\n",
    "plt.plot(degree_values, ccdf, marker='o', linestyle='-', color='b')\n",
    "plt.xscale('log')  # Use log scale for better visualization\n",
    "plt.yscale('log')\n",
    "plt.xlabel('Degree')\n",
    "plt.ylabel('Complementary Cumulative Distribution Function (CCDF)')\n",
    "plt.title('CCDF of Node Degrees')\n",
    "plt.show()"
   ]
  },
  {
   "cell_type": "markdown",
   "metadata": {},
   "source": [
    "What are the \"hubs\"? Which nodes have more than 500 links?"
   ]
  },
  {
   "cell_type": "code",
   "execution_count": 7,
   "metadata": {
    "ExecuteTime": {
     "end_time": "2023-12-20T10:13:26.843728900Z",
     "start_time": "2023-12-20T10:13:26.826222100Z"
    }
   },
   "outputs": [
    {
     "name": "stdout",
     "output_type": "stream",
     "text": [
      "Nodes with > 1000 edges:  4 nodes |||| ['United_Kingdom', 'France', 'United_States', 'Europe']\n",
      "\n",
      "Nodes with 500-1000 edges:  16 nodes |||| ['Russia', 'World_War_II', 'Germany', 'Italy', 'Canada', 'English_language', 'England', 'Spain', 'India', 'China', 'Australia', 'Japan', 'London', 'Africa', 'Animal', 'Scientific_classification']\n",
      "\n",
      "Nodes with 300-500 edges:   47 nodes |||| ['Ireland', 'Scotland', '20th_century', 'Currency', 'European_Union', 'List_of_countries_by_system_of_government', 'Sweden', 'Time_zone', 'Netherlands', 'Paris', 'Atlantic_Ocean', 'Greece', 'Portugal', 'Soviet_Union', 'United_Nations', 'Mexico', 'Poland', '19th_century', 'North_America', 'Iran', 'Asia', 'Islam', 'Christianity', 'Jew', 'Earth', 'Water', 'Brazil', 'Egypt', 'Roman_Catholic_Church', 'New_York_City', 'New_Zealand', 'South_Africa', 'South_America', 'Israel', 'People%27s_Republic_of_China', 'Human', 'World_War_I', 'Argentina', 'Lebanon', 'Turkey', 'German_language', 'Latin', 'French_language', 'List_of_countries', 'Middle_Ages', 'Binomial_nomenclature', 'Chordate']\n"
     ]
    }
   ],
   "source": [
    "art_more1000 = [node for node in wikispeedia.nodes if wikispeedia.degree(node) >= 1000]\n",
    "art_500_1000 = [node for node in wikispeedia.nodes if (wikispeedia.degree(node) >= 500)&(wikispeedia.degree(node) < 1000)]\n",
    "art_300_500 = [node for node in wikispeedia.nodes if (wikispeedia.degree(node) >= 300)&(wikispeedia.degree(node) < 500)]\n",
    "\n",
    "print(\"Nodes with > 1000 edges: \", len(art_more1000), \"nodes ||||\", art_more1000)\n",
    "print('')\n",
    "print(\"Nodes with 500-1000 edges: \", len(art_500_1000), \"nodes ||||\", art_500_1000)\n",
    "print('')\n",
    "print(\"Nodes with 300-500 edges:  \", len(art_300_500), \"nodes ||||\", art_300_500)"
   ]
  },
  {
   "cell_type": "markdown",
   "metadata": {},
   "source": [
    "Observe that biggest hubs are mainly countries. The 'United Kingdom', 'France', 'United States', and 'Europe' have over 1000 links. Since there are 4592 nodes, these nodes have link to almost 1/4 of the dataset!"
   ]
  },
  {
   "cell_type": "markdown",
   "source": [
    "Another way of measuring hubs is this concept called betweenness centrality. The idea is that if we imagine paths as a message flowing, the nodes that form bottlenecks of the graph have the highest value for this. We will only print 40 of them to keep visuals manageable"
   ],
   "metadata": {
    "collapsed": false
   }
  },
  {
   "cell_type": "code",
   "execution_count": 8,
   "outputs": [
    {
     "ename": "KeyboardInterrupt",
     "evalue": "",
     "output_type": "error",
     "traceback": [
      "\u001B[1;31m---------------------------------------------------------------------------\u001B[0m",
      "\u001B[1;31mKeyboardInterrupt\u001B[0m                         Traceback (most recent call last)",
      "Cell \u001B[1;32mIn[8], line 1\u001B[0m\n\u001B[1;32m----> 1\u001B[0m pd\u001B[38;5;241m.\u001B[39mSeries(nx\u001B[38;5;241m.\u001B[39mbetweenness_centrality(wikispeedia))[:\u001B[38;5;241m40\u001B[39m]\n",
      "File \u001B[1;32m~\\anaconda3\\Lib\\site-packages\\networkx\\classes\\backends.py:148\u001B[0m, in \u001B[0;36m_dispatch.<locals>.wrapper\u001B[1;34m(*args, **kwds)\u001B[0m\n\u001B[0;32m    144\u001B[0m         \u001B[38;5;28;01melse\u001B[39;00m:\n\u001B[0;32m    145\u001B[0m             \u001B[38;5;28;01mraise\u001B[39;00m NetworkXNotImplemented(\n\u001B[0;32m    146\u001B[0m                 \u001B[38;5;124mf\u001B[39m\u001B[38;5;124m\"\u001B[39m\u001B[38;5;124m'\u001B[39m\u001B[38;5;132;01m{\u001B[39;00mname\u001B[38;5;132;01m}\u001B[39;00m\u001B[38;5;124m'\u001B[39m\u001B[38;5;124m not implemented by \u001B[39m\u001B[38;5;132;01m{\u001B[39;00mplugin_name\u001B[38;5;132;01m}\u001B[39;00m\u001B[38;5;124m\"\u001B[39m\n\u001B[0;32m    147\u001B[0m             )\n\u001B[1;32m--> 148\u001B[0m \u001B[38;5;28;01mreturn\u001B[39;00m func(\u001B[38;5;241m*\u001B[39margs, \u001B[38;5;241m*\u001B[39m\u001B[38;5;241m*\u001B[39mkwds)\n",
      "File \u001B[1;32m~\\anaconda3\\Lib\\site-packages\\networkx\\utils\\decorators.py:766\u001B[0m, in \u001B[0;36margmap.__call__.<locals>.func\u001B[1;34m(_argmap__wrapper, *args, **kwargs)\u001B[0m\n\u001B[0;32m    765\u001B[0m \u001B[38;5;28;01mdef\u001B[39;00m \u001B[38;5;21mfunc\u001B[39m(\u001B[38;5;241m*\u001B[39margs, __wrapper\u001B[38;5;241m=\u001B[39m\u001B[38;5;28;01mNone\u001B[39;00m, \u001B[38;5;241m*\u001B[39m\u001B[38;5;241m*\u001B[39mkwargs):\n\u001B[1;32m--> 766\u001B[0m     \u001B[38;5;28;01mreturn\u001B[39;00m argmap\u001B[38;5;241m.\u001B[39m_lazy_compile(__wrapper)(\u001B[38;5;241m*\u001B[39margs, \u001B[38;5;241m*\u001B[39m\u001B[38;5;241m*\u001B[39mkwargs)\n",
      "File \u001B[1;32m<class 'networkx.utils.decorators.argmap'> compilation 13:4\u001B[0m, in \u001B[0;36margmap_betweenness_centrality_10\u001B[1;34m(G, k, normalized, weight, endpoints, seed)\u001B[0m\n\u001B[0;32m      2\u001B[0m \u001B[38;5;28;01mimport\u001B[39;00m \u001B[38;5;21;01mcollections\u001B[39;00m\n\u001B[0;32m      3\u001B[0m \u001B[38;5;28;01mimport\u001B[39;00m \u001B[38;5;21;01mgzip\u001B[39;00m\n\u001B[1;32m----> 4\u001B[0m \u001B[38;5;28;01mimport\u001B[39;00m \u001B[38;5;21;01minspect\u001B[39;00m\n\u001B[0;32m      5\u001B[0m \u001B[38;5;28;01mimport\u001B[39;00m \u001B[38;5;21;01mitertools\u001B[39;00m\n\u001B[0;32m      6\u001B[0m \u001B[38;5;28;01mimport\u001B[39;00m \u001B[38;5;21;01mre\u001B[39;00m\n",
      "File \u001B[1;32m~\\anaconda3\\Lib\\site-packages\\networkx\\algorithms\\centrality\\betweenness.py:138\u001B[0m, in \u001B[0;36mbetweenness_centrality\u001B[1;34m(G, k, normalized, weight, endpoints, seed)\u001B[0m\n\u001B[0;32m    136\u001B[0m         betweenness, _ \u001B[38;5;241m=\u001B[39m _accumulate_endpoints(betweenness, S, P, sigma, s)\n\u001B[0;32m    137\u001B[0m     \u001B[38;5;28;01melse\u001B[39;00m:\n\u001B[1;32m--> 138\u001B[0m         betweenness, _ \u001B[38;5;241m=\u001B[39m _accumulate_basic(betweenness, S, P, sigma, s)\n\u001B[0;32m    139\u001B[0m \u001B[38;5;66;03m# rescaling\u001B[39;00m\n\u001B[0;32m    140\u001B[0m betweenness \u001B[38;5;241m=\u001B[39m _rescale(\n\u001B[0;32m    141\u001B[0m     betweenness,\n\u001B[0;32m    142\u001B[0m     \u001B[38;5;28mlen\u001B[39m(G),\n\u001B[1;32m   (...)\u001B[0m\n\u001B[0;32m    146\u001B[0m     endpoints\u001B[38;5;241m=\u001B[39mendpoints,\n\u001B[0;32m    147\u001B[0m )\n",
      "File \u001B[1;32m~\\anaconda3\\Lib\\site-packages\\networkx\\algorithms\\centrality\\betweenness.py:312\u001B[0m, in \u001B[0;36m_accumulate_basic\u001B[1;34m(betweenness, S, P, sigma, s)\u001B[0m\n\u001B[0;32m    311\u001B[0m \u001B[38;5;28;01mdef\u001B[39;00m \u001B[38;5;21m_accumulate_basic\u001B[39m(betweenness, S, P, sigma, s):\n\u001B[1;32m--> 312\u001B[0m     delta \u001B[38;5;241m=\u001B[39m \u001B[38;5;28mdict\u001B[39m\u001B[38;5;241m.\u001B[39mfromkeys(S, \u001B[38;5;241m0\u001B[39m)\n\u001B[0;32m    313\u001B[0m     \u001B[38;5;28;01mwhile\u001B[39;00m S:\n\u001B[0;32m    314\u001B[0m         w \u001B[38;5;241m=\u001B[39m S\u001B[38;5;241m.\u001B[39mpop()\n",
      "\u001B[1;31mKeyboardInterrupt\u001B[0m: "
     ]
    }
   ],
   "source": [
    "pd.Series(nx.betweenness_centrality(wikispeedia))[:40]"
   ],
   "metadata": {
    "collapsed": false,
    "ExecuteTime": {
     "end_time": "2023-12-20T10:15:06.466308600Z",
     "start_time": "2023-12-20T10:13:26.856740200Z"
    }
   }
  },
  {
   "cell_type": "markdown",
   "metadata": {},
   "source": [
    "How many nodes have more than 20 links? How many have only 1 link?"
   ]
  },
  {
   "cell_type": "code",
   "execution_count": null,
   "metadata": {
    "ExecuteTime": {
     "end_time": "2023-12-20T10:15:06.472009900Z",
     "start_time": "2023-12-20T10:15:06.469202900Z"
    }
   },
   "outputs": [],
   "source": [
    "# Get the percentages\n",
    "total_nodes = len(wikispeedia.nodes)\n",
    "print('Total number of nodes:', total_nodes, '\\n')\n",
    "\n",
    "# Count the number of nodes with degree 1\n",
    "nodes_degree_1 = [node for node in wikispeedia.nodes if wikispeedia.degree(node) == 1]\n",
    "print('Nodes with degree 1: ',len(nodes_degree_1), \"nodes ||||\", nodes_degree_1)\n",
    "# print percentage over total\n",
    "print('Percentage of nodes with degree 1: ', len(nodes_degree_1) / total_nodes, '\\n')\n",
    "\n",
    "percentage_degree_1 = (len(nodes_degree_1) / total_nodes)\n",
    "#print('% of nodes that have only 1 edge/link:', percentage_degree_1)\n",
    "\n",
    "# Count number of nodes with degree <= 20\n",
    "nodes_degree_20 = [node for node in wikispeedia.nodes if wikispeedia.degree(node) <= 20]\n",
    "print('Nodes with degree <=20: ',len(nodes_degree_20))\n",
    "print('Percentage of nodes with degree <=20: ', len(nodes_degree_20) / total_nodes)"
   ]
  },
  {
   "cell_type": "markdown",
   "metadata": {},
   "source": [
    "### 2.3. PageRank"
   ]
  },
  {
   "cell_type": "markdown",
   "metadata": {},
   "source": [
    "PageRank Dictionary: {key: value} -> {'article_title': pagerank}"
   ]
  },
  {
   "cell_type": "code",
   "execution_count": null,
   "metadata": {
    "ExecuteTime": {
     "start_time": "2023-12-20T10:15:06.469202900Z"
    }
   },
   "outputs": [],
   "source": [
    "dic = nx.pagerank(wikispeedia)\n",
    "print(dic)"
   ]
  },
  {
   "cell_type": "markdown",
   "metadata": {},
   "source": [
    "Assign pagerank as a node attribute of Wikispeedia graph"
   ]
  },
  {
   "cell_type": "code",
   "execution_count": null,
   "metadata": {
    "ExecuteTime": {
     "start_time": "2023-12-20T10:15:06.469202900Z"
    }
   },
   "outputs": [],
   "source": [
    "for node in [nodo for nodo in wikispeedia.nodes()]:\n",
    "    wikispeedia.nodes[node]['pagerank'] = dic[node]\n",
    "print(wikispeedia.nodes(data=True))"
   ]
  },
  {
   "cell_type": "markdown",
   "metadata": {},
   "source": [
    "Average PageRank"
   ]
  },
  {
   "cell_type": "code",
   "execution_count": null,
   "metadata": {
    "ExecuteTime": {
     "start_time": "2023-12-20T10:15:06.469202900Z"
    }
   },
   "outputs": [],
   "source": [
    "average = sum(dic.values()) / len(dic)\n",
    "print(average)"
   ]
  },
  {
   "cell_type": "code",
   "execution_count": null,
   "metadata": {
    "ExecuteTime": {
     "end_time": "2023-12-20T10:15:06.476182100Z",
     "start_time": "2023-12-20T10:15:06.473559800Z"
    }
   },
   "outputs": [],
   "source": [
    "above_average = {key: value for key, value in dic.items() if value >= average}"
   ]
  },
  {
   "cell_type": "code",
   "execution_count": null,
   "metadata": {
    "ExecuteTime": {
     "start_time": "2023-12-20T10:15:06.473559800Z"
    }
   },
   "outputs": [],
   "source": [
    "num_elements_above_avg = len(above_average)\n",
    "print(\"Number of elements above average\")\n",
    "print(num_elements_above_avg)"
   ]
  },
  {
   "cell_type": "markdown",
   "metadata": {},
   "source": [
    "Median PageRank"
   ]
  },
  {
   "cell_type": "code",
   "execution_count": null,
   "metadata": {
    "ExecuteTime": {
     "end_time": "2023-12-20T10:15:06.526201400Z",
     "start_time": "2023-12-20T10:15:06.476182100Z"
    }
   },
   "outputs": [],
   "source": [
    "values = list(dic.values())\n",
    "median = statistics.median(values)\n",
    "print(median)"
   ]
  },
  {
   "cell_type": "code",
   "execution_count": null,
   "metadata": {
    "ExecuteTime": {
     "start_time": "2023-12-20T10:15:06.476182100Z"
    }
   },
   "outputs": [],
   "source": [
    "# order dictionary to visualize articles following plot\n",
    "above_median = {key: value for key, value in dic.items() if value >= median}\n",
    "above_median_ordered = {k: v for k, v in sorted(above_median.items(), key=lambda item: item[1], reverse=True)}"
   ]
  },
  {
   "cell_type": "code",
   "execution_count": null,
   "metadata": {
    "ExecuteTime": {
     "start_time": "2023-12-20T10:15:06.476182100Z"
    }
   },
   "outputs": [],
   "source": [
    "num_elements_above_median = len(above_median)\n",
    "print('Number of elements above average median')\n",
    "print(num_elements_above_median)"
   ]
  },
  {
   "cell_type": "markdown",
   "metadata": {},
   "source": [
    "#### PageRank in descending order of the articles above the median (50% data)"
   ]
  },
  {
   "cell_type": "code",
   "execution_count": null,
   "metadata": {
    "ExecuteTime": {
     "start_time": "2023-12-20T10:15:06.482471300Z"
    }
   },
   "outputs": [],
   "source": [
    "names = list(above_median_ordered.keys())\n",
    "values = list(above_median_ordered.values())\n",
    "\n",
    "plt.figure(figsize=(30, 350))\n",
    "sns.barplot(x=values, y=names, palette='viridis')\n",
    "plt.xlabel('PageRank')\n",
    "plt.ylabel('Articles')\n",
    "plt.title('PageRank Classification of Wikispeedia Articles above the Wikispeedia median PageRank')\n",
    "# plt.show()"
   ]
  },
  {
   "cell_type": "markdown",
   "metadata": {},
   "source": [
    "@daniele"
   ]
  },
  {
   "cell_type": "code",
   "execution_count": null,
   "metadata": {
    "ExecuteTime": {
     "start_time": "2023-12-20T10:15:06.484318600Z"
    }
   },
   "outputs": [],
   "source": [
    "n = 40\n",
    "names_top_n = names[:n]\n",
    "values_top_n = values[:n]\n",
    "\n",
    "fig = go.Figure(go.Bar(\n",
    "    x=values_top_n,\n",
    "    y=names_top_n,\n",
    "    orientation='h',  # 'h' for horizontal, 'v' for vertical bars\n",
    "     # Adjust colors here\n",
    "))\n",
    "\n",
    "fig.update_layout(\n",
    "    title='PageRank of Top 40 Wikispeedia Articles',\n",
    "    xaxis_title='PageRank',\n",
    "    yaxis_title='Articles',\n",
    "    height=800,  # Adjust the height of the plot as needed\n",
    "    margin=dict(l=150),  # Adjust left margin for longer y-axis labels\n",
    ")\n",
    "fig.show()"
   ]
  },
  {
   "cell_type": "markdown",
   "metadata": {},
   "source": [
    "### 2.4. Average Distance between Articles\n",
    "On average, how many links/edges does it take to connect any random two articles?"
   ]
  },
  {
   "cell_type": "code",
   "execution_count": null,
   "metadata": {
    "ExecuteTime": {
     "start_time": "2023-12-20T10:15:06.486002100Z"
    }
   },
   "outputs": [],
   "source": [
    "# Our graph is not strongly connected, meaning it's not possible to reach every node from every other node\n",
    "# So we can't use the built in function nx.average_shortest_path_length\n",
    "\n",
    "# This takes a long time to run (30 sec)\n",
    "shortest_paths = list(nx.all_pairs_shortest_path_length(wikispeedia))\n",
    "reachable_pairs = [(source, target, length) for source, paths in shortest_paths for target, length in paths.items() if length != float('inf')]\n",
    "total_distances = sum(length for _, _, length in reachable_pairs)\n",
    "average_distance = total_distances / len(reachable_pairs) if reachable_pairs else 0\n",
    "print(f\"Average distance between reachable nodes: {average_distance:.2f}\")\n"
   ]
  },
  {
   "cell_type": "markdown",
   "metadata": {},
   "source": [
    "### 2.5. Games per Time\n",
    "Histogram of the number of games at each point in time.\n"
   ]
  },
  {
   "cell_type": "code",
   "execution_count": null,
   "metadata": {
    "ExecuteTime": {
     "start_time": "2023-12-20T10:15:06.486002100Z"
    }
   },
   "outputs": [],
   "source": [
    "# Convert timestamps to datetime objects\n",
    "timestamps = finished_paths['timestamp']\n",
    "date_times = [datetime.utcfromtimestamp(ts) for ts in timestamps]\n",
    "\n",
    "# Create a histogram of timestamps\n",
    "plt.hist(date_times, bins=20, color='skyblue')\n",
    "plt.xlabel('Time')\n",
    "plt.ylabel('Frequency')\n",
    "plt.title('Distribution of Timestamps')\n",
    "plt.xticks(rotation=45)  # Rotate x-axis labels for better readability\n",
    "plt.show()"
   ]
  },
  {
   "cell_type": "markdown",
   "metadata": {},
   "source": [
    "A lot of games were played in Q3 2009! "
   ]
  },
  {
   "cell_type": "code",
   "execution_count": null,
   "metadata": {
    "ExecuteTime": {
     "start_time": "2023-12-20T10:15:06.486002100Z"
    }
   },
   "outputs": [],
   "source": [
    "q3_2009_times = [dt for dt in date_times if dt.year == 2009 and dt.month in [7, 8, 9]]\n",
    "percent_q3_2009_times = len(q3_2009_times) / len(date_times)\n",
    "print(f\"Percent of finished games completed in Q3 2009: {percent_q3_2009_times:.2f}\")\n"
   ]
  },
  {
   "cell_type": "markdown",
   "metadata": {},
   "source": [
    "### 2.6. Which categories of games are more likely to be unfinished? "
   ]
  },
  {
   "cell_type": "code",
   "execution_count": null,
   "metadata": {
    "ExecuteTime": {
     "start_time": "2023-12-20T10:15:06.486002100Z"
    }
   },
   "outputs": [],
   "source": [
    "print('There are', categories['article'].duplicated().sum(), 'articles with more than 1 category.')\n",
    "\n",
    "print('Should we drop the duplicate categories, or doublecount them?')\n",
    "print('This corresponds to', categories['article'].duplicated().sum() / len(wikispeedia.nodes), 'of the articles.')\n",
    "\n",
    "# Let's drop them for now.\n",
    "categories['article'] = categories['article'].drop_duplicates()\n",
    "print('The new shape is: ',categories.shape)\n",
    "\n",
    "# Why are there more articles here than nodes (# articles)?"
   ]
  },
  {
   "cell_type": "code",
   "execution_count": null,
   "metadata": {
    "ExecuteTime": {
     "start_time": "2023-12-20T10:15:06.493434800Z"
    }
   },
   "outputs": [],
   "source": [
    "# Let's use string manipulation to extract the highest level category for each article.\n",
    "\n",
    "sub_categories = categories['categories'].str[8:].str.split('.')\n",
    "category_depth_1 = sub_categories.apply(lambda x: x[0])\n",
    "categories['depth_1'] = category_depth_1\n",
    "categories.head()"
   ]
  },
  {
   "cell_type": "markdown",
   "metadata": {},
   "source": [
    "Let's find the category corresponding to each unfinished target."
   ]
  },
  {
   "cell_type": "code",
   "execution_count": null,
   "metadata": {
    "ExecuteTime": {
     "start_time": "2023-12-20T10:15:06.493434800Z"
    }
   },
   "outputs": [],
   "source": [
    "# Merging categories with unfinished paths.\n",
    "unfinished_paths_with_categories = pd.merge(unfinished_paths, categories, left_on = 'target', right_on= 'article', how = 'left')\n",
    "\n",
    "# Count the occurrences of each category\n",
    "category_counts = unfinished_paths_with_categories['depth_1'].value_counts()\n",
    "\n",
    "# Plotting the bar chart\n",
    "plt.bar(category_counts.index, category_counts.values)\n",
    "\n",
    "# Adding labels and title\n",
    "plt.xlabel('Depth 1 Categories')\n",
    "plt.ylabel('Frequency')\n",
    "plt.title('Frequency of Categories of Target Articles in Unfinished Paths')\n",
    "\n",
    "plt.xticks(rotation=90)  # Rotate x-axis labels for better readability\n",
    "plt.tight_layout()  # Ensure labels fit within the plot area"
   ]
  },
  {
   "cell_type": "markdown",
   "metadata": {},
   "source": [
    "Notice that targets in the science category make up the largest proportion of unfinished games. In Deliverable 3, we will investigate this more. We'll discover if this is because most of the articles are from the science category, or if science articles are actually harder to find in the game."
   ]
  },
  {
   "cell_type": "markdown",
   "metadata": {
    "collapsed": false
   },
   "source": [
    "### 2.7 Issue with the shortest path\n",
    "The shortest paths that were calculated are wrong. This is just a simple example to show that at least one of the points is wrong. We assume this is common enough elsewhere, as the effort needed to properly prove this is too large.\n",
    "\n",
    "We double-checked the method for reading in the data, and there are no big changes to be done there. We also double-checked that the graph is a directed graph, which matters for this search. Additionally, we manually checked the edges, so we know that the following example is correct."
   ]
  },
  {
   "cell_type": "code",
   "execution_count": null,
   "metadata": {
    "collapsed": false,
    "ExecuteTime": {
     "start_time": "2023-12-20T10:15:06.493434800Z"
    }
   },
   "outputs": [],
   "source": [
    "# We have to put the strings into tuples to make this work. It's ugly, but this works\n",
    "print(\"Shortest path from Actor to Japan in the given matrix is:\", shortest_path_df[('Actor',)][('Japan',)])\n",
    "\n",
    "print(\"Shortest path from Actor to Japan according to networkX is:\", len(shortest_path_dict['Actor']['Japan'])-1)\n",
    "\n",
    "print(\"The actual path is:\", shortest_path_dict['Actor']['Japan'])"
   ]
  },
  {
   "cell_type": "code",
   "execution_count": null,
   "metadata": {
    "ExecuteTime": {
     "start_time": "2023-12-20T10:15:06.498886300Z"
    }
   },
   "outputs": [],
   "source": [
    "# No need to print the entire text, just show that reading it in works\n",
    "obi_wan_text[:100]"
   ]
  },
  {
   "cell_type": "markdown",
   "metadata": {},
   "source": [
    "### 2.8. Study of Unique Paths\n",
    "Here we study the unique source and target pairs. We will use the dataframes to compare the performance between humans and machines, as well as to know what paths to make machines complete.\n",
    "\n",
    "**article_combinations**\n",
    "\n",
    "This dataframe contains information on all the combination of source and target articles in the finished games (paths). It includes how many times it has been played, and the mean and std of the path length, duration of the game, and rating.\n",
    "\n",
    "**unique_targets** and **unique_sources**\n",
    "\n",
    "These dataframes include all the sources and targets that appears in the finished games\n",
    "\n",
    "<br><br>\n",
    "Note that we don't change to ASCII the name of the articles yet. We will do it at a later step if we need to.\n",
    "<br><br>"
   ]
  },
  {
   "cell_type": "code",
   "execution_count": null,
   "metadata": {
    "ExecuteTime": {
     "start_time": "2023-12-20T10:15:06.499985500Z"
    }
   },
   "outputs": [],
   "source": [
    "# How many each pair of articles has been visited\n",
    "article_combinations_count = finished_paths.groupby(['first_article', 'last_article']).size().reset_index(name='count')\n",
    "\n",
    "# The mean and std of the path length for each pair of articles\n",
    "article_combinations_stats = finished_paths.groupby(['first_article', 'last_article'])['path_length'].agg(['mean', 'std']).reset_index()\n",
    "article_combinations_stats['std'] = article_combinations_stats['std'].fillna(0)\n",
    "article_combinations_stats.rename(columns={'mean': 'mean_length', 'std': 'std_length'}, inplace=True)\n",
    "\n",
    "# The mean and std of the rating for each pair of articles. \n",
    "    # Note that mean and std may be nan if there are nan ratings. We purposely leave them as nan, as we don't want to fill them with 0s or 1s.\n",
    "    # Depending on the application, we could change this in the future if neeeded.\n",
    "rating_combinations_stats_rating = finished_paths.groupby(['first_article', 'last_article'])['rating'].agg(['mean', 'std']).reset_index()\n",
    "#rating_combinations_stats_rating['std'] = rating_combinations_stats_rating['std'].fillna(0)\n",
    "mask = rating_combinations_stats_rating['mean'].notnull()\n",
    "rating_combinations_stats_rating.loc[mask, 'std'] = rating_combinations_stats_rating.loc[mask, 'std'].fillna(0)\n",
    "rating_combinations_stats_rating.rename(columns={'mean': 'mean_rating', 'std': 'std_rating'}, inplace=True)\n",
    "\n",
    "# The mean and std of the time for each pair of articles.\n",
    "rating_combinations_stats_time = finished_paths.groupby(['first_article', 'last_article'])['durationInSec'].agg(['mean', 'std']).reset_index()\n",
    "rating_combinations_stats_time['std'] = rating_combinations_stats_time['std'].fillna(0)\n",
    "rating_combinations_stats_time.rename(columns={'mean': 'mean_durationInSec', 'std': 'std_durationInSec'}, inplace=True)\n",
    "\n",
    "# Merging all the dataframes\n",
    "article_combinations = pd.merge(article_combinations_count, article_combinations_stats, on=['first_article', 'last_article'])\n",
    "article_combinations = pd.merge(article_combinations, rating_combinations_stats_rating, on=['first_article', 'last_article'])\n",
    "article_combinations = pd.merge(article_combinations, rating_combinations_stats_time, on=['first_article', 'last_article'])\n",
    "\n",
    "# The number of unique sources and targets\n",
    "unique_sources = finished_paths['first_article'].value_counts().reset_index()\n",
    "unique_targets = finished_paths['last_article'].value_counts().reset_index()"
   ]
  },
  {
   "cell_type": "code",
   "execution_count": null,
   "metadata": {
    "ExecuteTime": {
     "start_time": "2023-12-20T10:15:06.499985500Z"
    }
   },
   "outputs": [],
   "source": [
    "article_combinations.sample(5)"
   ]
  },
  {
   "cell_type": "code",
   "execution_count": null,
   "metadata": {
    "ExecuteTime": {
     "start_time": "2023-12-20T10:15:06.499985500Z"
    }
   },
   "outputs": [],
   "source": []
  },
  {
   "cell_type": "code",
   "execution_count": null,
   "metadata": {
    "ExecuteTime": {
     "start_time": "2023-12-20T10:15:06.507538Z"
    }
   },
   "outputs": [],
   "source": [
    "unique_sources.sample(5)"
   ]
  },
  {
   "cell_type": "code",
   "execution_count": null,
   "metadata": {
    "ExecuteTime": {
     "start_time": "2023-12-20T10:15:06.508042300Z"
    }
   },
   "outputs": [],
   "source": [
    "unique_targets.sample(5)"
   ]
  },
  {
   "cell_type": "markdown",
   "metadata": {
    "collapsed": false
   },
   "source": [
    "### 2.9. Study of hubs\n",
    "In the original paper, the authors make a point that hubs are used too commonly by users, and that this might not often be the case for the shortest path.\n",
    "\n",
    "We want to double check if that holds or not, by checking the number of times a node is used in the paths given in the dataset, versus the number of times they appear in the actual shortest paths.\n",
    "\n",
    "The only important caveat for this is that the networkX only returns one of the shortest paths, and there might be multiple. It is possible that the different alternate paths give a different result, but for now this is good enough."
   ]
  },
  {
   "cell_type": "code",
   "execution_count": null,
   "metadata": {
    "collapsed": false,
    "ExecuteTime": {
     "start_time": "2023-12-20T10:15:06.508042300Z"
    }
   },
   "outputs": [],
   "source": [
    "paths_finished = pd.read_csv('datasets/wikispeedia_paths-and-graph/paths_finished.tsv', sep='\\t', skiprows=15,\n",
    "                             names=['hashedIpAddress', 'timestamp', \"durationInSec\", 'path', \"rating\"])\n",
    "\n",
    "# This is just splitting all the values in paths, and doing a value count for each one of those!\n",
    "paths_per_step = paths_finished['path'].apply(lambda x: x.split(';')[1:-1])\n",
    "node_appearance_counts = paths_per_step.explode().value_counts()\n",
    "node_appearance_counts = node_appearance_counts.rename_axis('Node_Name').reset_index()\n",
    "\n",
    "# For this, we add the information of the degree of each node, because it's interesting!\n",
    "degree_dict = dict(wikispeedia.degree())\n",
    "node_appearance_counts['Degree'] = node_appearance_counts['Node_Name'].map(degree_dict)\n",
    "\n",
    "node_appearance_counts.plot.scatter('count', 'Degree')\n",
    "plt.title('Appearances in paths versus degree')"
   ]
  },
  {
   "cell_type": "code",
   "execution_count": null,
   "metadata": {
    "collapsed": false,
    "ExecuteTime": {
     "start_time": "2023-12-20T10:15:06.508042300Z"
    }
   },
   "outputs": [],
   "source": [
    "import statsmodels.formula.api as smf\n",
    "\n",
    "mod = smf.ols(formula='count ~ Degree', data=node_appearance_counts)\n",
    "\n",
    "res = mod.fit()\n",
    "print(res.summary())"
   ]
  },
  {
   "cell_type": "markdown",
   "metadata": {
    "collapsed": false
   },
   "source": [
    "Based on the regression analysis, there is a correlation between how often a node is used in the paths and the degree. So this idea of players using a hub is definitely common for the human dataset.\n",
    "\n",
    "We can also see that there is a high R squared, considering there is only one variable. So the degree does help explain how often it will appear in the paths.\n",
    "\n",
    "Now, does this actually hold for the shortest paths?"
   ]
  },
  {
   "cell_type": "code",
   "execution_count": null,
   "metadata": {
    "collapsed": false,
    "ExecuteTime": {
     "start_time": "2023-12-20T10:15:06.513841100Z"
    }
   },
   "outputs": [],
   "source": [
    "shortest_path_dict = dict(nx.all_pairs_shortest_path(wikispeedia))\n",
    "\n",
    "# So, we also remove the first and last element in here\n",
    "shortest_path_df = pd.DataFrame(shortest_path_dict)\n",
    "shortest_path_df = pd.melt(shortest_path_df)\n",
    "# This column is not useful\n",
    "shortest_path_df = shortest_path_df.drop(['variable'], axis=1)\n",
    "shortest_path_df = shortest_path_df['value'].dropna()\n",
    "# This is to remove source and target, to keep the comparison similar\n",
    "shortest_path_df = shortest_path_df.apply(lambda x: x[1:-1])\n",
    "# This is to only keep lists that actually have at least one element\n",
    "shortest_path_df = shortest_path_df[shortest_path_df.map(lambda x: len(x)>0)]\n",
    "\n",
    "shortest_app_counts = shortest_path_df.explode().value_counts()\n",
    "shortest_app_counts = shortest_app_counts.rename_axis('Node_Name').reset_index()\n",
    "shortest_app_counts['Degree'] = shortest_app_counts['Node_Name'].map(degree_dict)\n",
    "\n",
    "shortest_app_counts.plot.scatter('count', 'Degree')\n",
    "plt.title('Appearances in paths versus degree shortest paths')"
   ]
  },
  {
   "cell_type": "code",
   "execution_count": null,
   "metadata": {
    "collapsed": false,
    "ExecuteTime": {
     "start_time": "2023-12-20T10:15:06.516532500Z"
    }
   },
   "outputs": [],
   "source": [
    "mod = smf.ols(formula='count ~ Degree', data=shortest_app_counts)\n",
    "\n",
    "res = mod.fit()\n",
    "print(res.summary())"
   ]
  },
  {
   "cell_type": "markdown",
   "metadata": {
    "collapsed": false
   },
   "source": [
    "While the R squared is lower, it is still quite high in this case. Most importantly, it also shows that there is a correlation between the degree and the number of times it appears in a shortest path!\n",
    "\n",
    "So this implies that hubs are actually very helpful for finding out the path between two nodes, and are commonly used.\n",
    "\n",
    "This is something that can be used in our AI, and maybe further in other analysis."
   ]
  },
  {
   "cell_type": "markdown",
   "metadata": {},
   "source": [
    "### 2.10. DataFrame and spreadsheet creation "
   ]
  },
  {
   "cell_type": "markdown",
   "metadata": {},
   "source": [
    "For future analysis, we may need to filter articles according to some metrics that we may have now or may create in the future. In order to speed up data handling and analysis, we will create the df and store it in a spreadsheet."
   ]
  },
  {
   "cell_type": "code",
   "execution_count": null,
   "metadata": {
    "ExecuteTime": {
     "start_time": "2023-12-20T10:15:06.518764100Z"
    }
   },
   "outputs": [],
   "source": [
    "data = {}\n",
    "# establish article name as index\n",
    "articles_index = list(wikispeedia.nodes())\n",
    "df = pd.DataFrame(data, index=articles_index)\n",
    "# add main column\n",
    "df['articles'] = articles_index\n",
    "df['Degree'] = degrees.values()\n",
    "df['PageRank'] = dic.values()\n",
    "pd.set_option('display.precision', 15) # add precision to the df\n",
    "df"
   ]
  },
  {
   "cell_type": "markdown",
   "metadata": {},
   "source": [
    "Convert it into a excel"
   ]
  },
  {
   "cell_type": "code",
   "execution_count": null,
   "metadata": {
    "ExecuteTime": {
     "start_time": "2023-12-20T10:15:06.518764100Z"
    }
   },
   "outputs": [],
   "source": [
    "# df.to_excel('wikispeedia.xlsx', index=False)"
   ]
  },
  {
   "cell_type": "markdown",
   "metadata": {},
   "source": [
    "# 3. Ways to enrich, filter, transform the data"
   ]
  },
  {
   "cell_type": "markdown",
   "metadata": {},
   "source": [
    "## 3.1 Semantic Similarity\n",
    "\n",
    "An important part of the project is to study how humans and machines move from article to article. Semantic similarity compares two strings based on a trained model and assigns a value according to how are they correlated (the higher, the more related). For example, 'king' and 'queen' will have a higher semantic similarity than say, 'king' and 'chemistry' (will prove this here)."
   ]
  },
  {
   "cell_type": "markdown",
   "metadata": {},
   "source": [
    "### Remove the underscore and decode the url\n",
    "\n",
    "First we define a function that corrects the strings to have a readable format. For example, '%C3%89douard_Manet' is transformed to 'Édouard Manet'.\n",
    "\n",
    "We will create a function to decode a word, and we will be able to use it in series and dataframes using apply()."
   ]
  },
  {
   "cell_type": "code",
   "execution_count": null,
   "metadata": {
    "ExecuteTime": {
     "start_time": "2023-12-20T10:15:06.518764100Z"
    }
   },
   "outputs": [],
   "source": [
    "def decode_word(word):\n",
    "    word = word.replace('_', ' ')\n",
    "    return unquote(word)"
   ]
  },
  {
   "cell_type": "code",
   "execution_count": null,
   "metadata": {
    "ExecuteTime": {
     "start_time": "2023-12-20T10:15:06.523225200Z"
    }
   },
   "outputs": [],
   "source": [
    "articles['articles'].head(5)"
   ]
  },
  {
   "cell_type": "code",
   "execution_count": null,
   "metadata": {
    "ExecuteTime": {
     "start_time": "2023-12-20T10:15:06.525696900Z"
    }
   },
   "outputs": [],
   "source": [
    "articles['articles'].apply(decode_word).head(5)"
   ]
  },
  {
   "cell_type": "markdown",
   "metadata": {},
   "source": [
    "### Semantic Distance Model\n",
    "We create a function that returns the semantic similarity between two words you provide."
   ]
  },
  {
   "cell_type": "code",
   "execution_count": null,
   "metadata": {
    "ExecuteTime": {
     "end_time": "2023-12-20T10:15:06.676538500Z",
     "start_time": "2023-12-20T10:15:06.527214Z"
    }
   },
   "outputs": [],
   "source": [
    "from sentence_transformers import SentenceTransformer\n",
    "import torch\n",
    "\n",
    "# Load a sentence transformer model\n",
    "model = SentenceTransformer('all-MiniLM-L6-v2')"
   ]
  },
  {
   "cell_type": "code",
   "execution_count": null,
   "metadata": {
    "ExecuteTime": {
     "start_time": "2023-12-20T10:15:06.529219800Z"
    }
   },
   "outputs": [],
   "source": [
    "# Function to get embeddings using sentence transformer\n",
    "def get_embedding(text):\n",
    "    return model.encode(text, convert_to_tensor=True)\n",
    "\n",
    "# Function to perform L2 normalization on the embeddings\n",
    "def l2_normalize(tensor):\n",
    "    return tensor / tensor.norm(p=2, dim=0, keepdim=True)\n",
    "\n",
    "# Function to calculate semantic similarity between two pieces of text\n",
    "def semantic_similarity(word1, word2):\n",
    "    embedding1 = get_embedding(word1)\n",
    "    embedding2 = get_embedding(word2)\n",
    "\n",
    "    # L2 normalization of the embeddings (to make sure, although embedding should already be normalized)\n",
    "    embedding1_normalized = l2_normalize(embedding1)\n",
    "    embedding2_normalized = l2_normalize(embedding2)\n",
    "\n",
    "    # Compute and return the similarity of normalized tensors\n",
    "    return torch.dot(embedding1_normalized, embedding2_normalized).item()\n"
   ]
  },
  {
   "cell_type": "code",
   "execution_count": null,
   "metadata": {
    "ExecuteTime": {
     "start_time": "2023-12-20T10:15:06.529219800Z"
    }
   },
   "outputs": [],
   "source": [
    "semantic_similarity('king', 'queen')"
   ]
  },
  {
   "cell_type": "markdown",
   "metadata": {},
   "source": [
    "### Semantic Distance Matrix\n",
    "Provided a series, it creates a df where indices and column names are the strings of the series, and fills the matrix with the semantic similarity between all words in the provided series."
   ]
  },
  {
   "cell_type": "code",
   "execution_count": null,
   "metadata": {
    "ExecuteTime": {
     "start_time": "2023-12-20T10:15:06.531727600Z"
    }
   },
   "outputs": [],
   "source": [
    "def semantic_similarity_matrix(titles):\n",
    "    df = pd.DataFrame(index=titles, columns=titles)\n",
    "    for i in range(len(titles)):\n",
    "        df.iloc[i, i] = 1\n",
    "        for j in range(i+1, len(titles)):\n",
    "            df.iloc[i, j] = semantic_similarity(titles[i], titles[j])\n",
    "            df.iloc[j, i] = df.iloc[i, j]\n",
    "    return df"
   ]
  },
  {
   "cell_type": "code",
   "execution_count": null,
   "metadata": {
    "ExecuteTime": {
     "start_time": "2023-12-20T10:15:06.533318800Z"
    }
   },
   "outputs": [],
   "source": [
    "semantic_similarity_matrix(pd.Series(['king', 'queen', 'chemistry', 'biology']))"
   ]
  },
  {
   "cell_type": "code",
   "execution_count": null,
   "metadata": {
    "ExecuteTime": {
     "start_time": "2023-12-20T10:15:06.533318800Z"
    }
   },
   "outputs": [],
   "source": [
    "articles_decoded = articles['articles'].apply(decode_word)"
   ]
  },
  {
   "cell_type": "code",
   "execution_count": null,
   "metadata": {
    "ExecuteTime": {
     "start_time": "2023-12-20T10:15:06.533318800Z"
    }
   },
   "outputs": [],
   "source": [
    "def random_sample_articles(n):\n",
    "    return articles_decoded.sample(n).reset_index(drop=True)\n",
    "\n",
    "semantic_similarity_matrix(random_sample_articles(10))"
   ]
  },
  {
   "cell_type": "markdown",
   "metadata": {},
   "source": [
    "### PageRank"
   ]
  },
  {
   "cell_type": "markdown",
   "metadata": {},
   "source": [
    "Let's create a graph visualization with node size according to the pagerank. "
   ]
  },
  {
   "cell_type": "code",
   "execution_count": null,
   "metadata": {
    "ExecuteTime": {
     "start_time": "2023-12-20T10:15:06.533318800Z"
    }
   },
   "outputs": [],
   "source": [
    "nodos_greater_than_average = [n for n, data in wikispeedia.nodes(data=True) if 'pagerank' in data and data['pagerank'] > average]\n",
    "# let's sort the nodes so that we can visualize the N elements greater than average\n",
    "N = 60 # to avoid extra computing time try not to establish N higher than 80\n",
    "# In this case, we chose N = 60 because \n",
    "nodes_ordered_per_pagerank = sorted(nodos_greater_than_average, key=lambda n: wikispeedia.nodes[n]['pagerank'], reverse=True)[:N]\n",
    "# select this nodes from the original Wikispeedia graph \n",
    "wavg = wikispeedia.subgraph(nodes_ordered_per_pagerank).copy()\n",
    "print(wavg)"
   ]
  },
  {
   "cell_type": "code",
   "execution_count": null,
   "metadata": {
    "ExecuteTime": {
     "start_time": "2023-12-20T10:15:06.533318800Z"
    }
   },
   "outputs": [],
   "source": [
    "def hierarchical_layout(net):\n",
    "\treturn graphviz_layout(net, prog=\"dot\")\n",
    "\n",
    "node_labels = {node: node for node in wavg.nodes()}\n",
    "\n",
    "pos = hierarchical_layout(wavg)\n",
    "plt.figure(figsize=(50,50))\n",
    "nx.draw(wavg,pos, node_size=[(wavg.nodes[n]['pagerank'] * 10500000) for n in wavg], node_color='skyblue', font_weight='bold', with_labels=True, labels=node_labels, font_color='purple', font_size=35, linewidths=8)\n",
    "plt.title('Above average Pagerank Nodes', fontsize=100)\n",
    "plt.show()"
   ]
  },
  {
   "cell_type": "markdown",
   "metadata": {},
   "source": [
    "### Let's draw the nodes with higher degree!"
   ]
  },
  {
   "cell_type": "code",
   "execution_count": null,
   "metadata": {
    "ExecuteTime": {
     "start_time": "2023-12-20T10:15:06.533318800Z"
    }
   },
   "outputs": [],
   "source": [
    "print(degrees)\n",
    "higher_degree = 300 # nodes that have at least 300 degree"
   ]
  },
  {
   "cell_type": "markdown",
   "metadata": {},
   "source": [
    "Assign degree as node attribute of the wikispeedia graph"
   ]
  },
  {
   "cell_type": "code",
   "execution_count": null,
   "metadata": {
    "ExecuteTime": {
     "start_time": "2023-12-20T10:15:06.533318800Z"
    }
   },
   "outputs": [],
   "source": [
    "for node in [nodo for nodo in wikispeedia.nodes()]:\n",
    "    wikispeedia.nodes[node]['degree'] = degrees[node]\n",
    "print(wikispeedia.nodes(data=True))"
   ]
  },
  {
   "cell_type": "code",
   "execution_count": null,
   "metadata": {
    "ExecuteTime": {
     "start_time": "2023-12-20T10:15:06.533318800Z"
    }
   },
   "outputs": [],
   "source": [
    "nodes_higher_degree = [n for n, data in wikispeedia.nodes(data=True) if 'degree' in data and data['degree'] >= higher_degree]\n",
    "print(len(nodes_higher_degree))\n",
    "# there is only 67 nodes with higher degree than 300, let's draw the first 60 to be in accordance with the other drawing and allow comparison"
   ]
  },
  {
   "cell_type": "code",
   "execution_count": null,
   "metadata": {
    "ExecuteTime": {
     "start_time": "2023-12-20T10:15:06.533318800Z"
    }
   },
   "outputs": [],
   "source": [
    "# let's sort the nodes so that we can visualize the N elements greater than average\n",
    "N = 60 \n",
    "nodes_ordered_per_pagerank = sorted(nodes_higher_degree, key=lambda n: wikispeedia.nodes[n]['degree'], reverse=True)[:N]\n",
    "# select this nodes from the original Wikispeedia graph \n",
    "wdegree = wikispeedia.subgraph(nodes_ordered_per_pagerank).copy()\n",
    "print(wdegree)"
   ]
  },
  {
   "cell_type": "code",
   "execution_count": null,
   "metadata": {
    "ExecuteTime": {
     "start_time": "2023-12-20T10:15:06.533318800Z"
    }
   },
   "outputs": [],
   "source": [
    "def hierarchical_layout(net):\n",
    "\treturn graphviz_layout(net, prog=\"dot\")\n",
    "\n",
    "node_labels = {node: node for node in wdegree.nodes()}\n",
    "\n",
    "pos = hierarchical_layout(wdegree)\n",
    "plt.figure(figsize=(50,50))\n",
    "nx.draw(wdegree,pos, node_size=[(wdegree.nodes[n]['degree'] *80) for n in wdegree], node_color='orange', font_weight='bold', with_labels=True, labels=node_labels, font_color='purple', font_size=35, linewidths=10)\n",
    "plt.title('Higher Degree Nodes', fontsize=100)\n",
    "plt.show()"
   ]
  },
  {
   "cell_type": "markdown",
   "metadata": {},
   "source": [
    "# 4. Plan and Ideas for Methods\n"
   ]
  },
  {
   "cell_type": "markdown",
   "metadata": {
    "collapsed": false
   },
   "source": [
    "## 4.1 Basic AI using A* Algorigm\n",
    "\n",
    "Most of the model requires for there to be an AI model we can compare it against.\n",
    "\n",
    "We were indicated by the TA to not focus on this too much, as this is a data analysis course, not an ML course. Because of this, we took the implementation of A\\* that was included in networkX and created two modified versions that now do the following:\n",
    "- First version returns all of the explored nodes, not just the shortest path found\n",
    "- Second version is forced to do a depth first search without being able to return\n",
    "\n",
    "For our purposes, the explored nodes is the most interesting metric, as it describes what were the links \"clicked\".\n",
    "\n",
    "We found a paper that implements a more complicated version, and we might be able to do something with graph neural networks, but for now this is good enough.\n",
    "\n",
    "We additionally do a bit of work to show how the system works timewise, as well as how the comparison will work in the future.\n",
    "\n",
    "The time comparison is not super useful though, as that will depend on hardware too much to be worth using easily."
   ]
  },
  {
   "cell_type": "code",
   "execution_count": null,
   "metadata": {
    "collapsed": false,
    "ExecuteTime": {
     "start_time": "2023-12-20T10:15:06.533318800Z"
    }
   },
   "outputs": [],
   "source": [
    "import machine_searchers\n",
    "import time\n",
    "\n",
    "def modded_get_embedding(text: str):\n",
    "    temp_str = text.replace('_', ' ')\n",
    "    temp_str = unquote(temp_str)\n",
    "    inputs = tokenizer(temp_str, return_tensors=\"pt\")\n",
    "    outputs = model(**inputs)\n",
    "    return outputs.last_hidden_state.mean(dim=1)\n",
    "\n",
    "def distance_two_words(w1: str, w2: str):\n",
    "    \"\"\"Receives a string that was in the wikispeedia dataset, and transforms it as needed to work\n",
    "    with the berd embeddings.\"\"\"\n",
    "\n",
    "    embedding1 = modded_get_embedding(w1)\n",
    "    embedding2 = modded_get_embedding(w2)\n",
    "    similarity = cosine_similarity(embedding1.detach().numpy(), embedding2.detach().numpy())[0][0]\n",
    "    # Adding absolute, just in case it is needed\n",
    "    # Similarity is actually 1 - abs(similarity) + 1,\n",
    "    # As we want closer words to have a smaller distance\n",
    "    # The last plus one is to indicate that there would be an extra cost to exploring, as if not the system often\n",
    "    # thinks that there are nodes that have a distance of 0.5 or something like that\n",
    "    similarity = 1 - abs(similarity) + 1\n",
    "    # print(\"First word:\", w1, \". Second word:\", w2, \". GoodDistance:\", similarity)\n",
    "    return similarity\n",
    "\n",
    "start_time = time.time()\n",
    "lib_path_1, lib_explore_1 = machine_searchers.modded_astar_path(wikispeedia, 'Actor', 'Japan', heuristic=distance_two_words)\n",
    "end_time = time.time()\n",
    "\n",
    "# It's len - 1 because the target node is also included, and that node wasn't explored\n",
    "print(\"Using the modded a star that returns explored nodes:\")\n",
    "print(\" Found solution for Actor to Japan exploring the following number of nodes:\", len(lib_explore_1)-1)\n",
    "print(\" Found it in:\", end_time-start_time)\n",
    "\n",
    "start_time = time.time()\n",
    "lib_path_2, lib_explore_2 = machine_searchers.only_depth_first_astar_path(wikispeedia, 'Actor', 'Japan', heuristic=distance_two_words)\n",
    "end_time = time.time()\n",
    "\n",
    "# It's len - 1 because the target node is also included, and that node wasn't explored\n",
    "print(\"Using depth first only A star that returns explored nodes:\")\n",
    "print(\" Found solution for Actor to Japan exploring the following number of nodes:\", len(lib_explore_1)-1)\n",
    "print(\" Found it in:\", end_time-start_time)\n"
   ]
  },
  {
   "cell_type": "markdown",
   "metadata": {
    "collapsed": false
   },
   "source": [
    "Now we'll take the most commonly explored node pair path, run it through the two algorithms and see what is the result!"
   ]
  },
  {
   "cell_type": "code",
   "execution_count": null,
   "metadata": {
    "collapsed": false,
    "ExecuteTime": {
     "start_time": "2023-12-20T10:15:06.533318800Z"
    }
   },
   "outputs": [],
   "source": [
    "# So it's finding the length between asteroid and viking\n",
    "article_combinations.sort_values('count', ascending=False).head()"
   ]
  },
  {
   "cell_type": "code",
   "execution_count": null,
   "metadata": {
    "collapsed": false,
    "ExecuteTime": {
     "start_time": "2023-12-20T10:15:06.533318800Z"
    }
   },
   "outputs": [],
   "source": [
    "start_time = time.time()\n",
    "lib_path_1, lib_explore_1 = machine_searchers.modded_astar_path(wikispeedia, 'Asteroid', 'Viking', heuristic=distance_two_words)\n",
    "end_time = time.time()\n",
    "\n",
    "# It's len - 1 because the target node is also included, and that node wasn't explored\n",
    "print(\"Using the modded a star that returns explored nodes:\")\n",
    "print(\" Found solution for Asteroid to Viking exploring the following number of nodes:\", len(lib_explore_1)-1)\n",
    "print(\"Path length was:\", len(lib_path_1)-1)\n",
    "print(\" Found it in:\", end_time-start_time)\n",
    "\n",
    "start_time = time.time()\n",
    "lib_path_2, lib_explore_2 = machine_searchers.only_depth_first_astar_path(wikispeedia, 'Asteroid', 'Viking', heuristic=distance_two_words)\n",
    "end_time = time.time()\n",
    "print('')\n",
    "\n",
    "# It's len - 1 because the target node is also included, and that node wasn't explored\n",
    "print(\"Using depth first only A star that returns explored nodes:\")\n",
    "print(\" Found solution for Asteroid to Viking exploring the following number of nodes:\", len(lib_explore_2)-1)\n",
    "print(\"Path length was:\", len(lib_path_2)-1)\n",
    "print(\" Found it in:\", end_time-start_time)"
   ]
  },
  {
   "cell_type": "code",
   "execution_count": null,
   "metadata": {
    "collapsed": false,
    "ExecuteTime": {
     "start_time": "2023-12-20T10:15:06.546212700Z"
    }
   },
   "outputs": [],
   "source": [
    "lib_path_1"
   ]
  },
  {
   "cell_type": "markdown",
   "metadata": {
    "collapsed": false
   },
   "source": [
    "So, based on the previous example of the path, this works out well enough. The systems spends a lot of time exploring and going back, which might be a common issue. There is a huge disconnect between explored and actual path length, but that is common for A\\*, so it's an expected caveat.\n",
    "\n",
    "It is interesting to note that the optimal solution passed through Paris, which seems to fit the definition of being one of the hubs that are described in the paper. Maybe the hub strategy is actually useful in most cases!\n",
    "\n",
    "The depth first method took a lot longer to run than planned. Based on this, it might be worth considering other alternatives.\n",
    "\n",
    "But still, at least we've proven the model works, and can give results that we can compare against humans. Again, this is using a much simpler method, but this could be enhanced in the future."
   ]
  }
 ],
 "metadata": {
  "kernelspec": {
   "display_name": "Python 3",
   "language": "python",
   "name": "python3"
  },
  "language_info": {
   "codemirror_mode": {
    "name": "ipython",
    "version": 3
   },
   "file_extension": ".py",
   "mimetype": "text/x-python",
   "name": "python",
   "nbconvert_exporter": "python",
   "pygments_lexer": "ipython3",
   "version": "3.9.18"
  }
 },
 "nbformat": 4,
 "nbformat_minor": 0
}

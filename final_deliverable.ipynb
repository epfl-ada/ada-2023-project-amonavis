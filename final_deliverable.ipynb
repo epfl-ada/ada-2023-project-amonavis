{
 "cells": [
  {
   "cell_type": "markdown",
   "metadata": {
    "collapsed": false
   },
   "source": [
    "# Final deliverable\n",
    "This is the notebook that has the final info.\n",
    "\n",
    "There is some story information, but we did this notebook under the assumption that it's mainly to display graphs, how we got them, logic behind the code, that kind of thing. The actual story in detail will be kept in the main readme."
   ]
  },
  {
   "cell_type": "markdown",
   "metadata": {},
   "source": [
    "Table of Contents <br>\n",
    "\n",
    "0. Import Modules\n",
    "1. Data reading\n",
    "2. Descriptive data analysis\n",
    "3. Ways to enrich, filter, transform the data\n",
    "4. Plan and Ideas for Methods"
   ]
  },
  {
   "cell_type": "markdown",
   "metadata": {},
   "source": [
    "# 0. Import modules\n",
    "Feel free to use the virtual environment (amonavis) included in the GitHub folder."
   ]
  },
  {
   "cell_type": "code",
   "execution_count": 1,
   "metadata": {
    "ExecuteTime": {
     "end_time": "2023-12-21T19:10:42.020848600Z",
     "start_time": "2023-12-21T19:10:37.290112300Z"
    }
   },
   "outputs": [],
   "source": [
    "import pandas as pd\n",
    "import numpy as np\n",
    "from datetime import datetime\n",
    "import matplotlib.pyplot as plt \n",
    "import plotly.graph_objects as go\n",
    "import seaborn as sns\n",
    "import statistics\n",
    "import math\n",
    "\n",
    "# networkx\n",
    "import networkx as nx\n",
    "from networkx.drawing.nx_pydot import graphviz_layout\n",
    "\n",
    "# For semantic similarity\n",
    "from urllib.parse import unquote\n",
    "from transformers import BertTokenizer\n",
    "from transformers import BertModel\n",
    "from sklearn.metrics.pairwise import cosine_similarity\n",
    "\n",
    "# Python functions in .py file to read data\n",
    "import data_readers\n",
    "\n",
    "import warnings\n",
    "from tqdm import TqdmWarning\n",
    "warnings.filterwarnings('ignore', category=TqdmWarning)"
   ]
  },
  {
   "cell_type": "markdown",
   "metadata": {
    "collapsed": false
   },
   "source": [
    "# 1. Data reading\n",
    "The following code reads the data and saves them in the appropriate variables.\n",
    "<br><br>\n",
    "**Wikispeedia**\n",
    "This will hold our graph where Wikipedia articles are nodes and links/paths between them are edges.\n",
    "\n",
    "<br><br>\n",
    "**finished_paths**\n",
    "The datafile includes the hashedIpAddress, timestamp, durationInSec, path, and rating of games that were completed.\n",
    "We also add columns with the first article (soruce), last article (target), path length (#articles), and a readable date in Timestamp format.\n",
    "\n",
    "<br><br>\n",
    "**unfinished_paths**\n",
    "This datafile is similar to finished_paths, but with games that weren't completed. It has the hashedIpAddress, timestamp, durationInSec, path, target, and type of failure (either timeout or restart).\n",
    "\n",
    "<br><br>\n",
    "**articles**\n",
    "Dataframe with the name of all articles in the dataset.\n",
    "\n",
    "<br><br>\n",
    "**categories**\n",
    "This shows the higher category classification of each article. For example, Áedán mac Gabráin is part of 'subject.History.British_History.British_History_1500_and_before_including_Roman_Britain'"
   ]
  },
  {
   "cell_type": "code",
   "execution_count": 2,
   "metadata": {
    "collapsed": false,
    "ExecuteTime": {
     "end_time": "2023-12-21T19:12:18.476497400Z",
     "start_time": "2023-12-21T19:10:42.023939400Z"
    }
   },
   "outputs": [],
   "source": [
    "# The links and edges\n",
    "wikispeedia = data_readers.read_wikispeedia_graph()\n",
    "\n",
    "# The finished paths\n",
    "finished_paths = data_readers.read_finished_paths()\n",
    "\n",
    "# The unfinished paths\n",
    "unfinished_paths = data_readers.read_unfinished_paths()\n",
    "\n",
    "# DF of all articles\n",
    "articles = data_readers.read_articles()\n",
    "\n",
    "# DF of all articles and their categories\n",
    "categories = data_readers.read_categories()\n",
    "\n",
    "# We found out later that the data contained in the shortest path matrix given to us seems to be wrong\n",
    "# Here we also add a quick dictionary that properly shows that this is wrong, and give an example\n",
    "shortest_path_df = data_readers.read_shortest_path_df()\n",
    "shortest_path_dict = dict(nx.all_pairs_shortest_path(wikispeedia))\n",
    "\n",
    "# Searching for the string of a given article. It has to be formatted like the article name\n",
    "# Which shouldn't be a problem, as we'll probably usually retrieve them internally\n",
    "obi_wan_text = data_readers.plaintext_article_finder('Obi-Wan_Kenobi')"
   ]
  },
  {
   "cell_type": "markdown",
   "metadata": {
    "collapsed": false
   },
   "source": [
    "These are less nodes than the reported number, it should be 4,604 nodes.\n",
    "\n",
    "The 119,882 edges is correct though.\n",
    "\n",
    "The difference is probably due to some nodes not being connected to the rest of the graph, as here we read in only the articles that are connected. The few nodes that we are losing do not matter for what we need."
   ]
  },
  {
   "cell_type": "markdown",
   "metadata": {},
   "source": [
    "# 2. Initial Descriptive Data Analysis\n",
    "Here, we show that we understand what’s in the data (formats, distributions, missing values, correlations, etc.).\n"
   ]
  },
  {
   "cell_type": "markdown",
   "metadata": {},
   "source": [
    "### 2.1. How many: articles, links, finished games, unfinished games?\n"
   ]
  },
  {
   "cell_type": "code",
   "execution_count": 3,
   "metadata": {
    "ExecuteTime": {
     "end_time": "2023-12-21T19:12:18.479017600Z",
     "start_time": "2023-12-21T19:12:18.471745300Z"
    }
   },
   "outputs": [
    {
     "name": "stdout",
     "output_type": "stream",
     "text": [
      "There are 4592 articles in the dataset.\n",
      "There are 119882 links/paths.\n",
      "There are 51318 finished games.\n",
      "There are 24875 unfinished games.\n"
     ]
    }
   ],
   "source": [
    "print(\"There are\", len(wikispeedia.nodes), \"articles in the dataset.\")\n",
    "print(\"There are\", len(wikispeedia.edges), \"links/paths.\")\n",
    "print(\"There are\", finished_paths.shape[0], \"finished games.\")\n",
    "print(\"There are\", unfinished_paths.shape[0], \"unfinished games.\")"
   ]
  },
  {
   "cell_type": "markdown",
   "source": [
    "These are less nodes than the reported number, it should be 4,604 nodes.\n",
    "\n",
    "The 119,882 edges is correct though.\n",
    "\n",
    "The difference is probably due to some nodes not being connected to the rest of the graph, as here we read in only the articles that are connected. The few nodes that we are losing do not matter for what we need."
   ],
   "metadata": {
    "collapsed": false
   }
  },
  {
   "cell_type": "code",
   "execution_count": 4,
   "metadata": {
    "ExecuteTime": {
     "end_time": "2023-12-21T19:12:18.500089800Z",
     "start_time": "2023-12-21T19:12:18.482867600Z"
    }
   },
   "outputs": [],
   "source": [
    "# This is sample code for how to do the plotply plots, important for later\n",
    "\n",
    "# import plotly.graph_objects as go\n",
    "# \n",
    "# # Coordinates and sizes for the circles\n",
    "# x_values = [0, 1]\n",
    "# y_values = [1, 1]\n",
    "# circle_sizes = [50, 100]  # Sizes of the circles\n",
    "# \n",
    "# # Create a Plotly scatter plot with circles\n",
    "# fig = go.Figure()\n",
    "# \n",
    "# fig.add_trace(go.Scatter(\n",
    "#     x=x_values,\n",
    "#     y=y_values,\n",
    "#     mode='markers',\n",
    "#     marker=dict(size=circle_sizes,\n",
    "#                 sizemode='diameter',  # Use the size value directly as diameter\n",
    "#                 color=['blue', 'red'],  # Colors of the circles\n",
    "#                 opacity=0.5,  # Adjust opacity if needed\n",
    "#                 line=dict(width=2),  # Adjust circle border width\n",
    "#                 symbol='circle',  # Use 'circle' symbol\n",
    "#                 showscale=False  # Disable the color scale\n",
    "#                )\n",
    "# ))\n",
    "# \n",
    "# # Update layout to hide x and y axes\n",
    "# fig.update_layout(\n",
    "#     title='Two Circles with Different Sizes',\n",
    "#     xaxis=dict(showgrid=False, zeroline=False, visible=False),  # Hide x axis\n",
    "#     yaxis=dict(showgrid=False, zeroline=False, visible=False),  # Hide y axis\n",
    "#     showlegend=False,\n",
    "#     hovermode='closest'\n",
    "# )\n",
    "# \n",
    "# # Show the plot\n",
    "# fig.show()\n"
   ]
  },
  {
   "cell_type": "code",
   "execution_count": 5,
   "metadata": {
    "ExecuteTime": {
     "end_time": "2023-12-21T19:12:18.516947900Z",
     "start_time": "2023-12-21T19:12:18.487078800Z"
    }
   },
   "outputs": [
    {
     "name": "stdout",
     "output_type": "stream",
     "text": [
      "There are 47856 unique finshed paths in the dataset\n"
     ]
    }
   ],
   "source": [
    "unique_paths = finished_paths['path'].unique()\n",
    "print('There are', len(unique_paths), 'unique finshed paths in the dataset')"
   ]
  },
  {
   "cell_type": "markdown",
   "metadata": {},
   "source": [
    "### 2.2. Degree of a Node\n",
    "We first want to get an idea of the node degree distribution\n",
    "\n",
    "The degree of a node is the number of edges/links it has. We plot a complementary cumulative distribution function (CCDF) of degree for each article/node, using a log log scale."
   ]
  },
  {
   "cell_type": "code",
   "execution_count": 6,
   "metadata": {
    "ExecuteTime": {
     "end_time": "2023-12-21T19:12:19.257934900Z",
     "start_time": "2023-12-21T19:12:18.545478400Z"
    }
   },
   "outputs": [
    {
     "data": {
      "text/plain": "<Figure size 640x480 with 1 Axes>",
      "image/png": "[encoded data removed]"
     },
     "metadata": {},
     "output_type": "display_data"
    }
   ],
   "source": [
    "# Get the degrees of all nodes\n",
    "degrees = dict(wikispeedia.degree())\n",
    "\n",
    "# Calculate the CCDF\n",
    "degree_values = sorted(set(degrees.values()), reverse=True)\n",
    "ccdf = [sum(1 for degree in degrees.values() if degree >= d) for d in degree_values]\n",
    "\n",
    "# Plot the CCDF\n",
    "plt.plot(degree_values, ccdf, marker='o', linestyle='-', color='b')\n",
    "plt.xscale('log')  # Use log scale for better visualization\n",
    "plt.yscale('log')\n",
    "plt.xlabel('Degree')\n",
    "plt.ylabel('Complementary Cumulative Distribution Function (CCDF)')\n",
    "plt.title('CCDF of Node Degrees')\n",
    "plt.show()"
   ]
  },
  {
   "cell_type": "markdown",
   "metadata": {},
   "source": [
    "What are the \"hubs\"? Which nodes have more than 500 links?"
   ]
  },
  {
   "cell_type": "code",
   "execution_count": 7,
   "metadata": {
    "ExecuteTime": {
     "end_time": "2023-12-21T19:12:19.278767900Z",
     "start_time": "2023-12-21T19:12:19.272917800Z"
    }
   },
   "outputs": [
    {
     "name": "stdout",
     "output_type": "stream",
     "text": [
      "Nodes with > 1000 edges:  4 nodes |||| ['United_Kingdom', 'France', 'United_States', 'Europe']\n",
      "\n",
      "Nodes with 500-1000 edges:  16 nodes |||| ['Russia', 'World_War_II', 'Germany', 'Italy', 'Canada', 'English_language', 'England', 'Spain', 'India', 'China', 'Australia', 'Japan', 'London', 'Africa', 'Animal', 'Scientific_classification']\n",
      "\n",
      "Nodes with 300-500 edges:   47 nodes |||| ['Ireland', 'Scotland', '20th_century', 'Currency', 'European_Union', 'List_of_countries_by_system_of_government', 'Sweden', 'Time_zone', 'Netherlands', 'Paris', 'Atlantic_Ocean', 'Greece', 'Portugal', 'Soviet_Union', 'United_Nations', 'Mexico', 'Poland', '19th_century', 'North_America', 'Iran', 'Asia', 'Islam', 'Christianity', 'Jew', 'Earth', 'Water', 'Brazil', 'Egypt', 'Roman_Catholic_Church', 'New_York_City', 'New_Zealand', 'South_Africa', 'South_America', 'Israel', 'People%27s_Republic_of_China', 'Human', 'World_War_I', 'Argentina', 'Lebanon', 'Turkey', 'German_language', 'Latin', 'French_language', 'List_of_countries', 'Middle_Ages', 'Binomial_nomenclature', 'Chordate']\n"
     ]
    }
   ],
   "source": [
    "art_more1000 = [node for node in wikispeedia.nodes if wikispeedia.degree(node) >= 1000]\n",
    "art_500_1000 = [node for node in wikispeedia.nodes if (wikispeedia.degree(node) >= 500)&(wikispeedia.degree(node) < 1000)]\n",
    "art_300_500 = [node for node in wikispeedia.nodes if (wikispeedia.degree(node) >= 300)&(wikispeedia.degree(node) < 500)]\n",
    "\n",
    "print(\"Nodes with > 1000 edges: \", len(art_more1000), \"nodes ||||\", art_more1000)\n",
    "print('')\n",
    "print(\"Nodes with 500-1000 edges: \", len(art_500_1000), \"nodes ||||\", art_500_1000)\n",
    "print('')\n",
    "print(\"Nodes with 300-500 edges:  \", len(art_300_500), \"nodes ||||\", art_300_500)"
   ]
  },
  {
   "cell_type": "markdown",
   "metadata": {},
   "source": [
    "Observe that biggest hubs are mainly countries. The 'United Kingdom', 'France', 'United States', and 'Europe' have over 1000 links. Since there are 4592 nodes, these nodes have link to almost 1/4 of the dataset!"
   ]
  },
  {
   "cell_type": "markdown",
   "source": [
    "Another way of measuring hubs is this concept called betweenness centrality. The idea is that if we imagine paths as a message flowing, the nodes that form bottlenecks of the graph have the highest value for this. We will only print 40 of them to keep visuals manageable"
   ],
   "metadata": {
    "collapsed": false
   }
  },
  {
   "cell_type": "code",
   "execution_count": 8,
   "outputs": [
    {
     "data": {
      "text/plain": "United_States       0.094090\nUnited_Kingdom      0.042384\nEngland             0.032403\nEurope              0.026992\nAfrica              0.024204\nGermany             0.019409\nWorld_War_II        0.015500\n19th_century        0.014824\nLondon              0.014675\nEnglish_language    0.014041\nEarth               0.013850\nJapan               0.012973\nAustralia           0.012527\nFrance              0.012002\nIndia               0.011256\nChina               0.010256\nRussia              0.009509\nCanada              0.009267\nAsia                0.008728\nHuman               0.008689\nWater               0.008643\nAtlantic_Ocean      0.008487\nBird                0.008446\nScotland            0.008172\n20th_century        0.008161\nDinosaur            0.008051\nParis               0.007774\nArgentina           0.007605\nNew_Zealand         0.007245\nItaly               0.007087\nWorld_War_I         0.006770\nSouth_Africa        0.006554\nNetherlands         0.006301\nComputer            0.006296\nVolcano             0.006268\nSpain               0.006266\nIslam               0.006245\nAnimal              0.006131\nNorth_America       0.006118\nUnited_Nations      0.006063\ndtype: float64"
     },
     "execution_count": 8,
     "metadata": {},
     "output_type": "execute_result"
    }
   ],
   "source": [
    "betweenness_centrality = nx.betweenness_centrality(wikispeedia)\n",
    "bc_series = pd.Series(betweenness_centrality)\n",
    "bc_series.sort_values(inplace=True, ascending=False)\n",
    "bc_series[:40]"
   ],
   "metadata": {
    "collapsed": false,
    "ExecuteTime": {
     "end_time": "2023-12-21T19:14:33.411817700Z",
     "start_time": "2023-12-21T19:12:19.276684200Z"
    }
   }
  },
  {
   "cell_type": "markdown",
   "metadata": {},
   "source": [
    "How many nodes have more than 20 links? How many have only 1 link?"
   ]
  },
  {
   "cell_type": "code",
   "execution_count": 9,
   "metadata": {
    "ExecuteTime": {
     "end_time": "2023-12-21T19:14:33.431207600Z",
     "start_time": "2023-12-21T19:14:33.409809300Z"
    }
   },
   "outputs": [
    {
     "name": "stdout",
     "output_type": "stream",
     "text": [
      "Total number of nodes: 4592 \n",
      "\n",
      "Nodes with degree 1:  13 nodes |||| ['All_your_base_are_belong_to_us', 'Local_community', 'Dewey_Square', 'Emma_Roberts', 'Human_abdomen', 'Pere_Marquette_1225', 'Pro_Milone', 'Sunol_Water_Temple', 'T._D._Judah', 'Terik', 'Duchenne_muscular_dystrophy', 'Klinefelter%27s_syndrome', 'White_Mountain_art']\n",
      "Percentage of nodes with degree 1:  0.0028310104529616726 \n",
      "\n",
      "Nodes with degree <=20:  1581\n",
      "Percentage of nodes with degree <=20:  0.344294425087108\n"
     ]
    }
   ],
   "source": [
    "# Get the percentages\n",
    "total_nodes = len(wikispeedia.nodes)\n",
    "print('Total number of nodes:', total_nodes, '\\n')\n",
    "\n",
    "# Count the number of nodes with degree 1\n",
    "nodes_degree_1 = [node for node in wikispeedia.nodes if wikispeedia.degree(node) == 1]\n",
    "print('Nodes with degree 1: ',len(nodes_degree_1), \"nodes ||||\", nodes_degree_1)\n",
    "# print percentage over total\n",
    "print('Percentage of nodes with degree 1: ', len(nodes_degree_1) / total_nodes, '\\n')\n",
    "\n",
    "percentage_degree_1 = (len(nodes_degree_1) / total_nodes)\n",
    "#print('% of nodes that have only 1 edge/link:', percentage_degree_1)\n",
    "\n",
    "# Count number of nodes with degree <= 20\n",
    "nodes_degree_20 = [node for node in wikispeedia.nodes if wikispeedia.degree(node) <= 20]\n",
    "print('Nodes with degree <=20: ',len(nodes_degree_20))\n",
    "print('Percentage of nodes with degree <=20: ', len(nodes_degree_20) / total_nodes)"
   ]
  },
  {
   "cell_type": "markdown",
   "metadata": {},
   "source": [
    "### 2.3. PageRank"
   ]
  },
  {
   "cell_type": "markdown",
   "metadata": {},
   "source": [
    "PageRank Dictionary: {key: value} -> {'article_title': pagerank}"
   ]
  },
  {
   "cell_type": "code",
   "execution_count": 10,
   "metadata": {
    "ExecuteTime": {
     "end_time": "2023-12-21T19:14:33.575749Z",
     "start_time": "2023-12-21T19:14:33.538057200Z"
    }
   },
   "outputs": [],
   "source": [
    "dic = nx.pagerank(wikispeedia)\n",
    "#print(dic)"
   ]
  },
  {
   "cell_type": "markdown",
   "metadata": {},
   "source": [
    "Assign pagerank as a node attribute of Wikispeedia graph"
   ]
  },
  {
   "cell_type": "code",
   "execution_count": 11,
   "metadata": {
    "ExecuteTime": {
     "end_time": "2023-12-21T19:14:33.597012400Z",
     "start_time": "2023-12-21T19:14:33.577754200Z"
    }
   },
   "outputs": [],
   "source": [
    "for node in [nodo for nodo in wikispeedia.nodes()]:\n",
    "    wikispeedia.nodes[node]['pagerank'] = dic[node]\n",
    "#print(wikispeedia.nodes(data=True))"
   ]
  },
  {
   "cell_type": "markdown",
   "metadata": {},
   "source": [
    "Average PageRank"
   ]
  },
  {
   "cell_type": "code",
   "execution_count": 12,
   "metadata": {
    "ExecuteTime": {
     "end_time": "2023-12-21T19:14:33.598051Z",
     "start_time": "2023-12-21T19:14:33.586545800Z"
    }
   },
   "outputs": [
    {
     "name": "stdout",
     "output_type": "stream",
     "text": [
      "0.00021777003484320113\n"
     ]
    }
   ],
   "source": [
    "average = sum(dic.values()) / len(dic)\n",
    "print(average)"
   ]
  },
  {
   "cell_type": "code",
   "execution_count": 13,
   "metadata": {
    "ExecuteTime": {
     "end_time": "2023-12-21T19:14:33.598051Z",
     "start_time": "2023-12-21T19:14:33.592256800Z"
    }
   },
   "outputs": [],
   "source": [
    "above_average = {key: value for key, value in dic.items() if value >= average}"
   ]
  },
  {
   "cell_type": "code",
   "execution_count": 14,
   "metadata": {
    "ExecuteTime": {
     "end_time": "2023-12-21T19:14:33.720674Z",
     "start_time": "2023-12-21T19:14:33.598051Z"
    }
   },
   "outputs": [
    {
     "name": "stdout",
     "output_type": "stream",
     "text": [
      "Number of elements above average\n",
      "1134\n"
     ]
    }
   ],
   "source": [
    "num_elements_above_avg = len(above_average)\n",
    "print(\"Number of elements above average\")\n",
    "print(num_elements_above_avg)"
   ]
  },
  {
   "cell_type": "markdown",
   "metadata": {},
   "source": [
    "Median PageRank"
   ]
  },
  {
   "cell_type": "code",
   "execution_count": 15,
   "metadata": {
    "ExecuteTime": {
     "end_time": "2023-12-21T19:14:33.720674Z",
     "start_time": "2023-12-21T19:14:33.605457600Z"
    }
   },
   "outputs": [
    {
     "name": "stdout",
     "output_type": "stream",
     "text": [
      "8.689532387656443e-05\n"
     ]
    }
   ],
   "source": [
    "values = list(dic.values())\n",
    "median = statistics.median(values)\n",
    "print(median)"
   ]
  },
  {
   "cell_type": "code",
   "execution_count": 16,
   "metadata": {
    "ExecuteTime": {
     "end_time": "2023-12-21T19:14:33.721676200Z",
     "start_time": "2023-12-21T19:14:33.613833700Z"
    }
   },
   "outputs": [],
   "source": [
    "# order dictionary to visualize articles following plot\n",
    "above_median = {key: value for key, value in dic.items() if value >= median}\n",
    "above_median_ordered = {k: v for k, v in sorted(above_median.items(), key=lambda item: item[1], reverse=True)}"
   ]
  },
  {
   "cell_type": "code",
   "execution_count": 17,
   "metadata": {
    "ExecuteTime": {
     "end_time": "2023-12-21T19:14:33.721676200Z",
     "start_time": "2023-12-21T19:14:33.617287400Z"
    }
   },
   "outputs": [
    {
     "name": "stdout",
     "output_type": "stream",
     "text": [
      "Number of elements above average median\n",
      "2296\n"
     ]
    }
   ],
   "source": [
    "num_elements_above_median = len(above_median)\n",
    "print('Number of elements above average median')\n",
    "print(num_elements_above_median)"
   ]
  },
  {
   "cell_type": "markdown",
   "metadata": {},
   "source": [
    "#### PageRank in descending order of the articles above the median (50% data)"
   ]
  },
  {
   "cell_type": "code",
   "execution_count": 18,
   "metadata": {
    "ExecuteTime": {
     "end_time": "2023-12-21T19:14:34.208022300Z",
     "start_time": "2023-12-21T19:14:33.624683400Z"
    }
   },
   "outputs": [
    {
     "data": {
      "text/plain": "Text(0.5, 1.0, 'PageRank Classification of 40 Wikispeedia Articles with Highest PageRank')"
     },
     "execution_count": 18,
     "metadata": {},
     "output_type": "execute_result"
    },
    {
     "data": {
      "text/plain": "<Figure size 500x1000 with 1 Axes>",
      "image/png": "[encoded data removed]"
     },
     "metadata": {},
     "output_type": "display_data"
    }
   ],
   "source": [
    "#\n",
    "names = list(above_median_ordered.keys())[:50]\n",
    "values = list(above_median_ordered.values())[:50]\n",
    "\n",
    "plt.figure(figsize=(5, 10))\n",
    "sns.barplot(x=values, y=names, palette='viridis')\n",
    "plt.xlabel('PageRank')\n",
    "plt.ylabel('Articles')\n",
    "plt.title('PageRank Classification of 40 Wikispeedia Articles with Highest PageRank')\n",
    "# plt.show()"
   ]
  },
  {
   "cell_type": "markdown",
   "metadata": {},
   "source": [
    "@daniele"
   ]
  },
  {
   "cell_type": "code",
   "execution_count": 65,
   "metadata": {
    "ExecuteTime": {
     "end_time": "2023-12-21T19:26:01.974243100Z",
     "start_time": "2023-12-21T19:26:01.734449300Z"
    }
   },
   "outputs": [
    {
     "data": {
      "application/vnd.plotly.v1+json": {
       "data": [
        {
         "orientation": "h",
         "x": [
          0.00956554538310564,
          0.006422591500548315,
          0.006339517036740152,
          0.006234853214871948,
          0.004864902024077606,
          0.00482415042132415,
          0.0047245036655571915,
          0.0044740795759441645,
          0.004423870040060783,
          0.004035532403528954,
          0.0038897636226420517,
          0.003717238851113226,
          0.003642312927537101,
          0.0035655542811307357,
          0.003496131617966406,
          0.0034658653495891006,
          0.003434891665574224,
          0.003237155919656553,
          0.003204271399017423,
          0.003167721811701841,
          0.0030779602185074433,
          0.003018040870366905,
          0.0028830832572249187,
          0.0028333266533963103,
          0.0028085372133175076,
          0.002741319932044095,
          0.002714755596324481,
          0.002713582975705097,
          0.0025901372077604895,
          0.002560493599026993,
          0.0024297054121889014,
          0.00241677674706315,
          0.0023781098837101157,
          0.002361539066403613,
          0.0023478726081676803,
          0.002318582455038707,
          0.002293931728974094,
          0.0022547159878325757,
          0.0022422580916298144,
          0.0022275241012032093
         ],
         "y": [
          "United_States",
          "France",
          "Europe",
          "United_Kingdom",
          "English_language",
          "Germany",
          "World_War_II",
          "England",
          "Latin",
          "India",
          "Japan",
          "Italy",
          "Spain",
          "China",
          "Russia",
          "Time_zone",
          "Canada",
          "Currency",
          "Australia",
          "Africa",
          "London",
          "Christianity",
          "Animal",
          "List_of_countries_by_system_of_government",
          "United_Nations",
          "French_language",
          "Islam",
          "North_America",
          "Scientific_classification",
          "World_War_I",
          "Egypt",
          "19th_century",
          "Portugal",
          "20th_century",
          "Earth",
          "European_Union",
          "Netherlands",
          "Asia",
          "Soviet_Union",
          "Paris"
         ],
         "type": "bar"
        }
       ],
       "layout": {
        "template": {
         "data": {
          "histogram2dcontour": [
           {
            "type": "histogram2dcontour",
            "colorbar": {
             "outlinewidth": 0,
             "ticks": ""
            },
            "colorscale": [
             [
              0.0,
              "#0d0887"
             ],
             [
              0.1111111111111111,
              "#46039f"
             ],
             [
              0.2222222222222222,
              "#7201a8"
             ],
             [
              0.3333333333333333,
              "#9c179e"
             ],
             [
              0.4444444444444444,
              "#bd3786"
             ],
             [
              0.5555555555555556,
              "#d8576b"
             ],
             [
              0.6666666666666666,
              "#ed7953"
             ],
             [
              0.7777777777777778,
              "#fb9f3a"
             ],
             [
              0.8888888888888888,
              "#fdca26"
             ],
             [
              1.0,
              "#f0f921"
             ]
            ]
           }
          ],
          "choropleth": [
           {
            "type": "choropleth",
            "colorbar": {
             "outlinewidth": 0,
             "ticks": ""
            }
           }
          ],
          "histogram2d": [
           {
            "type": "histogram2d",
            "colorbar": {
             "outlinewidth": 0,
             "ticks": ""
            },
            "colorscale": [
             [
              0.0,
              "#0d0887"
             ],
             [
              0.1111111111111111,
              "#46039f"
             ],
             [
              0.2222222222222222,
              "#7201a8"
             ],
             [
              0.3333333333333333,
              "#9c179e"
             ],
             [
              0.4444444444444444,
              "#bd3786"
             ],
             [
              0.5555555555555556,
              "#d8576b"
             ],
             [
              0.6666666666666666,
              "#ed7953"
             ],
             [
              0.7777777777777778,
              "#fb9f3a"
             ],
             [
              0.8888888888888888,
              "#fdca26"
             ],
             [
              1.0,
              "#f0f921"
             ]
            ]
           }
          ],
          "heatmap": [
           {
            "type": "heatmap",
            "colorbar": {
             "outlinewidth": 0,
             "ticks": ""
            },
            "colorscale": [
             [
              0.0,
              "#0d0887"
             ],
             [
              0.1111111111111111,
              "#46039f"
             ],
             [
              0.2222222222222222,
              "#7201a8"
             ],
             [
              0.3333333333333333,
              "#9c179e"
             ],
             [
              0.4444444444444444,
              "#bd3786"
             ],
             [
              0.5555555555555556,
              "#d8576b"
             ],
             [
              0.6666666666666666,
              "#ed7953"
             ],
             [
              0.7777777777777778,
              "#fb9f3a"
             ],
             [
              0.8888888888888888,
              "#fdca26"
             ],
             [
              1.0,
              "#f0f921"
             ]
            ]
           }
          ],
          "heatmapgl": [
           {
            "type": "heatmapgl",
            "colorbar": {
             "outlinewidth": 0,
             "ticks": ""
            },
            "colorscale": [
             [
              0.0,
              "#0d0887"
             ],
             [
              0.1111111111111111,
              "#46039f"
             ],
             [
              0.2222222222222222,
              "#7201a8"
             ],
             [
              0.3333333333333333,
              "#9c179e"
             ],
             [
              0.4444444444444444,
              "#bd3786"
             ],
             [
              0.5555555555555556,
              "#d8576b"
             ],
             [
              0.6666666666666666,
              "#ed7953"
             ],
             [
              0.7777777777777778,
              "#fb9f3a"
             ],
             [
              0.8888888888888888,
              "#fdca26"
             ],
             [
              1.0,
              "#f0f921"
             ]
            ]
           }
          ],
          "contourcarpet": [
           {
            "type": "contourcarpet",
            "colorbar": {
             "outlinewidth": 0,
             "ticks": ""
            }
           }
          ],
          "contour": [
           {
            "type": "contour",
            "colorbar": {
             "outlinewidth": 0,
             "ticks": ""
            },
            "colorscale": [
             [
              0.0,
              "#0d0887"
             ],
             [
              0.1111111111111111,
              "#46039f"
             ],
             [
              0.2222222222222222,
              "#7201a8"
             ],
             [
              0.3333333333333333,
              "#9c179e"
             ],
             [
              0.4444444444444444,
              "#bd3786"
             ],
             [
              0.5555555555555556,
              "#d8576b"
             ],
             [
              0.6666666666666666,
              "#ed7953"
             ],
             [
              0.7777777777777778,
              "#fb9f3a"
             ],
             [
              0.8888888888888888,
              "#fdca26"
             ],
             [
              1.0,
              "#f0f921"
             ]
            ]
           }
          ],
          "surface": [
           {
            "type": "surface",
            "colorbar": {
             "outlinewidth": 0,
             "ticks": ""
            },
            "colorscale": [
             [
              0.0,
              "#0d0887"
             ],
             [
              0.1111111111111111,
              "#46039f"
             ],
             [
              0.2222222222222222,
              "#7201a8"
             ],
             [
              0.3333333333333333,
              "#9c179e"
             ],
             [
              0.4444444444444444,
              "#bd3786"
             ],
             [
              0.5555555555555556,
              "#d8576b"
             ],
             [
              0.6666666666666666,
              "#ed7953"
             ],
             [
              0.7777777777777778,
              "#fb9f3a"
             ],
             [
              0.8888888888888888,
              "#fdca26"
             ],
             [
              1.0,
              "#f0f921"
             ]
            ]
           }
          ],
          "mesh3d": [
           {
            "type": "mesh3d",
            "colorbar": {
             "outlinewidth": 0,
             "ticks": ""
            }
           }
          ],
          "scatter": [
           {
            "marker": {
             "line": {
              "color": "#283442"
             }
            },
            "type": "scatter"
           }
          ],
          "parcoords": [
           {
            "type": "parcoords",
            "line": {
             "colorbar": {
              "outlinewidth": 0,
              "ticks": ""
             }
            }
           }
          ],
          "scatterpolargl": [
           {
            "type": "scatterpolargl",
            "marker": {
             "colorbar": {
              "outlinewidth": 0,
              "ticks": ""
             }
            }
           }
          ],
          "bar": [
           {
            "error_x": {
             "color": "#f2f5fa"
            },
            "error_y": {
             "color": "#f2f5fa"
            },
            "marker": {
             "line": {
              "color": "rgb(17,17,17)",
              "width": 0.5
             },
             "pattern": {
              "fillmode": "overlay",
              "size": 10,
              "solidity": 0.2
             }
            },
            "type": "bar"
           }
          ],
          "scattergeo": [
           {
            "type": "scattergeo",
            "marker": {
             "colorbar": {
              "outlinewidth": 0,
              "ticks": ""
             }
            }
           }
          ],
          "scatterpolar": [
           {
            "type": "scatterpolar",
            "marker": {
             "colorbar": {
              "outlinewidth": 0,
              "ticks": ""
             }
            }
           }
          ],
          "histogram": [
           {
            "marker": {
             "pattern": {
              "fillmode": "overlay",
              "size": 10,
              "solidity": 0.2
             }
            },
            "type": "histogram"
           }
          ],
          "scattergl": [
           {
            "marker": {
             "line": {
              "color": "#283442"
             }
            },
            "type": "scattergl"
           }
          ],
          "scatter3d": [
           {
            "type": "scatter3d",
            "line": {
             "colorbar": {
              "outlinewidth": 0,
              "ticks": ""
             }
            },
            "marker": {
             "colorbar": {
              "outlinewidth": 0,
              "ticks": ""
             }
            }
           }
          ],
          "scattermapbox": [
           {
            "type": "scattermapbox",
            "marker": {
             "colorbar": {
              "outlinewidth": 0,
              "ticks": ""
             }
            }
           }
          ],
          "scatterternary": [
           {
            "type": "scatterternary",
            "marker": {
             "colorbar": {
              "outlinewidth": 0,
              "ticks": ""
             }
            }
           }
          ],
          "scattercarpet": [
           {
            "type": "scattercarpet",
            "marker": {
             "colorbar": {
              "outlinewidth": 0,
              "ticks": ""
             }
            }
           }
          ],
          "carpet": [
           {
            "aaxis": {
             "endlinecolor": "#A2B1C6",
             "gridcolor": "#506784",
             "linecolor": "#506784",
             "minorgridcolor": "#506784",
             "startlinecolor": "#A2B1C6"
            },
            "baxis": {
             "endlinecolor": "#A2B1C6",
             "gridcolor": "#506784",
             "linecolor": "#506784",
             "minorgridcolor": "#506784",
             "startlinecolor": "#A2B1C6"
            },
            "type": "carpet"
           }
          ],
          "table": [
           {
            "cells": {
             "fill": {
              "color": "#506784"
             },
             "line": {
              "color": "rgb(17,17,17)"
             }
            },
            "header": {
             "fill": {
              "color": "#2a3f5f"
             },
             "line": {
              "color": "rgb(17,17,17)"
             }
            },
            "type": "table"
           }
          ],
          "barpolar": [
           {
            "marker": {
             "line": {
              "color": "rgb(17,17,17)",
              "width": 0.5
             },
             "pattern": {
              "fillmode": "overlay",
              "size": 10,
              "solidity": 0.2
             }
            },
            "type": "barpolar"
           }
          ],
          "pie": [
           {
            "automargin": true,
            "type": "pie"
           }
          ]
         },
         "layout": {
          "autotypenumbers": "strict",
          "colorway": [
           "#636efa",
           "#EF553B",
           "#00cc96",
           "#ab63fa",
           "#FFA15A",
           "#19d3f3",
           "#FF6692",
           "#B6E880",
           "#FF97FF",
           "#FECB52"
          ],
          "font": {
           "color": "#f2f5fa"
          },
          "hovermode": "closest",
          "hoverlabel": {
           "align": "left"
          },
          "paper_bgcolor": "rgb(17,17,17)",
          "plot_bgcolor": "rgb(17,17,17)",
          "polar": {
           "bgcolor": "rgb(17,17,17)",
           "angularaxis": {
            "gridcolor": "#506784",
            "linecolor": "#506784",
            "ticks": ""
           },
           "radialaxis": {
            "gridcolor": "#506784",
            "linecolor": "#506784",
            "ticks": ""
           }
          },
          "ternary": {
           "bgcolor": "rgb(17,17,17)",
           "aaxis": {
            "gridcolor": "#506784",
            "linecolor": "#506784",
            "ticks": ""
           },
           "baxis": {
            "gridcolor": "#506784",
            "linecolor": "#506784",
            "ticks": ""
           },
           "caxis": {
            "gridcolor": "#506784",
            "linecolor": "#506784",
            "ticks": ""
           }
          },
          "coloraxis": {
           "colorbar": {
            "outlinewidth": 0,
            "ticks": ""
           }
          },
          "colorscale": {
           "sequential": [
            [
             0.0,
             "#0d0887"
            ],
            [
             0.1111111111111111,
             "#46039f"
            ],
            [
             0.2222222222222222,
             "#7201a8"
            ],
            [
             0.3333333333333333,
             "#9c179e"
            ],
            [
             0.4444444444444444,
             "#bd3786"
            ],
            [
             0.5555555555555556,
             "#d8576b"
            ],
            [
             0.6666666666666666,
             "#ed7953"
            ],
            [
             0.7777777777777778,
             "#fb9f3a"
            ],
            [
             0.8888888888888888,
             "#fdca26"
            ],
            [
             1.0,
             "#f0f921"
            ]
           ],
           "sequentialminus": [
            [
             0.0,
             "#0d0887"
            ],
            [
             0.1111111111111111,
             "#46039f"
            ],
            [
             0.2222222222222222,
             "#7201a8"
            ],
            [
             0.3333333333333333,
             "#9c179e"
            ],
            [
             0.4444444444444444,
             "#bd3786"
            ],
            [
             0.5555555555555556,
             "#d8576b"
            ],
            [
             0.6666666666666666,
             "#ed7953"
            ],
            [
             0.7777777777777778,
             "#fb9f3a"
            ],
            [
             0.8888888888888888,
             "#fdca26"
            ],
            [
             1.0,
             "#f0f921"
            ]
           ],
           "diverging": [
            [
             0,
             "#8e0152"
            ],
            [
             0.1,
             "#c51b7d"
            ],
            [
             0.2,
             "#de77ae"
            ],
            [
             0.3,
             "#f1b6da"
            ],
            [
             0.4,
             "#fde0ef"
            ],
            [
             0.5,
             "#f7f7f7"
            ],
            [
             0.6,
             "#e6f5d0"
            ],
            [
             0.7,
             "#b8e186"
            ],
            [
             0.8,
             "#7fbc41"
            ],
            [
             0.9,
             "#4d9221"
            ],
            [
             1,
             "#276419"
            ]
           ]
          },
          "xaxis": {
           "gridcolor": "#283442",
           "linecolor": "#506784",
           "ticks": "",
           "title": {
            "standoff": 15
           },
           "zerolinecolor": "#283442",
           "automargin": true,
           "zerolinewidth": 2
          },
          "yaxis": {
           "gridcolor": "#283442",
           "linecolor": "#506784",
           "ticks": "",
           "title": {
            "standoff": 15
           },
           "zerolinecolor": "#283442",
           "automargin": true,
           "zerolinewidth": 2
          },
          "scene": {
           "xaxis": {
            "backgroundcolor": "rgb(17,17,17)",
            "gridcolor": "#506784",
            "linecolor": "#506784",
            "showbackground": true,
            "ticks": "",
            "zerolinecolor": "#C8D4E3",
            "gridwidth": 2
           },
           "yaxis": {
            "backgroundcolor": "rgb(17,17,17)",
            "gridcolor": "#506784",
            "linecolor": "#506784",
            "showbackground": true,
            "ticks": "",
            "zerolinecolor": "#C8D4E3",
            "gridwidth": 2
           },
           "zaxis": {
            "backgroundcolor": "rgb(17,17,17)",
            "gridcolor": "#506784",
            "linecolor": "#506784",
            "showbackground": true,
            "ticks": "",
            "zerolinecolor": "#C8D4E3",
            "gridwidth": 2
           }
          },
          "shapedefaults": {
           "line": {
            "color": "#f2f5fa"
           }
          },
          "annotationdefaults": {
           "arrowcolor": "#f2f5fa",
           "arrowhead": 0,
           "arrowwidth": 1
          },
          "geo": {
           "bgcolor": "rgb(17,17,17)",
           "landcolor": "rgb(17,17,17)",
           "subunitcolor": "#506784",
           "showland": true,
           "showlakes": true,
           "lakecolor": "rgb(17,17,17)"
          },
          "title": {
           "x": 0.05
          },
          "updatemenudefaults": {
           "bgcolor": "#506784",
           "borderwidth": 0
          },
          "sliderdefaults": {
           "bgcolor": "#C8D4E3",
           "borderwidth": 1,
           "bordercolor": "rgb(17,17,17)",
           "tickwidth": 0
          },
          "mapbox": {
           "style": "dark"
          }
         }
        },
        "margin": {
         "l": 150
        },
        "title": {
         "text": "PageRank of Top 40 Wikispeedia Articles"
        },
        "xaxis": {
         "title": {
          "text": "PageRank"
         }
        },
        "yaxis": {
         "title": {
          "text": "Articles"
         }
        },
        "height": 800
       },
       "config": {
        "plotlyServerURL": "https://plot.ly"
       }
      },
      "text/html": "<div>                            <div id=\"3cdecce6-3017-4c20-a837-557432911d86\" class=\"plotly-graph-div\" style=\"height:800px; width:100%;\"></div>            <script type=\"text/javascript\">                require([\"plotly\"], function(Plotly) {                    window.PLOTLYENV=window.PLOTLYENV || {};                                    if (document.getElementById(\"3cdecce6-3017-4c20-a837-557432911d86\")) {                    Plotly.newPlot(                        \"3cdecce6-3017-4c20-a837-557432911d86\",                        [{\"orientation\":\"h\",\"x\":[0.00956554538310564,0.006422591500548315,0.006339517036740152,0.006234853214871948,0.004864902024077606,0.00482415042132415,0.0047245036655571915,0.0044740795759441645,0.004423870040060783,0.004035532403528954,0.0038897636226420517,0.003717238851113226,0.003642312927537101,0.0035655542811307357,0.003496131617966406,0.0034658653495891006,0.003434891665574224,0.003237155919656553,0.003204271399017423,0.003167721811701841,0.0030779602185074433,0.003018040870366905,0.0028830832572249187,0.0028333266533963103,0.0028085372133175076,0.002741319932044095,0.002714755596324481,0.002713582975705097,0.0025901372077604895,0.002560493599026993,0.0024297054121889014,0.00241677674706315,0.0023781098837101157,0.002361539066403613,0.0023478726081676803,0.002318582455038707,0.002293931728974094,0.0022547159878325757,0.0022422580916298144,0.0022275241012032093],\"y\":[\"United_States\",\"France\",\"Europe\",\"United_Kingdom\",\"English_language\",\"Germany\",\"World_War_II\",\"England\",\"Latin\",\"India\",\"Japan\",\"Italy\",\"Spain\",\"China\",\"Russia\",\"Time_zone\",\"Canada\",\"Currency\",\"Australia\",\"Africa\",\"London\",\"Christianity\",\"Animal\",\"List_of_countries_by_system_of_government\",\"United_Nations\",\"French_language\",\"Islam\",\"North_America\",\"Scientific_classification\",\"World_War_I\",\"Egypt\",\"19th_century\",\"Portugal\",\"20th_century\",\"Earth\",\"European_Union\",\"Netherlands\",\"Asia\",\"Soviet_Union\",\"Paris\"],\"type\":\"bar\"}],                        {\"template\":{\"data\":{\"histogram2dcontour\":[{\"type\":\"histogram2dcontour\",\"colorbar\":{\"outlinewidth\":0,\"ticks\":\"\"},\"colorscale\":[[0.0,\"#0d0887\"],[0.1111111111111111,\"#46039f\"],[0.2222222222222222,\"#7201a8\"],[0.3333333333333333,\"#9c179e\"],[0.4444444444444444,\"#bd3786\"],[0.5555555555555556,\"#d8576b\"],[0.6666666666666666,\"#ed7953\"],[0.7777777777777778,\"#fb9f3a\"],[0.8888888888888888,\"#fdca26\"],[1.0,\"#f0f921\"]]}],\"choropleth\":[{\"type\":\"choropleth\",\"colorbar\":{\"outlinewidth\":0,\"ticks\":\"\"}}],\"histogram2d\":[{\"type\":\"histogram2d\",\"colorbar\":{\"outlinewidth\":0,\"ticks\":\"\"},\"colorscale\":[[0.0,\"#0d0887\"],[0.1111111111111111,\"#46039f\"],[0.2222222222222222,\"#7201a8\"],[0.3333333333333333,\"#9c179e\"],[0.4444444444444444,\"#bd3786\"],[0.5555555555555556,\"#d8576b\"],[0.6666666666666666,\"#ed7953\"],[0.7777777777777778,\"#fb9f3a\"],[0.8888888888888888,\"#fdca26\"],[1.0,\"#f0f921\"]]}],\"heatmap\":[{\"type\":\"heatmap\",\"colorbar\":{\"outlinewidth\":0,\"ticks\":\"\"},\"colorscale\":[[0.0,\"#0d0887\"],[0.1111111111111111,\"#46039f\"],[0.2222222222222222,\"#7201a8\"],[0.3333333333333333,\"#9c179e\"],[0.4444444444444444,\"#bd3786\"],[0.5555555555555556,\"#d8576b\"],[0.6666666666666666,\"#ed7953\"],[0.7777777777777778,\"#fb9f3a\"],[0.8888888888888888,\"#fdca26\"],[1.0,\"#f0f921\"]]}],\"heatmapgl\":[{\"type\":\"heatmapgl\",\"colorbar\":{\"outlinewidth\":0,\"ticks\":\"\"},\"colorscale\":[[0.0,\"#0d0887\"],[0.1111111111111111,\"#46039f\"],[0.2222222222222222,\"#7201a8\"],[0.3333333333333333,\"#9c179e\"],[0.4444444444444444,\"#bd3786\"],[0.5555555555555556,\"#d8576b\"],[0.6666666666666666,\"#ed7953\"],[0.7777777777777778,\"#fb9f3a\"],[0.8888888888888888,\"#fdca26\"],[1.0,\"#f0f921\"]]}],\"contourcarpet\":[{\"type\":\"contourcarpet\",\"colorbar\":{\"outlinewidth\":0,\"ticks\":\"\"}}],\"contour\":[{\"type\":\"contour\",\"colorbar\":{\"outlinewidth\":0,\"ticks\":\"\"},\"colorscale\":[[0.0,\"#0d0887\"],[0.1111111111111111,\"#46039f\"],[0.2222222222222222,\"#7201a8\"],[0.3333333333333333,\"#9c179e\"],[0.4444444444444444,\"#bd3786\"],[0.5555555555555556,\"#d8576b\"],[0.6666666666666666,\"#ed7953\"],[0.7777777777777778,\"#fb9f3a\"],[0.8888888888888888,\"#fdca26\"],[1.0,\"#f0f921\"]]}],\"surface\":[{\"type\":\"surface\",\"colorbar\":{\"outlinewidth\":0,\"ticks\":\"\"},\"colorscale\":[[0.0,\"#0d0887\"],[0.1111111111111111,\"#46039f\"],[0.2222222222222222,\"#7201a8\"],[0.3333333333333333,\"#9c179e\"],[0.4444444444444444,\"#bd3786\"],[0.5555555555555556,\"#d8576b\"],[0.6666666666666666,\"#ed7953\"],[0.7777777777777778,\"#fb9f3a\"],[0.8888888888888888,\"#fdca26\"],[1.0,\"#f0f921\"]]}],\"mesh3d\":[{\"type\":\"mesh3d\",\"colorbar\":{\"outlinewidth\":0,\"ticks\":\"\"}}],\"scatter\":[{\"marker\":{\"line\":{\"color\":\"#283442\"}},\"type\":\"scatter\"}],\"parcoords\":[{\"type\":\"parcoords\",\"line\":{\"colorbar\":{\"outlinewidth\":0,\"ticks\":\"\"}}}],\"scatterpolargl\":[{\"type\":\"scatterpolargl\",\"marker\":{\"colorbar\":{\"outlinewidth\":0,\"ticks\":\"\"}}}],\"bar\":[{\"error_x\":{\"color\":\"#f2f5fa\"},\"error_y\":{\"color\":\"#f2f5fa\"},\"marker\":{\"line\":{\"color\":\"rgb(17,17,17)\",\"width\":0.5},\"pattern\":{\"fillmode\":\"overlay\",\"size\":10,\"solidity\":0.2}},\"type\":\"bar\"}],\"scattergeo\":[{\"type\":\"scattergeo\",\"marker\":{\"colorbar\":{\"outlinewidth\":0,\"ticks\":\"\"}}}],\"scatterpolar\":[{\"type\":\"scatterpolar\",\"marker\":{\"colorbar\":{\"outlinewidth\":0,\"ticks\":\"\"}}}],\"histogram\":[{\"marker\":{\"pattern\":{\"fillmode\":\"overlay\",\"size\":10,\"solidity\":0.2}},\"type\":\"histogram\"}],\"scattergl\":[{\"marker\":{\"line\":{\"color\":\"#283442\"}},\"type\":\"scattergl\"}],\"scatter3d\":[{\"type\":\"scatter3d\",\"line\":{\"colorbar\":{\"outlinewidth\":0,\"ticks\":\"\"}},\"marker\":{\"colorbar\":{\"outlinewidth\":0,\"ticks\":\"\"}}}],\"scattermapbox\":[{\"type\":\"scattermapbox\",\"marker\":{\"colorbar\":{\"outlinewidth\":0,\"ticks\":\"\"}}}],\"scatterternary\":[{\"type\":\"scatterternary\",\"marker\":{\"colorbar\":{\"outlinewidth\":0,\"ticks\":\"\"}}}],\"scattercarpet\":[{\"type\":\"scattercarpet\",\"marker\":{\"colorbar\":{\"outlinewidth\":0,\"ticks\":\"\"}}}],\"carpet\":[{\"aaxis\":{\"endlinecolor\":\"#A2B1C6\",\"gridcolor\":\"#506784\",\"linecolor\":\"#506784\",\"minorgridcolor\":\"#506784\",\"startlinecolor\":\"#A2B1C6\"},\"baxis\":{\"endlinecolor\":\"#A2B1C6\",\"gridcolor\":\"#506784\",\"linecolor\":\"#506784\",\"minorgridcolor\":\"#506784\",\"startlinecolor\":\"#A2B1C6\"},\"type\":\"carpet\"}],\"table\":[{\"cells\":{\"fill\":{\"color\":\"#506784\"},\"line\":{\"color\":\"rgb(17,17,17)\"}},\"header\":{\"fill\":{\"color\":\"#2a3f5f\"},\"line\":{\"color\":\"rgb(17,17,17)\"}},\"type\":\"table\"}],\"barpolar\":[{\"marker\":{\"line\":{\"color\":\"rgb(17,17,17)\",\"width\":0.5},\"pattern\":{\"fillmode\":\"overlay\",\"size\":10,\"solidity\":0.2}},\"type\":\"barpolar\"}],\"pie\":[{\"automargin\":true,\"type\":\"pie\"}]},\"layout\":{\"autotypenumbers\":\"strict\",\"colorway\":[\"#636efa\",\"#EF553B\",\"#00cc96\",\"#ab63fa\",\"#FFA15A\",\"#19d3f3\",\"#FF6692\",\"#B6E880\",\"#FF97FF\",\"#FECB52\"],\"font\":{\"color\":\"#f2f5fa\"},\"hovermode\":\"closest\",\"hoverlabel\":{\"align\":\"left\"},\"paper_bgcolor\":\"rgb(17,17,17)\",\"plot_bgcolor\":\"rgb(17,17,17)\",\"polar\":{\"bgcolor\":\"rgb(17,17,17)\",\"angularaxis\":{\"gridcolor\":\"#506784\",\"linecolor\":\"#506784\",\"ticks\":\"\"},\"radialaxis\":{\"gridcolor\":\"#506784\",\"linecolor\":\"#506784\",\"ticks\":\"\"}},\"ternary\":{\"bgcolor\":\"rgb(17,17,17)\",\"aaxis\":{\"gridcolor\":\"#506784\",\"linecolor\":\"#506784\",\"ticks\":\"\"},\"baxis\":{\"gridcolor\":\"#506784\",\"linecolor\":\"#506784\",\"ticks\":\"\"},\"caxis\":{\"gridcolor\":\"#506784\",\"linecolor\":\"#506784\",\"ticks\":\"\"}},\"coloraxis\":{\"colorbar\":{\"outlinewidth\":0,\"ticks\":\"\"}},\"colorscale\":{\"sequential\":[[0.0,\"#0d0887\"],[0.1111111111111111,\"#46039f\"],[0.2222222222222222,\"#7201a8\"],[0.3333333333333333,\"#9c179e\"],[0.4444444444444444,\"#bd3786\"],[0.5555555555555556,\"#d8576b\"],[0.6666666666666666,\"#ed7953\"],[0.7777777777777778,\"#fb9f3a\"],[0.8888888888888888,\"#fdca26\"],[1.0,\"#f0f921\"]],\"sequentialminus\":[[0.0,\"#0d0887\"],[0.1111111111111111,\"#46039f\"],[0.2222222222222222,\"#7201a8\"],[0.3333333333333333,\"#9c179e\"],[0.4444444444444444,\"#bd3786\"],[0.5555555555555556,\"#d8576b\"],[0.6666666666666666,\"#ed7953\"],[0.7777777777777778,\"#fb9f3a\"],[0.8888888888888888,\"#fdca26\"],[1.0,\"#f0f921\"]],\"diverging\":[[0,\"#8e0152\"],[0.1,\"#c51b7d\"],[0.2,\"#de77ae\"],[0.3,\"#f1b6da\"],[0.4,\"#fde0ef\"],[0.5,\"#f7f7f7\"],[0.6,\"#e6f5d0\"],[0.7,\"#b8e186\"],[0.8,\"#7fbc41\"],[0.9,\"#4d9221\"],[1,\"#276419\"]]},\"xaxis\":{\"gridcolor\":\"#283442\",\"linecolor\":\"#506784\",\"ticks\":\"\",\"title\":{\"standoff\":15},\"zerolinecolor\":\"#283442\",\"automargin\":true,\"zerolinewidth\":2},\"yaxis\":{\"gridcolor\":\"#283442\",\"linecolor\":\"#506784\",\"ticks\":\"\",\"title\":{\"standoff\":15},\"zerolinecolor\":\"#283442\",\"automargin\":true,\"zerolinewidth\":2},\"scene\":{\"xaxis\":{\"backgroundcolor\":\"rgb(17,17,17)\",\"gridcolor\":\"#506784\",\"linecolor\":\"#506784\",\"showbackground\":true,\"ticks\":\"\",\"zerolinecolor\":\"#C8D4E3\",\"gridwidth\":2},\"yaxis\":{\"backgroundcolor\":\"rgb(17,17,17)\",\"gridcolor\":\"#506784\",\"linecolor\":\"#506784\",\"showbackground\":true,\"ticks\":\"\",\"zerolinecolor\":\"#C8D4E3\",\"gridwidth\":2},\"zaxis\":{\"backgroundcolor\":\"rgb(17,17,17)\",\"gridcolor\":\"#506784\",\"linecolor\":\"#506784\",\"showbackground\":true,\"ticks\":\"\",\"zerolinecolor\":\"#C8D4E3\",\"gridwidth\":2}},\"shapedefaults\":{\"line\":{\"color\":\"#f2f5fa\"}},\"annotationdefaults\":{\"arrowcolor\":\"#f2f5fa\",\"arrowhead\":0,\"arrowwidth\":1},\"geo\":{\"bgcolor\":\"rgb(17,17,17)\",\"landcolor\":\"rgb(17,17,17)\",\"subunitcolor\":\"#506784\",\"showland\":true,\"showlakes\":true,\"lakecolor\":\"rgb(17,17,17)\"},\"title\":{\"x\":0.05},\"updatemenudefaults\":{\"bgcolor\":\"#506784\",\"borderwidth\":0},\"sliderdefaults\":{\"bgcolor\":\"#C8D4E3\",\"borderwidth\":1,\"bordercolor\":\"rgb(17,17,17)\",\"tickwidth\":0},\"mapbox\":{\"style\":\"dark\"}}},\"margin\":{\"l\":150},\"title\":{\"text\":\"PageRank of Top 40 Wikispeedia Articles\"},\"xaxis\":{\"title\":{\"text\":\"PageRank\"}},\"yaxis\":{\"title\":{\"text\":\"Articles\"}},\"height\":800},                        {\"responsive\": true}                    ).then(function(){\n                            \nvar gd = document.getElementById('3cdecce6-3017-4c20-a837-557432911d86');\nvar x = new MutationObserver(function (mutations, observer) {{\n        var display = window.getComputedStyle(gd).display;\n        if (!display || display === 'none') {{\n            console.log([gd, 'removed!']);\n            Plotly.purge(gd);\n            observer.disconnect();\n        }}\n}});\n\n// Listen for the removal of the full notebook cells\nvar notebookContainer = gd.closest('#notebook-container');\nif (notebookContainer) {{\n    x.observe(notebookContainer, {childList: true});\n}}\n\n// Listen for the clearing of the current output cell\nvar outputEl = gd.closest('.output');\nif (outputEl) {{\n    x.observe(outputEl, {childList: true});\n}}\n\n                        })                };                });            </script>        </div>"
     },
     "metadata": {},
     "output_type": "display_data"
    }
   ],
   "source": [
    "n = 40\n",
    "names_top_n = names[:n]\n",
    "values_top_n = values[:n]\n",
    "\n",
    "fig = go.Figure(go.Bar(\n",
    "    x=values_top_n,\n",
    "    y=names_top_n,\n",
    "    orientation='h',  # 'h' for horizontal, 'v' for vertical bars\n",
    "     # Adjust colors here\n",
    "))\n",
    "\n",
    "fig.update_layout(\n",
    "    title='PageRank of Top 40 Wikispeedia Articles',\n",
    "    xaxis_title='PageRank',\n",
    "    yaxis_title='Articles',\n",
    "    height=800,  # Adjust the height of the plot as needed\n",
    "    margin=dict(l=150),  # Adjust left margin for longer y-axis labels\n",
    ")\n",
    "fig.show()\n",
    "\n",
    "fig.write_html(\"Figures/Plotly_PageRank40.html\")"
   ]
  },
  {
   "cell_type": "markdown",
   "metadata": {},
   "source": [
    "### 2.4. Average Distance between Articles\n",
    "On average, how many links/edges does it take to connect any random two articles?"
   ]
  },
  {
   "cell_type": "code",
   "execution_count": 20,
   "metadata": {
    "ExecuteTime": {
     "end_time": "2023-12-21T19:15:33.548336400Z",
     "start_time": "2023-12-21T19:14:34.625509700Z"
    }
   },
   "outputs": [
    {
     "name": "stdout",
     "output_type": "stream",
     "text": [
      "Average distance between reachable nodes: 3.20\n"
     ]
    }
   ],
   "source": [
    "# Our graph is not strongly connected, meaning it's not possible to reach every node from every other node\n",
    "# So we can't use the built in function nx.average_shortest_path_length\n",
    "\n",
    "# This takes a long time to run (30 sec)\n",
    "shortest_paths = list(nx.all_pairs_shortest_path_length(wikispeedia))\n",
    "reachable_pairs = [(source, target, length) for source, paths in shortest_paths for target, length in paths.items() if length != float('inf')]\n",
    "total_distances = sum(length for _, _, length in reachable_pairs)\n",
    "average_distance = total_distances / len(reachable_pairs) if reachable_pairs else 0\n",
    "print(f\"Average distance between reachable nodes: {average_distance:.2f}\")\n"
   ]
  },
  {
   "cell_type": "markdown",
   "metadata": {},
   "source": [
    "### 2.5. Games per Time\n",
    "Histogram of the number of games at each point in time.\n"
   ]
  },
  {
   "cell_type": "code",
   "execution_count": 21,
   "metadata": {
    "ExecuteTime": {
     "end_time": "2023-12-21T19:15:34.075054900Z",
     "start_time": "2023-12-21T19:15:33.546337100Z"
    }
   },
   "outputs": [
    {
     "data": {
      "text/plain": "<Figure size 640x480 with 1 Axes>",
      "image/png": "[encoded data removed]"
     },
     "metadata": {},
     "output_type": "display_data"
    }
   ],
   "source": [
    "# Convert timestamps to datetime objects\n",
    "timestamps = finished_paths['timestamp']\n",
    "date_times = [datetime.utcfromtimestamp(ts) for ts in timestamps]\n",
    "\n",
    "# Create a histogram of timestamps\n",
    "plt.hist(date_times, bins=20, color='skyblue')\n",
    "plt.xlabel('Time')\n",
    "plt.ylabel('Frequency')\n",
    "plt.title('Distribution of Timestamps')\n",
    "plt.xticks(rotation=45)  # Rotate x-axis labels for better readability\n",
    "plt.show()"
   ]
  },
  {
   "cell_type": "markdown",
   "metadata": {},
   "source": [
    "A lot of games were played in Q3 2009! "
   ]
  },
  {
   "cell_type": "code",
   "execution_count": 22,
   "metadata": {
    "ExecuteTime": {
     "end_time": "2023-12-21T19:15:34.093775300Z",
     "start_time": "2023-12-21T19:15:34.073074600Z"
    }
   },
   "outputs": [
    {
     "name": "stdout",
     "output_type": "stream",
     "text": [
      "Percent of finished games completed in Q3 2009: 0.24\n"
     ]
    }
   ],
   "source": [
    "q3_2009_times = [dt for dt in date_times if dt.year == 2009 and dt.month in [7, 8, 9]]\n",
    "percent_q3_2009_times = len(q3_2009_times) / len(date_times)\n",
    "print(f\"Percent of finished games completed in Q3 2009: {percent_q3_2009_times:.2f}\")\n"
   ]
  },
  {
   "cell_type": "markdown",
   "metadata": {},
   "source": [
    "### 2.6. Which categories of games are more likely to be unfinished? "
   ]
  },
  {
   "cell_type": "code",
   "execution_count": 23,
   "metadata": {
    "ExecuteTime": {
     "end_time": "2023-12-21T19:15:34.238526500Z",
     "start_time": "2023-12-21T19:15:34.082312800Z"
    }
   },
   "outputs": [
    {
     "name": "stdout",
     "output_type": "stream",
     "text": [
      "There are 606 articles with more than 1 category.\n",
      "Should we drop the duplicate categories, or doublecount them?\n",
      "This corresponds to 0.13196864111498258 of the articles.\n",
      "The new shape is:  (5204, 2)\n"
     ]
    }
   ],
   "source": [
    "print('There are', categories['article'].duplicated().sum(), 'articles with more than 1 category.')\n",
    "\n",
    "print('Should we drop the duplicate categories, or doublecount them?')\n",
    "print('This corresponds to', categories['article'].duplicated().sum() / len(wikispeedia.nodes), 'of the articles.')\n",
    "\n",
    "# Let's drop them for now.\n",
    "categories['article'] = categories['article'].drop_duplicates()\n",
    "print('The new shape is: ',categories.shape)\n",
    "\n",
    "# Why are there more articles here than nodes (# articles)?"
   ]
  },
  {
   "cell_type": "code",
   "execution_count": 24,
   "metadata": {
    "ExecuteTime": {
     "end_time": "2023-12-21T19:15:34.239916400Z",
     "start_time": "2023-12-21T19:15:34.098284800Z"
    }
   },
   "outputs": [
    {
     "data": {
      "text/plain": "                            article  \\\n0  %C3%81ed%C3%A1n_mac_Gabr%C3%A1in   \n1                               NaN   \n2                        %C3%85land   \n3                               NaN   \n4                %C3%89douard_Manet   \n\n                                          categories    depth_1  \n0  subject.History.British_History.British_Histor...    History  \n1                  subject.People.Historical_figures     People  \n2                                  subject.Countries  Countries  \n3  subject.Geography.European_Geography.European_...  Geography  \n4                             subject.People.Artists     People  ",
      "text/html": "<div>\n<style scoped>\n    .dataframe tbody tr th:only-of-type {\n        vertical-align: middle;\n    }\n\n    .dataframe tbody tr th {\n        vertical-align: top;\n    }\n\n    .dataframe thead th {\n        text-align: right;\n    }\n</style>\n<table border=\"1\" class=\"dataframe\">\n  <thead>\n    <tr style=\"text-align: right;\">\n      <th></th>\n      <th>article</th>\n      <th>categories</th>\n      <th>depth_1</th>\n    </tr>\n  </thead>\n  <tbody>\n    <tr>\n      <th>0</th>\n      <td>%C3%81ed%C3%A1n_mac_Gabr%C3%A1in</td>\n      <td>subject.History.British_History.British_Histor...</td>\n      <td>History</td>\n    </tr>\n    <tr>\n      <th>1</th>\n      <td>NaN</td>\n      <td>subject.People.Historical_figures</td>\n      <td>People</td>\n    </tr>\n    <tr>\n      <th>2</th>\n      <td>%C3%85land</td>\n      <td>subject.Countries</td>\n      <td>Countries</td>\n    </tr>\n    <tr>\n      <th>3</th>\n      <td>NaN</td>\n      <td>subject.Geography.European_Geography.European_...</td>\n      <td>Geography</td>\n    </tr>\n    <tr>\n      <th>4</th>\n      <td>%C3%89douard_Manet</td>\n      <td>subject.People.Artists</td>\n      <td>People</td>\n    </tr>\n  </tbody>\n</table>\n</div>"
     },
     "execution_count": 24,
     "metadata": {},
     "output_type": "execute_result"
    }
   ],
   "source": [
    "# Let's use string manipulation to extract the highest level category for each article.\n",
    "\n",
    "sub_categories = categories['categories'].str[8:].str.split('.')\n",
    "category_depth_1 = sub_categories.apply(lambda x: x[0])\n",
    "categories['depth_1'] = category_depth_1\n",
    "categories.head()"
   ]
  },
  {
   "cell_type": "markdown",
   "metadata": {},
   "source": [
    "Let's find the category corresponding to each unfinished target."
   ]
  },
  {
   "cell_type": "code",
   "execution_count": 25,
   "metadata": {
    "ExecuteTime": {
     "end_time": "2023-12-21T19:15:34.578246100Z",
     "start_time": "2023-12-21T19:15:34.119254100Z"
    }
   },
   "outputs": [
    {
     "data": {
      "text/plain": "<Figure size 640x480 with 1 Axes>",
      "image/png": "[encoded data removed]"
     },
     "metadata": {},
     "output_type": "display_data"
    }
   ],
   "source": [
    "# Merging categories with unfinished paths.\n",
    "unfinished_paths_with_categories = pd.merge(unfinished_paths, categories, left_on = 'target', right_on= 'article', how = 'left')\n",
    "\n",
    "# Count the occurrences of each category\n",
    "category_counts = unfinished_paths_with_categories['depth_1'].value_counts()\n",
    "\n",
    "# Plotting the bar chart\n",
    "plt.bar(category_counts.index, category_counts.values)\n",
    "\n",
    "# Adding labels and title\n",
    "plt.xlabel('Depth 1 Categories')\n",
    "plt.ylabel('Frequency')\n",
    "plt.title('Frequency of Categories of Target Articles in Unfinished Paths')\n",
    "\n",
    "plt.xticks(rotation=90)  # Rotate x-axis labels for better readability\n",
    "plt.tight_layout()  # Ensure labels fit within the plot area"
   ]
  },
  {
   "cell_type": "markdown",
   "metadata": {},
   "source": [
    "Notice that targets in the science category make up the largest proportion of unfinished games. In Deliverable 3, we will investigate this more. We'll discover if this is because most of the articles are from the science category, or if science articles are actually harder to find in the game."
   ]
  },
  {
   "cell_type": "markdown",
   "metadata": {
    "collapsed": false
   },
   "source": [
    "### 2.7 Issue with the shortest path\n",
    "The shortest paths that were calculated are wrong. This is just a simple example to show that at least one of the points is wrong. We assume this is common enough elsewhere, as the effort needed to properly prove this is too large.\n",
    "\n",
    "We double-checked the method for reading in the data, and there are no big changes to be done there. We also double-checked that the graph is a directed graph, which matters for this search. Additionally, we manually checked the edges, so we know that the following example is correct."
   ]
  },
  {
   "cell_type": "code",
   "execution_count": 26,
   "metadata": {
    "collapsed": false,
    "ExecuteTime": {
     "end_time": "2023-12-21T19:15:34.578246100Z",
     "start_time": "2023-12-21T19:15:34.533955Z"
    }
   },
   "outputs": [
    {
     "name": "stdout",
     "output_type": "stream",
     "text": [
      "Shortest path from Actor to Japan in the given matrix is: 3\n",
      "Shortest path from Actor to Japan according to networkX is: 1\n",
      "The actual path is: ['Actor', 'Japan']\n"
     ]
    }
   ],
   "source": [
    "# We have to put the strings into tuples to make this work. It's ugly, but this works\n",
    "print(\"Shortest path from Actor to Japan in the given matrix is:\", shortest_path_df[('Actor',)][('Japan',)])\n",
    "\n",
    "print(\"Shortest path from Actor to Japan according to networkX is:\", len(shortest_path_dict['Actor']['Japan'])-1)\n",
    "\n",
    "print(\"The actual path is:\", shortest_path_dict['Actor']['Japan'])"
   ]
  },
  {
   "cell_type": "code",
   "execution_count": 27,
   "metadata": {
    "ExecuteTime": {
     "end_time": "2023-12-21T19:15:34.579752500Z",
     "start_time": "2023-12-21T19:15:34.539731200Z"
    }
   },
   "outputs": [
    {
     "data": {
      "text/plain": "'   #copyright\\n\\nObi-Wan Kenobi\\n\\n2007 Schools Wikipedia Selection. Related subjects: Films\\n\\n   Star Wa'"
     },
     "execution_count": 27,
     "metadata": {},
     "output_type": "execute_result"
    }
   ],
   "source": [
    "# No need to print the entire text, just show that reading it in works\n",
    "obi_wan_text[:100]"
   ]
  },
  {
   "cell_type": "markdown",
   "metadata": {},
   "source": [
    "### 2.8. Study of Unique Paths\n",
    "Here we study the unique source and target pairs. We will use the dataframes to compare the performance between humans and machines, as well as to know what paths to make machines complete.\n",
    "\n",
    "**article_combinations**\n",
    "\n",
    "This dataframe contains information on all the combination of source and target articles in the finished games (paths). It includes how many times it has been played, and the mean and std of the path length, duration of the game, and rating.\n",
    "\n",
    "**unique_targets** and **unique_sources**\n",
    "\n",
    "These dataframes include all the sources and targets that appears in the finished games\n",
    "\n",
    "<br><br>\n",
    "Note that we don't change to ASCII the name of the articles yet. We will do it at a later step if we need to.\n",
    "<br><br>"
   ]
  },
  {
   "cell_type": "code",
   "execution_count": 28,
   "metadata": {
    "ExecuteTime": {
     "end_time": "2023-12-21T19:15:34.772277Z",
     "start_time": "2023-12-21T19:15:34.551834700Z"
    }
   },
   "outputs": [],
   "source": [
    "# How many each pair of articles has been visited\n",
    "article_combinations_count = finished_paths.groupby(['first_article', 'last_article']).size().reset_index(name='count')\n",
    "\n",
    "# The mean and std of the path length for each pair of articles\n",
    "article_combinations_stats = finished_paths.groupby(['first_article', 'last_article'])['path_length'].agg(['mean', 'std']).reset_index()\n",
    "article_combinations_stats['std'] = article_combinations_stats['std'].fillna(0)\n",
    "article_combinations_stats.rename(columns={'mean': 'mean_length', 'std': 'std_length'}, inplace=True)\n",
    "\n",
    "# The mean and std of the rating for each pair of articles. \n",
    "    # Note that mean and std may be nan if there are nan ratings. We purposely leave them as nan, as we don't want to fill them with 0s or 1s.\n",
    "    # Depending on the application, we could change this in the future if neeeded.\n",
    "rating_combinations_stats_rating = finished_paths.groupby(['first_article', 'last_article'])['rating'].agg(['mean', 'std']).reset_index()\n",
    "#rating_combinations_stats_rating['std'] = rating_combinations_stats_rating['std'].fillna(0)\n",
    "mask = rating_combinations_stats_rating['mean'].notnull()\n",
    "rating_combinations_stats_rating.loc[mask, 'std'] = rating_combinations_stats_rating.loc[mask, 'std'].fillna(0)\n",
    "rating_combinations_stats_rating.rename(columns={'mean': 'mean_rating', 'std': 'std_rating'}, inplace=True)\n",
    "\n",
    "# The mean and std of the time for each pair of articles.\n",
    "rating_combinations_stats_time = finished_paths.groupby(['first_article', 'last_article'])['durationInSec'].agg(['mean', 'std']).reset_index()\n",
    "rating_combinations_stats_time['std'] = rating_combinations_stats_time['std'].fillna(0)\n",
    "rating_combinations_stats_time.rename(columns={'mean': 'mean_durationInSec', 'std': 'std_durationInSec'}, inplace=True)\n",
    "\n",
    "# Merging all the dataframes\n",
    "article_combinations = pd.merge(article_combinations_count, article_combinations_stats, on=['first_article', 'last_article'])\n",
    "article_combinations = pd.merge(article_combinations, rating_combinations_stats_rating, on=['first_article', 'last_article'])\n",
    "article_combinations = pd.merge(article_combinations, rating_combinations_stats_time, on=['first_article', 'last_article'])\n",
    "\n",
    "# The number of unique sources and targets\n",
    "unique_sources = finished_paths['first_article'].value_counts().reset_index()\n",
    "unique_targets = finished_paths['last_article'].value_counts().reset_index()"
   ]
  },
  {
   "cell_type": "code",
   "execution_count": 29,
   "metadata": {
    "ExecuteTime": {
     "end_time": "2023-12-21T19:15:34.773284500Z",
     "start_time": "2023-12-21T19:15:34.720016Z"
    }
   },
   "outputs": [
    {
     "data": {
      "text/plain": "        first_article     last_article  count  mean_length  std_length  \\\n2882           Bamako           Brazil      2          4.0    2.828427   \n21636           Raven           Arctic      1          4.0    0.000000   \n3061   Baruch_Spinoza          Gazelle      2         12.5    3.535534   \n24841          Sweden  Australian_Open      1          3.0    0.000000   \n10140        Francium    Birth_control      2         13.5    7.778175   \n\n       mean_rating  std_rating  mean_durationInSec  std_durationInSec  \n2882           NaN         NaN                50.0           8.485281  \n21636          1.0         0.0                28.0           0.000000  \n3061           3.0         0.0               507.0          18.384776  \n24841          1.0         0.0                24.0           0.000000  \n10140          3.0         0.0               338.5         279.307179  ",
      "text/html": "<div>\n<style scoped>\n    .dataframe tbody tr th:only-of-type {\n        vertical-align: middle;\n    }\n\n    .dataframe tbody tr th {\n        vertical-align: top;\n    }\n\n    .dataframe thead th {\n        text-align: right;\n    }\n</style>\n<table border=\"1\" class=\"dataframe\">\n  <thead>\n    <tr style=\"text-align: right;\">\n      <th></th>\n      <th>first_article</th>\n      <th>last_article</th>\n      <th>count</th>\n      <th>mean_length</th>\n      <th>std_length</th>\n      <th>mean_rating</th>\n      <th>std_rating</th>\n      <th>mean_durationInSec</th>\n      <th>std_durationInSec</th>\n    </tr>\n  </thead>\n  <tbody>\n    <tr>\n      <th>2882</th>\n      <td>Bamako</td>\n      <td>Brazil</td>\n      <td>2</td>\n      <td>4.0</td>\n      <td>2.828427</td>\n      <td>NaN</td>\n      <td>NaN</td>\n      <td>50.0</td>\n      <td>8.485281</td>\n    </tr>\n    <tr>\n      <th>21636</th>\n      <td>Raven</td>\n      <td>Arctic</td>\n      <td>1</td>\n      <td>4.0</td>\n      <td>0.000000</td>\n      <td>1.0</td>\n      <td>0.0</td>\n      <td>28.0</td>\n      <td>0.000000</td>\n    </tr>\n    <tr>\n      <th>3061</th>\n      <td>Baruch_Spinoza</td>\n      <td>Gazelle</td>\n      <td>2</td>\n      <td>12.5</td>\n      <td>3.535534</td>\n      <td>3.0</td>\n      <td>0.0</td>\n      <td>507.0</td>\n      <td>18.384776</td>\n    </tr>\n    <tr>\n      <th>24841</th>\n      <td>Sweden</td>\n      <td>Australian_Open</td>\n      <td>1</td>\n      <td>3.0</td>\n      <td>0.000000</td>\n      <td>1.0</td>\n      <td>0.0</td>\n      <td>24.0</td>\n      <td>0.000000</td>\n    </tr>\n    <tr>\n      <th>10140</th>\n      <td>Francium</td>\n      <td>Birth_control</td>\n      <td>2</td>\n      <td>13.5</td>\n      <td>7.778175</td>\n      <td>3.0</td>\n      <td>0.0</td>\n      <td>338.5</td>\n      <td>279.307179</td>\n    </tr>\n  </tbody>\n</table>\n</div>"
     },
     "execution_count": 29,
     "metadata": {},
     "output_type": "execute_result"
    }
   ],
   "source": [
    "article_combinations.sample(5)"
   ]
  },
  {
   "cell_type": "code",
   "execution_count": 30,
   "metadata": {
    "ExecuteTime": {
     "end_time": "2023-12-21T19:15:34.807626700Z",
     "start_time": "2023-12-21T19:15:34.738919900Z"
    }
   },
   "outputs": [
    {
     "data": {
      "text/plain": "                            index  first_article\n2815                      Ammonia              7\n4044  Stanis%C5%82aw_Koniecpolski              1\n971                 Yangtze_River             15\n1853               Mount_Vesuvius             10\n985                      Odysseus             15",
      "text/html": "<div>\n<style scoped>\n    .dataframe tbody tr th:only-of-type {\n        vertical-align: middle;\n    }\n\n    .dataframe tbody tr th {\n        vertical-align: top;\n    }\n\n    .dataframe thead th {\n        text-align: right;\n    }\n</style>\n<table border=\"1\" class=\"dataframe\">\n  <thead>\n    <tr style=\"text-align: right;\">\n      <th></th>\n      <th>index</th>\n      <th>first_article</th>\n    </tr>\n  </thead>\n  <tbody>\n    <tr>\n      <th>2815</th>\n      <td>Ammonia</td>\n      <td>7</td>\n    </tr>\n    <tr>\n      <th>4044</th>\n      <td>Stanis%C5%82aw_Koniecpolski</td>\n      <td>1</td>\n    </tr>\n    <tr>\n      <th>971</th>\n      <td>Yangtze_River</td>\n      <td>15</td>\n    </tr>\n    <tr>\n      <th>1853</th>\n      <td>Mount_Vesuvius</td>\n      <td>10</td>\n    </tr>\n    <tr>\n      <th>985</th>\n      <td>Odysseus</td>\n      <td>15</td>\n    </tr>\n  </tbody>\n</table>\n</div>"
     },
     "execution_count": 30,
     "metadata": {},
     "output_type": "execute_result"
    }
   ],
   "source": [
    "unique_sources.sample(5)"
   ]
  },
  {
   "cell_type": "code",
   "execution_count": 31,
   "metadata": {
    "ExecuteTime": {
     "end_time": "2023-12-21T19:15:34.813139100Z",
     "start_time": "2023-12-21T19:15:34.752385500Z"
    }
   },
   "outputs": [
    {
     "data": {
      "text/plain": "                                  index  last_article\n3231                  Pan_Am_Flight_103             4\n1463                      Francis_Bacon            11\n2784                 The_Rite_of_Spring             5\n3080  Husein_Grada%C5%A1%C4%8Devi%C4%87             4\n1639                           Election            10",
      "text/html": "<div>\n<style scoped>\n    .dataframe tbody tr th:only-of-type {\n        vertical-align: middle;\n    }\n\n    .dataframe tbody tr th {\n        vertical-align: top;\n    }\n\n    .dataframe thead th {\n        text-align: right;\n    }\n</style>\n<table border=\"1\" class=\"dataframe\">\n  <thead>\n    <tr style=\"text-align: right;\">\n      <th></th>\n      <th>index</th>\n      <th>last_article</th>\n    </tr>\n  </thead>\n  <tbody>\n    <tr>\n      <th>3231</th>\n      <td>Pan_Am_Flight_103</td>\n      <td>4</td>\n    </tr>\n    <tr>\n      <th>1463</th>\n      <td>Francis_Bacon</td>\n      <td>11</td>\n    </tr>\n    <tr>\n      <th>2784</th>\n      <td>The_Rite_of_Spring</td>\n      <td>5</td>\n    </tr>\n    <tr>\n      <th>3080</th>\n      <td>Husein_Grada%C5%A1%C4%8Devi%C4%87</td>\n      <td>4</td>\n    </tr>\n    <tr>\n      <th>1639</th>\n      <td>Election</td>\n      <td>10</td>\n    </tr>\n  </tbody>\n</table>\n</div>"
     },
     "execution_count": 31,
     "metadata": {},
     "output_type": "execute_result"
    }
   ],
   "source": [
    "unique_targets.sample(5)"
   ]
  },
  {
   "cell_type": "markdown",
   "metadata": {
    "collapsed": false
   },
   "source": [
    "### 2.9. Study of hubs\n",
    "In the original paper, the authors make a point that hubs are used too commonly by users, and that this might not often be the case for the shortest path.\n",
    "\n",
    "We want to double check if that holds or not, by checking the number of times a node is used in the paths given in the dataset, versus the number of times they appear in the actual shortest paths.\n",
    "\n",
    "The only important caveat for this is that the networkX only returns one of the shortest paths, and there might be multiple. It is possible that the different alternate paths give a different result, but for now this is good enough."
   ]
  },
  {
   "cell_type": "code",
   "execution_count": 32,
   "metadata": {
    "collapsed": false,
    "ExecuteTime": {
     "end_time": "2023-12-21T19:15:35.330805500Z",
     "start_time": "2023-12-21T19:15:34.762876500Z"
    }
   },
   "outputs": [
    {
     "data": {
      "text/plain": "Text(0.5, 1.0, 'Appearances in paths versus degree')"
     },
     "execution_count": 32,
     "metadata": {},
     "output_type": "execute_result"
    },
    {
     "data": {
      "text/plain": "<Figure size 640x480 with 1 Axes>",
      "image/png": "[encoded data removed]"
     },
     "metadata": {},
     "output_type": "display_data"
    }
   ],
   "source": [
    "paths_finished = pd.read_csv('datasets/wikispeedia_paths-and-graph/paths_finished.tsv', sep='\\t', skiprows=15,\n",
    "                             names=['hashedIpAddress', 'timestamp', \"durationInSec\", 'path', \"rating\"])\n",
    "\n",
    "# This is just splitting all the values in paths, and doing a value count for each one of those!\n",
    "paths_per_step = paths_finished['path'].apply(lambda x: x.split(';')[1:-1])\n",
    "node_appearance_counts = paths_per_step.explode().value_counts()\n",
    "node_appearance_counts = node_appearance_counts.rename_axis('Node_Name').reset_index()\n",
    "\n",
    "# For this, we add the information of the degree of each node, because it's interesting!\n",
    "degree_dict = dict(wikispeedia.degree())\n",
    "node_appearance_counts['Degree'] = node_appearance_counts['Node_Name'].map(degree_dict)\n",
    "\n",
    "#\n",
    "node_appearance_counts.columns = ['Node_Name', 'count', 'Degree']\n",
    "\n",
    "# Backspace is included as an element, we drop it\n",
    "node_appearance_counts = node_appearance_counts[node_appearance_counts.loc[:, 'Node_Name'] != '<']\n",
    "\n",
    "node_appearance_counts.plot.scatter('count', 'Degree')\n",
    "plt.title('Appearances in paths versus degree')"
   ]
  },
  {
   "cell_type": "code",
   "execution_count": 33,
   "metadata": {
    "collapsed": false,
    "ExecuteTime": {
     "end_time": "2023-12-21T19:15:35.531515700Z",
     "start_time": "2023-12-21T19:15:35.245313200Z"
    }
   },
   "outputs": [
    {
     "name": "stdout",
     "output_type": "stream",
     "text": [
      "                            OLS Regression Results                            \n",
      "==============================================================================\n",
      "Dep. Variable:                  count   R-squared:                       0.599\n",
      "Model:                            OLS   Adj. R-squared:                  0.599\n",
      "Method:                 Least Squares   F-statistic:                     5090.\n",
      "Date:                Thu, 21 Dec 2023   Prob (F-statistic):               0.00\n",
      "Time:                        20:15:35   Log-Likelihood:                -22069.\n",
      "No. Observations:                3405   AIC:                         4.414e+04\n",
      "Df Residuals:                    3403   BIC:                         4.416e+04\n",
      "Df Model:                           1                                         \n",
      "Covariance Type:            nonrobust                                         \n",
      "==============================================================================\n",
      "                 coef    std err          t      P>|t|      [0.025      0.975]\n",
      "------------------------------------------------------------------------------\n",
      "Intercept    -76.6768      3.364    -22.794      0.000     -83.272     -70.081\n",
      "Degree         2.2069      0.031     71.344      0.000       2.146       2.268\n",
      "==============================================================================\n",
      "Omnibus:                     5659.517   Durbin-Watson:                   1.141\n",
      "Prob(Omnibus):                  0.000   Jarque-Bera (JB):         11682784.746\n",
      "Skew:                          10.577   Prob(JB):                         0.00\n",
      "Kurtosis:                     289.178   Cond. No.                         135.\n",
      "==============================================================================\n",
      "\n",
      "Notes:\n",
      "[1] Standard Errors assume that the covariance matrix of the errors is correctly specified.\n"
     ]
    }
   ],
   "source": [
    "import statsmodels.formula.api as smf\n",
    "\n",
    "mod = smf.ols(formula='count ~ Degree', data=node_appearance_counts)\n",
    "\n",
    "res = mod.fit()\n",
    "print(res.summary())"
   ]
  },
  {
   "cell_type": "code",
   "execution_count": 73,
   "outputs": [
    {
     "data": {
      "text/plain": "Text(0.5, 1.0, 'Appearances in human paths versus degree')"
     },
     "execution_count": 73,
     "metadata": {},
     "output_type": "execute_result"
    },
    {
     "data": {
      "text/plain": "<Figure size 640x480 with 1 Axes>",
      "image/png": "[encoded data removed]"
     },
     "metadata": {},
     "output_type": "display_data"
    }
   ],
   "source": [
    "sns.regplot(x='count', y='Degree', data=node_appearance_counts)\n",
    "plt.title('Appearances in human paths versus degree')"
   ],
   "metadata": {
    "collapsed": false,
    "ExecuteTime": {
     "end_time": "2023-12-21T20:15:30.001266900Z",
     "start_time": "2023-12-21T20:15:29.445410700Z"
    }
   }
  },
  {
   "cell_type": "markdown",
   "metadata": {
    "collapsed": false
   },
   "source": [
    "Based on the regression analysis, there is a correlation between how often a node is used in the paths and the degree. So this idea of players using a hub is definitely common for the human dataset.\n",
    "\n",
    "We can also see that there is a high R squared, considering there is only one variable. So the degree does help explain how often it will appear in the paths.\n",
    "\n",
    "Now, does this actually hold for the shortest paths?"
   ]
  },
  {
   "cell_type": "code",
   "execution_count": 74,
   "metadata": {
    "collapsed": false,
    "ExecuteTime": {
     "end_time": "2023-12-21T20:21:57.663243900Z",
     "start_time": "2023-12-21T20:19:49.023938Z"
    }
   },
   "outputs": [
    {
     "ename": "KeyError",
     "evalue": "'count'",
     "output_type": "error",
     "traceback": [
      "\u001B[1;31m---------------------------------------------------------------------------\u001B[0m",
      "\u001B[1;31mKeyError\u001B[0m                                  Traceback (most recent call last)",
      "File \u001B[1;32m~\\anaconda3\\Lib\\site-packages\\pandas\\core\\indexes\\base.py:3802\u001B[0m, in \u001B[0;36mIndex.get_loc\u001B[1;34m(self, key, method, tolerance)\u001B[0m\n\u001B[0;32m   3801\u001B[0m \u001B[38;5;28;01mtry\u001B[39;00m:\n\u001B[1;32m-> 3802\u001B[0m     \u001B[38;5;28;01mreturn\u001B[39;00m \u001B[38;5;28mself\u001B[39m\u001B[38;5;241m.\u001B[39m_engine\u001B[38;5;241m.\u001B[39mget_loc(casted_key)\n\u001B[0;32m   3803\u001B[0m \u001B[38;5;28;01mexcept\u001B[39;00m \u001B[38;5;167;01mKeyError\u001B[39;00m \u001B[38;5;28;01mas\u001B[39;00m err:\n",
      "File \u001B[1;32m~\\anaconda3\\Lib\\site-packages\\pandas\\_libs\\index.pyx:138\u001B[0m, in \u001B[0;36mpandas._libs.index.IndexEngine.get_loc\u001B[1;34m()\u001B[0m\n",
      "File \u001B[1;32m~\\anaconda3\\Lib\\site-packages\\pandas\\_libs\\index.pyx:165\u001B[0m, in \u001B[0;36mpandas._libs.index.IndexEngine.get_loc\u001B[1;34m()\u001B[0m\n",
      "File \u001B[1;32mpandas\\_libs\\hashtable_class_helper.pxi:5745\u001B[0m, in \u001B[0;36mpandas._libs.hashtable.PyObjectHashTable.get_item\u001B[1;34m()\u001B[0m\n",
      "File \u001B[1;32mpandas\\_libs\\hashtable_class_helper.pxi:5753\u001B[0m, in \u001B[0;36mpandas._libs.hashtable.PyObjectHashTable.get_item\u001B[1;34m()\u001B[0m\n",
      "\u001B[1;31mKeyError\u001B[0m: 'count'",
      "\nThe above exception was the direct cause of the following exception:\n",
      "\u001B[1;31mKeyError\u001B[0m                                  Traceback (most recent call last)",
      "Cell \u001B[1;32mIn[74], line 19\u001B[0m\n\u001B[0;32m     16\u001B[0m shortest_app_counts[\u001B[38;5;124m'\u001B[39m\u001B[38;5;124mDegree\u001B[39m\u001B[38;5;124m'\u001B[39m] \u001B[38;5;241m=\u001B[39m shortest_app_counts[\u001B[38;5;124m'\u001B[39m\u001B[38;5;124mNode_Name\u001B[39m\u001B[38;5;124m'\u001B[39m]\u001B[38;5;241m.\u001B[39mmap(degree_dict)\n\u001B[0;32m     18\u001B[0m \u001B[38;5;66;03m#shortest_app_counts.plot.scatter('value', 'Degree')\u001B[39;00m\n\u001B[1;32m---> 19\u001B[0m sns\u001B[38;5;241m.\u001B[39mregplot(x\u001B[38;5;241m=\u001B[39m\u001B[38;5;124m'\u001B[39m\u001B[38;5;124mcount\u001B[39m\u001B[38;5;124m'\u001B[39m, y\u001B[38;5;241m=\u001B[39m\u001B[38;5;124m'\u001B[39m\u001B[38;5;124mDegree\u001B[39m\u001B[38;5;124m'\u001B[39m, data\u001B[38;5;241m=\u001B[39mshortest_app_counts)\n\u001B[0;32m     21\u001B[0m \u001B[38;5;66;03m#plt.xscale('log')  # Use log scale for better visualization\u001B[39;00m\n\u001B[0;32m     22\u001B[0m \u001B[38;5;66;03m#plt.yscale('log')\u001B[39;00m\n\u001B[0;32m     23\u001B[0m plt\u001B[38;5;241m.\u001B[39mtitle(\u001B[38;5;124m'\u001B[39m\u001B[38;5;124mAppearances in paths versus degree perfect shortest paths\u001B[39m\u001B[38;5;124m'\u001B[39m)\n",
      "File \u001B[1;32m~\\anaconda3\\Lib\\site-packages\\seaborn\\regression.py:747\u001B[0m, in \u001B[0;36mregplot\u001B[1;34m(data, x, y, x_estimator, x_bins, x_ci, scatter, fit_reg, ci, n_boot, units, seed, order, logistic, lowess, robust, logx, x_partial, y_partial, truncate, dropna, x_jitter, y_jitter, label, color, marker, scatter_kws, line_kws, ax)\u001B[0m\n\u001B[0;32m    736\u001B[0m \u001B[38;5;28;01mdef\u001B[39;00m \u001B[38;5;21mregplot\u001B[39m(\n\u001B[0;32m    737\u001B[0m     data\u001B[38;5;241m=\u001B[39m\u001B[38;5;28;01mNone\u001B[39;00m, \u001B[38;5;241m*\u001B[39m, x\u001B[38;5;241m=\u001B[39m\u001B[38;5;28;01mNone\u001B[39;00m, y\u001B[38;5;241m=\u001B[39m\u001B[38;5;28;01mNone\u001B[39;00m,\n\u001B[0;32m    738\u001B[0m     x_estimator\u001B[38;5;241m=\u001B[39m\u001B[38;5;28;01mNone\u001B[39;00m, x_bins\u001B[38;5;241m=\u001B[39m\u001B[38;5;28;01mNone\u001B[39;00m, x_ci\u001B[38;5;241m=\u001B[39m\u001B[38;5;124m\"\u001B[39m\u001B[38;5;124mci\u001B[39m\u001B[38;5;124m\"\u001B[39m,\n\u001B[1;32m   (...)\u001B[0m\n\u001B[0;32m    744\u001B[0m     scatter_kws\u001B[38;5;241m=\u001B[39m\u001B[38;5;28;01mNone\u001B[39;00m, line_kws\u001B[38;5;241m=\u001B[39m\u001B[38;5;28;01mNone\u001B[39;00m, ax\u001B[38;5;241m=\u001B[39m\u001B[38;5;28;01mNone\u001B[39;00m\n\u001B[0;32m    745\u001B[0m ):\n\u001B[1;32m--> 747\u001B[0m     plotter \u001B[38;5;241m=\u001B[39m _RegressionPlotter(x, y, data, x_estimator, x_bins, x_ci,\n\u001B[0;32m    748\u001B[0m                                  scatter, fit_reg, ci, n_boot, units, seed,\n\u001B[0;32m    749\u001B[0m                                  order, logistic, lowess, robust, logx,\n\u001B[0;32m    750\u001B[0m                                  x_partial, y_partial, truncate, dropna,\n\u001B[0;32m    751\u001B[0m                                  x_jitter, y_jitter, color, label)\n\u001B[0;32m    753\u001B[0m     \u001B[38;5;28;01mif\u001B[39;00m ax \u001B[38;5;129;01mis\u001B[39;00m \u001B[38;5;28;01mNone\u001B[39;00m:\n\u001B[0;32m    754\u001B[0m         ax \u001B[38;5;241m=\u001B[39m plt\u001B[38;5;241m.\u001B[39mgca()\n",
      "File \u001B[1;32m~\\anaconda3\\Lib\\site-packages\\seaborn\\regression.py:107\u001B[0m, in \u001B[0;36m_RegressionPlotter.__init__\u001B[1;34m(self, x, y, data, x_estimator, x_bins, x_ci, scatter, fit_reg, ci, n_boot, units, seed, order, logistic, lowess, robust, logx, x_partial, y_partial, truncate, dropna, x_jitter, y_jitter, color, label)\u001B[0m\n\u001B[0;32m    104\u001B[0m     \u001B[38;5;28;01mraise\u001B[39;00m \u001B[38;5;167;01mValueError\u001B[39;00m(\u001B[38;5;124m\"\u001B[39m\u001B[38;5;124mMutually exclusive regression options.\u001B[39m\u001B[38;5;124m\"\u001B[39m)\n\u001B[0;32m    106\u001B[0m \u001B[38;5;66;03m# Extract the data vals from the arguments or passed dataframe\u001B[39;00m\n\u001B[1;32m--> 107\u001B[0m \u001B[38;5;28mself\u001B[39m\u001B[38;5;241m.\u001B[39mestablish_variables(data, x\u001B[38;5;241m=\u001B[39mx, y\u001B[38;5;241m=\u001B[39my, units\u001B[38;5;241m=\u001B[39munits,\n\u001B[0;32m    108\u001B[0m                          x_partial\u001B[38;5;241m=\u001B[39mx_partial, y_partial\u001B[38;5;241m=\u001B[39my_partial)\n\u001B[0;32m    110\u001B[0m \u001B[38;5;66;03m# Drop null observations\u001B[39;00m\n\u001B[0;32m    111\u001B[0m \u001B[38;5;28;01mif\u001B[39;00m dropna:\n",
      "File \u001B[1;32m~\\anaconda3\\Lib\\site-packages\\seaborn\\regression.py:44\u001B[0m, in \u001B[0;36m_LinearPlotter.establish_variables\u001B[1;34m(self, data, **kws)\u001B[0m\n\u001B[0;32m     42\u001B[0m \u001B[38;5;28;01mfor\u001B[39;00m var, val \u001B[38;5;129;01min\u001B[39;00m kws\u001B[38;5;241m.\u001B[39mitems():\n\u001B[0;32m     43\u001B[0m     \u001B[38;5;28;01mif\u001B[39;00m \u001B[38;5;28misinstance\u001B[39m(val, \u001B[38;5;28mstr\u001B[39m):\n\u001B[1;32m---> 44\u001B[0m         vector \u001B[38;5;241m=\u001B[39m data[val]\n\u001B[0;32m     45\u001B[0m     \u001B[38;5;28;01melif\u001B[39;00m \u001B[38;5;28misinstance\u001B[39m(val, \u001B[38;5;28mlist\u001B[39m):\n\u001B[0;32m     46\u001B[0m         vector \u001B[38;5;241m=\u001B[39m np\u001B[38;5;241m.\u001B[39masarray(val)\n",
      "File \u001B[1;32m~\\anaconda3\\Lib\\site-packages\\pandas\\core\\frame.py:3807\u001B[0m, in \u001B[0;36mDataFrame.__getitem__\u001B[1;34m(self, key)\u001B[0m\n\u001B[0;32m   3805\u001B[0m \u001B[38;5;28;01mif\u001B[39;00m \u001B[38;5;28mself\u001B[39m\u001B[38;5;241m.\u001B[39mcolumns\u001B[38;5;241m.\u001B[39mnlevels \u001B[38;5;241m>\u001B[39m \u001B[38;5;241m1\u001B[39m:\n\u001B[0;32m   3806\u001B[0m     \u001B[38;5;28;01mreturn\u001B[39;00m \u001B[38;5;28mself\u001B[39m\u001B[38;5;241m.\u001B[39m_getitem_multilevel(key)\n\u001B[1;32m-> 3807\u001B[0m indexer \u001B[38;5;241m=\u001B[39m \u001B[38;5;28mself\u001B[39m\u001B[38;5;241m.\u001B[39mcolumns\u001B[38;5;241m.\u001B[39mget_loc(key)\n\u001B[0;32m   3808\u001B[0m \u001B[38;5;28;01mif\u001B[39;00m is_integer(indexer):\n\u001B[0;32m   3809\u001B[0m     indexer \u001B[38;5;241m=\u001B[39m [indexer]\n",
      "File \u001B[1;32m~\\anaconda3\\Lib\\site-packages\\pandas\\core\\indexes\\base.py:3804\u001B[0m, in \u001B[0;36mIndex.get_loc\u001B[1;34m(self, key, method, tolerance)\u001B[0m\n\u001B[0;32m   3802\u001B[0m     \u001B[38;5;28;01mreturn\u001B[39;00m \u001B[38;5;28mself\u001B[39m\u001B[38;5;241m.\u001B[39m_engine\u001B[38;5;241m.\u001B[39mget_loc(casted_key)\n\u001B[0;32m   3803\u001B[0m \u001B[38;5;28;01mexcept\u001B[39;00m \u001B[38;5;167;01mKeyError\u001B[39;00m \u001B[38;5;28;01mas\u001B[39;00m err:\n\u001B[1;32m-> 3804\u001B[0m     \u001B[38;5;28;01mraise\u001B[39;00m \u001B[38;5;167;01mKeyError\u001B[39;00m(key) \u001B[38;5;28;01mfrom\u001B[39;00m \u001B[38;5;21;01merr\u001B[39;00m\n\u001B[0;32m   3805\u001B[0m \u001B[38;5;28;01mexcept\u001B[39;00m \u001B[38;5;167;01mTypeError\u001B[39;00m:\n\u001B[0;32m   3806\u001B[0m     \u001B[38;5;66;03m# If we have a listlike key, _check_indexing_error will raise\u001B[39;00m\n\u001B[0;32m   3807\u001B[0m     \u001B[38;5;66;03m#  InvalidIndexError. Otherwise we fall through and re-raise\u001B[39;00m\n\u001B[0;32m   3808\u001B[0m     \u001B[38;5;66;03m#  the TypeError.\u001B[39;00m\n\u001B[0;32m   3809\u001B[0m     \u001B[38;5;28mself\u001B[39m\u001B[38;5;241m.\u001B[39m_check_indexing_error(key)\n",
      "\u001B[1;31mKeyError\u001B[0m: 'count'"
     ]
    }
   ],
   "source": [
    "shortest_path_dict = dict(nx.all_pairs_shortest_path(wikispeedia))\n",
    "\n",
    "# So, we also remove the first and last element in here\n",
    "shortest_path_df = pd.DataFrame(shortest_path_dict)\n",
    "shortest_path_df = pd.melt(shortest_path_df)\n",
    "# This column is not useful\n",
    "shortest_path_df = shortest_path_df.drop(['variable'], axis=1)\n",
    "shortest_path_df = shortest_path_df['value'].dropna()\n",
    "# This is to remove source and target, to keep the comparison similar\n",
    "shortest_path_df = shortest_path_df.apply(lambda x: x[1:-1])\n",
    "# This is to only keep lists that actually have at least one element\n",
    "shortest_path_df = shortest_path_df[shortest_path_df.map(lambda x: len(x)>0)]\n",
    "\n",
    "shortest_app_counts = shortest_path_df.explode().value_counts()\n",
    "shortest_app_counts = shortest_app_counts.rename_axis('Node_Name').reset_index()\n",
    "shortest_app_counts['Degree'] = shortest_app_counts['Node_Name'].map(degree_dict)\n",
    "\n",
    "# shortest_app_counts.plot.scatter('value', 'Degree')\n",
    "# plt.title('Appearances in paths versus degree shortest paths')"
   ]
  },
  {
   "cell_type": "code",
   "execution_count": 75,
   "outputs": [
    {
     "data": {
      "text/plain": "Text(0.5, 1.0, 'Appearances in shortest paths versus degree shortest paths')"
     },
     "execution_count": 75,
     "metadata": {},
     "output_type": "execute_result"
    },
    {
     "data": {
      "text/plain": "<Figure size 640x480 with 1 Axes>",
      "image/png": "[encoded data removed]"
     },
     "metadata": {},
     "output_type": "display_data"
    }
   ],
   "source": [
    "sns.regplot(x='value', y='Degree', data=shortest_app_counts)\n",
    "plt.title('Appearances in shortest paths versus degree')"
   ],
   "metadata": {
    "collapsed": false,
    "ExecuteTime": {
     "end_time": "2023-12-21T20:23:20.193707400Z",
     "start_time": "2023-12-21T20:23:19.306952200Z"
    }
   }
  },
  {
   "cell_type": "code",
   "execution_count": 35,
   "metadata": {
    "collapsed": false,
    "ExecuteTime": {
     "end_time": "2023-12-21T19:17:29.137398100Z",
     "start_time": "2023-12-21T19:17:29.055264400Z"
    }
   },
   "outputs": [
    {
     "name": "stdout",
     "output_type": "stream",
     "text": [
      "                            OLS Regression Results                            \n",
      "==============================================================================\n",
      "Dep. Variable:                  value   R-squared:                       0.546\n",
      "Model:                            OLS   Adj. R-squared:                  0.546\n",
      "Method:                 Least Squares   F-statistic:                     4771.\n",
      "Date:                Thu, 21 Dec 2023   Prob (F-statistic):               0.00\n",
      "Time:                        20:17:29   Log-Likelihood:                -46255.\n",
      "No. Observations:                3970   AIC:                         9.251e+04\n",
      "Df Residuals:                    3968   BIC:                         9.253e+04\n",
      "Df Model:                           1                                         \n",
      "Covariance Type:            nonrobust                                         \n",
      "==============================================================================\n",
      "                 coef    std err          t      P>|t|      [0.025      0.975]\n",
      "------------------------------------------------------------------------------\n",
      "Intercept  -1.118e+04    539.844    -20.715      0.000   -1.22e+04   -1.01e+04\n",
      "Degree       368.5962      5.337     69.069      0.000     358.133     379.059\n",
      "==============================================================================\n",
      "Omnibus:                     7229.681   Durbin-Watson:                   0.860\n",
      "Prob(Omnibus):                  0.000   Jarque-Bera (JB):         21763052.005\n",
      "Skew:                          12.880   Prob(JB):                         0.00\n",
      "Kurtosis:                     364.803   Cond. No.                         124.\n",
      "==============================================================================\n",
      "\n",
      "Notes:\n",
      "[1] Standard Errors assume that the covariance matrix of the errors is correctly specified.\n"
     ]
    }
   ],
   "source": [
    "mod = smf.ols(formula='value ~ Degree', data=shortest_app_counts)\n",
    "\n",
    "res = mod.fit()\n",
    "print(res.summary())"
   ]
  },
  {
   "cell_type": "markdown",
   "metadata": {
    "collapsed": false
   },
   "source": [
    "While the R squared is lower, it is still quite high in this case. Most importantly, it also shows that there is a correlation between the degree and the number of times it appears in a shortest path!\n",
    "\n",
    "So this implies that hubs are actually very helpful for finding out the path between two nodes, and are commonly used.\n",
    "\n",
    "This is something that can be used in our AI, and maybe further in other analysis."
   ]
  },
  {
   "cell_type": "markdown",
   "source": [
    "2.9.i)\n",
    "\n",
    "Same thing but with page rank"
   ],
   "metadata": {
    "collapsed": false
   }
  },
  {
   "cell_type": "code",
   "execution_count": 78,
   "outputs": [
    {
     "data": {
      "text/plain": "        Node_Name  count  Degree           PageRank\n1   United_States   8824  1845.0  0.009565545383106\n2          Europe   4319  1092.0  0.006339517036740\n3  United_Kingdom   3860  1140.0  0.006234853214872\n4           Earth   3153   387.0  0.002347872608168\n5         England   3123   923.0  0.004474079575944",
      "text/html": "<div>\n<style scoped>\n    .dataframe tbody tr th:only-of-type {\n        vertical-align: middle;\n    }\n\n    .dataframe tbody tr th {\n        vertical-align: top;\n    }\n\n    .dataframe thead th {\n        text-align: right;\n    }\n</style>\n<table border=\"1\" class=\"dataframe\">\n  <thead>\n    <tr style=\"text-align: right;\">\n      <th></th>\n      <th>Node_Name</th>\n      <th>count</th>\n      <th>Degree</th>\n      <th>PageRank</th>\n    </tr>\n  </thead>\n  <tbody>\n    <tr>\n      <th>1</th>\n      <td>United_States</td>\n      <td>8824</td>\n      <td>1845.0</td>\n      <td>0.009565545383106</td>\n    </tr>\n    <tr>\n      <th>2</th>\n      <td>Europe</td>\n      <td>4319</td>\n      <td>1092.0</td>\n      <td>0.006339517036740</td>\n    </tr>\n    <tr>\n      <th>3</th>\n      <td>United_Kingdom</td>\n      <td>3860</td>\n      <td>1140.0</td>\n      <td>0.006234853214872</td>\n    </tr>\n    <tr>\n      <th>4</th>\n      <td>Earth</td>\n      <td>3153</td>\n      <td>387.0</td>\n      <td>0.002347872608168</td>\n    </tr>\n    <tr>\n      <th>5</th>\n      <td>England</td>\n      <td>3123</td>\n      <td>923.0</td>\n      <td>0.004474079575944</td>\n    </tr>\n  </tbody>\n</table>\n</div>"
     },
     "execution_count": 78,
     "metadata": {},
     "output_type": "execute_result"
    }
   ],
   "source": [
    "page_rank = dict(nx.pagerank(wikispeedia))\n",
    "\n",
    "node_appearance_counts['PageRank'] = node_appearance_counts['Node_Name'].map(page_rank)\n",
    "shortest_app_counts['PageRank'] = shortest_app_counts['Node_Name'].map(page_rank)\n",
    "\n",
    "node_appearance_counts.head()"
   ],
   "metadata": {
    "collapsed": false,
    "ExecuteTime": {
     "end_time": "2023-12-21T20:41:33.042373100Z",
     "start_time": "2023-12-21T20:41:32.957810300Z"
    }
   }
  },
  {
   "cell_type": "code",
   "execution_count": 84,
   "outputs": [
    {
     "data": {
      "text/plain": "Text(0.5, 1.0, 'Appearances in human paths versus PageRank')"
     },
     "execution_count": 84,
     "metadata": {},
     "output_type": "execute_result"
    },
    {
     "data": {
      "text/plain": "<Figure size 640x480 with 1 Axes>",
      "image/png": "[encoded data removed]"
     },
     "metadata": {},
     "output_type": "display_data"
    }
   ],
   "source": [
    "sns.regplot(x='count', y='PageRank', data=node_appearance_counts)\n",
    "plt.title('Appearances in human paths versus PageRank')"
   ],
   "metadata": {
    "collapsed": false,
    "ExecuteTime": {
     "end_time": "2023-12-21T20:44:09.095385900Z",
     "start_time": "2023-12-21T20:44:08.480624900Z"
    }
   }
  },
  {
   "cell_type": "code",
   "execution_count": 79,
   "outputs": [
    {
     "name": "stdout",
     "output_type": "stream",
     "text": [
      "                            OLS Regression Results                            \n",
      "==============================================================================\n",
      "Dep. Variable:                  count   R-squared:                       0.617\n",
      "Model:                            OLS   Adj. R-squared:                  0.616\n",
      "Method:                 Least Squares   F-statistic:                     5472.\n",
      "Date:                Thu, 21 Dec 2023   Prob (F-statistic):               0.00\n",
      "Time:                        21:42:17   Log-Likelihood:                -21995.\n",
      "No. Observations:                3405   AIC:                         4.399e+04\n",
      "Df Residuals:                    3403   BIC:                         4.401e+04\n",
      "Df Model:                           1                                         \n",
      "Covariance Type:            nonrobust                                         \n",
      "==============================================================================\n",
      "                 coef    std err          t      P>|t|      [0.025      0.975]\n",
      "------------------------------------------------------------------------------\n",
      "Intercept    -46.5208      3.053    -15.239      0.000     -52.506     -40.536\n",
      "PageRank    4.023e+05   5438.141     73.976      0.000    3.92e+05    4.13e+05\n",
      "==============================================================================\n",
      "Omnibus:                     5996.642   Durbin-Watson:                   1.128\n",
      "Prob(Omnibus):                  0.000   Jarque-Bera (JB):         18313218.736\n",
      "Skew:                          11.865   Prob(JB):                         0.00\n",
      "Kurtosis:                     361.492   Cond. No.                     2.05e+03\n",
      "==============================================================================\n",
      "\n",
      "Notes:\n",
      "[1] Standard Errors assume that the covariance matrix of the errors is correctly specified.\n",
      "[2] The condition number is large, 2.05e+03. This might indicate that there are\n",
      "strong multicollinearity or other numerical problems.\n"
     ]
    }
   ],
   "source": [
    "mod = smf.ols(formula='count ~ PageRank', data=node_appearance_counts)\n",
    "\n",
    "res = mod.fit()\n",
    "print(res.summary())"
   ],
   "metadata": {
    "collapsed": false,
    "ExecuteTime": {
     "end_time": "2023-12-21T20:42:17.394851800Z",
     "start_time": "2023-12-21T20:42:17.331992800Z"
    }
   }
  },
  {
   "cell_type": "code",
   "execution_count": 85,
   "outputs": [
    {
     "data": {
      "text/plain": "Text(0.5, 1.0, 'Appearances in shortest paths versus PageRank')"
     },
     "execution_count": 85,
     "metadata": {},
     "output_type": "execute_result"
    },
    {
     "data": {
      "text/plain": "<Figure size 640x480 with 1 Axes>",
      "image/png": "[encoded data removed]"
     },
     "metadata": {},
     "output_type": "display_data"
    }
   ],
   "source": [
    "sns.regplot(x='value', y='PageRank', data=shortest_app_counts)\n",
    "plt.title('Appearances in shortest paths versus PageRank')"
   ],
   "metadata": {
    "collapsed": false,
    "ExecuteTime": {
     "end_time": "2023-12-21T20:48:06.413687800Z",
     "start_time": "2023-12-21T20:48:05.480577900Z"
    }
   }
  },
  {
   "cell_type": "code",
   "execution_count": 83,
   "outputs": [
    {
     "name": "stdout",
     "output_type": "stream",
     "text": [
      "                            OLS Regression Results                            \n",
      "==============================================================================\n",
      "Dep. Variable:                  value   R-squared:                       0.507\n",
      "Model:                            OLS   Adj. R-squared:                  0.507\n",
      "Method:                 Least Squares   F-statistic:                     4077.\n",
      "Date:                Thu, 21 Dec 2023   Prob (F-statistic):               0.00\n",
      "Time:                        21:43:14   Log-Likelihood:                -46420.\n",
      "No. Observations:                3970   AIC:                         9.284e+04\n",
      "Df Residuals:                    3968   BIC:                         9.286e+04\n",
      "Df Model:                           1                                         \n",
      "Covariance Type:            nonrobust                                         \n",
      "==============================================================================\n",
      "                 coef    std err          t      P>|t|      [0.025      0.975]\n",
      "------------------------------------------------------------------------------\n",
      "Intercept  -5447.4788    521.814    -10.440      0.000   -6470.527   -4424.430\n",
      "PageRank    6.404e+07      1e+06     63.848      0.000    6.21e+07     6.6e+07\n",
      "==============================================================================\n",
      "Omnibus:                     7339.429   Durbin-Watson:                   0.859\n",
      "Prob(Omnibus):                  0.000   Jarque-Bera (JB):         23696420.217\n",
      "Skew:                          13.304   Prob(JB):                         0.00\n",
      "Kurtosis:                     380.551   Cond. No.                     2.18e+03\n",
      "==============================================================================\n",
      "\n",
      "Notes:\n",
      "[1] Standard Errors assume that the covariance matrix of the errors is correctly specified.\n",
      "[2] The condition number is large, 2.18e+03. This might indicate that there are\n",
      "strong multicollinearity or other numerical problems.\n"
     ]
    }
   ],
   "source": [
    "mod = smf.ols(formula='value ~ PageRank', data=shortest_app_counts)\n",
    "\n",
    "res = mod.fit()\n",
    "print(res.summary())"
   ],
   "metadata": {
    "collapsed": false,
    "ExecuteTime": {
     "end_time": "2023-12-21T20:43:14.301337600Z",
     "start_time": "2023-12-21T20:43:14.258284700Z"
    }
   }
  },
  {
   "cell_type": "markdown",
   "metadata": {},
   "source": [
    "### 2.10. DataFrame and spreadsheet creation "
   ]
  },
  {
   "cell_type": "markdown",
   "metadata": {},
   "source": [
    "For future analysis, we may need to filter articles according to some metrics that we may have now or may create in the future. In order to speed up data handling and analysis, we will create the df and store it in a spreadsheet."
   ]
  },
  {
   "cell_type": "code",
   "execution_count": 36,
   "metadata": {
    "ExecuteTime": {
     "end_time": "2023-12-21T19:17:29.137908700Z",
     "start_time": "2023-12-21T19:17:29.106810100Z"
    }
   },
   "outputs": [
    {
     "data": {
      "text/plain": "                                                          articles  Degree  \\\n%C3%81ed%C3%A1n_mac_Gabr%C3%A1in  %C3%81ed%C3%A1n_mac_Gabr%C3%A1in      11   \nBede                                                          Bede      39   \nColumba                                                    Columba      23   \nD%C3%A1l_Riata                                      D%C3%A1l_Riata      32   \nGreat_Britain                                        Great_Britain     215   \n...                                                            ...     ...   \nYellowhammer                                          Yellowhammer      13   \nYotsuya_Kaidan                                      Yotsuya_Kaidan       2   \nYou%27re_Still_the_One                      You%27re_Still_the_One       2   \nYungay%2C_Peru                                      Yungay%2C_Peru       4   \nZara_Yaqob                                              Zara_Yaqob       6   \n\n                                           PageRank  \n%C3%81ed%C3%A1n_mac_Gabr%C3%A1in  0.000032710390396  \nBede                              0.000219381613167  \nColumba                           0.000121168818976  \nD%C3%A1l_Riata                    0.000105560154678  \nGreat_Britain                     0.001506129246284  \n...                                             ...  \nYellowhammer                      0.000032710390396  \nYotsuya_Kaidan                    0.000032710390396  \nYou%27re_Still_the_One            0.000032710390396  \nYungay%2C_Peru                    0.000032710390396  \nZara_Yaqob                        0.000032710390396  \n\n[4592 rows x 3 columns]",
      "text/html": "<div>\n<style scoped>\n    .dataframe tbody tr th:only-of-type {\n        vertical-align: middle;\n    }\n\n    .dataframe tbody tr th {\n        vertical-align: top;\n    }\n\n    .dataframe thead th {\n        text-align: right;\n    }\n</style>\n<table border=\"1\" class=\"dataframe\">\n  <thead>\n    <tr style=\"text-align: right;\">\n      <th></th>\n      <th>articles</th>\n      <th>Degree</th>\n      <th>PageRank</th>\n    </tr>\n  </thead>\n  <tbody>\n    <tr>\n      <th>%C3%81ed%C3%A1n_mac_Gabr%C3%A1in</th>\n      <td>%C3%81ed%C3%A1n_mac_Gabr%C3%A1in</td>\n      <td>11</td>\n      <td>0.000032710390396</td>\n    </tr>\n    <tr>\n      <th>Bede</th>\n      <td>Bede</td>\n      <td>39</td>\n      <td>0.000219381613167</td>\n    </tr>\n    <tr>\n      <th>Columba</th>\n      <td>Columba</td>\n      <td>23</td>\n      <td>0.000121168818976</td>\n    </tr>\n    <tr>\n      <th>D%C3%A1l_Riata</th>\n      <td>D%C3%A1l_Riata</td>\n      <td>32</td>\n      <td>0.000105560154678</td>\n    </tr>\n    <tr>\n      <th>Great_Britain</th>\n      <td>Great_Britain</td>\n      <td>215</td>\n      <td>0.001506129246284</td>\n    </tr>\n    <tr>\n      <th>...</th>\n      <td>...</td>\n      <td>...</td>\n      <td>...</td>\n    </tr>\n    <tr>\n      <th>Yellowhammer</th>\n      <td>Yellowhammer</td>\n      <td>13</td>\n      <td>0.000032710390396</td>\n    </tr>\n    <tr>\n      <th>Yotsuya_Kaidan</th>\n      <td>Yotsuya_Kaidan</td>\n      <td>2</td>\n      <td>0.000032710390396</td>\n    </tr>\n    <tr>\n      <th>You%27re_Still_the_One</th>\n      <td>You%27re_Still_the_One</td>\n      <td>2</td>\n      <td>0.000032710390396</td>\n    </tr>\n    <tr>\n      <th>Yungay%2C_Peru</th>\n      <td>Yungay%2C_Peru</td>\n      <td>4</td>\n      <td>0.000032710390396</td>\n    </tr>\n    <tr>\n      <th>Zara_Yaqob</th>\n      <td>Zara_Yaqob</td>\n      <td>6</td>\n      <td>0.000032710390396</td>\n    </tr>\n  </tbody>\n</table>\n<p>4592 rows × 3 columns</p>\n</div>"
     },
     "execution_count": 36,
     "metadata": {},
     "output_type": "execute_result"
    }
   ],
   "source": [
    "data = {}\n",
    "# establish article name as index\n",
    "articles_index = list(wikispeedia.nodes())\n",
    "df = pd.DataFrame(data, index=articles_index)\n",
    "# add main column\n",
    "df['articles'] = articles_index\n",
    "df['Degree'] = degrees.values()\n",
    "df['PageRank'] = dic.values()\n",
    "pd.set_option('display.precision', 15) # add precision to the df\n",
    "df"
   ]
  },
  {
   "cell_type": "markdown",
   "metadata": {},
   "source": [
    "Convert it into a excel"
   ]
  },
  {
   "cell_type": "code",
   "execution_count": 37,
   "metadata": {
    "ExecuteTime": {
     "end_time": "2023-12-21T19:17:29.138998800Z",
     "start_time": "2023-12-21T19:17:29.121528800Z"
    }
   },
   "outputs": [],
   "source": [
    "# df.to_excel('wikispeedia.xlsx', index=False)"
   ]
  },
  {
   "cell_type": "markdown",
   "metadata": {},
   "source": [
    "# 3. Ways to enrich, filter, transform the data"
   ]
  },
  {
   "cell_type": "markdown",
   "metadata": {},
   "source": [
    "## 3.1 Semantic Similarity\n",
    "\n",
    "An important part of the project is to study how humans and machines move from article to article. Semantic similarity compares two strings based on a trained model and assigns a value according to how are they correlated (the higher, the more related). For example, 'king' and 'queen' will have a higher semantic similarity than say, 'king' and 'chemistry' (will prove this here)."
   ]
  },
  {
   "cell_type": "markdown",
   "metadata": {},
   "source": [
    "### Remove the underscore and decode the url\n",
    "\n",
    "First we define a function that corrects the strings to have a readable format. For example, '%C3%89douard_Manet' is transformed to 'Édouard Manet'.\n",
    "\n",
    "We will create a function to decode a word, and we will be able to use it in series and dataframes using apply()."
   ]
  },
  {
   "cell_type": "code",
   "execution_count": 38,
   "metadata": {
    "ExecuteTime": {
     "end_time": "2023-12-21T19:17:29.138998800Z",
     "start_time": "2023-12-21T19:17:29.127765800Z"
    }
   },
   "outputs": [],
   "source": [
    "def decode_word(word):\n",
    "    word = word.replace('_', ' ')\n",
    "    return unquote(word)"
   ]
  },
  {
   "cell_type": "code",
   "execution_count": 39,
   "metadata": {
    "ExecuteTime": {
     "end_time": "2023-12-21T19:17:29.237216700Z",
     "start_time": "2023-12-21T19:17:29.135764100Z"
    }
   },
   "outputs": [
    {
     "data": {
      "text/plain": "0    %C3%81ed%C3%A1n_mac_Gabr%C3%A1in\n1                          %C3%85land\n2                  %C3%89douard_Manet\n3                           %C3%89ire\n4          %C3%93engus_I_of_the_Picts\nName: articles, dtype: object"
     },
     "execution_count": 39,
     "metadata": {},
     "output_type": "execute_result"
    }
   ],
   "source": [
    "articles['articles'].head(5)"
   ]
  },
  {
   "cell_type": "code",
   "execution_count": 40,
   "metadata": {
    "ExecuteTime": {
     "end_time": "2023-12-21T19:17:29.240471400Z",
     "start_time": "2023-12-21T19:17:29.142704400Z"
    }
   },
   "outputs": [
    {
     "data": {
      "text/plain": "0        Áedán mac Gabráin\n1                    Åland\n2            Édouard Manet\n3                     Éire\n4    Óengus I of the Picts\nName: articles, dtype: object"
     },
     "execution_count": 40,
     "metadata": {},
     "output_type": "execute_result"
    }
   ],
   "source": [
    "articles['articles'].apply(decode_word).head(5)"
   ]
  },
  {
   "cell_type": "markdown",
   "metadata": {},
   "source": [
    "### Semantic Distance Model\n",
    "We create a function that returns the semantic similarity between two words you provide."
   ]
  },
  {
   "cell_type": "code",
   "execution_count": 41,
   "metadata": {
    "ExecuteTime": {
     "end_time": "2023-12-21T19:17:32.110361500Z",
     "start_time": "2023-12-21T19:17:29.159622400Z"
    }
   },
   "outputs": [],
   "source": [
    "from sentence_transformers import SentenceTransformer\n",
    "import torch\n",
    "\n",
    "# Load a sentence transformer model\n",
    "model = SentenceTransformer('all-MiniLM-L6-v2')"
   ]
  },
  {
   "cell_type": "code",
   "execution_count": 42,
   "metadata": {
    "ExecuteTime": {
     "end_time": "2023-12-21T19:17:32.114311100Z",
     "start_time": "2023-12-21T19:17:32.091464100Z"
    }
   },
   "outputs": [],
   "source": [
    "# Function to get embeddings using sentence transformer\n",
    "def get_embedding(text):\n",
    "    return model.encode(text, convert_to_tensor=True)\n",
    "\n",
    "# Function to perform L2 normalization on the embeddings\n",
    "def l2_normalize(tensor):\n",
    "    return tensor / tensor.norm(p=2, dim=0, keepdim=True)\n",
    "\n",
    "# Function to calculate semantic similarity between two pieces of text\n",
    "def semantic_similarity(word1, word2):\n",
    "    embedding1 = get_embedding(word1)\n",
    "    embedding2 = get_embedding(word2)\n",
    "\n",
    "    # L2 normalization of the embeddings (to make sure, although embedding should already be normalized)\n",
    "    embedding1_normalized = l2_normalize(embedding1)\n",
    "    embedding2_normalized = l2_normalize(embedding2)\n",
    "\n",
    "    # Compute and return the similarity of normalized tensors\n",
    "    return torch.dot(embedding1_normalized, embedding2_normalized).item()\n"
   ]
  },
  {
   "cell_type": "code",
   "execution_count": 43,
   "metadata": {
    "ExecuteTime": {
     "end_time": "2023-12-21T19:17:32.114311100Z",
     "start_time": "2023-12-21T19:17:32.092466200Z"
    }
   },
   "outputs": [
    {
     "data": {
      "text/plain": "0.6807127594947815"
     },
     "execution_count": 43,
     "metadata": {},
     "output_type": "execute_result"
    }
   ],
   "source": [
    "semantic_similarity('king', 'queen')"
   ]
  },
  {
   "cell_type": "markdown",
   "metadata": {},
   "source": [
    "### Semantic Distance Matrix\n",
    "Provided a series, it creates a df where indices and column names are the strings of the series, and fills the matrix with the semantic similarity between all words in the provided series."
   ]
  },
  {
   "cell_type": "code",
   "execution_count": 44,
   "metadata": {
    "ExecuteTime": {
     "end_time": "2023-12-21T19:17:32.114311100Z",
     "start_time": "2023-12-21T19:17:32.092466200Z"
    }
   },
   "outputs": [],
   "source": [
    "def semantic_similarity_matrix(titles):\n",
    "    df = pd.DataFrame(index=titles, columns=titles)\n",
    "    for i in range(len(titles)):\n",
    "        df.iloc[i, i] = 1\n",
    "        for j in range(i+1, len(titles)):\n",
    "            df.iloc[i, j] = semantic_similarity(titles[i], titles[j])\n",
    "            df.iloc[j, i] = df.iloc[i, j]\n",
    "    return df"
   ]
  },
  {
   "cell_type": "code",
   "execution_count": 45,
   "metadata": {
    "ExecuteTime": {
     "end_time": "2023-12-21T19:17:32.115322200Z",
     "start_time": "2023-12-21T19:17:32.092466200Z"
    }
   },
   "outputs": [
    {
     "data": {
      "text/plain": "                        king              queen          chemistry  \\\nking                       1  0.680712759494781   0.21324348449707   \nqueen      0.680712759494781                  1   0.23603492975235   \nchemistry   0.21324348449707   0.23603492975235                  1   \nbiology    0.231783479452133   0.22623598575592  0.518599987030029   \n\n                     biology  \nking       0.231783479452133  \nqueen       0.22623598575592  \nchemistry  0.518599987030029  \nbiology                    1  ",
      "text/html": "<div>\n<style scoped>\n    .dataframe tbody tr th:only-of-type {\n        vertical-align: middle;\n    }\n\n    .dataframe tbody tr th {\n        vertical-align: top;\n    }\n\n    .dataframe thead th {\n        text-align: right;\n    }\n</style>\n<table border=\"1\" class=\"dataframe\">\n  <thead>\n    <tr style=\"text-align: right;\">\n      <th></th>\n      <th>king</th>\n      <th>queen</th>\n      <th>chemistry</th>\n      <th>biology</th>\n    </tr>\n  </thead>\n  <tbody>\n    <tr>\n      <th>king</th>\n      <td>1</td>\n      <td>0.680712759494781</td>\n      <td>0.21324348449707</td>\n      <td>0.231783479452133</td>\n    </tr>\n    <tr>\n      <th>queen</th>\n      <td>0.680712759494781</td>\n      <td>1</td>\n      <td>0.23603492975235</td>\n      <td>0.22623598575592</td>\n    </tr>\n    <tr>\n      <th>chemistry</th>\n      <td>0.21324348449707</td>\n      <td>0.23603492975235</td>\n      <td>1</td>\n      <td>0.518599987030029</td>\n    </tr>\n    <tr>\n      <th>biology</th>\n      <td>0.231783479452133</td>\n      <td>0.22623598575592</td>\n      <td>0.518599987030029</td>\n      <td>1</td>\n    </tr>\n  </tbody>\n</table>\n</div>"
     },
     "execution_count": 45,
     "metadata": {},
     "output_type": "execute_result"
    }
   ],
   "source": [
    "semantic_similarity_matrix(pd.Series(['king', 'queen', 'chemistry', 'biology']))"
   ]
  },
  {
   "cell_type": "code",
   "execution_count": 46,
   "metadata": {
    "ExecuteTime": {
     "end_time": "2023-12-21T19:17:32.115322200Z",
     "start_time": "2023-12-21T19:17:32.092466200Z"
    }
   },
   "outputs": [],
   "source": [
    "articles_decoded = articles['articles'].apply(decode_word)"
   ]
  },
  {
   "cell_type": "code",
   "execution_count": 47,
   "metadata": {
    "ExecuteTime": {
     "end_time": "2023-12-21T19:17:33.548278100Z",
     "start_time": "2023-12-21T19:17:32.093463400Z"
    }
   },
   "outputs": [
    {
     "data": {
      "text/plain": "articles                             English language              Tiger  \\\narticles                                                                   \nEnglish language                                    1  0.274314641952515   \nTiger                               0.274314641952515                  1   \nWind                                0.250771105289459  0.273582309484482   \nMinoan civilization                 0.128986194729805  0.161373034119606   \nCanadian Pacific Railway            0.120090559124947  0.114284209907055   \nAmmonia                             0.246685400605202  0.081171326339245   \nThe Lord of the Rings film trilogy  0.080934375524521  0.040576636791229   \nItalo disco                         0.255726993083954  0.143749535083771   \nLake Toba                           0.168761789798737  0.156828731298447   \nWorm                                0.288493931293488  0.316217243671417   \n\narticles                                         Wind Minoan civilization  \\\narticles                                                                    \nEnglish language                    0.250771105289459   0.128986194729805   \nTiger                               0.273582309484482   0.161373034119606   \nWind                                                1   0.119093202054501   \nMinoan civilization                 0.119093202054501                   1   \nCanadian Pacific Railway            0.097198933362961   0.069540537893772   \nAmmonia                             0.252562403678894    0.20622581243515   \nThe Lord of the Rings film trilogy   0.16524276137352   0.168388187885284   \nItalo disco                         0.189828112721443   0.174365997314453   \nLake Toba                            0.14131110906601   0.171890616416931   \nWorm                                0.270544528961182   0.252369821071625   \n\narticles                           Canadian Pacific Railway  \\\narticles                                                      \nEnglish language                          0.120090559124947   \nTiger                                     0.114284209907055   \nWind                                      0.097198933362961   \nMinoan civilization                       0.069540537893772   \nCanadian Pacific Railway                                  1   \nAmmonia                                   0.104963250458241   \nThe Lord of the Rings film trilogy       -0.015475356020033   \nItalo disco                               0.198368817567825   \nLake Toba                                 0.151327192783356   \nWorm                                      0.034954149276018   \n\narticles                                      Ammonia  \\\narticles                                                \nEnglish language                    0.246685400605202   \nTiger                               0.081171326339245   \nWind                                0.252562403678894   \nMinoan civilization                  0.20622581243515   \nCanadian Pacific Railway            0.104963250458241   \nAmmonia                                             1   \nThe Lord of the Rings film trilogy  0.060693360865116   \nItalo disco                          0.10755106061697   \nLake Toba                           0.165157228708267   \nWorm                                0.256203472614288   \n\narticles                           The Lord of the Rings film trilogy  \\\narticles                                                                \nEnglish language                                    0.080934375524521   \nTiger                                               0.040576636791229   \nWind                                                 0.16524276137352   \nMinoan civilization                                 0.168388187885284   \nCanadian Pacific Railway                           -0.015475356020033   \nAmmonia                                             0.060693360865116   \nThe Lord of the Rings film trilogy                                  1   \nItalo disco                                         0.059313163161278   \nLake Toba                                           0.069981262087822   \nWorm                                                0.122407428920269   \n\narticles                                  Italo disco          Lake Toba  \\\narticles                                                                   \nEnglish language                    0.255726993083954  0.168761789798737   \nTiger                               0.143749535083771  0.156828731298447   \nWind                                0.189828112721443   0.14131110906601   \nMinoan civilization                 0.174365997314453  0.171890616416931   \nCanadian Pacific Railway            0.198368817567825  0.151327192783356   \nAmmonia                              0.10755106061697  0.165157228708267   \nThe Lord of the Rings film trilogy  0.059313163161278  0.069981262087822   \nItalo disco                                         1  0.281277894973755   \nLake Toba                           0.281277894973755                  1   \nWorm                                0.142138630151749  0.106978006660938   \n\narticles                                         Worm  \narticles                                               \nEnglish language                    0.288493931293488  \nTiger                               0.316217243671417  \nWind                                0.270544528961182  \nMinoan civilization                 0.252369821071625  \nCanadian Pacific Railway            0.034954149276018  \nAmmonia                             0.256203472614288  \nThe Lord of the Rings film trilogy  0.122407428920269  \nItalo disco                         0.142138630151749  \nLake Toba                           0.106978006660938  \nWorm                                                1  ",
      "text/html": "<div>\n<style scoped>\n    .dataframe tbody tr th:only-of-type {\n        vertical-align: middle;\n    }\n\n    .dataframe tbody tr th {\n        vertical-align: top;\n    }\n\n    .dataframe thead th {\n        text-align: right;\n    }\n</style>\n<table border=\"1\" class=\"dataframe\">\n  <thead>\n    <tr style=\"text-align: right;\">\n      <th>articles</th>\n      <th>English language</th>\n      <th>Tiger</th>\n      <th>Wind</th>\n      <th>Minoan civilization</th>\n      <th>Canadian Pacific Railway</th>\n      <th>Ammonia</th>\n      <th>The Lord of the Rings film trilogy</th>\n      <th>Italo disco</th>\n      <th>Lake Toba</th>\n      <th>Worm</th>\n    </tr>\n    <tr>\n      <th>articles</th>\n      <th></th>\n      <th></th>\n      <th></th>\n      <th></th>\n      <th></th>\n      <th></th>\n      <th></th>\n      <th></th>\n      <th></th>\n      <th></th>\n    </tr>\n  </thead>\n  <tbody>\n    <tr>\n      <th>English language</th>\n      <td>1</td>\n      <td>0.274314641952515</td>\n      <td>0.250771105289459</td>\n      <td>0.128986194729805</td>\n      <td>0.120090559124947</td>\n      <td>0.246685400605202</td>\n      <td>0.080934375524521</td>\n      <td>0.255726993083954</td>\n      <td>0.168761789798737</td>\n      <td>0.288493931293488</td>\n    </tr>\n    <tr>\n      <th>Tiger</th>\n      <td>0.274314641952515</td>\n      <td>1</td>\n      <td>0.273582309484482</td>\n      <td>0.161373034119606</td>\n      <td>0.114284209907055</td>\n      <td>0.081171326339245</td>\n      <td>0.040576636791229</td>\n      <td>0.143749535083771</td>\n      <td>0.156828731298447</td>\n      <td>0.316217243671417</td>\n    </tr>\n    <tr>\n      <th>Wind</th>\n      <td>0.250771105289459</td>\n      <td>0.273582309484482</td>\n      <td>1</td>\n      <td>0.119093202054501</td>\n      <td>0.097198933362961</td>\n      <td>0.252562403678894</td>\n      <td>0.16524276137352</td>\n      <td>0.189828112721443</td>\n      <td>0.14131110906601</td>\n      <td>0.270544528961182</td>\n    </tr>\n    <tr>\n      <th>Minoan civilization</th>\n      <td>0.128986194729805</td>\n      <td>0.161373034119606</td>\n      <td>0.119093202054501</td>\n      <td>1</td>\n      <td>0.069540537893772</td>\n      <td>0.20622581243515</td>\n      <td>0.168388187885284</td>\n      <td>0.174365997314453</td>\n      <td>0.171890616416931</td>\n      <td>0.252369821071625</td>\n    </tr>\n    <tr>\n      <th>Canadian Pacific Railway</th>\n      <td>0.120090559124947</td>\n      <td>0.114284209907055</td>\n      <td>0.097198933362961</td>\n      <td>0.069540537893772</td>\n      <td>1</td>\n      <td>0.104963250458241</td>\n      <td>-0.015475356020033</td>\n      <td>0.198368817567825</td>\n      <td>0.151327192783356</td>\n      <td>0.034954149276018</td>\n    </tr>\n    <tr>\n      <th>Ammonia</th>\n      <td>0.246685400605202</td>\n      <td>0.081171326339245</td>\n      <td>0.252562403678894</td>\n      <td>0.20622581243515</td>\n      <td>0.104963250458241</td>\n      <td>1</td>\n      <td>0.060693360865116</td>\n      <td>0.10755106061697</td>\n      <td>0.165157228708267</td>\n      <td>0.256203472614288</td>\n    </tr>\n    <tr>\n      <th>The Lord of the Rings film trilogy</th>\n      <td>0.080934375524521</td>\n      <td>0.040576636791229</td>\n      <td>0.16524276137352</td>\n      <td>0.168388187885284</td>\n      <td>-0.015475356020033</td>\n      <td>0.060693360865116</td>\n      <td>1</td>\n      <td>0.059313163161278</td>\n      <td>0.069981262087822</td>\n      <td>0.122407428920269</td>\n    </tr>\n    <tr>\n      <th>Italo disco</th>\n      <td>0.255726993083954</td>\n      <td>0.143749535083771</td>\n      <td>0.189828112721443</td>\n      <td>0.174365997314453</td>\n      <td>0.198368817567825</td>\n      <td>0.10755106061697</td>\n      <td>0.059313163161278</td>\n      <td>1</td>\n      <td>0.281277894973755</td>\n      <td>0.142138630151749</td>\n    </tr>\n    <tr>\n      <th>Lake Toba</th>\n      <td>0.168761789798737</td>\n      <td>0.156828731298447</td>\n      <td>0.14131110906601</td>\n      <td>0.171890616416931</td>\n      <td>0.151327192783356</td>\n      <td>0.165157228708267</td>\n      <td>0.069981262087822</td>\n      <td>0.281277894973755</td>\n      <td>1</td>\n      <td>0.106978006660938</td>\n    </tr>\n    <tr>\n      <th>Worm</th>\n      <td>0.288493931293488</td>\n      <td>0.316217243671417</td>\n      <td>0.270544528961182</td>\n      <td>0.252369821071625</td>\n      <td>0.034954149276018</td>\n      <td>0.256203472614288</td>\n      <td>0.122407428920269</td>\n      <td>0.142138630151749</td>\n      <td>0.106978006660938</td>\n      <td>1</td>\n    </tr>\n  </tbody>\n</table>\n</div>"
     },
     "execution_count": 47,
     "metadata": {},
     "output_type": "execute_result"
    }
   ],
   "source": [
    "def random_sample_articles(n):\n",
    "    return articles_decoded.sample(n).reset_index(drop=True)\n",
    "\n",
    "semantic_similarity_matrix(random_sample_articles(10))"
   ]
  },
  {
   "cell_type": "markdown",
   "metadata": {},
   "source": [
    "### PageRank"
   ]
  },
  {
   "cell_type": "markdown",
   "metadata": {},
   "source": [
    "Let's create a graph visualization with node size according to the pagerank. "
   ]
  },
  {
   "cell_type": "code",
   "execution_count": 48,
   "metadata": {
    "ExecuteTime": {
     "end_time": "2023-12-21T19:17:33.551810Z",
     "start_time": "2023-12-21T19:17:33.543280900Z"
    }
   },
   "outputs": [
    {
     "name": "stdout",
     "output_type": "stream",
     "text": [
      "DiGraph with 60 nodes and 1162 edges\n"
     ]
    }
   ],
   "source": [
    "nodos_greater_than_average = [n for n, data in wikispeedia.nodes(data=True) if 'pagerank' in data and data['pagerank'] > average]\n",
    "# let's sort the nodes so that we can visualize the N elements greater than average\n",
    "N = 60 # to avoid extra computing time try not to establish N higher than 80\n",
    "# In this case, we chose N = 60 because \n",
    "nodes_ordered_per_pagerank = sorted(nodos_greater_than_average, key=lambda n: wikispeedia.nodes[n]['pagerank'], reverse=True)[:N]\n",
    "# select this nodes from the original Wikispeedia graph \n",
    "wavg = wikispeedia.subgraph(nodes_ordered_per_pagerank).copy()\n",
    "print(wavg)"
   ]
  },
  {
   "cell_type": "markdown",
   "source": [
    "This one ain't working, no clue about that"
   ],
   "metadata": {
    "collapsed": false
   }
  },
  {
   "cell_type": "code",
   "execution_count": 49,
   "metadata": {
    "ExecuteTime": {
     "end_time": "2023-12-21T19:17:33.551810Z",
     "start_time": "2023-12-21T19:17:33.543280900Z"
    }
   },
   "outputs": [],
   "source": [
    "# def hierarchical_layout(net):\n",
    "# \treturn graphviz_layout(net, prog=\"dot\")\n",
    "# \n",
    "# node_labels = {node: node for node in wavg.nodes()}\n",
    "# \n",
    "# pos = hierarchical_layout(wavg)\n",
    "# plt.figure(figsize=(50,50))\n",
    "# nx.draw(wavg,pos, node_size=[(wavg.nodes[n]['pagerank'] * 10500000) for n in wavg], node_color='skyblue', font_weight='bold', with_labels=True, labels=node_labels, font_color='purple', font_size=35, linewidths=8)\n",
    "# plt.title('Above average Pagerank Nodes', fontsize=100)\n",
    "# plt.show()"
   ]
  },
  {
   "cell_type": "markdown",
   "metadata": {},
   "source": [
    "### Let's draw the nodes with higher degree!"
   ]
  },
  {
   "cell_type": "code",
   "execution_count": 50,
   "metadata": {
    "ExecuteTime": {
     "end_time": "2023-12-21T19:17:33.551810Z",
     "start_time": "2023-12-21T19:17:33.544282100Z"
    }
   },
   "outputs": [],
   "source": [
    "#print(degrees)\n",
    "higher_degree = 300 # nodes that have at least 300 degree"
   ]
  },
  {
   "cell_type": "markdown",
   "metadata": {},
   "source": [
    "Assign degree as node attribute of the wikispeedia graph"
   ]
  },
  {
   "cell_type": "code",
   "execution_count": 51,
   "metadata": {
    "ExecuteTime": {
     "end_time": "2023-12-21T19:17:33.552810200Z",
     "start_time": "2023-12-21T19:17:33.544282100Z"
    }
   },
   "outputs": [],
   "source": [
    "for node in [nodo for nodo in wikispeedia.nodes()]:\n",
    "    wikispeedia.nodes[node]['degree'] = degrees[node]\n",
    "#print(wikispeedia.nodes(data=True))"
   ]
  },
  {
   "cell_type": "code",
   "execution_count": 52,
   "metadata": {
    "ExecuteTime": {
     "end_time": "2023-12-21T19:17:33.552810200Z",
     "start_time": "2023-12-21T19:17:33.544282100Z"
    }
   },
   "outputs": [
    {
     "name": "stdout",
     "output_type": "stream",
     "text": [
      "67\n"
     ]
    }
   ],
   "source": [
    "nodes_higher_degree = [n for n, data in wikispeedia.nodes(data=True) if 'degree' in data and data['degree'] >= higher_degree]\n",
    "print(len(nodes_higher_degree))\n",
    "# there is only 67 nodes with higher degree than 300, let's draw the first 60 to be in accordance with the other drawing and allow comparison"
   ]
  },
  {
   "cell_type": "code",
   "execution_count": 53,
   "metadata": {
    "ExecuteTime": {
     "end_time": "2023-12-21T19:17:33.552810200Z",
     "start_time": "2023-12-21T19:17:33.544282100Z"
    }
   },
   "outputs": [
    {
     "name": "stdout",
     "output_type": "stream",
     "text": [
      "DiGraph with 60 nodes and 1215 edges\n"
     ]
    }
   ],
   "source": [
    "# let's sort the nodes so that we can visualize the N elements greater than average\n",
    "N = 60 \n",
    "nodes_ordered_per_pagerank = sorted(nodes_higher_degree, key=lambda n: wikispeedia.nodes[n]['degree'], reverse=True)[:N]\n",
    "# select this nodes from the original Wikispeedia graph \n",
    "wdegree = wikispeedia.subgraph(nodes_ordered_per_pagerank).copy()\n",
    "print(wdegree)"
   ]
  },
  {
   "cell_type": "markdown",
   "source": [
    "Again, error related to something not found in path. No clue why that's happening"
   ],
   "metadata": {
    "collapsed": false
   }
  },
  {
   "cell_type": "code",
   "execution_count": 54,
   "metadata": {
    "ExecuteTime": {
     "end_time": "2023-12-21T19:17:33.553810600Z",
     "start_time": "2023-12-21T19:17:33.544282100Z"
    }
   },
   "outputs": [],
   "source": [
    "# def hierarchical_layout(net):\n",
    "# \treturn graphviz_layout(net, prog=\"dot\")\n",
    "# \n",
    "# node_labels = {node: node for node in wdegree.nodes()}\n",
    "# \n",
    "# pos = hierarchical_layout(wdegree)\n",
    "# plt.figure(figsize=(50,50))\n",
    "# nx.draw(wdegree,pos, node_size=[(wdegree.nodes[n]['degree'] *80) for n in wdegree], node_color='orange', font_weight='bold', with_labels=True, labels=node_labels, font_color='purple', font_size=35, linewidths=10)\n",
    "# plt.title('Higher Degree Nodes', fontsize=100)\n",
    "# plt.show()"
   ]
  },
  {
   "cell_type": "markdown",
   "metadata": {},
   "source": [
    "# 4. Plan and Ideas for Methods\n"
   ]
  },
  {
   "cell_type": "markdown",
   "source": [
    "## Preliminary stuff\n",
    "\n",
    "This is just creating a 'clean' version of the graph. Namely, changing the names to be more readable."
   ],
   "metadata": {
    "collapsed": false
   }
  },
  {
   "cell_type": "code",
   "execution_count": 55,
   "outputs": [],
   "source": [
    "def decode_word(word):\n",
    "    word = word.replace('_', ' ')\n",
    "    return unquote(word)\n",
    "\n",
    "# Create a new graph with decoded node labels\n",
    "decoded_wikispeedia = nx.DiGraph()\n",
    "\n",
    "for node in wikispeedia.nodes():\n",
    "    decoded_node = decode_word(node)\n",
    "    decoded_wikispeedia.add_node(decoded_node)\n",
    "\n",
    "# Copy the edges from the original graph to the new graph with decoded node labels\n",
    "for edge in wikispeedia.edges():\n",
    "    decoded_edge = tuple(decode_word(node) for node in edge)\n",
    "    decoded_wikispeedia.add_edge(*decoded_edge)"
   ],
   "metadata": {
    "collapsed": false,
    "ExecuteTime": {
     "end_time": "2023-12-21T19:17:34.133576900Z",
     "start_time": "2023-12-21T19:17:33.545282600Z"
    }
   }
  },
  {
   "cell_type": "code",
   "execution_count": 56,
   "outputs": [],
   "source": [
    "dic = nx.pagerank(decoded_wikispeedia)\n",
    "#print(dic)\n",
    "\n",
    "for node in [nodo for nodo in decoded_wikispeedia.nodes()]:\n",
    "    decoded_wikispeedia.nodes[node]['pagerank'] = dic[node]"
   ],
   "metadata": {
    "collapsed": false,
    "ExecuteTime": {
     "end_time": "2023-12-21T19:17:34.250787900Z",
     "start_time": "2023-12-21T19:17:34.089191700Z"
    }
   }
  },
  {
   "cell_type": "markdown",
   "metadata": {
    "collapsed": false
   },
   "source": [
    "## 4.1 Basic AI using A* Algorithm\n",
    "\n",
    "Most of the model requires for there to be an AI model we can compare it against.\n",
    "\n",
    "We were indicated by the TA to not focus on this too much, as this is a data analysis course, not an ML course. Because of this, we took the implementation of A\\* that was included in networkX and created two modified versions that now do the following:\n",
    "- First version returns all of the explored nodes, not just the shortest path found\n",
    "- Second version is forced to do a depth first search without being able to return\n",
    "\n",
    "For our purposes, the explored nodes is the most interesting metric, as it describes what were the links \"clicked\".\n",
    "\n",
    "We found a paper that implements a more complicated version, and we might be able to do something with graph neural networks, but for now this is good enough.\n",
    "\n",
    "We additionally do a bit of work to show how the system works timewise, as well as how the comparison will work in the future.\n",
    "\n",
    "The time comparison is not super useful though, as that will depend on hardware too much to be worth using easily.\n",
    "\n",
    "REMARK:\n",
    "- On further runs, this can get stuck very easily, or take too long to run. We will still keep the code to show this was done, but in practical terms we did not use it."
   ]
  },
  {
   "cell_type": "code",
   "execution_count": 57,
   "metadata": {
    "collapsed": false,
    "ExecuteTime": {
     "end_time": "2023-12-21T19:17:34.499991400Z",
     "start_time": "2023-12-21T19:17:34.250787900Z"
    }
   },
   "outputs": [],
   "source": [
    "import machine_searchers\n",
    "import time\n",
    "\n",
    "model = SentenceTransformer('all-MiniLM-L6-v2')\n",
    "\n",
    "# Function to get embeddings using sentence transformer\n",
    "def get_embedding(text):\n",
    "    return model.encode(text, convert_to_tensor=True)\n",
    "\n",
    "# Function to perform L2 normalization on the embeddings\n",
    "def l2_normalize(tensor):\n",
    "    return tensor / tensor.norm(p=2, dim=0, keepdim=True)\n",
    "\n",
    "# Function to calculate semantic similarity between two pieces of text\n",
    "def semantic_similarity(word1, word2):\n",
    "    embedding1 = get_embedding(word1)\n",
    "    embedding2 = get_embedding(word2)\n",
    "\n",
    "    # L2 normalization of the embeddings (to make sure, although embedding should already be normalized)\n",
    "    embedding1_normalized = l2_normalize(embedding1)\n",
    "    embedding2_normalized = l2_normalize(embedding2)\n",
    "\n",
    "    # Compute and return the similarity of normalized tensors\n",
    "    return torch.dot(embedding1_normalized, embedding2_normalized).item()\n",
    "\n",
    "# start_time = time.time()\n",
    "# lib_path_1, lib_explore_1 = machine_searchers.modded_astar_path(decoded_wikispeedia, 'Actor', 'Japan', heuristic=semantic_similarity)\n",
    "# end_time = time.time()\n",
    "# \n",
    "# # It's len - 1 because the target node is also included, and that node wasn't explored\n",
    "# print(\"Using the modded a star that returns explored nodes:\")\n",
    "# print(\" Found solution for Actor to Japan exploring the following number of nodes:\", len(lib_explore_1)-1)\n",
    "# print(\" Found it in:\", end_time-start_time)\n",
    "# \n",
    "# start_time = time.time()\n",
    "# lib_path_2, lib_explore_2 = machine_searchers.only_depth_first_astar_path(decoded_wikispeedia, 'Actor', 'Japan', heuristic=semantic_similarity)\n",
    "# end_time = time.time()\n",
    "# \n",
    "# # It's len - 1 because the target node is also included, and that node wasn't explored\n",
    "# print(\"Using depth first only A star that returns explored nodes:\")\n",
    "# print(\" Found solution for Actor to Japan exploring the following number of nodes:\", len(lib_explore_1)-1)\n",
    "# print(\" Found it in:\", end_time-start_time)\n"
   ]
  },
  {
   "cell_type": "markdown",
   "metadata": {
    "collapsed": false
   },
   "source": [
    "Now we'll take the most commonly explored node pair path, run it through the two algorithms and see what is the result!"
   ]
  },
  {
   "cell_type": "code",
   "execution_count": 58,
   "metadata": {
    "collapsed": false,
    "ExecuteTime": {
     "end_time": "2023-12-21T19:19:15.071797100Z",
     "start_time": "2023-12-21T19:17:34.504299500Z"
    }
   },
   "outputs": [
    {
     "name": "stdout",
     "output_type": "stream",
     "text": [
      "Using the modded a star that returns explored nodes:\n",
      " Found solution for Asteroid to Viking exploring the following number of nodes: 41\n",
      "Path length was: 3\n",
      " Found it in: 13.06744384765625\n",
      "Node Viking not reachable from Asteroid in depth first version\n",
      "\n",
      "Using depth first only A star that returns explored nodes:\n",
      " Found solution for Asteroid to Viking exploring the following number of nodes: 126\n",
      "Path length was: -1\n",
      " Found it in: 87.49362325668335\n"
     ]
    }
   ],
   "source": [
    "start_time = time.time()\n",
    "lib_path_1, lib_explore_1 = machine_searchers.modded_astar_path(decoded_wikispeedia, 'Asteroid', 'Viking', heuristic=semantic_similarity)\n",
    "end_time = time.time()\n",
    "\n",
    "# It's len - 1 because the target node is also included, and that node wasn't explored\n",
    "print(\"Using the modded a star that returns explored nodes:\")\n",
    "print(\" Found solution for Asteroid to Viking exploring the following number of nodes:\", len(lib_explore_1)-1)\n",
    "print(\"Path length was:\", len(lib_path_1)-1)\n",
    "print(\" Found it in:\", end_time-start_time)\n",
    "\n",
    "start_time = time.time()\n",
    "lib_path_2, lib_explore_2 = machine_searchers.only_depth_first_astar_path(decoded_wikispeedia, 'Asteroid', 'Viking', heuristic=semantic_similarity)\n",
    "end_time = time.time()\n",
    "print('')\n",
    "\n",
    "# It's len - 1 because the target node is also included, and that node wasn't explored\n",
    "print(\"Using depth first only A star that returns explored nodes:\")\n",
    "print(\" Found solution for Asteroid to Viking exploring the following number of nodes:\", len(lib_explore_2)-1)\n",
    "print(\"Path length was:\", len(lib_path_2)-1)\n",
    "print(\" Found it in:\", end_time-start_time)"
   ]
  },
  {
   "cell_type": "code",
   "execution_count": 59,
   "metadata": {
    "collapsed": false,
    "ExecuteTime": {
     "end_time": "2023-12-21T19:19:15.097836800Z",
     "start_time": "2023-12-21T19:19:15.068533700Z"
    }
   },
   "outputs": [
    {
     "data": {
      "text/plain": "['Asteroid', '1 Ceres', 'Paris', 'Viking']"
     },
     "execution_count": 59,
     "metadata": {},
     "output_type": "execute_result"
    }
   ],
   "source": [
    "lib_path_1"
   ]
  },
  {
   "cell_type": "markdown",
   "metadata": {
    "collapsed": false
   },
   "source": [
    "So, based on the previous example of the path, this works out well enough. The systems spends a lot of time exploring and going back, which might be a common issue. There is a huge disconnect between explored and actual path length, but that is common for A\\*, so it's an expected caveat.\n",
    "\n",
    "It is interesting to note that the optimal solution passed through Paris, which seems to fit the definition of being one of the hubs that are described in the paper. Maybe the hub strategy is actually useful in most cases!\n",
    "\n",
    "The depth first method took a lot longer to run than planned. Based on this, it might be worth considering other alternatives.\n",
    "\n",
    "But still, at least we've proven the model works, and can give results that we can compare against humans. Again, this is using a much simpler method, but this could be enhanced in the future.\n",
    "\n",
    "REMARK: This method works, but it's too slow to be used practically."
   ]
  },
  {
   "cell_type": "markdown",
   "source": [
    "## 4.2 Method made by Carlos\n",
    "\n",
    "1. **Starting Point**\n",
    "   - Begin at the initial Wikipedia article.\n",
    "<br><br><br>\n",
    "\n",
    "2. **Evaluation of Links**\n",
    "   - Analyze links in the current article.\n",
    "<br><br><br>\n",
    "\n",
    "3. **PageRank and Topic Similarity Assessment**\n",
    "   - Prioritize links with the highest PageRank if topics of linked pages are not similar to the target article.\n",
    "   - Make a balance between PageRank and topical similarity if topics are somewhat similar.\n",
    "   - Increase focus on topical similarity as it becomes more similar to the target.\n",
    "<br><br><br>\n",
    "\n",
    "4. **Decision to Move Forward or Backward**\n",
    "   - Return to the previous page if all new links are less promising than the previous page (worse in PageRank and similarity).\n",
    "   - If not returning, avoid revisiting the same page to prevent loops.\n",
    "<br><br><br>\n",
    "\n",
    "5. **Limit on Page Visits**\n",
    "   - Stop if 20 different pages are visited without reaching the target article.\n",
    "<br><br><br>\n",
    "\n",
    "6. **End Goal**\n",
    "   - Continue the process until the target Wikipedia article is reached or the page visit limit is hit."
   ],
   "metadata": {
    "collapsed": false
   }
  },
  {
   "cell_type": "code",
   "execution_count": 60,
   "outputs": [],
   "source": [
    "carlos_method = machine_searchers.AlgorithmCarlos(decoded_wikispeedia)"
   ],
   "metadata": {
    "collapsed": false,
    "ExecuteTime": {
     "end_time": "2023-12-21T19:19:15.490867300Z",
     "start_time": "2023-12-21T19:19:15.076312900Z"
    }
   }
  },
  {
   "cell_type": "code",
   "execution_count": 61,
   "outputs": [
    {
     "name": "stdout",
     "output_type": "stream",
     "text": [
      "Starting at node: Quito\n",
      "Moving to node: Europe\n",
      "Moving to node: Fish\n",
      "Moving to node: Oxygen\n",
      "Moving to node: Water\n",
      "Target node reached in 4 moves.\n"
     ]
    },
    {
     "data": {
      "text/plain": "(5, ['Quito', 'Europe', 'Fish', 'Oxygen', 'Water'], True)"
     },
     "execution_count": 61,
     "metadata": {},
     "output_type": "execute_result"
    }
   ],
   "source": [
    "carlos_method.find_shortest_path(\"Quito\",\"Water\")"
   ],
   "metadata": {
    "collapsed": false,
    "ExecuteTime": {
     "end_time": "2023-12-21T19:19:19.325629800Z",
     "start_time": "2023-12-21T19:19:15.492373400Z"
    }
   }
  },
  {
   "cell_type": "markdown",
   "source": [
    "## 4.3 Method made by Carol\n",
    "\n",
    "Again, also don't ultra get it but fuck it"
   ],
   "metadata": {
    "collapsed": false
   }
  },
  {
   "cell_type": "markdown",
   "source": [],
   "metadata": {
    "collapsed": false
   }
  },
  {
   "cell_type": "code",
   "execution_count": 62,
   "outputs": [],
   "source": [
    "carol_method = machine_searchers.AlgorithmCarol(decoded_wikispeedia)\n",
    "\n",
    "# Source and target don't matter, as they'reinputs\n",
    "_, _, found, length, path = carol_method.find_shortest_path(decoded_wikispeedia, '14th century', 'Fire')"
   ],
   "metadata": {
    "collapsed": false,
    "ExecuteTime": {
     "end_time": "2023-12-21T19:19:27.634317500Z",
     "start_time": "2023-12-21T19:19:19.323373800Z"
    }
   }
  },
  {
   "cell_type": "markdown",
   "source": [
    "## 4.4 Landmark/Hub method\n",
    "\n",
    "Gist of it is, find certain nodes that are important, and then use those to find shortest path, assuming these nodes will always in the route somehow.\n",
    "\n",
    "Original implementation supplements them with A*, but this is good enough:\n",
    "- https://tmdesigned.com/post/a-search-with-landmarks-atl-simulator"
   ],
   "metadata": {
    "collapsed": false
   }
  },
  {
   "cell_type": "code",
   "execution_count": 63,
   "outputs": [
    {
     "data": {
      "text/plain": "['14th century', 'Washington, D.C.', 'South Africa', 'Fire']"
     },
     "execution_count": 63,
     "metadata": {},
     "output_type": "execute_result"
    }
   ],
   "source": [
    "landmark_search = machine_searchers.LandmarkSearch(decoded_wikispeedia, 50)\n",
    "landmark_search.find_shortest_path('14th century', 'Fire')"
   ],
   "metadata": {
    "collapsed": false,
    "ExecuteTime": {
     "end_time": "2023-12-21T19:19:29.990409500Z",
     "start_time": "2023-12-21T19:19:27.635671800Z"
    }
   }
  },
  {
   "cell_type": "markdown",
   "source": [
    "## Caveats for results\n",
    "The previous code was to show more or less how the methods work. But there was alternate work on using them to get the relevant outputs. This is just so we don't have to run the entire dataset every single time we want to compare or do a further analysis.\n",
    "\n",
    "The results are stored in a separate folder. That is what we actually use for this.\n",
    "\n",
    "Additionally, when running the methods we decided to focus only on the human runs that were both finish and had more than 3 runs. This was to make the comparison more fair"
   ],
   "metadata": {
    "collapsed": false
   }
  },
  {
   "cell_type": "code",
   "execution_count": 64,
   "outputs": [],
   "source": [
    "# This is a last step, of making these three datasets have consistent column names and order\n",
    "# as well as guaranteeing that the index order is conistent with both elements\n",
    "# Even though the boolean column is weird, it's a boolean so that's all good\n",
    "\n",
    "# FUCK IT. We don't touch the decoded version, that's too painful!\n",
    "\n",
    "col_names = ['source', 'target', 'reached', 'length', 'visited']\n",
    "\n",
    "import ast\n",
    "\n",
    "carlos_df = pd.read_csv('machine_outputs/data_carlos.csv')\n",
    "carlos_df.columns = col_names\n",
    "\n",
    "carlos_df['visited'] = carlos_df['visited'].str.strip('\\\\').str.strip('{}')\n",
    "carlos_df['visited'] = carlos_df['visited'].apply(lambda x: ast.literal_eval(x))\n",
    "\n",
    "carol_df = pd.read_csv('machine_outputs/carolOutput.csv')\n",
    "carol_df.columns = col_names\n",
    "\n",
    "carol_df['visited'] = carol_df['visited'].str.strip('\\\\').str.strip('{}')\n",
    "carol_df['visited'] = carol_df['visited'].apply(lambda x: ast.literal_eval(x))\n",
    "\n",
    "landmark_df = pd.read_csv('machine_outputs/landmark_method_results.csv')\n",
    "\n",
    "# Landmark_df is the only one with substantive change\n",
    "landmark_df.drop('Unnamed: 0', axis=1, inplace=True)\n",
    "landmark_df['reached'] = True\n",
    "landmark_df.columns = ['source', 'target', 'length', 'visited', 'reached']\n",
    "landmark_df = landmark_df[col_names]\n",
    "# Due to the way length was counted here, I need to update to increase by one\n",
    "landmark_df['length'] = landmark_df['length'] + 1\n",
    "\n",
    "landmark_df['visited'] = landmark_df['visited'].str.strip('\\\\').str.strip('{}')\n",
    "landmark_df['visited'] = landmark_df['visited'].apply(lambda x: ast.literal_eval(x))"
   ],
   "metadata": {
    "collapsed": false,
    "ExecuteTime": {
     "end_time": "2023-12-21T19:19:30.369652200Z",
     "start_time": "2023-12-21T19:19:29.990409500Z"
    }
   }
  },
  {
   "cell_type": "markdown",
   "source": [
    "# 5 Analyzing the data\n",
    "This part is much more mixed, but these are plots and analysis we've done. I need to reorganize and see what the fuck is happening now!"
   ],
   "metadata": {
    "collapsed": false
   }
  },
  {
   "cell_type": "markdown",
   "source": [],
   "metadata": {
    "collapsed": false
   }
  }
 ],
 "metadata": {
  "kernelspec": {
   "display_name": "Python 3",
   "language": "python",
   "name": "python3"
  },
  "language_info": {
   "codemirror_mode": {
    "name": "ipython",
    "version": 3
   },
   "file_extension": ".py",
   "mimetype": "text/x-python",
   "name": "python",
   "nbconvert_exporter": "python",
   "pygments_lexer": "ipython3",
   "version": "3.9.18"
  }
 },
 "nbformat": 4,
 "nbformat_minor": 0
}

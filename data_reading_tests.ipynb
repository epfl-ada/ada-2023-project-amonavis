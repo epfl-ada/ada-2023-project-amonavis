{
 "cells": [
  {
   "cell_type": "markdown",
   "source": [
    "# Initial data exploration\n",
    "This is a simple initial data exploration created by Nick.\n",
    "\n",
    "The objective of this notebook in particular is the following:\n",
    "- Know how to read in the three different datasets that we have\n",
    "    - Might keep it only to the plain text and navigation paths, HTML might be too much\n",
    "- Find a way of linking the two datasets\n",
    "- Enrich the graph with the shortest path, or find a way of adding that info as well\n",
    "- Maybe see if there's a way of doing basic AF explorations already with networkX?\n",
    "\n",
    "Might also be worth it to create the environment we'll use for this..."
   ],
   "metadata": {
    "collapsed": false
   },
   "id": "ca19ec111240cf49"
  },
  {
   "cell_type": "code",
   "execution_count": 48,
   "outputs": [],
   "source": [
    "import numpy as np\n",
    "import pandas as pd\n",
    "import networkx"
   ],
   "metadata": {
    "collapsed": false,
    "ExecuteTime": {
     "end_time": "2023-11-09T14:37:25.019442500Z",
     "start_time": "2023-11-09T14:37:24.929445900Z"
    }
   },
   "id": "c2767dbe5aa270d6"
  },
  {
   "cell_type": "markdown",
   "source": [
    "# How to use data readers\n",
    "Most of this notebook is just the template code that was used to make sure everything works.\n",
    "\n",
    "The important part is the following code block, that shows how to read in each of the different datasets that we have."
   ],
   "metadata": {
    "collapsed": false
   },
   "id": "7dab5478e62b5531"
  },
  {
   "cell_type": "code",
   "execution_count": 49,
   "outputs": [],
   "source": [
    "import data_readers\n",
    "\n",
    "# The links and edges\n",
    "wikispeedia = data_readers.read_wikispeedia_graph()\n",
    "\n",
    "# The finished paths\n",
    "finished_paths = data_readers.read_finished_paths()\n",
    "\n",
    "# The unfinished paths\n",
    "unfinished_paths = data_readers.read_unfinished_paths()\n",
    "\n",
    "# The shortest path matrix\n",
    "# This one is the slowest to read by far, probably due to the weird parsing that has to be done!\n",
    "shortest_path_df = data_readers.read_shortest_path_df()\n",
    "\n",
    "# Searching for the string of a given article. It has to be formatted like the article name\n",
    "# Which shouldn't be a problem, as we'll probably usually retrieve them internally\n",
    "obi_wan_text = data_readers.plaintext_article_finder('Obi-Wan_Kenobi')"
   ],
   "metadata": {
    "collapsed": false,
    "ExecuteTime": {
     "end_time": "2023-11-09T14:38:09.898752200Z",
     "start_time": "2023-11-09T14:37:24.947948700Z"
    }
   },
   "id": "c93a9b9f961f79b4"
  },
  {
   "cell_type": "markdown",
   "source": [
    "There's four really important datasets in the wikispedia articles:\n",
    "- links.tsv: Contains the actual edges\n",
    "- paths_finished.tsv: Contains the winning games\n",
    "- paths_unfinished.tsv: Contains the losing games\n",
    "- shortest-path-distance-matrix.txt: Contains info on the shortest path"
   ],
   "metadata": {
    "collapsed": false
   },
   "id": "3d1013363bb6312c"
  },
  {
   "cell_type": "markdown",
   "source": [
    "First part is checking that the reading of the data is correct. We know the number of edges and nodes in the dataset, so we'll just use that to compare"
   ],
   "metadata": {
    "collapsed": false
   },
   "id": "59a77baa5f5d80e0"
  },
  {
   "cell_type": "code",
   "execution_count": 50,
   "outputs": [
    {
     "name": "stdout",
     "output_type": "stream",
     "text": [
      "Dataset has 4592 nodes\n",
      "Dataset has 119882 edges\n"
     ]
    }
   ],
   "source": [
    "wikispeedia= networkx.read_edgelist('datasets/wikispeedia_paths-and-graph/links.tsv', \n",
    "                                    create_using=networkx.DiGraph)\n",
    "print(\"Dataset has\", len(wikispeedia.nodes), \"nodes\")\n",
    "print(\"Dataset has\", len(wikispeedia.edges), \"edges\")"
   ],
   "metadata": {
    "collapsed": false,
    "ExecuteTime": {
     "end_time": "2023-11-09T14:38:10.791467400Z",
     "start_time": "2023-11-09T14:38:09.904317700Z"
    }
   },
   "id": "1df634ad0a3b97aa"
  },
  {
   "cell_type": "markdown",
   "source": [
    "These are less nodes than the reported number, it should be 4,604 nodes.\n",
    "\n",
    "The 119,882 edges is correct though.\n",
    "\n",
    "The difference is still small-ish, so for now I'll just ignore it and focus on reading in the other datasets."
   ],
   "metadata": {
    "collapsed": false
   },
   "id": "35b1076003cf6c53"
  },
  {
   "cell_type": "code",
   "execution_count": 51,
   "outputs": [
    {
     "data": {
      "text/plain": "    hashedIpAddress   timestamp  durationInSec  \\\n0  6a3701d319fc3754  1297740409            166   \n1  3824310e536af032  1344753412             88   \n2  415612e93584d30e  1349298640            138   \n3  64dd5cd342e3780c  1265613925             37   \n4  015245d773376aab  1366730828            175   \n\n                                                path  rating  \n0  14th_century;15th_century;16th_century;Pacific...     NaN  \n1  14th_century;Europe;Africa;Atlantic_slave_trad...     3.0  \n2  14th_century;Niger;Nigeria;British_Empire;Slav...     NaN  \n3     14th_century;Renaissance;Ancient_Greece;Greece     NaN  \n4  14th_century;Italy;Roman_Catholic_Church;HIV;R...     3.0  ",
      "text/html": "<div>\n<style scoped>\n    .dataframe tbody tr th:only-of-type {\n        vertical-align: middle;\n    }\n\n    .dataframe tbody tr th {\n        vertical-align: top;\n    }\n\n    .dataframe thead th {\n        text-align: right;\n    }\n</style>\n<table border=\"1\" class=\"dataframe\">\n  <thead>\n    <tr style=\"text-align: right;\">\n      <th></th>\n      <th>hashedIpAddress</th>\n      <th>timestamp</th>\n      <th>durationInSec</th>\n      <th>path</th>\n      <th>rating</th>\n    </tr>\n  </thead>\n  <tbody>\n    <tr>\n      <th>0</th>\n      <td>6a3701d319fc3754</td>\n      <td>1297740409</td>\n      <td>166</td>\n      <td>14th_century;15th_century;16th_century;Pacific...</td>\n      <td>NaN</td>\n    </tr>\n    <tr>\n      <th>1</th>\n      <td>3824310e536af032</td>\n      <td>1344753412</td>\n      <td>88</td>\n      <td>14th_century;Europe;Africa;Atlantic_slave_trad...</td>\n      <td>3.0</td>\n    </tr>\n    <tr>\n      <th>2</th>\n      <td>415612e93584d30e</td>\n      <td>1349298640</td>\n      <td>138</td>\n      <td>14th_century;Niger;Nigeria;British_Empire;Slav...</td>\n      <td>NaN</td>\n    </tr>\n    <tr>\n      <th>3</th>\n      <td>64dd5cd342e3780c</td>\n      <td>1265613925</td>\n      <td>37</td>\n      <td>14th_century;Renaissance;Ancient_Greece;Greece</td>\n      <td>NaN</td>\n    </tr>\n    <tr>\n      <th>4</th>\n      <td>015245d773376aab</td>\n      <td>1366730828</td>\n      <td>175</td>\n      <td>14th_century;Italy;Roman_Catholic_Church;HIV;R...</td>\n      <td>3.0</td>\n    </tr>\n  </tbody>\n</table>\n</div>"
     },
     "execution_count": 51,
     "metadata": {},
     "output_type": "execute_result"
    }
   ],
   "source": [
    "paths_finished = pd.read_csv('datasets/wikispeedia_paths-and-graph/paths_finished.tsv', sep='\\t', skiprows=15, \n",
    "                   names=['hashedIpAddress', 'timestamp', \"durationInSec\", 'path', \"rating\"])\n",
    "paths_finished.head()"
   ],
   "metadata": {
    "collapsed": false,
    "ExecuteTime": {
     "end_time": "2023-11-09T14:38:10.989821Z",
     "start_time": "2023-11-09T14:38:10.783021700Z"
    }
   },
   "id": "e02af7d11a7164a7"
  },
  {
   "cell_type": "code",
   "execution_count": 52,
   "outputs": [
    {
     "data": {
      "text/plain": "    hashedIpAddress   timestamp  durationInSec  \\\n0  2426091a53125110  1297054935           1804   \n1  26141fd878806294  1297055651           1805   \n2  2b015fb8181c48f2  1297090819           1818   \n3  53a53bc244e08a6a  1297094761             49   \n4  53a53bc244e08a6a  1297099105           1808   \n\n                                   path            target     type  \n0                        Obi-Wan_Kenobi         Microsoft  timeout  \n1                         Julius_Caesar           Caracas  timeout  \n2  Malawi;Democracy;Alexander_the_Great     First_Crusade  timeout  \n3                              Paraguay  Mount_St._Helens  restart  \n4                      Paraguay;Bolivia  Mount_St._Helens  timeout  ",
      "text/html": "<div>\n<style scoped>\n    .dataframe tbody tr th:only-of-type {\n        vertical-align: middle;\n    }\n\n    .dataframe tbody tr th {\n        vertical-align: top;\n    }\n\n    .dataframe thead th {\n        text-align: right;\n    }\n</style>\n<table border=\"1\" class=\"dataframe\">\n  <thead>\n    <tr style=\"text-align: right;\">\n      <th></th>\n      <th>hashedIpAddress</th>\n      <th>timestamp</th>\n      <th>durationInSec</th>\n      <th>path</th>\n      <th>target</th>\n      <th>type</th>\n    </tr>\n  </thead>\n  <tbody>\n    <tr>\n      <th>0</th>\n      <td>2426091a53125110</td>\n      <td>1297054935</td>\n      <td>1804</td>\n      <td>Obi-Wan_Kenobi</td>\n      <td>Microsoft</td>\n      <td>timeout</td>\n    </tr>\n    <tr>\n      <th>1</th>\n      <td>26141fd878806294</td>\n      <td>1297055651</td>\n      <td>1805</td>\n      <td>Julius_Caesar</td>\n      <td>Caracas</td>\n      <td>timeout</td>\n    </tr>\n    <tr>\n      <th>2</th>\n      <td>2b015fb8181c48f2</td>\n      <td>1297090819</td>\n      <td>1818</td>\n      <td>Malawi;Democracy;Alexander_the_Great</td>\n      <td>First_Crusade</td>\n      <td>timeout</td>\n    </tr>\n    <tr>\n      <th>3</th>\n      <td>53a53bc244e08a6a</td>\n      <td>1297094761</td>\n      <td>49</td>\n      <td>Paraguay</td>\n      <td>Mount_St._Helens</td>\n      <td>restart</td>\n    </tr>\n    <tr>\n      <th>4</th>\n      <td>53a53bc244e08a6a</td>\n      <td>1297099105</td>\n      <td>1808</td>\n      <td>Paraguay;Bolivia</td>\n      <td>Mount_St._Helens</td>\n      <td>timeout</td>\n    </tr>\n  </tbody>\n</table>\n</div>"
     },
     "execution_count": 52,
     "metadata": {},
     "output_type": "execute_result"
    }
   ],
   "source": [
    "paths_unfinished = pd.read_csv('datasets/wikispeedia_paths-and-graph/paths_unfinished.tsv', sep='\\t', skiprows=16,\n",
    "                                names=['hashedIpAddress', 'timestamp', \"durationInSec\", 'path', \"target\", \"type\"])\n",
    "\n",
    "paths_unfinished.head()"
   ],
   "metadata": {
    "collapsed": false,
    "ExecuteTime": {
     "end_time": "2023-11-09T14:38:11.178640100Z",
     "start_time": "2023-11-09T14:38:10.986583500Z"
    }
   },
   "id": "e9db75782ab34a37"
  },
  {
   "cell_type": "markdown",
   "source": [
    "Last part left is the shortest distance matrix. For this part, I just need to link things up with the articles.tsv to find the names corresponding to everything.\n",
    "\n",
    "Already reading the shortest distances is a bit of a pain though...\n",
    "\n"
   ],
   "metadata": {
    "collapsed": false
   },
   "id": "1227ccde75a1a6a7"
  },
  {
   "cell_type": "code",
   "execution_count": 53,
   "outputs": [],
   "source": [
    "shortest_path = np.genfromtxt(\"datasets/wikispeedia_paths-and-graph/shortest-path-distance-matrix.txt\",\n",
    "                              delimiter=1, missing_values=-1, dtype=int)\n",
    "articles = pd.read_csv('datasets/wikispeedia_paths-and-graph/articles.tsv', sep='\\t', skiprows=12,\n",
    "                       names=[\"article_name\"])\n",
    "\n",
    "shortest_path_df = pd.DataFrame(shortest_path, index=articles.values, columns=articles.values)"
   ],
   "metadata": {
    "collapsed": false,
    "ExecuteTime": {
     "end_time": "2023-11-09T14:38:49.681686Z",
     "start_time": "2023-11-09T14:38:11.107049600Z"
    }
   },
   "id": "3d1447f7beb8d90a"
  },
  {
   "cell_type": "markdown",
   "source": [
    "Common file reader has already been created, I'll just have to do wait to transform things into a python file."
   ],
   "metadata": {
    "collapsed": false
   },
   "id": "bd6494ef20abf253"
  },
  {
   "cell_type": "markdown",
   "source": [
    "## Plain text reader\n",
    "Another basic AF reader, the objective of this is simply to find the relevant text file given the string name. Annoying because of the format the strings were given."
   ],
   "metadata": {
    "collapsed": false
   },
   "id": "9dbbfd0e6ef0d451"
  },
  {
   "cell_type": "code",
   "execution_count": 54,
   "outputs": [],
   "source": [
    "text_file = open(\"datasets/plaintext_articles/%C3%85land.txt\", \"r\", encoding=\"utf8\")\n",
    "\n",
    "#read whole file to a string\n",
    "data = text_file.read()\n",
    "\n",
    "#close file\n",
    "text_file.close()"
   ],
   "metadata": {
    "collapsed": false,
    "ExecuteTime": {
     "end_time": "2023-11-09T14:38:49.701030700Z",
     "start_time": "2023-11-09T14:38:49.685715200Z"
    }
   },
   "id": "452c3f550d2d2b31"
  },
  {
   "cell_type": "code",
   "execution_count": 55,
   "outputs": [],
   "source": [
    "def plaintext_article_finder(article_name: str) -> str:\n",
    "    art_file_name = \"datasets/plaintext_articles/\" + article_name + \".txt\"\n",
    "    text_file = open(art_file_name, \"r\", encoding=\"utf8\")\n",
    "    res_string = text_file.read()\n",
    "    text_file.close()\n",
    "    \n",
    "    return res_string"
   ],
   "metadata": {
    "collapsed": false,
    "ExecuteTime": {
     "end_time": "2023-11-09T14:38:49.723162500Z",
     "start_time": "2023-11-09T14:38:49.695624900Z"
    }
   },
   "id": "8d518a9efd883d4d"
  }
 ],
 "metadata": {
  "kernelspec": {
   "display_name": "Python 3",
   "language": "python",
   "name": "python3"
  },
  "language_info": {
   "codemirror_mode": {
    "name": "ipython",
    "version": 2
   },
   "file_extension": ".py",
   "mimetype": "text/x-python",
   "name": "python",
   "nbconvert_exporter": "python",
   "pygments_lexer": "ipython2",
   "version": "2.7.6"
  }
 },
 "nbformat": 4,
 "nbformat_minor": 5
}

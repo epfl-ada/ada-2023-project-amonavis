{
 "cells": [
  {
   "cell_type": "markdown",
   "id": "ca19ec111240cf49",
   "metadata": {
    "collapsed": false
   },
   "source": [
    "# Initial data exploration\n",
    "This is a simple initial data exploration created by Nick.\n",
    "\n",
    "The objective of this notebook in particular is the following:\n",
    "- Know how to read in the three different datasets that we have\n",
    "    - Might keep it only to the plain text and navigation paths, HTML might be too much\n",
    "- Find a way of linking the two datasets\n",
    "- Enrich the graph with the shortest path, or find a way of adding that info as well\n",
    "- Maybe see if there's a way of doing basic AF explorations already with networkX?\n",
    "\n",
    "Might also be worth it to create the environment we'll use for this..."
   ]
  },
  {
   "cell_type": "code",
   "execution_count": null,
   "id": "c2767dbe5aa270d6",
   "metadata": {
    "ExecuteTime": {
     "end_time": "2023-11-09T14:37:25.019442500Z",
     "start_time": "2023-11-09T14:37:24.929445900Z"
    },
    "collapsed": false
   },
   "outputs": [],
   "source": [
    "import numpy as np\n",
    "import pandas as pd\n",
    "import networkx\n",
    "import matplotlib.pyplot as plt\n"
   ]
  },
  {
   "cell_type": "markdown",
   "id": "7dab5478e62b5531",
   "metadata": {
    "collapsed": false
   },
   "source": [
    "# How to use data readers\n",
    "Most of this notebook is just the template code that was used to make sure everything works.\n",
    "\n",
    "The important part is the following code block, that shows how to read in each of the different datasets that we have."
   ]
  },
  {
   "cell_type": "code",
   "execution_count": null,
   "id": "c93a9b9f961f79b4",
   "metadata": {
    "ExecuteTime": {
     "end_time": "2023-11-09T14:38:09.898752200Z",
     "start_time": "2023-11-09T14:37:24.947948700Z"
    },
    "collapsed": false
   },
   "outputs": [],
   "source": [
    "import data_readers\n",
    "\n",
    "# The links and edges\n",
    "wikispeedia = data_readers.read_wikispeedia_graph()\n",
    "\n",
    "# The finished paths\n",
    "finished_paths = data_readers.read_finished_paths()\n",
    "\n",
    "# The unfinished paths\n",
    "unfinished_paths = data_readers.read_unfinished_paths()\n",
    "\n",
    "# The shortest path matrix\n",
    "# This one is the slowest to read by far, probably due to the weird parsing that has to be done!\n",
    "shortest_path_df = data_readers.read_shortest_path_df()\n",
    "\n",
    "# Searching for the string of a given article. It has to be formatted like the article name\n",
    "# Which shouldn't be a problem, as we'll probably usually retrieve them internally\n",
    "obi_wan_text = data_readers.plaintext_article_finder('Obi-Wan_Kenobi')"
   ]
  },
  {
   "cell_type": "code",
   "execution_count": null,
   "outputs": [],
   "source": [
    "shortest_path_df[('Actor',)][('Japan',)]"
   ],
   "metadata": {
    "collapsed": false
   }
  },
  {
   "cell_type": "code",
   "execution_count": null,
   "outputs": [],
   "source": [
    "shortest_path_df"
   ],
   "metadata": {
    "collapsed": false
   }
  },
  {
   "cell_type": "code",
   "execution_count": null,
   "metadata": {},
   "outputs": [],
   "source": [
    "shortest_path_df"
   ]
  },
  {
   "cell_type": "markdown",
   "id": "3d1013363bb6312c",
   "metadata": {
    "collapsed": false
   },
   "source": [
    "There's four really important datasets in the wikispedia articles:\n",
    "- links.tsv: Contains the actual edges\n",
    "- paths_finished.tsv: Contains the winning games\n",
    "- paths_unfinished.tsv: Contains the losing games\n",
    "- shortest-path-distance-matrix.txt: Contains info on the shortest path"
   ]
  },
  {
   "cell_type": "markdown",
   "id": "59a77baa5f5d80e0",
   "metadata": {
    "collapsed": false
   },
   "source": [
    "First part is checking that the reading of the data is correct. We know the number of edges and nodes in the dataset, so we'll just use that to compare"
   ]
  },
  {
   "cell_type": "code",
   "execution_count": null,
   "id": "1df634ad0a3b97aa",
   "metadata": {
    "ExecuteTime": {
     "end_time": "2023-11-09T14:38:10.791467400Z",
     "start_time": "2023-11-09T14:38:09.904317700Z"
    },
    "collapsed": false
   },
   "outputs": [],
   "source": [
    "wikispeedia= networkx.read_edgelist('datasets/wikispeedia_paths-and-graph/links.tsv', \n",
    "                                    create_using=networkx.DiGraph)\n",
    "print(\"Dataset has\", len(wikispeedia.nodes), \"nodes\")\n",
    "print(\"Dataset has\", len(wikispeedia.edges), \"edges\")"
   ]
  },
  {
   "cell_type": "code",
   "execution_count": null,
   "outputs": [],
   "source": [
    "wikispeedia= networkx.read_edgelist('datasets/wikispeedia_paths-and-graph/links.tsv',\n",
    "                                    create_using=networkx.DiGraph)"
   ],
   "metadata": {
    "collapsed": false
   }
  },
  {
   "cell_type": "markdown",
   "id": "35b1076003cf6c53",
   "metadata": {
    "collapsed": false
   },
   "source": [
    "These are less nodes than the reported number, it should be 4,604 nodes.\n",
    "\n",
    "The 119,882 edges is correct though.\n",
    "\n",
    "The difference is still small-ish, so for now I'll just ignore it and focus on reading in the other datasets."
   ]
  },
  {
   "cell_type": "code",
   "execution_count": null,
   "id": "e02af7d11a7164a7",
   "metadata": {
    "ExecuteTime": {
     "end_time": "2023-11-09T14:38:10.989821Z",
     "start_time": "2023-11-09T14:38:10.783021700Z"
    },
    "collapsed": false
   },
   "outputs": [],
   "source": [
    "paths_finished = pd.read_csv('datasets/wikispeedia_paths-and-graph/paths_finished.tsv', sep='\\t', skiprows=15, \n",
    "                   names=['hashedIpAddress', 'timestamp', \"durationInSec\", 'path', \"rating\"])\n",
    "paths_finished.head()"
   ]
  },
  {
   "cell_type": "code",
   "execution_count": null,
   "id": "e9db75782ab34a37",
   "metadata": {
    "ExecuteTime": {
     "end_time": "2023-11-09T14:38:11.178640100Z",
     "start_time": "2023-11-09T14:38:10.986583500Z"
    },
    "collapsed": false
   },
   "outputs": [],
   "source": [
    "paths_unfinished = pd.read_csv('datasets/wikispeedia_paths-and-graph/paths_unfinished.tsv', sep='\\t', skiprows=16,\n",
    "                                names=['hashedIpAddress', 'timestamp', \"durationInSec\", 'path', \"target\", \"type\"])\n",
    "\n",
    "paths_unfinished.head()"
   ]
  },
  {
   "cell_type": "markdown",
   "id": "1227ccde75a1a6a7",
   "metadata": {
    "collapsed": false
   },
   "source": [
    "Last part left is the shortest distance matrix. For this part, I just need to link things up with the articles.tsv to find the names corresponding to everything.\n",
    "\n",
    "Already reading the shortest distances is a bit of a pain though...\n",
    "\n"
   ]
  },
  {
   "cell_type": "code",
   "execution_count": null,
   "id": "3d1447f7beb8d90a",
   "metadata": {
    "ExecuteTime": {
     "end_time": "2023-11-09T14:38:49.681686Z",
     "start_time": "2023-11-09T14:38:11.107049600Z"
    },
    "collapsed": false
   },
   "outputs": [],
   "source": [
    "shortest_path = np.genfromtxt(\"datasets/wikispeedia_paths-and-graph/shortest-path-distance-matrix.txt\",\n",
    "                              delimiter=1, missing_values=-1, dtype=int)\n",
    "articles = pd.read_csv('datasets/wikispeedia_paths-and-graph/articles.tsv', sep='\\t', skiprows=12,\n",
    "                       names=[\"article_name\"])\n",
    "\n",
    "shortest_path_df = pd.DataFrame(shortest_path, index=articles.values, columns=articles.values)"
   ]
  },
  {
   "cell_type": "markdown",
   "id": "bd6494ef20abf253",
   "metadata": {
    "collapsed": false
   },
   "source": [
    "Common file reader has already been created, I'll just have to do wait to transform things into a python file."
   ]
  },
  {
   "cell_type": "markdown",
   "id": "9dbbfd0e6ef0d451",
   "metadata": {
    "collapsed": false
   },
   "source": [
    "## Plain text reader\n",
    "Another basic AF reader, the objective of this is simply to find the relevant text file given the string name. Annoying because of the format the strings were given."
   ]
  },
  {
   "cell_type": "code",
   "execution_count": null,
   "id": "452c3f550d2d2b31",
   "metadata": {
    "ExecuteTime": {
     "end_time": "2023-11-09T14:38:49.701030700Z",
     "start_time": "2023-11-09T14:38:49.685715200Z"
    },
    "collapsed": false
   },
   "outputs": [],
   "source": [
    "text_file = open(\"datasets/plaintext_articles/%C3%85land.txt\", \"r\", encoding=\"utf8\")\n",
    "\n",
    "#read whole file to a string\n",
    "data = text_file.read()\n",
    "\n",
    "#close file\n",
    "text_file.close()"
   ]
  },
  {
   "cell_type": "code",
   "execution_count": null,
   "id": "8d518a9efd883d4d",
   "metadata": {
    "ExecuteTime": {
     "end_time": "2023-11-09T14:38:49.723162500Z",
     "start_time": "2023-11-09T14:38:49.695624900Z"
    },
    "collapsed": false
   },
   "outputs": [],
   "source": [
    "def plaintext_article_finder(article_name: str) -> str:\n",
    "    art_file_name = \"datasets/plaintext_articles/\" + article_name + \".txt\"\n",
    "    text_file = open(art_file_name, \"r\", encoding=\"utf8\")\n",
    "    res_string = text_file.read()\n",
    "    text_file.close()\n",
    "    \n",
    "    return res_string"
   ]
  },
  {
   "cell_type": "markdown",
   "metadata": {},
   "source": [
    "# Convert URL-encoded string to a regular Python string"
   ]
  },
  {
   "cell_type": "code",
   "execution_count": null,
   "metadata": {},
   "outputs": [],
   "source": [
    "from urllib.parse import unquote\n",
    "\n",
    "# Decodes URL-encoded article names. \n",
    "# Changes to text with accents. For example, %C3%81ed%C3%A1n_mac_Gabr%C3%A1in becomes Áedán_mac_Gabráin.\n",
    "def decode_article(article_name):\n",
    "    encoded_string = (article_name)\n",
    "    decoded_string = unquote(encoded_string)\n",
    "    return decoded_string\n",
    "    \n",
    "decode_article(articles.iloc[0,0])"
   ]
  }
 ],
 "metadata": {
  "kernelspec": {
   "display_name": "Python 3",
   "language": "python",
   "name": "python3"
  },
  "language_info": {
   "codemirror_mode": {
    "name": "ipython",
    "version": 3
   },
   "file_extension": ".py",
   "mimetype": "text/x-python",
   "name": "python",
   "nbconvert_exporter": "python",
   "pygments_lexer": "ipython3",
   "version": "3.9.18"
  }
 },
 "nbformat": 4,
 "nbformat_minor": 5
}
